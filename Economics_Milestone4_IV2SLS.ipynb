{
  "nbformat": 4,
  "nbformat_minor": 0,
  "metadata": {
    "colab": {
      "name": "Economics_Milestone4_IV2SLS.ipynb",
      "provenance": [],
      "authorship_tag": "ABX9TyPMWM0dxBxeu33mUryxOI9s",
      "include_colab_link": true
    },
    "kernelspec": {
      "name": "python3",
      "display_name": "Python 3"
    },
    "language_info": {
      "name": "python"
    }
  },
  "cells": [
    {
      "cell_type": "markdown",
      "metadata": {
        "id": "view-in-github",
        "colab_type": "text"
      },
      "source": [
        "<a href=\"https://colab.research.google.com/github/duke-sunshine/NYU_Econometrics_Summer2021/blob/main/Economics_Milestone4_IV2SLS.ipynb\" target=\"_parent\"><img src=\"https://colab.research.google.com/assets/colab-badge.svg\" alt=\"Open In Colab\"/></a>"
      ]
    },
    {
      "cell_type": "markdown",
      "metadata": {
        "id": "f0G9yuVMVKsy"
      },
      "source": [
        "# **Briefings**\n",
        "\n",
        "1. Two packages:\n",
        "\n",
        "\n",
        "*   https://www.statsmodels.org/dev/generated/statsmodels.sandbox.regression.gmm.IV2SLS.html\n",
        "*   https://bashtage.github.io/linearmodels/doc/iv/examples/advanced-examples.html\n",
        "\n",
        "2. Four variables:\n",
        "\n",
        "Dependent Variables: Y\n",
        "Endogenous Variable: X\n",
        "Control variables: W\n",
        "instruments: Z\n",
        "\n",
        "3. Two regressions\n",
        "\n",
        "\n",
        "*   First: X~Z\n",
        "*   Second: Y~(estimated_X+W)\n",
        "\n",
        "\n",
        "\n"
      ]
    },
    {
      "cell_type": "markdown",
      "metadata": {
        "id": "IUvVJLif18yB"
      },
      "source": [
        ""
      ]
    },
    {
      "cell_type": "markdown",
      "metadata": {
        "id": "yN-Z8unoodnr"
      },
      "source": [
        "background readings: https://cryptobriefing.com/earning-20-apy-with-yield-app/"
      ]
    },
    {
      "cell_type": "markdown",
      "metadata": {
        "id": "CCgjIvhKWQgb"
      },
      "source": [
        "# Data Preparations"
      ]
    },
    {
      "cell_type": "markdown",
      "metadata": {
        "id": "FjsgYGqusAE5"
      },
      "source": [
        "### Date Sources \n",
        "https://docs.defipulse.com/overview-of-api-endpoints\n",
        "\n",
        "https://data-beta.defipulse.com/dashboard/egs\n",
        "\n",
        "https://docs.defipulse.com/api-docs-by-provider/defi-pulse-data/total-value-locked/total-value-locked"
      ]
    },
    {
      "cell_type": "markdown",
      "metadata": {
        "id": "-ypMOn9isF69"
      },
      "source": [
        "### Import the Historical Data of Total Value Locked"
      ]
    },
    {
      "cell_type": "code",
      "metadata": {
        "colab": {
          "base_uri": "https://localhost:8080/"
        },
        "id": "NvA4Ft3xU5yg",
        "outputId": "497490f4-0ca5-442b-df11-39effd4817ea"
      },
      "source": [
        "import pandas as pd\n",
        "import requests\n",
        "import json \n",
        "from datetime import datetime\n",
        "TVL= requests.get('https://data-api.defipulse.com/api/v1/defipulse/api/GetHistory?resolution=history&project=all&api-key=5eafa87608af1f342443fc1fc293d5a596f3aa509526c9c0f663a1b5723a')\n",
        "TVL= TVL.json()\n",
        "TVL=pd.DataFrame(TVL)\n",
        "TVL.head()"
      ],
      "execution_count": null,
      "outputs": [
        {
          "output_type": "execute_result",
          "data": {
            "text/html": [
              "<div>\n",
              "<style scoped>\n",
              "    .dataframe tbody tr th:only-of-type {\n",
              "        vertical-align: middle;\n",
              "    }\n",
              "\n",
              "    .dataframe tbody tr th {\n",
              "        vertical-align: top;\n",
              "    }\n",
              "\n",
              "    .dataframe thead th {\n",
              "        text-align: right;\n",
              "    }\n",
              "</style>\n",
              "<table border=\"1\" class=\"dataframe\">\n",
              "  <thead>\n",
              "    <tr style=\"text-align: right;\">\n",
              "      <th></th>\n",
              "      <th>timestamp</th>\n",
              "      <th>tvlUSD</th>\n",
              "      <th>tvlETH</th>\n",
              "      <th>BTC</th>\n",
              "      <th>ETH</th>\n",
              "      <th>DAI</th>\n",
              "    </tr>\n",
              "  </thead>\n",
              "  <tbody>\n",
              "    <tr>\n",
              "      <th>0</th>\n",
              "      <td>1623744000</td>\n",
              "      <td>63193338166</td>\n",
              "      <td>2.418254e+07</td>\n",
              "      <td>175598.975642</td>\n",
              "      <td>8.776455e+06</td>\n",
              "      <td>2.954992e+09</td>\n",
              "    </tr>\n",
              "    <tr>\n",
              "      <th>1</th>\n",
              "      <td>1623715200</td>\n",
              "      <td>62052366020</td>\n",
              "      <td>2.403807e+07</td>\n",
              "      <td>175064.886165</td>\n",
              "      <td>8.796396e+06</td>\n",
              "      <td>2.954793e+09</td>\n",
              "    </tr>\n",
              "    <tr>\n",
              "      <th>2</th>\n",
              "      <td>1623628800</td>\n",
              "      <td>60877945349</td>\n",
              "      <td>2.425010e+07</td>\n",
              "      <td>174891.430037</td>\n",
              "      <td>8.850787e+06</td>\n",
              "      <td>2.958830e+09</td>\n",
              "    </tr>\n",
              "    <tr>\n",
              "      <th>3</th>\n",
              "      <td>1623542400</td>\n",
              "      <td>57779398925</td>\n",
              "      <td>2.436171e+07</td>\n",
              "      <td>176037.991729</td>\n",
              "      <td>8.856534e+06</td>\n",
              "      <td>2.906475e+09</td>\n",
              "    </tr>\n",
              "    <tr>\n",
              "      <th>4</th>\n",
              "      <td>1623456000</td>\n",
              "      <td>57892020781</td>\n",
              "      <td>2.459837e+07</td>\n",
              "      <td>174001.967355</td>\n",
              "      <td>8.943316e+06</td>\n",
              "      <td>2.890921e+09</td>\n",
              "    </tr>\n",
              "  </tbody>\n",
              "</table>\n",
              "</div>"
            ],
            "text/plain": [
              "    timestamp       tvlUSD  ...           ETH           DAI\n",
              "0  1623744000  63193338166  ...  8.776455e+06  2.954992e+09\n",
              "1  1623715200  62052366020  ...  8.796396e+06  2.954793e+09\n",
              "2  1623628800  60877945349  ...  8.850787e+06  2.958830e+09\n",
              "3  1623542400  57779398925  ...  8.856534e+06  2.906475e+09\n",
              "4  1623456000  57892020781  ...  8.943316e+06  2.890921e+09\n",
              "\n",
              "[5 rows x 6 columns]"
            ]
          },
          "metadata": {
            "tags": []
          },
          "execution_count": 42
        }
      ]
    },
    {
      "cell_type": "markdown",
      "metadata": {
        "id": "YSYc0dTwshDT"
      },
      "source": [
        "### Epoch & Unix Timestamp Conversion Tools: \n",
        "\n",
        "https://www.epochconverter.com/"
      ]
    },
    {
      "cell_type": "code",
      "metadata": {
        "colab": {
          "base_uri": "https://localhost:8080/"
        },
        "id": "mA0dLPWOsc__",
        "outputId": "5cfe8237-5b90-437a-a2a7-7dfa5a40dfdb"
      },
      "source": [
        "import datetime\n",
        "TVL['timestamp']=TVL['timestamp'].astype(int)\n",
        "TVL.dtypes"
      ],
      "execution_count": null,
      "outputs": [
        {
          "output_type": "execute_result",
          "data": {
            "text/plain": [
              "timestamp      int64\n",
              "tvlUSD         int64\n",
              "tvlETH       float64\n",
              "BTC          float64\n",
              "ETH          float64\n",
              "DAI          float64\n",
              "dtype: object"
            ]
          },
          "metadata": {
            "tags": []
          },
          "execution_count": 43
        }
      ]
    },
    {
      "cell_type": "code",
      "metadata": {
        "colab": {
          "base_uri": "https://localhost:8080/",
          "height": 206
        },
        "id": "ejHxsc6vuTYk",
        "outputId": "6b8aa6e6-37c8-41cf-cb09-8f4b309793ff"
      },
      "source": [
        "TVL['time']=TVL['timestamp'].apply(lambda x: datetime.datetime.utcfromtimestamp(x).replace(tzinfo=datetime.timezone.utc))\n",
        "TVL.head()"
      ],
      "execution_count": null,
      "outputs": [
        {
          "output_type": "execute_result",
          "data": {
            "text/html": [
              "<div>\n",
              "<style scoped>\n",
              "    .dataframe tbody tr th:only-of-type {\n",
              "        vertical-align: middle;\n",
              "    }\n",
              "\n",
              "    .dataframe tbody tr th {\n",
              "        vertical-align: top;\n",
              "    }\n",
              "\n",
              "    .dataframe thead th {\n",
              "        text-align: right;\n",
              "    }\n",
              "</style>\n",
              "<table border=\"1\" class=\"dataframe\">\n",
              "  <thead>\n",
              "    <tr style=\"text-align: right;\">\n",
              "      <th></th>\n",
              "      <th>timestamp</th>\n",
              "      <th>tvlUSD</th>\n",
              "      <th>tvlETH</th>\n",
              "      <th>BTC</th>\n",
              "      <th>ETH</th>\n",
              "      <th>DAI</th>\n",
              "      <th>time</th>\n",
              "    </tr>\n",
              "  </thead>\n",
              "  <tbody>\n",
              "    <tr>\n",
              "      <th>0</th>\n",
              "      <td>1623744000</td>\n",
              "      <td>63193338166</td>\n",
              "      <td>2.418254e+07</td>\n",
              "      <td>175598.975642</td>\n",
              "      <td>8.776455e+06</td>\n",
              "      <td>2.954992e+09</td>\n",
              "      <td>2021-06-15 08:00:00+00:00</td>\n",
              "    </tr>\n",
              "    <tr>\n",
              "      <th>1</th>\n",
              "      <td>1623715200</td>\n",
              "      <td>62052366020</td>\n",
              "      <td>2.403807e+07</td>\n",
              "      <td>175064.886165</td>\n",
              "      <td>8.796396e+06</td>\n",
              "      <td>2.954793e+09</td>\n",
              "      <td>2021-06-15 00:00:00+00:00</td>\n",
              "    </tr>\n",
              "    <tr>\n",
              "      <th>2</th>\n",
              "      <td>1623628800</td>\n",
              "      <td>60877945349</td>\n",
              "      <td>2.425010e+07</td>\n",
              "      <td>174891.430037</td>\n",
              "      <td>8.850787e+06</td>\n",
              "      <td>2.958830e+09</td>\n",
              "      <td>2021-06-14 00:00:00+00:00</td>\n",
              "    </tr>\n",
              "    <tr>\n",
              "      <th>3</th>\n",
              "      <td>1623542400</td>\n",
              "      <td>57779398925</td>\n",
              "      <td>2.436171e+07</td>\n",
              "      <td>176037.991729</td>\n",
              "      <td>8.856534e+06</td>\n",
              "      <td>2.906475e+09</td>\n",
              "      <td>2021-06-13 00:00:00+00:00</td>\n",
              "    </tr>\n",
              "    <tr>\n",
              "      <th>4</th>\n",
              "      <td>1623456000</td>\n",
              "      <td>57892020781</td>\n",
              "      <td>2.459837e+07</td>\n",
              "      <td>174001.967355</td>\n",
              "      <td>8.943316e+06</td>\n",
              "      <td>2.890921e+09</td>\n",
              "      <td>2021-06-12 00:00:00+00:00</td>\n",
              "    </tr>\n",
              "  </tbody>\n",
              "</table>\n",
              "</div>"
            ],
            "text/plain": [
              "    timestamp       tvlUSD  ...           DAI                      time\n",
              "0  1623744000  63193338166  ...  2.954992e+09 2021-06-15 08:00:00+00:00\n",
              "1  1623715200  62052366020  ...  2.954793e+09 2021-06-15 00:00:00+00:00\n",
              "2  1623628800  60877945349  ...  2.958830e+09 2021-06-14 00:00:00+00:00\n",
              "3  1623542400  57779398925  ...  2.906475e+09 2021-06-13 00:00:00+00:00\n",
              "4  1623456000  57892020781  ...  2.890921e+09 2021-06-12 00:00:00+00:00\n",
              "\n",
              "[5 rows x 7 columns]"
            ]
          },
          "metadata": {
            "tags": []
          },
          "execution_count": 44
        }
      ]
    },
    {
      "cell_type": "code",
      "metadata": {
        "colab": {
          "base_uri": "https://localhost:8080/",
          "height": 206
        },
        "id": "Tbt5RqFyua50",
        "outputId": "b0e6c14a-656f-4d73-976a-928ffcee46fc"
      },
      "source": [
        "TVL['date'] = pd.to_datetime(TVL['time']).dt.date\n",
        "TVL.head()"
      ],
      "execution_count": null,
      "outputs": [
        {
          "output_type": "execute_result",
          "data": {
            "text/html": [
              "<div>\n",
              "<style scoped>\n",
              "    .dataframe tbody tr th:only-of-type {\n",
              "        vertical-align: middle;\n",
              "    }\n",
              "\n",
              "    .dataframe tbody tr th {\n",
              "        vertical-align: top;\n",
              "    }\n",
              "\n",
              "    .dataframe thead th {\n",
              "        text-align: right;\n",
              "    }\n",
              "</style>\n",
              "<table border=\"1\" class=\"dataframe\">\n",
              "  <thead>\n",
              "    <tr style=\"text-align: right;\">\n",
              "      <th></th>\n",
              "      <th>timestamp</th>\n",
              "      <th>tvlUSD</th>\n",
              "      <th>tvlETH</th>\n",
              "      <th>BTC</th>\n",
              "      <th>ETH</th>\n",
              "      <th>DAI</th>\n",
              "      <th>time</th>\n",
              "      <th>date</th>\n",
              "    </tr>\n",
              "  </thead>\n",
              "  <tbody>\n",
              "    <tr>\n",
              "      <th>0</th>\n",
              "      <td>1623744000</td>\n",
              "      <td>63193338166</td>\n",
              "      <td>2.418254e+07</td>\n",
              "      <td>175598.975642</td>\n",
              "      <td>8.776455e+06</td>\n",
              "      <td>2.954992e+09</td>\n",
              "      <td>2021-06-15 08:00:00+00:00</td>\n",
              "      <td>2021-06-15</td>\n",
              "    </tr>\n",
              "    <tr>\n",
              "      <th>1</th>\n",
              "      <td>1623715200</td>\n",
              "      <td>62052366020</td>\n",
              "      <td>2.403807e+07</td>\n",
              "      <td>175064.886165</td>\n",
              "      <td>8.796396e+06</td>\n",
              "      <td>2.954793e+09</td>\n",
              "      <td>2021-06-15 00:00:00+00:00</td>\n",
              "      <td>2021-06-15</td>\n",
              "    </tr>\n",
              "    <tr>\n",
              "      <th>2</th>\n",
              "      <td>1623628800</td>\n",
              "      <td>60877945349</td>\n",
              "      <td>2.425010e+07</td>\n",
              "      <td>174891.430037</td>\n",
              "      <td>8.850787e+06</td>\n",
              "      <td>2.958830e+09</td>\n",
              "      <td>2021-06-14 00:00:00+00:00</td>\n",
              "      <td>2021-06-14</td>\n",
              "    </tr>\n",
              "    <tr>\n",
              "      <th>3</th>\n",
              "      <td>1623542400</td>\n",
              "      <td>57779398925</td>\n",
              "      <td>2.436171e+07</td>\n",
              "      <td>176037.991729</td>\n",
              "      <td>8.856534e+06</td>\n",
              "      <td>2.906475e+09</td>\n",
              "      <td>2021-06-13 00:00:00+00:00</td>\n",
              "      <td>2021-06-13</td>\n",
              "    </tr>\n",
              "    <tr>\n",
              "      <th>4</th>\n",
              "      <td>1623456000</td>\n",
              "      <td>57892020781</td>\n",
              "      <td>2.459837e+07</td>\n",
              "      <td>174001.967355</td>\n",
              "      <td>8.943316e+06</td>\n",
              "      <td>2.890921e+09</td>\n",
              "      <td>2021-06-12 00:00:00+00:00</td>\n",
              "      <td>2021-06-12</td>\n",
              "    </tr>\n",
              "  </tbody>\n",
              "</table>\n",
              "</div>"
            ],
            "text/plain": [
              "    timestamp       tvlUSD  ...                      time        date\n",
              "0  1623744000  63193338166  ... 2021-06-15 08:00:00+00:00  2021-06-15\n",
              "1  1623715200  62052366020  ... 2021-06-15 00:00:00+00:00  2021-06-15\n",
              "2  1623628800  60877945349  ... 2021-06-14 00:00:00+00:00  2021-06-14\n",
              "3  1623542400  57779398925  ... 2021-06-13 00:00:00+00:00  2021-06-13\n",
              "4  1623456000  57892020781  ... 2021-06-12 00:00:00+00:00  2021-06-12\n",
              "\n",
              "[5 rows x 8 columns]"
            ]
          },
          "metadata": {
            "tags": []
          },
          "execution_count": 45
        }
      ]
    },
    {
      "cell_type": "code",
      "metadata": {
        "colab": {
          "base_uri": "https://localhost:8080/"
        },
        "id": "-cMJinDc1D5z",
        "outputId": "bfe59e62-ec8f-4e6e-86b6-1f1371a11d31"
      },
      "source": [
        "TVL=TVL.drop(columns='time')\n",
        "TVL['date']=pd.to_datetime(TVL['date'])\n",
        "TVL.dtypes"
      ],
      "execution_count": null,
      "outputs": [
        {
          "output_type": "execute_result",
          "data": {
            "text/plain": [
              "timestamp             int64\n",
              "tvlUSD                int64\n",
              "tvlETH              float64\n",
              "BTC                 float64\n",
              "ETH                 float64\n",
              "DAI                 float64\n",
              "date         datetime64[ns]\n",
              "dtype: object"
            ]
          },
          "metadata": {
            "tags": []
          },
          "execution_count": 46
        }
      ]
    },
    {
      "cell_type": "markdown",
      "metadata": {
        "id": "zqQ0daK2wMQN"
      },
      "source": [
        "### Import the data for Ethereum Prices"
      ]
    },
    {
      "cell_type": "markdown",
      "metadata": {
        "id": "mYlmGrgczaPF"
      },
      "source": [
        "[Data Metrics](https://github.com/coinmetrics-io/data/blob/master/csv/metrics.csv)"
      ]
    },
    {
      "cell_type": "code",
      "metadata": {
        "colab": {
          "base_uri": "https://localhost:8080/"
        },
        "id": "QwyZPFlJzT6-",
        "outputId": "b851af05-589a-4664-80f5-8d0890dbd086"
      },
      "source": [
        "df_eth=pd.read_csv(\"https://raw.githubusercontent.com/coinmetrics-io/data/master/csv/eth.csv\",usecols=([\"time\",\"PriceUSD\",\"CapMrktCurUSD\",\"TxTfrValAdjUSD\",\"AdrBalCnt\",\"NVTAdj90\",\"SplyCur\"]))\n",
        "df_eth['time']=pd.to_datetime(df_eth['time'])\n",
        "df_eth.dtypes"
      ],
      "execution_count": null,
      "outputs": [
        {
          "output_type": "execute_result",
          "data": {
            "text/plain": [
              "time              datetime64[ns]\n",
              "AdrBalCnt                float64\n",
              "CapMrktCurUSD            float64\n",
              "NVTAdj90                 float64\n",
              "PriceUSD                 float64\n",
              "SplyCur                  float64\n",
              "TxTfrValAdjUSD           float64\n",
              "dtype: object"
            ]
          },
          "metadata": {
            "tags": []
          },
          "execution_count": 47
        }
      ]
    },
    {
      "cell_type": "markdown",
      "metadata": {
        "id": "2pgSXDO11eZ-"
      },
      "source": [
        "### Merge the two Data Frame"
      ]
    },
    {
      "cell_type": "code",
      "metadata": {
        "colab": {
          "base_uri": "https://localhost:8080/",
          "height": 206
        },
        "id": "wuPJKRK4zxS6",
        "outputId": "9afa57f2-aace-40f5-bd37-eb3aa8219b30"
      },
      "source": [
        "df =df_eth.merge(TVL, left_on='time', right_on='date')\n",
        "df.head()"
      ],
      "execution_count": null,
      "outputs": [
        {
          "output_type": "execute_result",
          "data": {
            "text/html": [
              "<div>\n",
              "<style scoped>\n",
              "    .dataframe tbody tr th:only-of-type {\n",
              "        vertical-align: middle;\n",
              "    }\n",
              "\n",
              "    .dataframe tbody tr th {\n",
              "        vertical-align: top;\n",
              "    }\n",
              "\n",
              "    .dataframe thead th {\n",
              "        text-align: right;\n",
              "    }\n",
              "</style>\n",
              "<table border=\"1\" class=\"dataframe\">\n",
              "  <thead>\n",
              "    <tr style=\"text-align: right;\">\n",
              "      <th></th>\n",
              "      <th>time</th>\n",
              "      <th>AdrBalCnt</th>\n",
              "      <th>CapMrktCurUSD</th>\n",
              "      <th>NVTAdj90</th>\n",
              "      <th>PriceUSD</th>\n",
              "      <th>SplyCur</th>\n",
              "      <th>TxTfrValAdjUSD</th>\n",
              "      <th>timestamp</th>\n",
              "      <th>tvlUSD</th>\n",
              "      <th>tvlETH</th>\n",
              "      <th>BTC</th>\n",
              "      <th>ETH</th>\n",
              "      <th>DAI</th>\n",
              "      <th>date</th>\n",
              "    </tr>\n",
              "  </thead>\n",
              "  <tbody>\n",
              "    <tr>\n",
              "      <th>0</th>\n",
              "      <td>2017-08-02</td>\n",
              "      <td>2563959.0</td>\n",
              "      <td>2.039684e+10</td>\n",
              "      <td>20.362229</td>\n",
              "      <td>217.584664</td>\n",
              "      <td>9.374206e+07</td>\n",
              "      <td>6.780871e+08</td>\n",
              "      <td>1501632000</td>\n",
              "      <td>0</td>\n",
              "      <td>0.000000</td>\n",
              "      <td>NaN</td>\n",
              "      <td>0.0</td>\n",
              "      <td>0.0</td>\n",
              "      <td>2017-08-02</td>\n",
              "    </tr>\n",
              "    <tr>\n",
              "      <th>1</th>\n",
              "      <td>2017-08-03</td>\n",
              "      <td>2583277.0</td>\n",
              "      <td>2.100563e+10</td>\n",
              "      <td>20.979627</td>\n",
              "      <td>224.028898</td>\n",
              "      <td>9.376303e+07</td>\n",
              "      <td>6.062566e+08</td>\n",
              "      <td>1501718400</td>\n",
              "      <td>4</td>\n",
              "      <td>0.018339</td>\n",
              "      <td>NaN</td>\n",
              "      <td>0.0</td>\n",
              "      <td>0.0</td>\n",
              "      <td>2017-08-03</td>\n",
              "    </tr>\n",
              "    <tr>\n",
              "      <th>2</th>\n",
              "      <td>2017-08-04</td>\n",
              "      <td>2605667.0</td>\n",
              "      <td>2.077052e+10</td>\n",
              "      <td>20.714810</td>\n",
              "      <td>221.471094</td>\n",
              "      <td>9.378433e+07</td>\n",
              "      <td>5.206240e+08</td>\n",
              "      <td>1501804800</td>\n",
              "      <td>4</td>\n",
              "      <td>0.017826</td>\n",
              "      <td>NaN</td>\n",
              "      <td>0.0</td>\n",
              "      <td>0.0</td>\n",
              "      <td>2017-08-04</td>\n",
              "    </tr>\n",
              "    <tr>\n",
              "      <th>3</th>\n",
              "      <td>2017-08-05</td>\n",
              "      <td>2624386.0</td>\n",
              "      <td>2.335192e+10</td>\n",
              "      <td>23.205816</td>\n",
              "      <td>248.939666</td>\n",
              "      <td>9.380552e+07</td>\n",
              "      <td>6.665590e+08</td>\n",
              "      <td>1501891200</td>\n",
              "      <td>5</td>\n",
              "      <td>0.022665</td>\n",
              "      <td>NaN</td>\n",
              "      <td>0.0</td>\n",
              "      <td>0.0</td>\n",
              "      <td>2017-08-05</td>\n",
              "    </tr>\n",
              "    <tr>\n",
              "      <th>4</th>\n",
              "      <td>2017-08-06</td>\n",
              "      <td>2640032.0</td>\n",
              "      <td>2.496085e+10</td>\n",
              "      <td>24.667311</td>\n",
              "      <td>266.031146</td>\n",
              "      <td>9.382679e+07</td>\n",
              "      <td>9.229966e+08</td>\n",
              "      <td>1501977600</td>\n",
              "      <td>5</td>\n",
              "      <td>0.019756</td>\n",
              "      <td>NaN</td>\n",
              "      <td>0.0</td>\n",
              "      <td>0.0</td>\n",
              "      <td>2017-08-06</td>\n",
              "    </tr>\n",
              "  </tbody>\n",
              "</table>\n",
              "</div>"
            ],
            "text/plain": [
              "        time  AdrBalCnt  CapMrktCurUSD   NVTAdj90  ...  BTC  ETH  DAI       date\n",
              "0 2017-08-02  2563959.0   2.039684e+10  20.362229  ...  NaN  0.0  0.0 2017-08-02\n",
              "1 2017-08-03  2583277.0   2.100563e+10  20.979627  ...  NaN  0.0  0.0 2017-08-03\n",
              "2 2017-08-04  2605667.0   2.077052e+10  20.714810  ...  NaN  0.0  0.0 2017-08-04\n",
              "3 2017-08-05  2624386.0   2.335192e+10  23.205816  ...  NaN  0.0  0.0 2017-08-05\n",
              "4 2017-08-06  2640032.0   2.496085e+10  24.667311  ...  NaN  0.0  0.0 2017-08-06\n",
              "\n",
              "[5 rows x 14 columns]"
            ]
          },
          "metadata": {
            "tags": []
          },
          "execution_count": 48
        }
      ]
    },
    {
      "cell_type": "code",
      "metadata": {
        "id": "HHJX4hy609CY"
      },
      "source": [
        "df=df[[\"date\",\"tvlUSD\",\"PriceUSD\",\"SplyCur\",\"AdrBalCnt\"]]"
      ],
      "execution_count": null,
      "outputs": []
    },
    {
      "cell_type": "markdown",
      "metadata": {
        "id": "TYUpm17R1-dp"
      },
      "source": [
        "# Test Instrument Validities\n",
        "\n",
        "Y: \"tvlUSD\"\n",
        "\n",
        "X: \"PriceUSD\"\n",
        "\n",
        "Z: \"SplyCur\"\n",
        "\n",
        "W: \"AdrBalCnt\""
      ]
    },
    {
      "cell_type": "code",
      "metadata": {
        "colab": {
          "base_uri": "https://localhost:8080/",
          "height": 112
        },
        "id": "LAM6AcsE2y0Q",
        "outputId": "b4ecf760-2c95-46d7-c6c0-c84da9f69065"
      },
      "source": [
        "df[[\"PriceUSD\",\"SplyCur\"]].corr()"
      ],
      "execution_count": null,
      "outputs": [
        {
          "output_type": "execute_result",
          "data": {
            "text/html": [
              "<div>\n",
              "<style scoped>\n",
              "    .dataframe tbody tr th:only-of-type {\n",
              "        vertical-align: middle;\n",
              "    }\n",
              "\n",
              "    .dataframe tbody tr th {\n",
              "        vertical-align: top;\n",
              "    }\n",
              "\n",
              "    .dataframe thead th {\n",
              "        text-align: right;\n",
              "    }\n",
              "</style>\n",
              "<table border=\"1\" class=\"dataframe\">\n",
              "  <thead>\n",
              "    <tr style=\"text-align: right;\">\n",
              "      <th></th>\n",
              "      <th>PriceUSD</th>\n",
              "      <th>SplyCur</th>\n",
              "    </tr>\n",
              "  </thead>\n",
              "  <tbody>\n",
              "    <tr>\n",
              "      <th>PriceUSD</th>\n",
              "      <td>1.000000</td>\n",
              "      <td>0.351985</td>\n",
              "    </tr>\n",
              "    <tr>\n",
              "      <th>SplyCur</th>\n",
              "      <td>0.351985</td>\n",
              "      <td>1.000000</td>\n",
              "    </tr>\n",
              "  </tbody>\n",
              "</table>\n",
              "</div>"
            ],
            "text/plain": [
              "          PriceUSD   SplyCur\n",
              "PriceUSD  1.000000  0.351985\n",
              "SplyCur   0.351985  1.000000"
            ]
          },
          "metadata": {
            "tags": []
          },
          "execution_count": 50
        }
      ]
    },
    {
      "cell_type": "markdown",
      "metadata": {
        "id": "6366aGHi3kt7"
      },
      "source": [
        "# Using the Linear Model Package\n",
        "\n",
        "https://bashtage.github.io/linearmodels/doc/iv/index.html"
      ]
    },
    {
      "cell_type": "code",
      "metadata": {
        "colab": {
          "base_uri": "https://localhost:8080/"
        },
        "id": "I6XzAwjZ3tmx",
        "outputId": "817ead9a-766e-4b3b-eacb-968a68397c43"
      },
      "source": [
        "pip install linearmodels"
      ],
      "execution_count": null,
      "outputs": [
        {
          "output_type": "stream",
          "text": [
            "Requirement already satisfied: linearmodels in /usr/local/lib/python3.7/dist-packages (4.24)\n",
            "Requirement already satisfied: patsy in /usr/local/lib/python3.7/dist-packages (from linearmodels) (0.5.1)\n",
            "Requirement already satisfied: scipy>=1.2 in /usr/local/lib/python3.7/dist-packages (from linearmodels) (1.4.1)\n",
            "Requirement already satisfied: Cython>=0.29.21 in /usr/local/lib/python3.7/dist-packages (from linearmodels) (0.29.23)\n",
            "Requirement already satisfied: statsmodels>=0.11 in /usr/local/lib/python3.7/dist-packages (from linearmodels) (0.12.2)\n",
            "Requirement already satisfied: pandas>=0.24 in /usr/local/lib/python3.7/dist-packages (from linearmodels) (1.1.5)\n",
            "Requirement already satisfied: mypy-extensions>=0.4 in /usr/local/lib/python3.7/dist-packages (from linearmodels) (0.4.3)\n",
            "Requirement already satisfied: numpy>=1.16 in /usr/local/lib/python3.7/dist-packages (from linearmodels) (1.19.5)\n",
            "Requirement already satisfied: property-cached>=1.6.3 in /usr/local/lib/python3.7/dist-packages (from linearmodels) (1.6.4)\n",
            "Requirement already satisfied: pyhdfe>=0.1 in /usr/local/lib/python3.7/dist-packages (from linearmodels) (0.1.0)\n",
            "Requirement already satisfied: six in /usr/local/lib/python3.7/dist-packages (from patsy->linearmodels) (1.15.0)\n",
            "Requirement already satisfied: python-dateutil>=2.7.3 in /usr/local/lib/python3.7/dist-packages (from pandas>=0.24->linearmodels) (2.8.1)\n",
            "Requirement already satisfied: pytz>=2017.2 in /usr/local/lib/python3.7/dist-packages (from pandas>=0.24->linearmodels) (2018.9)\n"
          ],
          "name": "stdout"
        }
      ]
    },
    {
      "cell_type": "code",
      "metadata": {
        "id": "zPkiZ_PG29pY"
      },
      "source": [
        "from linearmodels import IV2SLS"
      ],
      "execution_count": null,
      "outputs": []
    },
    {
      "cell_type": "markdown",
      "metadata": {
        "id": "XxYAEg6k5Z4t"
      },
      "source": [
        "### run an OLS"
      ]
    },
    {
      "cell_type": "code",
      "metadata": {
        "id": "VpWEbEA56Lqu"
      },
      "source": [
        "df['const'] = 1"
      ],
      "execution_count": null,
      "outputs": []
    },
    {
      "cell_type": "code",
      "metadata": {
        "colab": {
          "base_uri": "https://localhost:8080/"
        },
        "id": "bwWWAz_v3pxe",
        "outputId": "9fbbbe25-d8ba-4dba-cf2e-44e0f0300504"
      },
      "source": [
        "ivolsmod = IV2SLS(df.tvlUSD, df[[\"const\",\"PriceUSD\",\"SplyCur\",\"AdrBalCnt\"]], None, None)\n",
        "res_ols = ivolsmod.fit()\n",
        "print(res_ols)"
      ],
      "execution_count": null,
      "outputs": [
        {
          "output_type": "stream",
          "text": [
            "                            OLS Estimation Summary                            \n",
            "==============================================================================\n",
            "Dep. Variable:                 tvlUSD   R-squared:                      0.9436\n",
            "Estimator:                        OLS   Adj. R-squared:                 0.9435\n",
            "No. Observations:                1412   F-statistic:                 1.468e+04\n",
            "Date:                Tue, Jun 15 2021   P-value (F-stat)                0.0000\n",
            "Time:                        09:20:34   Distribution:                  chi2(3)\n",
            "Cov. Estimator:                robust                                         \n",
            "                                                                              \n",
            "                             Parameter Estimates                              \n",
            "==============================================================================\n",
            "            Parameter  Std. Err.     T-stat    P-value    Lower CI    Upper CI\n",
            "------------------------------------------------------------------------------\n",
            "const      -1.873e+10  1.114e+10    -1.6815     0.0927  -4.056e+10   3.101e+09\n",
            "PriceUSD    1.995e+07  3.227e+05     61.816     0.0000   1.932e+07   2.058e+07\n",
            "SplyCur        62.707     117.04     0.5358     0.5921     -166.69      292.11\n",
            "AdrBalCnt      288.69     48.551     5.9462     0.0000      193.54      383.85\n",
            "==============================================================================\n"
          ],
          "name": "stdout"
        }
      ]
    },
    {
      "cell_type": "markdown",
      "metadata": {
        "id": "rgrpPK_w5fmx"
      },
      "source": [
        "### run an IV2SLS"
      ]
    },
    {
      "cell_type": "code",
      "metadata": {
        "colab": {
          "base_uri": "https://localhost:8080/"
        },
        "id": "AlJWi-_y5RUB",
        "outputId": "13283a2b-c5df-414f-8a0f-6c0ec9a906ca"
      },
      "source": [
        "ivmod = IV2SLS(df.tvlUSD, df[[\"const\",\"AdrBalCnt\"]], df[\"PriceUSD\"], df[\"SplyCur\"])\n",
        "res_2sls = ivmod.fit()\n",
        "print(res_2sls.summary)"
      ],
      "execution_count": null,
      "outputs": [
        {
          "output_type": "stream",
          "text": [
            "                          IV-2SLS Estimation Summary                          \n",
            "==============================================================================\n",
            "Dep. Variable:                 tvlUSD   R-squared:                      0.9436\n",
            "Estimator:                    IV-2SLS   Adj. R-squared:                 0.9435\n",
            "No. Observations:                1412   F-statistic:                 1.426e+04\n",
            "Date:                Tue, Jun 15 2021   P-value (F-stat)                0.0000\n",
            "Time:                        09:20:34   Distribution:                  chi2(2)\n",
            "Cov. Estimator:                robust                                         \n",
            "                                                                              \n",
            "                             Parameter Estimates                              \n",
            "==============================================================================\n",
            "            Parameter  Std. Err.     T-stat    P-value    Lower CI    Upper CI\n",
            "------------------------------------------------------------------------------\n",
            "const       -1.28e+10  2.942e+08    -43.517     0.0000  -1.338e+10  -1.223e+10\n",
            "AdrBalCnt      316.17     10.481     30.165     0.0000      295.63      336.72\n",
            "PriceUSD    1.979e+07  2.752e+05     71.902     0.0000   1.925e+07   2.033e+07\n",
            "==============================================================================\n",
            "\n",
            "Endogenous: PriceUSD\n",
            "Instruments: SplyCur\n",
            "Robust Covariance (Heteroskedastic)\n",
            "Debiased: False\n"
          ],
          "name": "stdout"
        }
      ]
    },
    {
      "cell_type": "markdown",
      "metadata": {
        "id": "6FXJ7F2L6hjU"
      },
      "source": [
        "### comparison of the results"
      ]
    },
    {
      "cell_type": "code",
      "metadata": {
        "id": "ko-JHZ9T52eI"
      },
      "source": [
        "from collections import OrderedDict\n",
        "from linearmodels.iv.results import compare"
      ],
      "execution_count": null,
      "outputs": []
    },
    {
      "cell_type": "code",
      "metadata": {
        "colab": {
          "base_uri": "https://localhost:8080/"
        },
        "id": "2uCswn3g6rt5",
        "outputId": "04991a6b-4fa4-4b74-8093-06cd53aa55dc"
      },
      "source": [
        "res = OrderedDict()\n",
        "res['OLS'] = res_ols\n",
        "res['2SLS'] = res_2sls\n",
        "print(compare(res))"
      ],
      "execution_count": null,
      "outputs": [
        {
          "output_type": "stream",
          "text": [
            "                 Model Comparison                \n",
            "=================================================\n",
            "                                OLS          2SLS\n",
            "-------------------------------------------------\n",
            "Dep. Variable                tvlUSD        tvlUSD\n",
            "Estimator                       OLS       IV-2SLS\n",
            "No. Observations               1412          1412\n",
            "Cov. Est.                    robust        robust\n",
            "R-squared                    0.9436        0.9436\n",
            "Adj. R-squared               0.9435        0.9435\n",
            "F-statistic               1.468e+04     1.426e+04\n",
            "P-value (F-stat)             0.0000        0.0000\n",
            "==================     ============   ===========\n",
            "const                    -1.873e+10     -1.28e+10\n",
            "                          (-1.6815)     (-43.517)\n",
            "PriceUSD                  1.995e+07     1.979e+07\n",
            "                           (61.816)      (71.902)\n",
            "SplyCur                      62.707              \n",
            "                           (0.5358)              \n",
            "AdrBalCnt                    288.69        316.17\n",
            "                           (5.9462)      (30.165)\n",
            "==================== ============== =============\n",
            "Instruments                               SplyCur\n",
            "-------------------------------------------------\n",
            "\n",
            "T-stats reported in parentheses\n"
          ],
          "name": "stdout"
        }
      ]
    },
    {
      "cell_type": "markdown",
      "metadata": {
        "id": "ucuxJA-e62Eo"
      },
      "source": [
        "### Testing endogeneity"
      ]
    },
    {
      "cell_type": "markdown",
      "metadata": {
        "id": "hOrvX00o6-sI"
      },
      "source": [
        "The Durbin test is a classic of endogeneity which compares OLS estimates with 2SLS and exploits the fact that OLS estimates will be relatively efficient. Durbin’s test is not robust to heteroskedasticity."
      ]
    },
    {
      "cell_type": "code",
      "metadata": {
        "colab": {
          "base_uri": "https://localhost:8080/"
        },
        "id": "ET-0LIWQ6vuR",
        "outputId": "08628874-bd03-456c-f189-0817ef1cc1f9"
      },
      "source": [
        "res_2sls.durbin()"
      ],
      "execution_count": null,
      "outputs": [
        {
          "output_type": "execute_result",
          "data": {
            "text/plain": [
              "Durbin test of exogeneity\n",
              "H0: All endogenous variables are exogenous\n",
              "Statistic: 0.1977\n",
              "P-value: 0.6566\n",
              "Distributed: chi2(1)\n",
              "WaldTestStatistic, id: 0x7ff5bb4dcf90"
            ]
          },
          "metadata": {
            "tags": []
          },
          "execution_count": 58
        }
      ]
    },
    {
      "cell_type": "markdown",
      "metadata": {
        "id": "oOc2ojRD7R7p"
      },
      "source": [
        "Wooldridge’s regression-based test of exogeneity is robust to heteroskedasticity since it inherits the covariance estimator from the model. Here there is little difference."
      ]
    },
    {
      "cell_type": "code",
      "metadata": {
        "colab": {
          "base_uri": "https://localhost:8080/"
        },
        "id": "xpOJjC6a7Bk7",
        "outputId": "2778aadb-9215-4c30-f013-3e6b4ff3321e"
      },
      "source": [
        "res_2sls.wooldridge_regression"
      ],
      "execution_count": null,
      "outputs": [
        {
          "output_type": "execute_result",
          "data": {
            "text/plain": [
              "Wooldridge's regression test of exogeneity\n",
              "H0: Endogenous variables are exogenous\n",
              "Statistic: 0.2870\n",
              "P-value: 0.5921\n",
              "Distributed: chi2(1)\n",
              "WaldTestStatistic, id: 0x7ff5bb553850"
            ]
          },
          "metadata": {
            "tags": []
          },
          "execution_count": 59
        }
      ]
    },
    {
      "cell_type": "markdown",
      "metadata": {
        "id": "51xkG50O7p5M"
      },
      "source": [
        "### print first stage regression"
      ]
    },
    {
      "cell_type": "code",
      "metadata": {
        "colab": {
          "base_uri": "https://localhost:8080/"
        },
        "id": "bn7PCPjl7Nwd",
        "outputId": "a614436e-a861-4f69-a3b1-4df480f8c24c"
      },
      "source": [
        "print(res_2sls.first_stage)"
      ],
      "execution_count": null,
      "outputs": [
        {
          "output_type": "stream",
          "text": [
            "    First Stage Estimation Results    \n",
            "======================================\n",
            "                              PriceUSD\n",
            "--------------------------------------\n",
            "R-squared                       0.6445\n",
            "Partial R-squared               0.5444\n",
            "Shea's R-squared                0.5444\n",
            "Partial F-statistic             1044.9\n",
            "P-value (Partial F-stat)        0.0000\n",
            "Partial F-stat Distn           chi2(1)\n",
            "========================== ===========\n",
            "const                        3.665e+04\n",
            "                              (32.684)\n",
            "AdrBalCnt                       0.0002\n",
            "                              (31.562)\n",
            "SplyCur                        -0.0004\n",
            "                             (-32.325)\n",
            "--------------------------------------\n",
            "\n",
            "T-stats reported in parentheses\n",
            "T-stats use same covariance type as original model\n"
          ],
          "name": "stdout"
        }
      ]
    },
    {
      "cell_type": "markdown",
      "metadata": {
        "id": "-vP6TFhE7zVS"
      },
      "source": [
        "# Using the Statsmodel Package\n",
        "\n",
        "Not recommended"
      ]
    },
    {
      "cell_type": "markdown",
      "metadata": {
        "id": "RJzb5lIN74LQ"
      },
      "source": [
        "https://www.statsmodels.org/dev/generated/statsmodels.sandbox.regression.gmm.IV2SLS.html"
      ]
    }
  ]
}