{
  "nbformat": 4,
  "nbformat_minor": 0,
  "metadata": {
    "colab": {
      "name": "Econometrics_Milestone2_Panel Data2.ipynb",
      "provenance": [],
      "collapsed_sections": [],
      "authorship_tag": "ABX9TyOXig3Gpe1xBB+ID+Ze9o9U",
      "include_colab_link": true
    },
    "kernelspec": {
      "name": "python3",
      "display_name": "Python 3"
    },
    "language_info": {
      "name": "python"
    }
  },
  "cells": [
    {
      "cell_type": "markdown",
      "metadata": {
        "id": "view-in-github",
        "colab_type": "text"
      },
      "source": [
        "<a href=\"https://colab.research.google.com/github/duke-sunshine/NYU_Econometrics_Summer2021/blob/main/Econometrics_Milestone2_Panel_Data2.ipynb\" target=\"_parent\"><img src=\"https://colab.research.google.com/assets/colab-badge.svg\" alt=\"Open In Colab\"/></a>"
      ]
    },
    {
      "cell_type": "markdown",
      "metadata": {
        "id": "-AsmGF8Ss_up"
      },
      "source": [
        "# Data Preparation : Import From GitHub"
      ]
    },
    {
      "cell_type": "markdown",
      "metadata": {
        "id": "W6wjJ-52yhIN"
      },
      "source": [
        "[Data Metrics](https://github.com/coinmetrics-io/data/blob/master/csv/metrics.csv)\n",
        "\n",
        "[Assets](https://https://docs.coinmetrics.io/info/assets)\n",
        "\n",
        "[Defi Categories](https://https://defipulse.com/)"
      ]
    },
    {
      "cell_type": "code",
      "metadata": {
        "id": "jBBMl8Yoy4EB"
      },
      "source": [
        "import pandas as pd\n",
        "import numpy as np\n",
        "import datetime"
      ],
      "execution_count": 429,
      "outputs": []
    },
    {
      "cell_type": "markdown",
      "metadata": {
        "id": "hnxxj1DVy76y"
      },
      "source": [
        "##import the data for lending DApps: AAVE, COMP, and MKR"
      ]
    },
    {
      "cell_type": "code",
      "metadata": {
        "id": "TCpmtZj0e82x"
      },
      "source": [
        "from datetime import date\n",
        "start_date =datetime.date(2021, 4, 1) \n",
        "end_date =datetime.date(2021,5,31)"
      ],
      "execution_count": 430,
      "outputs": []
    },
    {
      "cell_type": "code",
      "metadata": {
        "colab": {
          "base_uri": "https://localhost:8080/",
          "height": 206
        },
        "id": "Hs0qkKVlq4xq",
        "outputId": "7d75d2d8-10bc-4fa7-e2d0-3f578877ed12"
      },
      "source": [
        "df_AAVE=pd.read_csv(\"https://raw.githubusercontent.com/coinmetrics-io/data/master/csv/aave.csv\",usecols=([\"time\",\"PriceUSD\",\"CapMrktCurUSD\",\"TxTfrValAdjUSD\",\"AdrBalCnt\",\"NVTAdj90\",\"VtyDayRet180d\"]))\n",
        "df_COMP=pd.read_csv(\"https://raw.githubusercontent.com/coinmetrics-io/data/master/csv/comp.csv\",usecols=([\"time\",\"PriceUSD\",\"CapMrktCurUSD\",\"TxTfrValAdjUSD\",\"AdrBalCnt\",\"NVTAdj90\",\"VtyDayRet180d\"]))\n",
        "df_MKR=pd.read_csv(\"https://raw.githubusercontent.com/coinmetrics-io/data/master/csv/mkr.csv\",usecols=([\"time\",\"PriceUSD\",\"CapMrktCurUSD\",\"TxTfrValAdjUSD\",\"AdrBalCnt\",\"NVTAdj90\",\"VtyDayRet180d\"]))\n",
        "df_AAVE.head()"
      ],
      "execution_count": 431,
      "outputs": [
        {
          "output_type": "execute_result",
          "data": {
            "text/html": [
              "<div>\n",
              "<style scoped>\n",
              "    .dataframe tbody tr th:only-of-type {\n",
              "        vertical-align: middle;\n",
              "    }\n",
              "\n",
              "    .dataframe tbody tr th {\n",
              "        vertical-align: top;\n",
              "    }\n",
              "\n",
              "    .dataframe thead th {\n",
              "        text-align: right;\n",
              "    }\n",
              "</style>\n",
              "<table border=\"1\" class=\"dataframe\">\n",
              "  <thead>\n",
              "    <tr style=\"text-align: right;\">\n",
              "      <th></th>\n",
              "      <th>time</th>\n",
              "      <th>AdrBalCnt</th>\n",
              "      <th>CapMrktCurUSD</th>\n",
              "      <th>NVTAdj90</th>\n",
              "      <th>PriceUSD</th>\n",
              "      <th>TxTfrValAdjUSD</th>\n",
              "      <th>VtyDayRet180d</th>\n",
              "    </tr>\n",
              "  </thead>\n",
              "  <tbody>\n",
              "    <tr>\n",
              "      <th>0</th>\n",
              "      <td>2020-09-24</td>\n",
              "      <td>NaN</td>\n",
              "      <td>NaN</td>\n",
              "      <td>NaN</td>\n",
              "      <td>NaN</td>\n",
              "      <td>NaN</td>\n",
              "      <td>NaN</td>\n",
              "    </tr>\n",
              "    <tr>\n",
              "      <th>1</th>\n",
              "      <td>2020-09-25</td>\n",
              "      <td>NaN</td>\n",
              "      <td>NaN</td>\n",
              "      <td>NaN</td>\n",
              "      <td>NaN</td>\n",
              "      <td>NaN</td>\n",
              "      <td>NaN</td>\n",
              "    </tr>\n",
              "    <tr>\n",
              "      <th>2</th>\n",
              "      <td>2020-09-26</td>\n",
              "      <td>NaN</td>\n",
              "      <td>NaN</td>\n",
              "      <td>NaN</td>\n",
              "      <td>NaN</td>\n",
              "      <td>NaN</td>\n",
              "      <td>NaN</td>\n",
              "    </tr>\n",
              "    <tr>\n",
              "      <th>3</th>\n",
              "      <td>2020-09-27</td>\n",
              "      <td>NaN</td>\n",
              "      <td>NaN</td>\n",
              "      <td>NaN</td>\n",
              "      <td>NaN</td>\n",
              "      <td>NaN</td>\n",
              "      <td>NaN</td>\n",
              "    </tr>\n",
              "    <tr>\n",
              "      <th>4</th>\n",
              "      <td>2020-09-28</td>\n",
              "      <td>NaN</td>\n",
              "      <td>NaN</td>\n",
              "      <td>NaN</td>\n",
              "      <td>NaN</td>\n",
              "      <td>NaN</td>\n",
              "      <td>NaN</td>\n",
              "    </tr>\n",
              "  </tbody>\n",
              "</table>\n",
              "</div>"
            ],
            "text/plain": [
              "         time  AdrBalCnt  ...  TxTfrValAdjUSD  VtyDayRet180d\n",
              "0  2020-09-24        NaN  ...             NaN            NaN\n",
              "1  2020-09-25        NaN  ...             NaN            NaN\n",
              "2  2020-09-26        NaN  ...             NaN            NaN\n",
              "3  2020-09-27        NaN  ...             NaN            NaN\n",
              "4  2020-09-28        NaN  ...             NaN            NaN\n",
              "\n",
              "[5 rows x 7 columns]"
            ]
          },
          "metadata": {
            "tags": []
          },
          "execution_count": 431
        }
      ]
    },
    {
      "cell_type": "code",
      "metadata": {
        "colab": {
          "base_uri": "https://localhost:8080/",
          "height": 206
        },
        "id": "NhPrGoM3gRfa",
        "outputId": "db866f43-9d6b-4dcc-ee41-e565911d0314"
      },
      "source": [
        "df_AAVE['assets'] = 'AAVE'\n",
        "df_COMP['assets'] = 'COMP'\n",
        "df_MKR['assets'] = 'MKR'\n",
        "df_AAVE['Type'] = 'Lending'\n",
        "df_COMP['Type'] = 'Lending'\n",
        "df_MKR['Type'] = 'Lending'\n",
        "df_AAVE.head()"
      ],
      "execution_count": 432,
      "outputs": [
        {
          "output_type": "execute_result",
          "data": {
            "text/html": [
              "<div>\n",
              "<style scoped>\n",
              "    .dataframe tbody tr th:only-of-type {\n",
              "        vertical-align: middle;\n",
              "    }\n",
              "\n",
              "    .dataframe tbody tr th {\n",
              "        vertical-align: top;\n",
              "    }\n",
              "\n",
              "    .dataframe thead th {\n",
              "        text-align: right;\n",
              "    }\n",
              "</style>\n",
              "<table border=\"1\" class=\"dataframe\">\n",
              "  <thead>\n",
              "    <tr style=\"text-align: right;\">\n",
              "      <th></th>\n",
              "      <th>time</th>\n",
              "      <th>AdrBalCnt</th>\n",
              "      <th>CapMrktCurUSD</th>\n",
              "      <th>NVTAdj90</th>\n",
              "      <th>PriceUSD</th>\n",
              "      <th>TxTfrValAdjUSD</th>\n",
              "      <th>VtyDayRet180d</th>\n",
              "      <th>assets</th>\n",
              "      <th>Type</th>\n",
              "    </tr>\n",
              "  </thead>\n",
              "  <tbody>\n",
              "    <tr>\n",
              "      <th>0</th>\n",
              "      <td>2020-09-24</td>\n",
              "      <td>NaN</td>\n",
              "      <td>NaN</td>\n",
              "      <td>NaN</td>\n",
              "      <td>NaN</td>\n",
              "      <td>NaN</td>\n",
              "      <td>NaN</td>\n",
              "      <td>AAVE</td>\n",
              "      <td>Lending</td>\n",
              "    </tr>\n",
              "    <tr>\n",
              "      <th>1</th>\n",
              "      <td>2020-09-25</td>\n",
              "      <td>NaN</td>\n",
              "      <td>NaN</td>\n",
              "      <td>NaN</td>\n",
              "      <td>NaN</td>\n",
              "      <td>NaN</td>\n",
              "      <td>NaN</td>\n",
              "      <td>AAVE</td>\n",
              "      <td>Lending</td>\n",
              "    </tr>\n",
              "    <tr>\n",
              "      <th>2</th>\n",
              "      <td>2020-09-26</td>\n",
              "      <td>NaN</td>\n",
              "      <td>NaN</td>\n",
              "      <td>NaN</td>\n",
              "      <td>NaN</td>\n",
              "      <td>NaN</td>\n",
              "      <td>NaN</td>\n",
              "      <td>AAVE</td>\n",
              "      <td>Lending</td>\n",
              "    </tr>\n",
              "    <tr>\n",
              "      <th>3</th>\n",
              "      <td>2020-09-27</td>\n",
              "      <td>NaN</td>\n",
              "      <td>NaN</td>\n",
              "      <td>NaN</td>\n",
              "      <td>NaN</td>\n",
              "      <td>NaN</td>\n",
              "      <td>NaN</td>\n",
              "      <td>AAVE</td>\n",
              "      <td>Lending</td>\n",
              "    </tr>\n",
              "    <tr>\n",
              "      <th>4</th>\n",
              "      <td>2020-09-28</td>\n",
              "      <td>NaN</td>\n",
              "      <td>NaN</td>\n",
              "      <td>NaN</td>\n",
              "      <td>NaN</td>\n",
              "      <td>NaN</td>\n",
              "      <td>NaN</td>\n",
              "      <td>AAVE</td>\n",
              "      <td>Lending</td>\n",
              "    </tr>\n",
              "  </tbody>\n",
              "</table>\n",
              "</div>"
            ],
            "text/plain": [
              "         time  AdrBalCnt  CapMrktCurUSD  ...  VtyDayRet180d  assets     Type\n",
              "0  2020-09-24        NaN            NaN  ...            NaN    AAVE  Lending\n",
              "1  2020-09-25        NaN            NaN  ...            NaN    AAVE  Lending\n",
              "2  2020-09-26        NaN            NaN  ...            NaN    AAVE  Lending\n",
              "3  2020-09-27        NaN            NaN  ...            NaN    AAVE  Lending\n",
              "4  2020-09-28        NaN            NaN  ...            NaN    AAVE  Lending\n",
              "\n",
              "[5 rows x 9 columns]"
            ]
          },
          "metadata": {
            "tags": []
          },
          "execution_count": 432
        }
      ]
    },
    {
      "cell_type": "code",
      "metadata": {
        "id": "cMV0xl9reYSR"
      },
      "source": [
        "### change to dateime\n",
        "df_AAVE.index=pd.to_datetime(df_AAVE['time'])\n",
        "df_COMP.index=pd.to_datetime(df_COMP['time'])\n",
        "df_MKR.index=pd.to_datetime(df_MKR['time'])"
      ],
      "execution_count": 433,
      "outputs": []
    },
    {
      "cell_type": "code",
      "metadata": {
        "colab": {
          "base_uri": "https://localhost:8080/",
          "height": 237
        },
        "id": "4szRG58UeDd7",
        "outputId": "e6260e8b-7120-48e6-b91a-9ff0260a0302"
      },
      "source": [
        "df_AAVE=df_AAVE.loc[start_date:end_date]\n",
        "df_COMP=df_COMP.loc[start_date:end_date]\n",
        "df_MKR=df_MKR.loc[start_date:end_date]\n",
        "df_AAVE.head()"
      ],
      "execution_count": 434,
      "outputs": [
        {
          "output_type": "execute_result",
          "data": {
            "text/html": [
              "<div>\n",
              "<style scoped>\n",
              "    .dataframe tbody tr th:only-of-type {\n",
              "        vertical-align: middle;\n",
              "    }\n",
              "\n",
              "    .dataframe tbody tr th {\n",
              "        vertical-align: top;\n",
              "    }\n",
              "\n",
              "    .dataframe thead th {\n",
              "        text-align: right;\n",
              "    }\n",
              "</style>\n",
              "<table border=\"1\" class=\"dataframe\">\n",
              "  <thead>\n",
              "    <tr style=\"text-align: right;\">\n",
              "      <th></th>\n",
              "      <th>time</th>\n",
              "      <th>AdrBalCnt</th>\n",
              "      <th>CapMrktCurUSD</th>\n",
              "      <th>NVTAdj90</th>\n",
              "      <th>PriceUSD</th>\n",
              "      <th>TxTfrValAdjUSD</th>\n",
              "      <th>VtyDayRet180d</th>\n",
              "      <th>assets</th>\n",
              "      <th>Type</th>\n",
              "    </tr>\n",
              "    <tr>\n",
              "      <th>time</th>\n",
              "      <th></th>\n",
              "      <th></th>\n",
              "      <th></th>\n",
              "      <th></th>\n",
              "      <th></th>\n",
              "      <th></th>\n",
              "      <th></th>\n",
              "      <th></th>\n",
              "      <th></th>\n",
              "    </tr>\n",
              "  </thead>\n",
              "  <tbody>\n",
              "    <tr>\n",
              "      <th>2021-04-01</th>\n",
              "      <td>2021-04-01</td>\n",
              "      <td>68034.0</td>\n",
              "      <td>6.142561e+09</td>\n",
              "      <td>37.704731</td>\n",
              "      <td>383.910091</td>\n",
              "      <td>1.146332e+08</td>\n",
              "      <td>NaN</td>\n",
              "      <td>AAVE</td>\n",
              "      <td>Lending</td>\n",
              "    </tr>\n",
              "    <tr>\n",
              "      <th>2021-04-02</th>\n",
              "      <td>2021-04-02</td>\n",
              "      <td>68361.0</td>\n",
              "      <td>6.716282e+09</td>\n",
              "      <td>40.713623</td>\n",
              "      <td>419.767629</td>\n",
              "      <td>2.171960e+08</td>\n",
              "      <td>NaN</td>\n",
              "      <td>AAVE</td>\n",
              "      <td>Lending</td>\n",
              "    </tr>\n",
              "    <tr>\n",
              "      <th>2021-04-03</th>\n",
              "      <td>2021-04-03</td>\n",
              "      <td>68643.0</td>\n",
              "      <td>6.140089e+09</td>\n",
              "      <td>37.145088</td>\n",
              "      <td>383.755589</td>\n",
              "      <td>7.606551e+07</td>\n",
              "      <td>NaN</td>\n",
              "      <td>AAVE</td>\n",
              "      <td>Lending</td>\n",
              "    </tr>\n",
              "    <tr>\n",
              "      <th>2021-04-04</th>\n",
              "      <td>2021-04-04</td>\n",
              "      <td>68997.0</td>\n",
              "      <td>6.463470e+09</td>\n",
              "      <td>39.348760</td>\n",
              "      <td>403.966859</td>\n",
              "      <td>9.215532e+07</td>\n",
              "      <td>NaN</td>\n",
              "      <td>AAVE</td>\n",
              "      <td>Lending</td>\n",
              "    </tr>\n",
              "    <tr>\n",
              "      <th>2021-04-05</th>\n",
              "      <td>2021-04-05</td>\n",
              "      <td>69382.0</td>\n",
              "      <td>6.335863e+09</td>\n",
              "      <td>38.482345</td>\n",
              "      <td>395.991447</td>\n",
              "      <td>1.173133e+08</td>\n",
              "      <td>NaN</td>\n",
              "      <td>AAVE</td>\n",
              "      <td>Lending</td>\n",
              "    </tr>\n",
              "  </tbody>\n",
              "</table>\n",
              "</div>"
            ],
            "text/plain": [
              "                  time  AdrBalCnt  CapMrktCurUSD  ...  VtyDayRet180d  assets     Type\n",
              "time                                              ...                                \n",
              "2021-04-01  2021-04-01    68034.0   6.142561e+09  ...            NaN    AAVE  Lending\n",
              "2021-04-02  2021-04-02    68361.0   6.716282e+09  ...            NaN    AAVE  Lending\n",
              "2021-04-03  2021-04-03    68643.0   6.140089e+09  ...            NaN    AAVE  Lending\n",
              "2021-04-04  2021-04-04    68997.0   6.463470e+09  ...            NaN    AAVE  Lending\n",
              "2021-04-05  2021-04-05    69382.0   6.335863e+09  ...            NaN    AAVE  Lending\n",
              "\n",
              "[5 rows x 9 columns]"
            ]
          },
          "metadata": {
            "tags": []
          },
          "execution_count": 434
        }
      ]
    },
    {
      "cell_type": "code",
      "metadata": {
        "colab": {
          "base_uri": "https://localhost:8080/",
          "height": 237
        },
        "id": "EtVANFAhPwgm",
        "outputId": "63aea184-9b15-4cd8-f9f9-0c671906564d"
      },
      "source": [
        "df_COMP.head()"
      ],
      "execution_count": 435,
      "outputs": [
        {
          "output_type": "execute_result",
          "data": {
            "text/html": [
              "<div>\n",
              "<style scoped>\n",
              "    .dataframe tbody tr th:only-of-type {\n",
              "        vertical-align: middle;\n",
              "    }\n",
              "\n",
              "    .dataframe tbody tr th {\n",
              "        vertical-align: top;\n",
              "    }\n",
              "\n",
              "    .dataframe thead th {\n",
              "        text-align: right;\n",
              "    }\n",
              "</style>\n",
              "<table border=\"1\" class=\"dataframe\">\n",
              "  <thead>\n",
              "    <tr style=\"text-align: right;\">\n",
              "      <th></th>\n",
              "      <th>time</th>\n",
              "      <th>AdrBalCnt</th>\n",
              "      <th>CapMrktCurUSD</th>\n",
              "      <th>NVTAdj90</th>\n",
              "      <th>PriceUSD</th>\n",
              "      <th>TxTfrValAdjUSD</th>\n",
              "      <th>VtyDayRet180d</th>\n",
              "      <th>assets</th>\n",
              "      <th>Type</th>\n",
              "    </tr>\n",
              "    <tr>\n",
              "      <th>time</th>\n",
              "      <th></th>\n",
              "      <th></th>\n",
              "      <th></th>\n",
              "      <th></th>\n",
              "      <th></th>\n",
              "      <th></th>\n",
              "      <th></th>\n",
              "      <th></th>\n",
              "      <th></th>\n",
              "    </tr>\n",
              "  </thead>\n",
              "  <tbody>\n",
              "    <tr>\n",
              "      <th>2021-04-01</th>\n",
              "      <td>2021-04-01</td>\n",
              "      <td>147169.0</td>\n",
              "      <td>4.516086e+09</td>\n",
              "      <td>83.888626</td>\n",
              "      <td>451.608649</td>\n",
              "      <td>9.744422e+07</td>\n",
              "      <td>0.068365</td>\n",
              "      <td>COMP</td>\n",
              "      <td>Lending</td>\n",
              "    </tr>\n",
              "    <tr>\n",
              "      <th>2021-04-02</th>\n",
              "      <td>2021-04-02</td>\n",
              "      <td>147452.0</td>\n",
              "      <td>4.878642e+09</td>\n",
              "      <td>89.929280</td>\n",
              "      <td>487.864193</td>\n",
              "      <td>6.023612e+07</td>\n",
              "      <td>0.068531</td>\n",
              "      <td>COMP</td>\n",
              "      <td>Lending</td>\n",
              "    </tr>\n",
              "    <tr>\n",
              "      <th>2021-04-03</th>\n",
              "      <td>2021-04-03</td>\n",
              "      <td>147787.0</td>\n",
              "      <td>4.815246e+09</td>\n",
              "      <td>87.049910</td>\n",
              "      <td>481.524627</td>\n",
              "      <td>1.134689e+08</td>\n",
              "      <td>0.068541</td>\n",
              "      <td>COMP</td>\n",
              "      <td>Lending</td>\n",
              "    </tr>\n",
              "    <tr>\n",
              "      <th>2021-04-04</th>\n",
              "      <td>2021-04-04</td>\n",
              "      <td>148327.0</td>\n",
              "      <td>5.485351e+09</td>\n",
              "      <td>98.138936</td>\n",
              "      <td>548.535112</td>\n",
              "      <td>1.366604e+08</td>\n",
              "      <td>0.068097</td>\n",
              "      <td>COMP</td>\n",
              "      <td>Lending</td>\n",
              "    </tr>\n",
              "    <tr>\n",
              "      <th>2021-04-05</th>\n",
              "      <td>2021-04-05</td>\n",
              "      <td>148765.0</td>\n",
              "      <td>5.099802e+09</td>\n",
              "      <td>89.938383</td>\n",
              "      <td>509.980184</td>\n",
              "      <td>9.170103e+07</td>\n",
              "      <td>0.068320</td>\n",
              "      <td>COMP</td>\n",
              "      <td>Lending</td>\n",
              "    </tr>\n",
              "  </tbody>\n",
              "</table>\n",
              "</div>"
            ],
            "text/plain": [
              "                  time  AdrBalCnt  CapMrktCurUSD  ...  VtyDayRet180d  assets     Type\n",
              "time                                              ...                                \n",
              "2021-04-01  2021-04-01   147169.0   4.516086e+09  ...       0.068365    COMP  Lending\n",
              "2021-04-02  2021-04-02   147452.0   4.878642e+09  ...       0.068531    COMP  Lending\n",
              "2021-04-03  2021-04-03   147787.0   4.815246e+09  ...       0.068541    COMP  Lending\n",
              "2021-04-04  2021-04-04   148327.0   5.485351e+09  ...       0.068097    COMP  Lending\n",
              "2021-04-05  2021-04-05   148765.0   5.099802e+09  ...       0.068320    COMP  Lending\n",
              "\n",
              "[5 rows x 9 columns]"
            ]
          },
          "metadata": {
            "tags": []
          },
          "execution_count": 435
        }
      ]
    },
    {
      "cell_type": "code",
      "metadata": {
        "colab": {
          "base_uri": "https://localhost:8080/",
          "height": 237
        },
        "id": "KHEFrh80Sg-q",
        "outputId": "dd7677c3-954e-4945-f834-c3fabf69e1bd"
      },
      "source": [
        "df_MKR.head()"
      ],
      "execution_count": 436,
      "outputs": [
        {
          "output_type": "execute_result",
          "data": {
            "text/html": [
              "<div>\n",
              "<style scoped>\n",
              "    .dataframe tbody tr th:only-of-type {\n",
              "        vertical-align: middle;\n",
              "    }\n",
              "\n",
              "    .dataframe tbody tr th {\n",
              "        vertical-align: top;\n",
              "    }\n",
              "\n",
              "    .dataframe thead th {\n",
              "        text-align: right;\n",
              "    }\n",
              "</style>\n",
              "<table border=\"1\" class=\"dataframe\">\n",
              "  <thead>\n",
              "    <tr style=\"text-align: right;\">\n",
              "      <th></th>\n",
              "      <th>time</th>\n",
              "      <th>AdrBalCnt</th>\n",
              "      <th>CapMrktCurUSD</th>\n",
              "      <th>NVTAdj90</th>\n",
              "      <th>PriceUSD</th>\n",
              "      <th>TxTfrValAdjUSD</th>\n",
              "      <th>VtyDayRet180d</th>\n",
              "      <th>assets</th>\n",
              "      <th>Type</th>\n",
              "    </tr>\n",
              "    <tr>\n",
              "      <th>time</th>\n",
              "      <th></th>\n",
              "      <th></th>\n",
              "      <th></th>\n",
              "      <th></th>\n",
              "      <th></th>\n",
              "      <th></th>\n",
              "      <th></th>\n",
              "      <th></th>\n",
              "      <th></th>\n",
              "    </tr>\n",
              "  </thead>\n",
              "  <tbody>\n",
              "    <tr>\n",
              "      <th>2021-04-01</th>\n",
              "      <td>2021-04-01</td>\n",
              "      <td>78621.0</td>\n",
              "      <td>2.293185e+09</td>\n",
              "      <td>52.488709</td>\n",
              "      <td>2304.155888</td>\n",
              "      <td>5.360600e+07</td>\n",
              "      <td>0.063862</td>\n",
              "      <td>MKR</td>\n",
              "      <td>Lending</td>\n",
              "    </tr>\n",
              "    <tr>\n",
              "      <th>2021-04-02</th>\n",
              "      <td>2021-04-02</td>\n",
              "      <td>78694.0</td>\n",
              "      <td>2.486063e+09</td>\n",
              "      <td>56.371882</td>\n",
              "      <td>2497.956761</td>\n",
              "      <td>5.858474e+07</td>\n",
              "      <td>0.064088</td>\n",
              "      <td>MKR</td>\n",
              "      <td>Lending</td>\n",
              "    </tr>\n",
              "    <tr>\n",
              "      <th>2021-04-03</th>\n",
              "      <td>2021-04-03</td>\n",
              "      <td>78797.0</td>\n",
              "      <td>2.245617e+09</td>\n",
              "      <td>50.790373</td>\n",
              "      <td>2256.359940</td>\n",
              "      <td>4.153997e+07</td>\n",
              "      <td>0.064595</td>\n",
              "      <td>MKR</td>\n",
              "      <td>Lending</td>\n",
              "    </tr>\n",
              "    <tr>\n",
              "      <th>2021-04-04</th>\n",
              "      <td>2021-04-04</td>\n",
              "      <td>78902.0</td>\n",
              "      <td>2.291731e+09</td>\n",
              "      <td>50.861334</td>\n",
              "      <td>2302.694185</td>\n",
              "      <td>9.005279e+07</td>\n",
              "      <td>0.064227</td>\n",
              "      <td>MKR</td>\n",
              "      <td>Lending</td>\n",
              "    </tr>\n",
              "    <tr>\n",
              "      <th>2021-04-05</th>\n",
              "      <td>2021-04-05</td>\n",
              "      <td>78989.0</td>\n",
              "      <td>2.313382e+09</td>\n",
              "      <td>51.327044</td>\n",
              "      <td>2324.449293</td>\n",
              "      <td>1.923347e+07</td>\n",
              "      <td>0.064226</td>\n",
              "      <td>MKR</td>\n",
              "      <td>Lending</td>\n",
              "    </tr>\n",
              "  </tbody>\n",
              "</table>\n",
              "</div>"
            ],
            "text/plain": [
              "                  time  AdrBalCnt  CapMrktCurUSD  ...  VtyDayRet180d  assets     Type\n",
              "time                                              ...                                \n",
              "2021-04-01  2021-04-01    78621.0   2.293185e+09  ...       0.063862     MKR  Lending\n",
              "2021-04-02  2021-04-02    78694.0   2.486063e+09  ...       0.064088     MKR  Lending\n",
              "2021-04-03  2021-04-03    78797.0   2.245617e+09  ...       0.064595     MKR  Lending\n",
              "2021-04-04  2021-04-04    78902.0   2.291731e+09  ...       0.064227     MKR  Lending\n",
              "2021-04-05  2021-04-05    78989.0   2.313382e+09  ...       0.064226     MKR  Lending\n",
              "\n",
              "[5 rows x 9 columns]"
            ]
          },
          "metadata": {
            "tags": []
          },
          "execution_count": 436
        }
      ]
    },
    {
      "cell_type": "markdown",
      "metadata": {
        "id": "XUHI4F60SxKR"
      },
      "source": [
        "## Import Data for Exchange DApps:UNI, BAL, and SUSHI"
      ]
    },
    {
      "cell_type": "code",
      "metadata": {
        "colab": {
          "base_uri": "https://localhost:8080/",
          "height": 206
        },
        "id": "169mJoGbS_ny",
        "outputId": "9978f753-b42a-432c-f228-dcd73d979692"
      },
      "source": [
        "df_UNI=pd.read_csv(\"https://raw.githubusercontent.com/coinmetrics-io/data/master/csv/uni.csv\",usecols=([\"time\",\"PriceUSD\",\"CapMrktCurUSD\",\"TxTfrValAdjUSD\",\"AdrBalCnt\",\"NVTAdj90\",\"VtyDayRet180d\"]))\n",
        "df_BAL=pd.read_csv(\"https://raw.githubusercontent.com/coinmetrics-io/data/master/csv/bal.csv\",usecols=([\"time\",\"PriceUSD\",\"CapMrktCurUSD\",\"TxTfrValAdjUSD\",\"AdrBalCnt\",\"NVTAdj90\",\"VtyDayRet180d\"]))\n",
        "df_SUSHI=pd.read_csv(\"https://raw.githubusercontent.com/coinmetrics-io/data/master/csv/sushi.csv\",usecols=([\"time\",\"PriceUSD\",\"CapMrktCurUSD\",\"TxTfrValAdjUSD\",\"AdrBalCnt\",\"NVTAdj90\",\"VtyDayRet180d\"]))\n",
        "df_UNI.head()"
      ],
      "execution_count": 437,
      "outputs": [
        {
          "output_type": "execute_result",
          "data": {
            "text/html": [
              "<div>\n",
              "<style scoped>\n",
              "    .dataframe tbody tr th:only-of-type {\n",
              "        vertical-align: middle;\n",
              "    }\n",
              "\n",
              "    .dataframe tbody tr th {\n",
              "        vertical-align: top;\n",
              "    }\n",
              "\n",
              "    .dataframe thead th {\n",
              "        text-align: right;\n",
              "    }\n",
              "</style>\n",
              "<table border=\"1\" class=\"dataframe\">\n",
              "  <thead>\n",
              "    <tr style=\"text-align: right;\">\n",
              "      <th></th>\n",
              "      <th>time</th>\n",
              "      <th>AdrBalCnt</th>\n",
              "      <th>CapMrktCurUSD</th>\n",
              "      <th>NVTAdj90</th>\n",
              "      <th>PriceUSD</th>\n",
              "      <th>TxTfrValAdjUSD</th>\n",
              "      <th>VtyDayRet180d</th>\n",
              "    </tr>\n",
              "  </thead>\n",
              "  <tbody>\n",
              "    <tr>\n",
              "      <th>0</th>\n",
              "      <td>2020-09-14</td>\n",
              "      <td>5.0</td>\n",
              "      <td>NaN</td>\n",
              "      <td>NaN</td>\n",
              "      <td>NaN</td>\n",
              "      <td>NaN</td>\n",
              "      <td>NaN</td>\n",
              "    </tr>\n",
              "    <tr>\n",
              "      <th>1</th>\n",
              "      <td>2020-09-15</td>\n",
              "      <td>1.0</td>\n",
              "      <td>NaN</td>\n",
              "      <td>NaN</td>\n",
              "      <td>NaN</td>\n",
              "      <td>NaN</td>\n",
              "      <td>NaN</td>\n",
              "    </tr>\n",
              "    <tr>\n",
              "      <th>2</th>\n",
              "      <td>2020-09-16</td>\n",
              "      <td>51.0</td>\n",
              "      <td>NaN</td>\n",
              "      <td>NaN</td>\n",
              "      <td>NaN</td>\n",
              "      <td>NaN</td>\n",
              "      <td>NaN</td>\n",
              "    </tr>\n",
              "    <tr>\n",
              "      <th>3</th>\n",
              "      <td>2020-09-17</td>\n",
              "      <td>73729.0</td>\n",
              "      <td>NaN</td>\n",
              "      <td>NaN</td>\n",
              "      <td>NaN</td>\n",
              "      <td>NaN</td>\n",
              "      <td>NaN</td>\n",
              "    </tr>\n",
              "    <tr>\n",
              "      <th>4</th>\n",
              "      <td>2020-09-18</td>\n",
              "      <td>84972.0</td>\n",
              "      <td>6.995452e+09</td>\n",
              "      <td>NaN</td>\n",
              "      <td>6.995452</td>\n",
              "      <td>1.019976e+09</td>\n",
              "      <td>NaN</td>\n",
              "    </tr>\n",
              "  </tbody>\n",
              "</table>\n",
              "</div>"
            ],
            "text/plain": [
              "         time  AdrBalCnt  ...  TxTfrValAdjUSD  VtyDayRet180d\n",
              "0  2020-09-14        5.0  ...             NaN            NaN\n",
              "1  2020-09-15        1.0  ...             NaN            NaN\n",
              "2  2020-09-16       51.0  ...             NaN            NaN\n",
              "3  2020-09-17    73729.0  ...             NaN            NaN\n",
              "4  2020-09-18    84972.0  ...    1.019976e+09            NaN\n",
              "\n",
              "[5 rows x 7 columns]"
            ]
          },
          "metadata": {
            "tags": []
          },
          "execution_count": 437
        }
      ]
    },
    {
      "cell_type": "code",
      "metadata": {
        "colab": {
          "base_uri": "https://localhost:8080/",
          "height": 206
        },
        "id": "FyliW-P7TJFm",
        "outputId": "9f707978-08b7-491e-bed4-f809cb04e1aa"
      },
      "source": [
        "df_UNI['assets'] = 'UNI'\n",
        "df_BAL['assets'] = 'BAL'\n",
        "df_SUSHI['assets'] = 'SUSHI'\n",
        "df_UNI['Type'] = 'Exchange'\n",
        "df_BAL['Type'] = 'Exchange'\n",
        "df_SUSHI['Type'] = 'Exchange'\n",
        "df_UNI.head()"
      ],
      "execution_count": 438,
      "outputs": [
        {
          "output_type": "execute_result",
          "data": {
            "text/html": [
              "<div>\n",
              "<style scoped>\n",
              "    .dataframe tbody tr th:only-of-type {\n",
              "        vertical-align: middle;\n",
              "    }\n",
              "\n",
              "    .dataframe tbody tr th {\n",
              "        vertical-align: top;\n",
              "    }\n",
              "\n",
              "    .dataframe thead th {\n",
              "        text-align: right;\n",
              "    }\n",
              "</style>\n",
              "<table border=\"1\" class=\"dataframe\">\n",
              "  <thead>\n",
              "    <tr style=\"text-align: right;\">\n",
              "      <th></th>\n",
              "      <th>time</th>\n",
              "      <th>AdrBalCnt</th>\n",
              "      <th>CapMrktCurUSD</th>\n",
              "      <th>NVTAdj90</th>\n",
              "      <th>PriceUSD</th>\n",
              "      <th>TxTfrValAdjUSD</th>\n",
              "      <th>VtyDayRet180d</th>\n",
              "      <th>assets</th>\n",
              "      <th>Type</th>\n",
              "    </tr>\n",
              "  </thead>\n",
              "  <tbody>\n",
              "    <tr>\n",
              "      <th>0</th>\n",
              "      <td>2020-09-14</td>\n",
              "      <td>5.0</td>\n",
              "      <td>NaN</td>\n",
              "      <td>NaN</td>\n",
              "      <td>NaN</td>\n",
              "      <td>NaN</td>\n",
              "      <td>NaN</td>\n",
              "      <td>UNI</td>\n",
              "      <td>Exchange</td>\n",
              "    </tr>\n",
              "    <tr>\n",
              "      <th>1</th>\n",
              "      <td>2020-09-15</td>\n",
              "      <td>1.0</td>\n",
              "      <td>NaN</td>\n",
              "      <td>NaN</td>\n",
              "      <td>NaN</td>\n",
              "      <td>NaN</td>\n",
              "      <td>NaN</td>\n",
              "      <td>UNI</td>\n",
              "      <td>Exchange</td>\n",
              "    </tr>\n",
              "    <tr>\n",
              "      <th>2</th>\n",
              "      <td>2020-09-16</td>\n",
              "      <td>51.0</td>\n",
              "      <td>NaN</td>\n",
              "      <td>NaN</td>\n",
              "      <td>NaN</td>\n",
              "      <td>NaN</td>\n",
              "      <td>NaN</td>\n",
              "      <td>UNI</td>\n",
              "      <td>Exchange</td>\n",
              "    </tr>\n",
              "    <tr>\n",
              "      <th>3</th>\n",
              "      <td>2020-09-17</td>\n",
              "      <td>73729.0</td>\n",
              "      <td>NaN</td>\n",
              "      <td>NaN</td>\n",
              "      <td>NaN</td>\n",
              "      <td>NaN</td>\n",
              "      <td>NaN</td>\n",
              "      <td>UNI</td>\n",
              "      <td>Exchange</td>\n",
              "    </tr>\n",
              "    <tr>\n",
              "      <th>4</th>\n",
              "      <td>2020-09-18</td>\n",
              "      <td>84972.0</td>\n",
              "      <td>6.995452e+09</td>\n",
              "      <td>NaN</td>\n",
              "      <td>6.995452</td>\n",
              "      <td>1.019976e+09</td>\n",
              "      <td>NaN</td>\n",
              "      <td>UNI</td>\n",
              "      <td>Exchange</td>\n",
              "    </tr>\n",
              "  </tbody>\n",
              "</table>\n",
              "</div>"
            ],
            "text/plain": [
              "         time  AdrBalCnt  CapMrktCurUSD  ...  VtyDayRet180d  assets      Type\n",
              "0  2020-09-14        5.0            NaN  ...            NaN     UNI  Exchange\n",
              "1  2020-09-15        1.0            NaN  ...            NaN     UNI  Exchange\n",
              "2  2020-09-16       51.0            NaN  ...            NaN     UNI  Exchange\n",
              "3  2020-09-17    73729.0            NaN  ...            NaN     UNI  Exchange\n",
              "4  2020-09-18    84972.0   6.995452e+09  ...            NaN     UNI  Exchange\n",
              "\n",
              "[5 rows x 9 columns]"
            ]
          },
          "metadata": {
            "tags": []
          },
          "execution_count": 438
        }
      ]
    },
    {
      "cell_type": "code",
      "metadata": {
        "id": "QfxXdLLtTgpV"
      },
      "source": [
        "### change to dateime\n",
        "df_UNI.index=pd.to_datetime(df_UNI['time'])\n",
        "df_BAL.index=pd.to_datetime(df_BAL['time'])\n",
        "df_SUSHI.index=pd.to_datetime(df_SUSHI['time'])"
      ],
      "execution_count": 439,
      "outputs": []
    },
    {
      "cell_type": "code",
      "metadata": {
        "colab": {
          "base_uri": "https://localhost:8080/",
          "height": 237
        },
        "id": "d5wN8bblTtBR",
        "outputId": "f673ca28-7e1e-4ce3-d329-60b1e09552a9"
      },
      "source": [
        "df_UNI=df_UNI.loc[start_date:end_date]\n",
        "df_BAL=df_BAL.loc[start_date:end_date]\n",
        "df_SUSHI=df_SUSHI.loc[start_date:end_date]\n",
        "df_SUSHI.head()"
      ],
      "execution_count": 440,
      "outputs": [
        {
          "output_type": "execute_result",
          "data": {
            "text/html": [
              "<div>\n",
              "<style scoped>\n",
              "    .dataframe tbody tr th:only-of-type {\n",
              "        vertical-align: middle;\n",
              "    }\n",
              "\n",
              "    .dataframe tbody tr th {\n",
              "        vertical-align: top;\n",
              "    }\n",
              "\n",
              "    .dataframe thead th {\n",
              "        text-align: right;\n",
              "    }\n",
              "</style>\n",
              "<table border=\"1\" class=\"dataframe\">\n",
              "  <thead>\n",
              "    <tr style=\"text-align: right;\">\n",
              "      <th></th>\n",
              "      <th>time</th>\n",
              "      <th>AdrBalCnt</th>\n",
              "      <th>CapMrktCurUSD</th>\n",
              "      <th>NVTAdj90</th>\n",
              "      <th>PriceUSD</th>\n",
              "      <th>TxTfrValAdjUSD</th>\n",
              "      <th>VtyDayRet180d</th>\n",
              "      <th>assets</th>\n",
              "      <th>Type</th>\n",
              "    </tr>\n",
              "    <tr>\n",
              "      <th>time</th>\n",
              "      <th></th>\n",
              "      <th></th>\n",
              "      <th></th>\n",
              "      <th></th>\n",
              "      <th></th>\n",
              "      <th></th>\n",
              "      <th></th>\n",
              "      <th></th>\n",
              "      <th></th>\n",
              "    </tr>\n",
              "  </thead>\n",
              "  <tbody>\n",
              "    <tr>\n",
              "      <th>2021-04-01</th>\n",
              "      <td>2021-04-01</td>\n",
              "      <td>42035.0</td>\n",
              "      <td>3.133542e+09</td>\n",
              "      <td>12.738622</td>\n",
              "      <td>14.857685</td>\n",
              "      <td>1.176943e+08</td>\n",
              "      <td>0.095306</td>\n",
              "      <td>SUSHI</td>\n",
              "      <td>Exchange</td>\n",
              "    </tr>\n",
              "    <tr>\n",
              "      <th>2021-04-02</th>\n",
              "      <td>2021-04-02</td>\n",
              "      <td>42201.0</td>\n",
              "      <td>3.465311e+09</td>\n",
              "      <td>14.060637</td>\n",
              "      <td>16.423689</td>\n",
              "      <td>1.161426e+08</td>\n",
              "      <td>0.094271</td>\n",
              "      <td>SUSHI</td>\n",
              "      <td>Exchange</td>\n",
              "    </tr>\n",
              "    <tr>\n",
              "      <th>2021-04-03</th>\n",
              "      <td>2021-04-03</td>\n",
              "      <td>42264.0</td>\n",
              "      <td>3.157829e+09</td>\n",
              "      <td>12.840046</td>\n",
              "      <td>14.959856</td>\n",
              "      <td>1.337408e+08</td>\n",
              "      <td>0.094543</td>\n",
              "      <td>SUSHI</td>\n",
              "      <td>Exchange</td>\n",
              "    </tr>\n",
              "    <tr>\n",
              "      <th>2021-04-04</th>\n",
              "      <td>2021-04-04</td>\n",
              "      <td>42522.0</td>\n",
              "      <td>3.232965e+09</td>\n",
              "      <td>13.287099</td>\n",
              "      <td>15.257478</td>\n",
              "      <td>9.613648e+07</td>\n",
              "      <td>0.091868</td>\n",
              "      <td>SUSHI</td>\n",
              "      <td>Exchange</td>\n",
              "    </tr>\n",
              "    <tr>\n",
              "      <th>2021-04-05</th>\n",
              "      <td>2021-04-05</td>\n",
              "      <td>42734.0</td>\n",
              "      <td>3.192607e+09</td>\n",
              "      <td>12.733268</td>\n",
              "      <td>15.052215</td>\n",
              "      <td>9.096672e+08</td>\n",
              "      <td>0.091895</td>\n",
              "      <td>SUSHI</td>\n",
              "      <td>Exchange</td>\n",
              "    </tr>\n",
              "  </tbody>\n",
              "</table>\n",
              "</div>"
            ],
            "text/plain": [
              "                  time  AdrBalCnt  ...  assets      Type\n",
              "time                               ...                  \n",
              "2021-04-01  2021-04-01    42035.0  ...   SUSHI  Exchange\n",
              "2021-04-02  2021-04-02    42201.0  ...   SUSHI  Exchange\n",
              "2021-04-03  2021-04-03    42264.0  ...   SUSHI  Exchange\n",
              "2021-04-04  2021-04-04    42522.0  ...   SUSHI  Exchange\n",
              "2021-04-05  2021-04-05    42734.0  ...   SUSHI  Exchange\n",
              "\n",
              "[5 rows x 9 columns]"
            ]
          },
          "metadata": {
            "tags": []
          },
          "execution_count": 440
        }
      ]
    },
    {
      "cell_type": "code",
      "metadata": {
        "colab": {
          "base_uri": "https://localhost:8080/",
          "height": 237
        },
        "id": "G2iZkfWRT0rA",
        "outputId": "30425fce-705d-468b-8e74-27972675a46c"
      },
      "source": [
        "df_BAL.head()"
      ],
      "execution_count": 441,
      "outputs": [
        {
          "output_type": "execute_result",
          "data": {
            "text/html": [
              "<div>\n",
              "<style scoped>\n",
              "    .dataframe tbody tr th:only-of-type {\n",
              "        vertical-align: middle;\n",
              "    }\n",
              "\n",
              "    .dataframe tbody tr th {\n",
              "        vertical-align: top;\n",
              "    }\n",
              "\n",
              "    .dataframe thead th {\n",
              "        text-align: right;\n",
              "    }\n",
              "</style>\n",
              "<table border=\"1\" class=\"dataframe\">\n",
              "  <thead>\n",
              "    <tr style=\"text-align: right;\">\n",
              "      <th></th>\n",
              "      <th>time</th>\n",
              "      <th>AdrBalCnt</th>\n",
              "      <th>CapMrktCurUSD</th>\n",
              "      <th>NVTAdj90</th>\n",
              "      <th>PriceUSD</th>\n",
              "      <th>TxTfrValAdjUSD</th>\n",
              "      <th>VtyDayRet180d</th>\n",
              "      <th>assets</th>\n",
              "      <th>Type</th>\n",
              "    </tr>\n",
              "    <tr>\n",
              "      <th>time</th>\n",
              "      <th></th>\n",
              "      <th></th>\n",
              "      <th></th>\n",
              "      <th></th>\n",
              "      <th></th>\n",
              "      <th></th>\n",
              "      <th></th>\n",
              "      <th></th>\n",
              "      <th></th>\n",
              "    </tr>\n",
              "  </thead>\n",
              "  <tbody>\n",
              "    <tr>\n",
              "      <th>2021-04-01</th>\n",
              "      <td>2021-04-01</td>\n",
              "      <td>32015.0</td>\n",
              "      <td>2.306351e+09</td>\n",
              "      <td>78.089489</td>\n",
              "      <td>55.931867</td>\n",
              "      <td>2.024370e+07</td>\n",
              "      <td>0.069201</td>\n",
              "      <td>BAL</td>\n",
              "      <td>Exchange</td>\n",
              "    </tr>\n",
              "    <tr>\n",
              "      <th>2021-04-02</th>\n",
              "      <td>2021-04-02</td>\n",
              "      <td>32038.0</td>\n",
              "      <td>2.520900e+09</td>\n",
              "      <td>84.650732</td>\n",
              "      <td>61.134950</td>\n",
              "      <td>2.845762e+07</td>\n",
              "      <td>0.069470</td>\n",
              "      <td>BAL</td>\n",
              "      <td>Exchange</td>\n",
              "    </tr>\n",
              "    <tr>\n",
              "      <th>2021-04-03</th>\n",
              "      <td>2021-04-03</td>\n",
              "      <td>32273.0</td>\n",
              "      <td>2.353122e+09</td>\n",
              "      <td>78.483466</td>\n",
              "      <td>57.066145</td>\n",
              "      <td>3.137485e+07</td>\n",
              "      <td>0.069666</td>\n",
              "      <td>BAL</td>\n",
              "      <td>Exchange</td>\n",
              "    </tr>\n",
              "    <tr>\n",
              "      <th>2021-04-04</th>\n",
              "      <td>2021-04-04</td>\n",
              "      <td>32717.0</td>\n",
              "      <td>2.442396e+09</td>\n",
              "      <td>81.467297</td>\n",
              "      <td>59.231131</td>\n",
              "      <td>1.124230e+07</td>\n",
              "      <td>0.068831</td>\n",
              "      <td>BAL</td>\n",
              "      <td>Exchange</td>\n",
              "    </tr>\n",
              "    <tr>\n",
              "      <th>2021-04-05</th>\n",
              "      <td>2021-04-05</td>\n",
              "      <td>32849.0</td>\n",
              "      <td>2.454224e+09</td>\n",
              "      <td>81.888236</td>\n",
              "      <td>59.517977</td>\n",
              "      <td>1.296849e+07</td>\n",
              "      <td>0.068815</td>\n",
              "      <td>BAL</td>\n",
              "      <td>Exchange</td>\n",
              "    </tr>\n",
              "  </tbody>\n",
              "</table>\n",
              "</div>"
            ],
            "text/plain": [
              "                  time  AdrBalCnt  ...  assets      Type\n",
              "time                               ...                  \n",
              "2021-04-01  2021-04-01    32015.0  ...     BAL  Exchange\n",
              "2021-04-02  2021-04-02    32038.0  ...     BAL  Exchange\n",
              "2021-04-03  2021-04-03    32273.0  ...     BAL  Exchange\n",
              "2021-04-04  2021-04-04    32717.0  ...     BAL  Exchange\n",
              "2021-04-05  2021-04-05    32849.0  ...     BAL  Exchange\n",
              "\n",
              "[5 rows x 9 columns]"
            ]
          },
          "metadata": {
            "tags": []
          },
          "execution_count": 441
        }
      ]
    },
    {
      "cell_type": "code",
      "metadata": {
        "colab": {
          "base_uri": "https://localhost:8080/",
          "height": 237
        },
        "id": "YXpFzknwT6b1",
        "outputId": "964a8d3b-04a8-4ae9-9c81-99511b82a823"
      },
      "source": [
        "df_UNI.head()"
      ],
      "execution_count": 442,
      "outputs": [
        {
          "output_type": "execute_result",
          "data": {
            "text/html": [
              "<div>\n",
              "<style scoped>\n",
              "    .dataframe tbody tr th:only-of-type {\n",
              "        vertical-align: middle;\n",
              "    }\n",
              "\n",
              "    .dataframe tbody tr th {\n",
              "        vertical-align: top;\n",
              "    }\n",
              "\n",
              "    .dataframe thead th {\n",
              "        text-align: right;\n",
              "    }\n",
              "</style>\n",
              "<table border=\"1\" class=\"dataframe\">\n",
              "  <thead>\n",
              "    <tr style=\"text-align: right;\">\n",
              "      <th></th>\n",
              "      <th>time</th>\n",
              "      <th>AdrBalCnt</th>\n",
              "      <th>CapMrktCurUSD</th>\n",
              "      <th>NVTAdj90</th>\n",
              "      <th>PriceUSD</th>\n",
              "      <th>TxTfrValAdjUSD</th>\n",
              "      <th>VtyDayRet180d</th>\n",
              "      <th>assets</th>\n",
              "      <th>Type</th>\n",
              "    </tr>\n",
              "    <tr>\n",
              "      <th>time</th>\n",
              "      <th></th>\n",
              "      <th></th>\n",
              "      <th></th>\n",
              "      <th></th>\n",
              "      <th></th>\n",
              "      <th></th>\n",
              "      <th></th>\n",
              "      <th></th>\n",
              "      <th></th>\n",
              "    </tr>\n",
              "  </thead>\n",
              "  <tbody>\n",
              "    <tr>\n",
              "      <th>2021-04-01</th>\n",
              "      <td>2021-04-01</td>\n",
              "      <td>200267.0</td>\n",
              "      <td>2.874230e+10</td>\n",
              "      <td>91.418201</td>\n",
              "      <td>28.742296</td>\n",
              "      <td>1.965691e+08</td>\n",
              "      <td>0.081811</td>\n",
              "      <td>UNI</td>\n",
              "      <td>Exchange</td>\n",
              "    </tr>\n",
              "    <tr>\n",
              "      <th>2021-04-02</th>\n",
              "      <td>2021-04-02</td>\n",
              "      <td>201023.0</td>\n",
              "      <td>3.008400e+10</td>\n",
              "      <td>94.002178</td>\n",
              "      <td>30.083999</td>\n",
              "      <td>5.783892e+08</td>\n",
              "      <td>0.081729</td>\n",
              "      <td>UNI</td>\n",
              "      <td>Exchange</td>\n",
              "    </tr>\n",
              "    <tr>\n",
              "      <th>2021-04-03</th>\n",
              "      <td>2021-04-03</td>\n",
              "      <td>201952.0</td>\n",
              "      <td>2.976826e+10</td>\n",
              "      <td>92.828906</td>\n",
              "      <td>29.768256</td>\n",
              "      <td>1.293643e+08</td>\n",
              "      <td>0.081149</td>\n",
              "      <td>UNI</td>\n",
              "      <td>Exchange</td>\n",
              "    </tr>\n",
              "    <tr>\n",
              "      <th>2021-04-04</th>\n",
              "      <td>2021-04-04</td>\n",
              "      <td>202801.0</td>\n",
              "      <td>3.105284e+10</td>\n",
              "      <td>96.872528</td>\n",
              "      <td>31.052837</td>\n",
              "      <td>7.002079e+07</td>\n",
              "      <td>0.079586</td>\n",
              "      <td>UNI</td>\n",
              "      <td>Exchange</td>\n",
              "    </tr>\n",
              "    <tr>\n",
              "      <th>2021-04-05</th>\n",
              "      <td>2021-04-05</td>\n",
              "      <td>203853.0</td>\n",
              "      <td>3.070461e+10</td>\n",
              "      <td>95.513181</td>\n",
              "      <td>30.704613</td>\n",
              "      <td>1.606102e+08</td>\n",
              "      <td>0.079389</td>\n",
              "      <td>UNI</td>\n",
              "      <td>Exchange</td>\n",
              "    </tr>\n",
              "  </tbody>\n",
              "</table>\n",
              "</div>"
            ],
            "text/plain": [
              "                  time  AdrBalCnt  ...  assets      Type\n",
              "time                               ...                  \n",
              "2021-04-01  2021-04-01   200267.0  ...     UNI  Exchange\n",
              "2021-04-02  2021-04-02   201023.0  ...     UNI  Exchange\n",
              "2021-04-03  2021-04-03   201952.0  ...     UNI  Exchange\n",
              "2021-04-04  2021-04-04   202801.0  ...     UNI  Exchange\n",
              "2021-04-05  2021-04-05   203853.0  ...     UNI  Exchange\n",
              "\n",
              "[5 rows x 9 columns]"
            ]
          },
          "metadata": {
            "tags": []
          },
          "execution_count": 442
        }
      ]
    },
    {
      "cell_type": "markdown",
      "metadata": {
        "id": "cfb1kVVlT--v"
      },
      "source": [
        "## Concate the data\n",
        "\n",
        "https://pandas.pydata.org/pandas-docs/stable/user_guide/merging.html"
      ]
    },
    {
      "cell_type": "code",
      "metadata": {
        "colab": {
          "base_uri": "https://localhost:8080/",
          "height": 206
        },
        "id": "xcwtAPrDUMRk",
        "outputId": "d8fc3a8d-9d4b-4150-cbf4-42a8be31a3f3"
      },
      "source": [
        "frames = [df_COMP, df_AAVE, df_MKR,df_UNI,df_BAL, df_SUSHI]\n",
        "df = pd.concat(frames, ignore_index=True)\n",
        "df.head()"
      ],
      "execution_count": 443,
      "outputs": [
        {
          "output_type": "execute_result",
          "data": {
            "text/html": [
              "<div>\n",
              "<style scoped>\n",
              "    .dataframe tbody tr th:only-of-type {\n",
              "        vertical-align: middle;\n",
              "    }\n",
              "\n",
              "    .dataframe tbody tr th {\n",
              "        vertical-align: top;\n",
              "    }\n",
              "\n",
              "    .dataframe thead th {\n",
              "        text-align: right;\n",
              "    }\n",
              "</style>\n",
              "<table border=\"1\" class=\"dataframe\">\n",
              "  <thead>\n",
              "    <tr style=\"text-align: right;\">\n",
              "      <th></th>\n",
              "      <th>time</th>\n",
              "      <th>AdrBalCnt</th>\n",
              "      <th>CapMrktCurUSD</th>\n",
              "      <th>NVTAdj90</th>\n",
              "      <th>PriceUSD</th>\n",
              "      <th>TxTfrValAdjUSD</th>\n",
              "      <th>VtyDayRet180d</th>\n",
              "      <th>assets</th>\n",
              "      <th>Type</th>\n",
              "    </tr>\n",
              "  </thead>\n",
              "  <tbody>\n",
              "    <tr>\n",
              "      <th>0</th>\n",
              "      <td>2021-04-01</td>\n",
              "      <td>147169.0</td>\n",
              "      <td>4.516086e+09</td>\n",
              "      <td>83.888626</td>\n",
              "      <td>451.608649</td>\n",
              "      <td>9.744422e+07</td>\n",
              "      <td>0.068365</td>\n",
              "      <td>COMP</td>\n",
              "      <td>Lending</td>\n",
              "    </tr>\n",
              "    <tr>\n",
              "      <th>1</th>\n",
              "      <td>2021-04-02</td>\n",
              "      <td>147452.0</td>\n",
              "      <td>4.878642e+09</td>\n",
              "      <td>89.929280</td>\n",
              "      <td>487.864193</td>\n",
              "      <td>6.023612e+07</td>\n",
              "      <td>0.068531</td>\n",
              "      <td>COMP</td>\n",
              "      <td>Lending</td>\n",
              "    </tr>\n",
              "    <tr>\n",
              "      <th>2</th>\n",
              "      <td>2021-04-03</td>\n",
              "      <td>147787.0</td>\n",
              "      <td>4.815246e+09</td>\n",
              "      <td>87.049910</td>\n",
              "      <td>481.524627</td>\n",
              "      <td>1.134689e+08</td>\n",
              "      <td>0.068541</td>\n",
              "      <td>COMP</td>\n",
              "      <td>Lending</td>\n",
              "    </tr>\n",
              "    <tr>\n",
              "      <th>3</th>\n",
              "      <td>2021-04-04</td>\n",
              "      <td>148327.0</td>\n",
              "      <td>5.485351e+09</td>\n",
              "      <td>98.138936</td>\n",
              "      <td>548.535112</td>\n",
              "      <td>1.366604e+08</td>\n",
              "      <td>0.068097</td>\n",
              "      <td>COMP</td>\n",
              "      <td>Lending</td>\n",
              "    </tr>\n",
              "    <tr>\n",
              "      <th>4</th>\n",
              "      <td>2021-04-05</td>\n",
              "      <td>148765.0</td>\n",
              "      <td>5.099802e+09</td>\n",
              "      <td>89.938383</td>\n",
              "      <td>509.980184</td>\n",
              "      <td>9.170103e+07</td>\n",
              "      <td>0.068320</td>\n",
              "      <td>COMP</td>\n",
              "      <td>Lending</td>\n",
              "    </tr>\n",
              "  </tbody>\n",
              "</table>\n",
              "</div>"
            ],
            "text/plain": [
              "         time  AdrBalCnt  CapMrktCurUSD  ...  VtyDayRet180d  assets     Type\n",
              "0  2021-04-01   147169.0   4.516086e+09  ...       0.068365    COMP  Lending\n",
              "1  2021-04-02   147452.0   4.878642e+09  ...       0.068531    COMP  Lending\n",
              "2  2021-04-03   147787.0   4.815246e+09  ...       0.068541    COMP  Lending\n",
              "3  2021-04-04   148327.0   5.485351e+09  ...       0.068097    COMP  Lending\n",
              "4  2021-04-05   148765.0   5.099802e+09  ...       0.068320    COMP  Lending\n",
              "\n",
              "[5 rows x 9 columns]"
            ]
          },
          "metadata": {
            "tags": []
          },
          "execution_count": 443
        }
      ]
    },
    {
      "cell_type": "code",
      "metadata": {
        "id": "4qzyZEG7kWwt"
      },
      "source": [
        "df['date']=pd.to_datetime(df['time'])"
      ],
      "execution_count": 444,
      "outputs": []
    },
    {
      "cell_type": "code",
      "metadata": {
        "colab": {
          "base_uri": "https://localhost:8080/",
          "height": 206
        },
        "id": "S5kcXGjDjfqo",
        "outputId": "d8bd81ff-a208-4cc0-e059-ecfbf693016c"
      },
      "source": [
        "df['Month'] =df['date'].apply(lambda x: x.strftime('%b') )\n",
        "df['Month']=df['Month'].apply(lambda x: 4 if x=='Apr' else 5 )\n",
        "df.head()"
      ],
      "execution_count": 445,
      "outputs": [
        {
          "output_type": "execute_result",
          "data": {
            "text/html": [
              "<div>\n",
              "<style scoped>\n",
              "    .dataframe tbody tr th:only-of-type {\n",
              "        vertical-align: middle;\n",
              "    }\n",
              "\n",
              "    .dataframe tbody tr th {\n",
              "        vertical-align: top;\n",
              "    }\n",
              "\n",
              "    .dataframe thead th {\n",
              "        text-align: right;\n",
              "    }\n",
              "</style>\n",
              "<table border=\"1\" class=\"dataframe\">\n",
              "  <thead>\n",
              "    <tr style=\"text-align: right;\">\n",
              "      <th></th>\n",
              "      <th>time</th>\n",
              "      <th>AdrBalCnt</th>\n",
              "      <th>CapMrktCurUSD</th>\n",
              "      <th>NVTAdj90</th>\n",
              "      <th>PriceUSD</th>\n",
              "      <th>TxTfrValAdjUSD</th>\n",
              "      <th>VtyDayRet180d</th>\n",
              "      <th>assets</th>\n",
              "      <th>Type</th>\n",
              "      <th>date</th>\n",
              "      <th>Month</th>\n",
              "    </tr>\n",
              "  </thead>\n",
              "  <tbody>\n",
              "    <tr>\n",
              "      <th>0</th>\n",
              "      <td>2021-04-01</td>\n",
              "      <td>147169.0</td>\n",
              "      <td>4.516086e+09</td>\n",
              "      <td>83.888626</td>\n",
              "      <td>451.608649</td>\n",
              "      <td>9.744422e+07</td>\n",
              "      <td>0.068365</td>\n",
              "      <td>COMP</td>\n",
              "      <td>Lending</td>\n",
              "      <td>2021-04-01</td>\n",
              "      <td>4</td>\n",
              "    </tr>\n",
              "    <tr>\n",
              "      <th>1</th>\n",
              "      <td>2021-04-02</td>\n",
              "      <td>147452.0</td>\n",
              "      <td>4.878642e+09</td>\n",
              "      <td>89.929280</td>\n",
              "      <td>487.864193</td>\n",
              "      <td>6.023612e+07</td>\n",
              "      <td>0.068531</td>\n",
              "      <td>COMP</td>\n",
              "      <td>Lending</td>\n",
              "      <td>2021-04-02</td>\n",
              "      <td>4</td>\n",
              "    </tr>\n",
              "    <tr>\n",
              "      <th>2</th>\n",
              "      <td>2021-04-03</td>\n",
              "      <td>147787.0</td>\n",
              "      <td>4.815246e+09</td>\n",
              "      <td>87.049910</td>\n",
              "      <td>481.524627</td>\n",
              "      <td>1.134689e+08</td>\n",
              "      <td>0.068541</td>\n",
              "      <td>COMP</td>\n",
              "      <td>Lending</td>\n",
              "      <td>2021-04-03</td>\n",
              "      <td>4</td>\n",
              "    </tr>\n",
              "    <tr>\n",
              "      <th>3</th>\n",
              "      <td>2021-04-04</td>\n",
              "      <td>148327.0</td>\n",
              "      <td>5.485351e+09</td>\n",
              "      <td>98.138936</td>\n",
              "      <td>548.535112</td>\n",
              "      <td>1.366604e+08</td>\n",
              "      <td>0.068097</td>\n",
              "      <td>COMP</td>\n",
              "      <td>Lending</td>\n",
              "      <td>2021-04-04</td>\n",
              "      <td>4</td>\n",
              "    </tr>\n",
              "    <tr>\n",
              "      <th>4</th>\n",
              "      <td>2021-04-05</td>\n",
              "      <td>148765.0</td>\n",
              "      <td>5.099802e+09</td>\n",
              "      <td>89.938383</td>\n",
              "      <td>509.980184</td>\n",
              "      <td>9.170103e+07</td>\n",
              "      <td>0.068320</td>\n",
              "      <td>COMP</td>\n",
              "      <td>Lending</td>\n",
              "      <td>2021-04-05</td>\n",
              "      <td>4</td>\n",
              "    </tr>\n",
              "  </tbody>\n",
              "</table>\n",
              "</div>"
            ],
            "text/plain": [
              "         time  AdrBalCnt  CapMrktCurUSD  ...     Type       date  Month\n",
              "0  2021-04-01   147169.0   4.516086e+09  ...  Lending 2021-04-01      4\n",
              "1  2021-04-02   147452.0   4.878642e+09  ...  Lending 2021-04-02      4\n",
              "2  2021-04-03   147787.0   4.815246e+09  ...  Lending 2021-04-03      4\n",
              "3  2021-04-04   148327.0   5.485351e+09  ...  Lending 2021-04-04      4\n",
              "4  2021-04-05   148765.0   5.099802e+09  ...  Lending 2021-04-05      4\n",
              "\n",
              "[5 rows x 11 columns]"
            ]
          },
          "metadata": {
            "tags": []
          },
          "execution_count": 445
        }
      ]
    },
    {
      "cell_type": "markdown",
      "metadata": {
        "id": "xK4kg2Z6tFX3"
      },
      "source": [
        "# Dummy Variables"
      ]
    },
    {
      "cell_type": "markdown",
      "metadata": {
        "id": "IQyq5MuNQmAo"
      },
      "source": [
        "https://towardsdatascience.com/a-guide-to-panel-data-regression-theoretics-and-implementation-with-python-4c84c5055cf8"
      ]
    },
    {
      "cell_type": "code",
      "metadata": {
        "colab": {
          "base_uri": "https://localhost:8080/",
          "height": 206
        },
        "id": "DIAwyBwyQkwZ",
        "outputId": "5bf7c032-c0f7-4133-e5d0-77962812e5e4"
      },
      "source": [
        "df['Lending']=df['Type'].apply(lambda x: 1 if x=='Lending' else 0)\n",
        "df.head()"
      ],
      "execution_count": 446,
      "outputs": [
        {
          "output_type": "execute_result",
          "data": {
            "text/html": [
              "<div>\n",
              "<style scoped>\n",
              "    .dataframe tbody tr th:only-of-type {\n",
              "        vertical-align: middle;\n",
              "    }\n",
              "\n",
              "    .dataframe tbody tr th {\n",
              "        vertical-align: top;\n",
              "    }\n",
              "\n",
              "    .dataframe thead th {\n",
              "        text-align: right;\n",
              "    }\n",
              "</style>\n",
              "<table border=\"1\" class=\"dataframe\">\n",
              "  <thead>\n",
              "    <tr style=\"text-align: right;\">\n",
              "      <th></th>\n",
              "      <th>time</th>\n",
              "      <th>AdrBalCnt</th>\n",
              "      <th>CapMrktCurUSD</th>\n",
              "      <th>NVTAdj90</th>\n",
              "      <th>PriceUSD</th>\n",
              "      <th>TxTfrValAdjUSD</th>\n",
              "      <th>VtyDayRet180d</th>\n",
              "      <th>assets</th>\n",
              "      <th>Type</th>\n",
              "      <th>date</th>\n",
              "      <th>Month</th>\n",
              "      <th>Lending</th>\n",
              "    </tr>\n",
              "  </thead>\n",
              "  <tbody>\n",
              "    <tr>\n",
              "      <th>0</th>\n",
              "      <td>2021-04-01</td>\n",
              "      <td>147169.0</td>\n",
              "      <td>4.516086e+09</td>\n",
              "      <td>83.888626</td>\n",
              "      <td>451.608649</td>\n",
              "      <td>9.744422e+07</td>\n",
              "      <td>0.068365</td>\n",
              "      <td>COMP</td>\n",
              "      <td>Lending</td>\n",
              "      <td>2021-04-01</td>\n",
              "      <td>4</td>\n",
              "      <td>1</td>\n",
              "    </tr>\n",
              "    <tr>\n",
              "      <th>1</th>\n",
              "      <td>2021-04-02</td>\n",
              "      <td>147452.0</td>\n",
              "      <td>4.878642e+09</td>\n",
              "      <td>89.929280</td>\n",
              "      <td>487.864193</td>\n",
              "      <td>6.023612e+07</td>\n",
              "      <td>0.068531</td>\n",
              "      <td>COMP</td>\n",
              "      <td>Lending</td>\n",
              "      <td>2021-04-02</td>\n",
              "      <td>4</td>\n",
              "      <td>1</td>\n",
              "    </tr>\n",
              "    <tr>\n",
              "      <th>2</th>\n",
              "      <td>2021-04-03</td>\n",
              "      <td>147787.0</td>\n",
              "      <td>4.815246e+09</td>\n",
              "      <td>87.049910</td>\n",
              "      <td>481.524627</td>\n",
              "      <td>1.134689e+08</td>\n",
              "      <td>0.068541</td>\n",
              "      <td>COMP</td>\n",
              "      <td>Lending</td>\n",
              "      <td>2021-04-03</td>\n",
              "      <td>4</td>\n",
              "      <td>1</td>\n",
              "    </tr>\n",
              "    <tr>\n",
              "      <th>3</th>\n",
              "      <td>2021-04-04</td>\n",
              "      <td>148327.0</td>\n",
              "      <td>5.485351e+09</td>\n",
              "      <td>98.138936</td>\n",
              "      <td>548.535112</td>\n",
              "      <td>1.366604e+08</td>\n",
              "      <td>0.068097</td>\n",
              "      <td>COMP</td>\n",
              "      <td>Lending</td>\n",
              "      <td>2021-04-04</td>\n",
              "      <td>4</td>\n",
              "      <td>1</td>\n",
              "    </tr>\n",
              "    <tr>\n",
              "      <th>4</th>\n",
              "      <td>2021-04-05</td>\n",
              "      <td>148765.0</td>\n",
              "      <td>5.099802e+09</td>\n",
              "      <td>89.938383</td>\n",
              "      <td>509.980184</td>\n",
              "      <td>9.170103e+07</td>\n",
              "      <td>0.068320</td>\n",
              "      <td>COMP</td>\n",
              "      <td>Lending</td>\n",
              "      <td>2021-04-05</td>\n",
              "      <td>4</td>\n",
              "      <td>1</td>\n",
              "    </tr>\n",
              "  </tbody>\n",
              "</table>\n",
              "</div>"
            ],
            "text/plain": [
              "         time  AdrBalCnt  CapMrktCurUSD  ...       date  Month  Lending\n",
              "0  2021-04-01   147169.0   4.516086e+09  ... 2021-04-01      4        1\n",
              "1  2021-04-02   147452.0   4.878642e+09  ... 2021-04-02      4        1\n",
              "2  2021-04-03   147787.0   4.815246e+09  ... 2021-04-03      4        1\n",
              "3  2021-04-04   148327.0   5.485351e+09  ... 2021-04-04      4        1\n",
              "4  2021-04-05   148765.0   5.099802e+09  ... 2021-04-05      4        1\n",
              "\n",
              "[5 rows x 12 columns]"
            ]
          },
          "metadata": {
            "tags": []
          },
          "execution_count": 446
        }
      ]
    },
    {
      "cell_type": "code",
      "metadata": {
        "colab": {
          "base_uri": "https://localhost:8080/",
          "height": 542
        },
        "id": "GmUMX_r_Vpi-",
        "outputId": "3691651e-c25f-468f-acb2-331eb2b9e667"
      },
      "source": [
        "import plotly.express as px\n",
        "fig = px.line(df, x=\"time\", y=\"AdrBalCnt\", color=\"Type\", line_group=\"assets\", hover_name=\"assets\",\n",
        "        line_shape=\"spline\", render_mode=\"svg\")\n",
        "fig.show()"
      ],
      "execution_count": 447,
      "outputs": [
        {
          "output_type": "display_data",
          "data": {
            "text/html": [
              "<html>\n",
              "<head><meta charset=\"utf-8\" /></head>\n",
              "<body>\n",
              "    <div>\n",
              "            <script src=\"https://cdnjs.cloudflare.com/ajax/libs/mathjax/2.7.5/MathJax.js?config=TeX-AMS-MML_SVG\"></script><script type=\"text/javascript\">if (window.MathJax) {MathJax.Hub.Config({SVG: {font: \"STIX-Web\"}});}</script>\n",
              "                <script type=\"text/javascript\">window.PlotlyConfig = {MathJaxConfig: 'local'};</script>\n",
              "        <script src=\"https://cdn.plot.ly/plotly-latest.min.js\"></script>    \n",
              "            <div id=\"f47758d7-47fe-475e-b2fb-6a97f48a95a8\" class=\"plotly-graph-div\" style=\"height:525px; width:100%;\"></div>\n",
              "            <script type=\"text/javascript\">\n",
              "                \n",
              "                    window.PLOTLYENV=window.PLOTLYENV || {};\n",
              "                    \n",
              "                if (document.getElementById(\"f47758d7-47fe-475e-b2fb-6a97f48a95a8\")) {\n",
              "                    Plotly.newPlot(\n",
              "                        'f47758d7-47fe-475e-b2fb-6a97f48a95a8',\n",
              "                        [{\"hoverlabel\": {\"namelength\": 0}, \"hovertemplate\": \"<b>%{hovertext}</b><br><br>Type=Lending<br>assets=COMP<br>time=%{x}<br>AdrBalCnt=%{y}\", \"hovertext\": [\"COMP\", \"COMP\", \"COMP\", \"COMP\", \"COMP\", \"COMP\", \"COMP\", \"COMP\", \"COMP\", \"COMP\", \"COMP\", \"COMP\", \"COMP\", \"COMP\", \"COMP\", \"COMP\", \"COMP\", \"COMP\", \"COMP\", \"COMP\", \"COMP\", \"COMP\", \"COMP\", \"COMP\", \"COMP\", \"COMP\", \"COMP\", \"COMP\", \"COMP\", \"COMP\", \"COMP\", \"COMP\", \"COMP\", \"COMP\", \"COMP\", \"COMP\", \"COMP\", \"COMP\", \"COMP\", \"COMP\", \"COMP\", \"COMP\", \"COMP\", \"COMP\", \"COMP\", \"COMP\", \"COMP\", \"COMP\", \"COMP\", \"COMP\", \"COMP\", \"COMP\", \"COMP\", \"COMP\", \"COMP\", \"COMP\", \"COMP\", \"COMP\", \"COMP\", \"COMP\", \"COMP\"], \"legendgroup\": \"Type=Lending\", \"line\": {\"color\": \"#636efa\", \"dash\": \"solid\", \"shape\": \"spline\"}, \"mode\": \"lines\", \"name\": \"Type=Lending\", \"showlegend\": true, \"type\": \"scatter\", \"x\": [\"2021-04-01\", \"2021-04-02\", \"2021-04-03\", \"2021-04-04\", \"2021-04-05\", \"2021-04-06\", \"2021-04-07\", \"2021-04-08\", \"2021-04-09\", \"2021-04-10\", \"2021-04-11\", \"2021-04-12\", \"2021-04-13\", \"2021-04-14\", \"2021-04-15\", \"2021-04-16\", \"2021-04-17\", \"2021-04-18\", \"2021-04-19\", \"2021-04-20\", \"2021-04-21\", \"2021-04-22\", \"2021-04-23\", \"2021-04-24\", \"2021-04-25\", \"2021-04-26\", \"2021-04-27\", \"2021-04-28\", \"2021-04-29\", \"2021-04-30\", \"2021-05-01\", \"2021-05-02\", \"2021-05-03\", \"2021-05-04\", \"2021-05-05\", \"2021-05-06\", \"2021-05-07\", \"2021-05-08\", \"2021-05-09\", \"2021-05-10\", \"2021-05-11\", \"2021-05-12\", \"2021-05-13\", \"2021-05-14\", \"2021-05-15\", \"2021-05-16\", \"2021-05-17\", \"2021-05-18\", \"2021-05-19\", \"2021-05-20\", \"2021-05-21\", \"2021-05-22\", \"2021-05-23\", \"2021-05-24\", \"2021-05-25\", \"2021-05-26\", \"2021-05-27\", \"2021-05-28\", \"2021-05-29\", \"2021-05-30\", \"2021-05-31\"], \"xaxis\": \"x\", \"y\": [147169.0, 147452.0, 147787.0, 148327.0, 148765.0, 149140.0, 149451.0, 149782.0, 150141.0, 150566.0, 151099.0, 151541.0, 151980.0, 152363.0, 152577.0, 153071.0, 153384.0, 153712.0, 154080.0, 154386.0, 154629.0, 154948.0, 155301.0, 155077.0, 155680.0, 156346.0, 157014.0, 157440.0, 157797.0, 157432.0, 157835.0, 158195.0, 158735.0, 159290.0, 159837.0, 160382.0, 160992.0, 161508.0, 161852.0, 162284.0, 162658.0, 162905.0, 162972.0, 162805.0, 162999.0, 163246.0, 163370.0, 163662.0, 163836.0, 164033.0, 164299.0, 164579.0, 164760.0, 165078.0, 165366.0, 165692.0, 166044.0, 166285.0, 166379.0, 166634.0, 166928.0], \"yaxis\": \"y\"}, {\"hoverlabel\": {\"namelength\": 0}, \"hovertemplate\": \"<b>%{hovertext}</b><br><br>Type=Lending<br>assets=AAVE<br>time=%{x}<br>AdrBalCnt=%{y}\", \"hovertext\": [\"AAVE\", \"AAVE\", \"AAVE\", \"AAVE\", \"AAVE\", \"AAVE\", \"AAVE\", \"AAVE\", \"AAVE\", \"AAVE\", \"AAVE\", \"AAVE\", \"AAVE\", \"AAVE\", \"AAVE\", \"AAVE\", \"AAVE\", \"AAVE\", \"AAVE\", \"AAVE\", \"AAVE\", \"AAVE\", \"AAVE\", \"AAVE\", \"AAVE\", \"AAVE\", \"AAVE\", \"AAVE\", \"AAVE\", \"AAVE\", \"AAVE\", \"AAVE\", \"AAVE\", \"AAVE\", \"AAVE\", \"AAVE\", \"AAVE\", \"AAVE\", \"AAVE\", \"AAVE\", \"AAVE\", \"AAVE\", \"AAVE\", \"AAVE\", \"AAVE\", \"AAVE\", \"AAVE\", \"AAVE\", \"AAVE\", \"AAVE\", \"AAVE\", \"AAVE\", \"AAVE\", \"AAVE\", \"AAVE\", \"AAVE\", \"AAVE\", \"AAVE\", \"AAVE\", \"AAVE\", \"AAVE\"], \"legendgroup\": \"Type=Lending\", \"line\": {\"color\": \"#636efa\", \"dash\": \"solid\", \"shape\": \"spline\"}, \"mode\": \"lines\", \"name\": \"Type=Lending\", \"showlegend\": false, \"type\": \"scatter\", \"x\": [\"2021-04-01\", \"2021-04-02\", \"2021-04-03\", \"2021-04-04\", \"2021-04-05\", \"2021-04-06\", \"2021-04-07\", \"2021-04-08\", \"2021-04-09\", \"2021-04-10\", \"2021-04-11\", \"2021-04-12\", \"2021-04-13\", \"2021-04-14\", \"2021-04-15\", \"2021-04-16\", \"2021-04-17\", \"2021-04-18\", \"2021-04-19\", \"2021-04-20\", \"2021-04-21\", \"2021-04-22\", \"2021-04-23\", \"2021-04-24\", \"2021-04-25\", \"2021-04-26\", \"2021-04-27\", \"2021-04-28\", \"2021-04-29\", \"2021-04-30\", \"2021-05-01\", \"2021-05-02\", \"2021-05-03\", \"2021-05-04\", \"2021-05-05\", \"2021-05-06\", \"2021-05-07\", \"2021-05-08\", \"2021-05-09\", \"2021-05-10\", \"2021-05-11\", \"2021-05-12\", \"2021-05-13\", \"2021-05-14\", \"2021-05-15\", \"2021-05-16\", \"2021-05-17\", \"2021-05-18\", \"2021-05-19\", \"2021-05-20\", \"2021-05-21\", \"2021-05-22\", \"2021-05-23\", \"2021-05-24\", \"2021-05-25\", \"2021-05-26\", \"2021-05-27\", \"2021-05-28\", \"2021-05-29\", \"2021-05-30\", \"2021-05-31\"], \"xaxis\": \"x\", \"y\": [68034.0, 68361.0, 68643.0, 68997.0, 69382.0, 69645.0, 69932.0, 70245.0, 70496.0, 70775.0, 71067.0, 71517.0, 71517.0, 71923.0, 71846.0, 72109.0, 72311.0, 72667.0, 73037.0, 73398.0, 73163.0, 73348.0, 73659.0, 73664.0, 73954.0, 74179.0, 74510.0, 74416.0, 74578.0, 74742.0, 74713.0, 74724.0, 75048.0, 75270.0, 75573.0, 75930.0, 76167.0, 76565.0, 76758.0, 77143.0, 77446.0, 77921.0, 78191.0, 78483.0, 78592.0, 78765.0, 79112.0, 79634.0, 79947.0, 80122.0, 80266.0, 80353.0, 80527.0, 80851.0, 80980.0, 81191.0, 81285.0, 81413.0, 80519.0, 80637.0, 80729.0], \"yaxis\": \"y\"}, {\"hoverlabel\": {\"namelength\": 0}, \"hovertemplate\": \"<b>%{hovertext}</b><br><br>Type=Lending<br>assets=MKR<br>time=%{x}<br>AdrBalCnt=%{y}\", \"hovertext\": [\"MKR\", \"MKR\", \"MKR\", \"MKR\", \"MKR\", \"MKR\", \"MKR\", \"MKR\", \"MKR\", \"MKR\", \"MKR\", \"MKR\", \"MKR\", \"MKR\", \"MKR\", \"MKR\", \"MKR\", \"MKR\", \"MKR\", \"MKR\", \"MKR\", \"MKR\", \"MKR\", \"MKR\", \"MKR\", \"MKR\", \"MKR\", \"MKR\", \"MKR\", \"MKR\", \"MKR\", \"MKR\", \"MKR\", \"MKR\", \"MKR\", \"MKR\", \"MKR\", \"MKR\", \"MKR\", \"MKR\", \"MKR\", \"MKR\", \"MKR\", \"MKR\", \"MKR\", \"MKR\", \"MKR\", \"MKR\", \"MKR\", \"MKR\", \"MKR\", \"MKR\", \"MKR\", \"MKR\", \"MKR\", \"MKR\", \"MKR\", \"MKR\", \"MKR\", \"MKR\", \"MKR\"], \"legendgroup\": \"Type=Lending\", \"line\": {\"color\": \"#636efa\", \"dash\": \"solid\", \"shape\": \"spline\"}, \"mode\": \"lines\", \"name\": \"Type=Lending\", \"showlegend\": false, \"type\": \"scatter\", \"x\": [\"2021-04-01\", \"2021-04-02\", \"2021-04-03\", \"2021-04-04\", \"2021-04-05\", \"2021-04-06\", \"2021-04-07\", \"2021-04-08\", \"2021-04-09\", \"2021-04-10\", \"2021-04-11\", \"2021-04-12\", \"2021-04-13\", \"2021-04-14\", \"2021-04-15\", \"2021-04-16\", \"2021-04-17\", \"2021-04-18\", \"2021-04-19\", \"2021-04-20\", \"2021-04-21\", \"2021-04-22\", \"2021-04-23\", \"2021-04-24\", \"2021-04-25\", \"2021-04-26\", \"2021-04-27\", \"2021-04-28\", \"2021-04-29\", \"2021-04-30\", \"2021-05-01\", \"2021-05-02\", \"2021-05-03\", \"2021-05-04\", \"2021-05-05\", \"2021-05-06\", \"2021-05-07\", \"2021-05-08\", \"2021-05-09\", \"2021-05-10\", \"2021-05-11\", \"2021-05-12\", \"2021-05-13\", \"2021-05-14\", \"2021-05-15\", \"2021-05-16\", \"2021-05-17\", \"2021-05-18\", \"2021-05-19\", \"2021-05-20\", \"2021-05-21\", \"2021-05-22\", \"2021-05-23\", \"2021-05-24\", \"2021-05-25\", \"2021-05-26\", \"2021-05-27\", \"2021-05-28\", \"2021-05-29\", \"2021-05-30\", \"2021-05-31\"], \"xaxis\": \"x\", \"y\": [78621.0, 78694.0, 78797.0, 78902.0, 78989.0, 79102.0, 79110.0, 79190.0, 79259.0, 79382.0, 79456.0, 79604.0, 79769.0, 79895.0, 80320.0, 80460.0, 79549.0, 79617.0, 79879.0, 79965.0, 80176.0, 80591.0, 80829.0, 80909.0, 81065.0, 81232.0, 81351.0, 80784.0, 79786.0, 79922.0, 79937.0, 79970.0, 80406.0, 80754.0, 81031.0, 81193.0, 81361.0, 81705.0, 81891.0, 82179.0, 82386.0, 82530.0, 82609.0, 82703.0, 82788.0, 82810.0, 82687.0, 82774.0, 82791.0, 82874.0, 82915.0, 83023.0, 83084.0, 83321.0, 83352.0, 83450.0, 83397.0, 83440.0, 83385.0, 83311.0, 83343.0], \"yaxis\": \"y\"}, {\"hoverlabel\": {\"namelength\": 0}, \"hovertemplate\": \"<b>%{hovertext}</b><br><br>Type=Exchange<br>assets=UNI<br>time=%{x}<br>AdrBalCnt=%{y}\", \"hovertext\": [\"UNI\", \"UNI\", \"UNI\", \"UNI\", \"UNI\", \"UNI\", \"UNI\", \"UNI\", \"UNI\", \"UNI\", \"UNI\", \"UNI\", \"UNI\", \"UNI\", \"UNI\", \"UNI\", \"UNI\", \"UNI\", \"UNI\", \"UNI\", \"UNI\", \"UNI\", \"UNI\", \"UNI\", \"UNI\", \"UNI\", \"UNI\", \"UNI\", \"UNI\", \"UNI\", \"UNI\", \"UNI\", \"UNI\", \"UNI\", \"UNI\", \"UNI\", \"UNI\", \"UNI\", \"UNI\", \"UNI\", \"UNI\", \"UNI\", \"UNI\", \"UNI\", \"UNI\", \"UNI\", \"UNI\", \"UNI\", \"UNI\", \"UNI\", \"UNI\", \"UNI\", \"UNI\", \"UNI\", \"UNI\", \"UNI\", \"UNI\", \"UNI\", \"UNI\", \"UNI\", \"UNI\"], \"legendgroup\": \"Type=Exchange\", \"line\": {\"color\": \"#EF553B\", \"dash\": \"solid\", \"shape\": \"spline\"}, \"mode\": \"lines\", \"name\": \"Type=Exchange\", \"showlegend\": true, \"type\": \"scatter\", \"x\": [\"2021-04-01\", \"2021-04-02\", \"2021-04-03\", \"2021-04-04\", \"2021-04-05\", \"2021-04-06\", \"2021-04-07\", \"2021-04-08\", \"2021-04-09\", \"2021-04-10\", \"2021-04-11\", \"2021-04-12\", \"2021-04-13\", \"2021-04-14\", \"2021-04-15\", \"2021-04-16\", \"2021-04-17\", \"2021-04-18\", \"2021-04-19\", \"2021-04-20\", \"2021-04-21\", \"2021-04-22\", \"2021-04-23\", \"2021-04-24\", \"2021-04-25\", \"2021-04-26\", \"2021-04-27\", \"2021-04-28\", \"2021-04-29\", \"2021-04-30\", \"2021-05-01\", \"2021-05-02\", \"2021-05-03\", \"2021-05-04\", \"2021-05-05\", \"2021-05-06\", \"2021-05-07\", \"2021-05-08\", \"2021-05-09\", \"2021-05-10\", \"2021-05-11\", \"2021-05-12\", \"2021-05-13\", \"2021-05-14\", \"2021-05-15\", \"2021-05-16\", \"2021-05-17\", \"2021-05-18\", \"2021-05-19\", \"2021-05-20\", \"2021-05-21\", \"2021-05-22\", \"2021-05-23\", \"2021-05-24\", \"2021-05-25\", \"2021-05-26\", \"2021-05-27\", \"2021-05-28\", \"2021-05-29\", \"2021-05-30\", \"2021-05-31\"], \"xaxis\": \"x\", \"y\": [200267.0, 201023.0, 201952.0, 202801.0, 203853.0, 204969.0, 205875.0, 206608.0, 207472.0, 208212.0, 209044.0, 209719.0, 210940.0, 212114.0, 212996.0, 214286.0, 215422.0, 216211.0, 217202.0, 218272.0, 219075.0, 220548.0, 221506.0, 221613.0, 222697.0, 223831.0, 224964.0, 226336.0, 226925.0, 227042.0, 227204.0, 227754.0, 229180.0, 231631.0, 234045.0, 235231.0, 236558.0, 238302.0, 239573.0, 241544.0, 243008.0, 244220.0, 244158.0, 244804.0, 245338.0, 245595.0, 245879.0, 246461.0, 246798.0, 247011.0, 247597.0, 247793.0, 247544.0, 248021.0, 248228.0, 248820.0, 249192.0, 249456.0, 249672.0, 249615.0, 249906.0], \"yaxis\": \"y\"}, {\"hoverlabel\": {\"namelength\": 0}, \"hovertemplate\": \"<b>%{hovertext}</b><br><br>Type=Exchange<br>assets=BAL<br>time=%{x}<br>AdrBalCnt=%{y}\", \"hovertext\": [\"BAL\", \"BAL\", \"BAL\", \"BAL\", \"BAL\", \"BAL\", \"BAL\", \"BAL\", \"BAL\", \"BAL\", \"BAL\", \"BAL\", \"BAL\", \"BAL\", \"BAL\", \"BAL\", \"BAL\", \"BAL\", \"BAL\", \"BAL\", \"BAL\", \"BAL\", \"BAL\", \"BAL\", \"BAL\", \"BAL\", \"BAL\", \"BAL\", \"BAL\", \"BAL\", \"BAL\", \"BAL\", \"BAL\", \"BAL\", \"BAL\", \"BAL\", \"BAL\", \"BAL\", \"BAL\", \"BAL\", \"BAL\", \"BAL\", \"BAL\", \"BAL\", \"BAL\", \"BAL\", \"BAL\", \"BAL\", \"BAL\", \"BAL\", \"BAL\", \"BAL\", \"BAL\", \"BAL\", \"BAL\", \"BAL\", \"BAL\", \"BAL\", \"BAL\", \"BAL\", \"BAL\"], \"legendgroup\": \"Type=Exchange\", \"line\": {\"color\": \"#EF553B\", \"dash\": \"solid\", \"shape\": \"spline\"}, \"mode\": \"lines\", \"name\": \"Type=Exchange\", \"showlegend\": false, \"type\": \"scatter\", \"x\": [\"2021-04-01\", \"2021-04-02\", \"2021-04-03\", \"2021-04-04\", \"2021-04-05\", \"2021-04-06\", \"2021-04-07\", \"2021-04-08\", \"2021-04-09\", \"2021-04-10\", \"2021-04-11\", \"2021-04-12\", \"2021-04-13\", \"2021-04-14\", \"2021-04-15\", \"2021-04-16\", \"2021-04-17\", \"2021-04-18\", \"2021-04-19\", \"2021-04-20\", \"2021-04-21\", \"2021-04-22\", \"2021-04-23\", \"2021-04-24\", \"2021-04-25\", \"2021-04-26\", \"2021-04-27\", \"2021-04-28\", \"2021-04-29\", \"2021-04-30\", \"2021-05-01\", \"2021-05-02\", \"2021-05-03\", \"2021-05-04\", \"2021-05-05\", \"2021-05-06\", \"2021-05-07\", \"2021-05-08\", \"2021-05-09\", \"2021-05-10\", \"2021-05-11\", \"2021-05-12\", \"2021-05-13\", \"2021-05-14\", \"2021-05-15\", \"2021-05-16\", \"2021-05-17\", \"2021-05-18\", \"2021-05-19\", \"2021-05-20\", \"2021-05-21\", \"2021-05-22\", \"2021-05-23\", \"2021-05-24\", \"2021-05-25\", \"2021-05-26\", \"2021-05-27\", \"2021-05-28\", \"2021-05-29\", \"2021-05-30\", \"2021-05-31\"], \"xaxis\": \"x\", \"y\": [32015.0, 32038.0, 32273.0, 32717.0, 32849.0, 32972.0, 33078.0, 33160.0, 33243.0, 33361.0, 33412.0, 33766.0, 33848.0, 34074.0, 34285.0, 34351.0, 34395.0, 34474.0, 34550.0, 34610.0, 34671.0, 34720.0, 34797.0, 35062.0, 35264.0, 35324.0, 35429.0, 34138.0, 33411.0, 33457.0, 33545.0, 33558.0, 33658.0, 33699.0, 33891.0, 33966.0, 33988.0, 34039.0, 34062.0, 34103.0, 34168.0, 34209.0, 34194.0, 34215.0, 34254.0, 34265.0, 34344.0, 34362.0, 34395.0, 34420.0, 34439.0, 34453.0, 34475.0, 34466.0, 34479.0, 34555.0, 34597.0, 34612.0, 34621.0, 34640.0, 34673.0], \"yaxis\": \"y\"}, {\"hoverlabel\": {\"namelength\": 0}, \"hovertemplate\": \"<b>%{hovertext}</b><br><br>Type=Exchange<br>assets=SUSHI<br>time=%{x}<br>AdrBalCnt=%{y}\", \"hovertext\": [\"SUSHI\", \"SUSHI\", \"SUSHI\", \"SUSHI\", \"SUSHI\", \"SUSHI\", \"SUSHI\", \"SUSHI\", \"SUSHI\", \"SUSHI\", \"SUSHI\", \"SUSHI\", \"SUSHI\", \"SUSHI\", \"SUSHI\", \"SUSHI\", \"SUSHI\", \"SUSHI\", \"SUSHI\", \"SUSHI\", \"SUSHI\", \"SUSHI\", \"SUSHI\", \"SUSHI\", \"SUSHI\", \"SUSHI\", \"SUSHI\", \"SUSHI\", \"SUSHI\", \"SUSHI\", \"SUSHI\", \"SUSHI\", \"SUSHI\", \"SUSHI\", \"SUSHI\", \"SUSHI\", \"SUSHI\", \"SUSHI\", \"SUSHI\", \"SUSHI\", \"SUSHI\", \"SUSHI\", \"SUSHI\", \"SUSHI\", \"SUSHI\", \"SUSHI\", \"SUSHI\", \"SUSHI\", \"SUSHI\", \"SUSHI\", \"SUSHI\", \"SUSHI\", \"SUSHI\", \"SUSHI\", \"SUSHI\", \"SUSHI\", \"SUSHI\", \"SUSHI\", \"SUSHI\", \"SUSHI\", \"SUSHI\"], \"legendgroup\": \"Type=Exchange\", \"line\": {\"color\": \"#EF553B\", \"dash\": \"solid\", \"shape\": \"spline\"}, \"mode\": \"lines\", \"name\": \"Type=Exchange\", \"showlegend\": false, \"type\": \"scatter\", \"x\": [\"2021-04-01\", \"2021-04-02\", \"2021-04-03\", \"2021-04-04\", \"2021-04-05\", \"2021-04-06\", \"2021-04-07\", \"2021-04-08\", \"2021-04-09\", \"2021-04-10\", \"2021-04-11\", \"2021-04-12\", \"2021-04-13\", \"2021-04-14\", \"2021-04-15\", \"2021-04-16\", \"2021-04-17\", \"2021-04-18\", \"2021-04-19\", \"2021-04-20\", \"2021-04-21\", \"2021-04-22\", \"2021-04-23\", \"2021-04-24\", \"2021-04-25\", \"2021-04-26\", \"2021-04-27\", \"2021-04-28\", \"2021-04-29\", \"2021-04-30\", \"2021-05-01\", \"2021-05-02\", \"2021-05-03\", \"2021-05-04\", \"2021-05-05\", \"2021-05-06\", \"2021-05-07\", \"2021-05-08\", \"2021-05-09\", \"2021-05-10\", \"2021-05-11\", \"2021-05-12\", \"2021-05-13\", \"2021-05-14\", \"2021-05-15\", \"2021-05-16\", \"2021-05-17\", \"2021-05-18\", \"2021-05-19\", \"2021-05-20\", \"2021-05-21\", \"2021-05-22\", \"2021-05-23\", \"2021-05-24\", \"2021-05-25\", \"2021-05-26\", \"2021-05-27\", \"2021-05-28\", \"2021-05-29\", \"2021-05-30\", \"2021-05-31\"], \"xaxis\": \"x\", \"y\": [42035.0, 42201.0, 42264.0, 42522.0, 42734.0, 42122.0, 42298.0, 42407.0, 42564.0, 42574.0, 42654.0, 42916.0, 43090.0, 43267.0, 43372.0, 43555.0, 43708.0, 44022.0, 44326.0, 44528.0, 44834.0, 45131.0, 45343.0, 45574.0, 45648.0, 45939.0, 46324.0, 46145.0, 45236.0, 45363.0, 45510.0, 45624.0, 45694.0, 45824.0, 46070.0, 46629.0, 47020.0, 47412.0, 47568.0, 47876.0, 48103.0, 48383.0, 48513.0, 48813.0, 49050.0, 49324.0, 49541.0, 50114.0, 50378.0, 50534.0, 50700.0, 50865.0, 51146.0, 51258.0, 51314.0, 51634.0, 51686.0, 51738.0, 51800.0, 51900.0, 52017.0], \"yaxis\": \"y\"}],\n",
              "                        {\"legend\": {\"tracegroupgap\": 0}, \"margin\": {\"t\": 60}, \"template\": {\"data\": {\"bar\": [{\"error_x\": {\"color\": \"#2a3f5f\"}, \"error_y\": {\"color\": \"#2a3f5f\"}, \"marker\": {\"line\": {\"color\": \"#E5ECF6\", \"width\": 0.5}}, \"type\": \"bar\"}], \"barpolar\": [{\"marker\": {\"line\": {\"color\": \"#E5ECF6\", \"width\": 0.5}}, \"type\": \"barpolar\"}], \"carpet\": [{\"aaxis\": {\"endlinecolor\": \"#2a3f5f\", \"gridcolor\": \"white\", \"linecolor\": \"white\", \"minorgridcolor\": \"white\", \"startlinecolor\": \"#2a3f5f\"}, \"baxis\": {\"endlinecolor\": \"#2a3f5f\", \"gridcolor\": \"white\", \"linecolor\": \"white\", \"minorgridcolor\": \"white\", \"startlinecolor\": \"#2a3f5f\"}, \"type\": \"carpet\"}], \"choropleth\": [{\"colorbar\": {\"outlinewidth\": 0, \"ticks\": \"\"}, \"type\": \"choropleth\"}], \"contour\": [{\"colorbar\": {\"outlinewidth\": 0, \"ticks\": \"\"}, \"colorscale\": [[0.0, \"#0d0887\"], [0.1111111111111111, \"#46039f\"], [0.2222222222222222, \"#7201a8\"], [0.3333333333333333, \"#9c179e\"], [0.4444444444444444, \"#bd3786\"], [0.5555555555555556, \"#d8576b\"], [0.6666666666666666, \"#ed7953\"], [0.7777777777777778, \"#fb9f3a\"], [0.8888888888888888, \"#fdca26\"], [1.0, \"#f0f921\"]], \"type\": \"contour\"}], \"contourcarpet\": [{\"colorbar\": {\"outlinewidth\": 0, \"ticks\": \"\"}, \"type\": \"contourcarpet\"}], \"heatmap\": [{\"colorbar\": {\"outlinewidth\": 0, \"ticks\": \"\"}, \"colorscale\": [[0.0, \"#0d0887\"], [0.1111111111111111, \"#46039f\"], [0.2222222222222222, \"#7201a8\"], [0.3333333333333333, \"#9c179e\"], [0.4444444444444444, \"#bd3786\"], [0.5555555555555556, \"#d8576b\"], [0.6666666666666666, \"#ed7953\"], [0.7777777777777778, \"#fb9f3a\"], [0.8888888888888888, \"#fdca26\"], [1.0, \"#f0f921\"]], \"type\": \"heatmap\"}], \"heatmapgl\": [{\"colorbar\": {\"outlinewidth\": 0, \"ticks\": \"\"}, \"colorscale\": [[0.0, \"#0d0887\"], [0.1111111111111111, \"#46039f\"], [0.2222222222222222, \"#7201a8\"], [0.3333333333333333, \"#9c179e\"], [0.4444444444444444, \"#bd3786\"], [0.5555555555555556, \"#d8576b\"], [0.6666666666666666, \"#ed7953\"], [0.7777777777777778, \"#fb9f3a\"], [0.8888888888888888, \"#fdca26\"], [1.0, \"#f0f921\"]], \"type\": \"heatmapgl\"}], \"histogram\": [{\"marker\": {\"colorbar\": {\"outlinewidth\": 0, \"ticks\": \"\"}}, \"type\": \"histogram\"}], \"histogram2d\": [{\"colorbar\": {\"outlinewidth\": 0, \"ticks\": \"\"}, \"colorscale\": [[0.0, \"#0d0887\"], [0.1111111111111111, \"#46039f\"], [0.2222222222222222, \"#7201a8\"], [0.3333333333333333, \"#9c179e\"], [0.4444444444444444, \"#bd3786\"], [0.5555555555555556, \"#d8576b\"], [0.6666666666666666, \"#ed7953\"], [0.7777777777777778, \"#fb9f3a\"], [0.8888888888888888, \"#fdca26\"], [1.0, \"#f0f921\"]], \"type\": \"histogram2d\"}], \"histogram2dcontour\": [{\"colorbar\": {\"outlinewidth\": 0, \"ticks\": \"\"}, \"colorscale\": [[0.0, \"#0d0887\"], [0.1111111111111111, \"#46039f\"], [0.2222222222222222, \"#7201a8\"], [0.3333333333333333, \"#9c179e\"], [0.4444444444444444, \"#bd3786\"], [0.5555555555555556, \"#d8576b\"], [0.6666666666666666, \"#ed7953\"], [0.7777777777777778, \"#fb9f3a\"], [0.8888888888888888, \"#fdca26\"], [1.0, \"#f0f921\"]], \"type\": \"histogram2dcontour\"}], \"mesh3d\": [{\"colorbar\": {\"outlinewidth\": 0, \"ticks\": \"\"}, \"type\": \"mesh3d\"}], \"parcoords\": [{\"line\": {\"colorbar\": {\"outlinewidth\": 0, \"ticks\": \"\"}}, \"type\": \"parcoords\"}], \"pie\": [{\"automargin\": true, \"type\": \"pie\"}], \"scatter\": [{\"marker\": {\"colorbar\": {\"outlinewidth\": 0, \"ticks\": \"\"}}, \"type\": \"scatter\"}], \"scatter3d\": [{\"line\": {\"colorbar\": {\"outlinewidth\": 0, \"ticks\": \"\"}}, \"marker\": {\"colorbar\": {\"outlinewidth\": 0, \"ticks\": \"\"}}, \"type\": \"scatter3d\"}], \"scattercarpet\": [{\"marker\": {\"colorbar\": {\"outlinewidth\": 0, \"ticks\": \"\"}}, \"type\": \"scattercarpet\"}], \"scattergeo\": [{\"marker\": {\"colorbar\": {\"outlinewidth\": 0, \"ticks\": \"\"}}, \"type\": \"scattergeo\"}], \"scattergl\": [{\"marker\": {\"colorbar\": {\"outlinewidth\": 0, \"ticks\": \"\"}}, \"type\": \"scattergl\"}], \"scattermapbox\": [{\"marker\": {\"colorbar\": {\"outlinewidth\": 0, \"ticks\": \"\"}}, \"type\": \"scattermapbox\"}], \"scatterpolar\": [{\"marker\": {\"colorbar\": {\"outlinewidth\": 0, \"ticks\": \"\"}}, \"type\": \"scatterpolar\"}], \"scatterpolargl\": [{\"marker\": {\"colorbar\": {\"outlinewidth\": 0, \"ticks\": \"\"}}, \"type\": \"scatterpolargl\"}], \"scatterternary\": [{\"marker\": {\"colorbar\": {\"outlinewidth\": 0, \"ticks\": \"\"}}, \"type\": \"scatterternary\"}], \"surface\": [{\"colorbar\": {\"outlinewidth\": 0, \"ticks\": \"\"}, \"colorscale\": [[0.0, \"#0d0887\"], [0.1111111111111111, \"#46039f\"], [0.2222222222222222, \"#7201a8\"], [0.3333333333333333, \"#9c179e\"], [0.4444444444444444, \"#bd3786\"], [0.5555555555555556, \"#d8576b\"], [0.6666666666666666, \"#ed7953\"], [0.7777777777777778, \"#fb9f3a\"], [0.8888888888888888, \"#fdca26\"], [1.0, \"#f0f921\"]], \"type\": \"surface\"}], \"table\": [{\"cells\": {\"fill\": {\"color\": \"#EBF0F8\"}, \"line\": {\"color\": \"white\"}}, \"header\": {\"fill\": {\"color\": \"#C8D4E3\"}, \"line\": {\"color\": \"white\"}}, \"type\": \"table\"}]}, \"layout\": {\"annotationdefaults\": {\"arrowcolor\": \"#2a3f5f\", \"arrowhead\": 0, \"arrowwidth\": 1}, \"coloraxis\": {\"colorbar\": {\"outlinewidth\": 0, \"ticks\": \"\"}}, \"colorscale\": {\"diverging\": [[0, \"#8e0152\"], [0.1, \"#c51b7d\"], [0.2, \"#de77ae\"], [0.3, \"#f1b6da\"], [0.4, \"#fde0ef\"], [0.5, \"#f7f7f7\"], [0.6, \"#e6f5d0\"], [0.7, \"#b8e186\"], [0.8, \"#7fbc41\"], [0.9, \"#4d9221\"], [1, \"#276419\"]], \"sequential\": [[0.0, \"#0d0887\"], [0.1111111111111111, \"#46039f\"], [0.2222222222222222, \"#7201a8\"], [0.3333333333333333, \"#9c179e\"], [0.4444444444444444, \"#bd3786\"], [0.5555555555555556, \"#d8576b\"], [0.6666666666666666, \"#ed7953\"], [0.7777777777777778, \"#fb9f3a\"], [0.8888888888888888, \"#fdca26\"], [1.0, \"#f0f921\"]], \"sequentialminus\": [[0.0, \"#0d0887\"], [0.1111111111111111, \"#46039f\"], [0.2222222222222222, \"#7201a8\"], [0.3333333333333333, \"#9c179e\"], [0.4444444444444444, \"#bd3786\"], [0.5555555555555556, \"#d8576b\"], [0.6666666666666666, \"#ed7953\"], [0.7777777777777778, \"#fb9f3a\"], [0.8888888888888888, \"#fdca26\"], [1.0, \"#f0f921\"]]}, \"colorway\": [\"#636efa\", \"#EF553B\", \"#00cc96\", \"#ab63fa\", \"#FFA15A\", \"#19d3f3\", \"#FF6692\", \"#B6E880\", \"#FF97FF\", \"#FECB52\"], \"font\": {\"color\": \"#2a3f5f\"}, \"geo\": {\"bgcolor\": \"white\", \"lakecolor\": \"white\", \"landcolor\": \"#E5ECF6\", \"showlakes\": true, \"showland\": true, \"subunitcolor\": \"white\"}, \"hoverlabel\": {\"align\": \"left\"}, \"hovermode\": \"closest\", \"mapbox\": {\"style\": \"light\"}, \"paper_bgcolor\": \"white\", \"plot_bgcolor\": \"#E5ECF6\", \"polar\": {\"angularaxis\": {\"gridcolor\": \"white\", \"linecolor\": \"white\", \"ticks\": \"\"}, \"bgcolor\": \"#E5ECF6\", \"radialaxis\": {\"gridcolor\": \"white\", \"linecolor\": \"white\", \"ticks\": \"\"}}, \"scene\": {\"xaxis\": {\"backgroundcolor\": \"#E5ECF6\", \"gridcolor\": \"white\", \"gridwidth\": 2, \"linecolor\": \"white\", \"showbackground\": true, \"ticks\": \"\", \"zerolinecolor\": \"white\"}, \"yaxis\": {\"backgroundcolor\": \"#E5ECF6\", \"gridcolor\": \"white\", \"gridwidth\": 2, \"linecolor\": \"white\", \"showbackground\": true, \"ticks\": \"\", \"zerolinecolor\": \"white\"}, \"zaxis\": {\"backgroundcolor\": \"#E5ECF6\", \"gridcolor\": \"white\", \"gridwidth\": 2, \"linecolor\": \"white\", \"showbackground\": true, \"ticks\": \"\", \"zerolinecolor\": \"white\"}}, \"shapedefaults\": {\"line\": {\"color\": \"#2a3f5f\"}}, \"ternary\": {\"aaxis\": {\"gridcolor\": \"white\", \"linecolor\": \"white\", \"ticks\": \"\"}, \"baxis\": {\"gridcolor\": \"white\", \"linecolor\": \"white\", \"ticks\": \"\"}, \"bgcolor\": \"#E5ECF6\", \"caxis\": {\"gridcolor\": \"white\", \"linecolor\": \"white\", \"ticks\": \"\"}}, \"title\": {\"x\": 0.05}, \"xaxis\": {\"automargin\": true, \"gridcolor\": \"white\", \"linecolor\": \"white\", \"ticks\": \"\", \"title\": {\"standoff\": 15}, \"zerolinecolor\": \"white\", \"zerolinewidth\": 2}, \"yaxis\": {\"automargin\": true, \"gridcolor\": \"white\", \"linecolor\": \"white\", \"ticks\": \"\", \"title\": {\"standoff\": 15}, \"zerolinecolor\": \"white\", \"zerolinewidth\": 2}}}, \"xaxis\": {\"anchor\": \"y\", \"domain\": [0.0, 1.0], \"title\": {\"text\": \"time\"}}, \"yaxis\": {\"anchor\": \"x\", \"domain\": [0.0, 1.0], \"title\": {\"text\": \"AdrBalCnt\"}}},\n",
              "                        {\"responsive\": true}\n",
              "                    ).then(function(){\n",
              "                            \n",
              "var gd = document.getElementById('f47758d7-47fe-475e-b2fb-6a97f48a95a8');\n",
              "var x = new MutationObserver(function (mutations, observer) {{\n",
              "        var display = window.getComputedStyle(gd).display;\n",
              "        if (!display || display === 'none') {{\n",
              "            console.log([gd, 'removed!']);\n",
              "            Plotly.purge(gd);\n",
              "            observer.disconnect();\n",
              "        }}\n",
              "}});\n",
              "\n",
              "// Listen for the removal of the full notebook cells\n",
              "var notebookContainer = gd.closest('#notebook-container');\n",
              "if (notebookContainer) {{\n",
              "    x.observe(notebookContainer, {childList: true});\n",
              "}}\n",
              "\n",
              "// Listen for the clearing of the current output cell\n",
              "var outputEl = gd.closest('.output');\n",
              "if (outputEl) {{\n",
              "    x.observe(outputEl, {childList: true});\n",
              "}}\n",
              "\n",
              "                        })\n",
              "                };\n",
              "                \n",
              "            </script>\n",
              "        </div>\n",
              "</body>\n",
              "</html>"
            ]
          },
          "metadata": {
            "tags": []
          }
        }
      ]
    },
    {
      "cell_type": "code",
      "metadata": {
        "colab": {
          "base_uri": "https://localhost:8080/",
          "height": 542
        },
        "id": "dX8auYPBV8zl",
        "outputId": "81a7416c-d07d-4597-d08d-2a78a031bf98"
      },
      "source": [
        "import plotly.express as px\n",
        "fig = px.line(df, x=\"time\", y=\"NVTAdj90\", color=\"Type\", line_group=\"assets\", hover_name=\"assets\",\n",
        "        line_shape=\"spline\", render_mode=\"svg\")\n",
        "fig.show()"
      ],
      "execution_count": 448,
      "outputs": [
        {
          "output_type": "display_data",
          "data": {
            "text/html": [
              "<html>\n",
              "<head><meta charset=\"utf-8\" /></head>\n",
              "<body>\n",
              "    <div>\n",
              "            <script src=\"https://cdnjs.cloudflare.com/ajax/libs/mathjax/2.7.5/MathJax.js?config=TeX-AMS-MML_SVG\"></script><script type=\"text/javascript\">if (window.MathJax) {MathJax.Hub.Config({SVG: {font: \"STIX-Web\"}});}</script>\n",
              "                <script type=\"text/javascript\">window.PlotlyConfig = {MathJaxConfig: 'local'};</script>\n",
              "        <script src=\"https://cdn.plot.ly/plotly-latest.min.js\"></script>    \n",
              "            <div id=\"491b4eb9-05cf-481f-aba6-609d1899f5f5\" class=\"plotly-graph-div\" style=\"height:525px; width:100%;\"></div>\n",
              "            <script type=\"text/javascript\">\n",
              "                \n",
              "                    window.PLOTLYENV=window.PLOTLYENV || {};\n",
              "                    \n",
              "                if (document.getElementById(\"491b4eb9-05cf-481f-aba6-609d1899f5f5\")) {\n",
              "                    Plotly.newPlot(\n",
              "                        '491b4eb9-05cf-481f-aba6-609d1899f5f5',\n",
              "                        [{\"hoverlabel\": {\"namelength\": 0}, \"hovertemplate\": \"<b>%{hovertext}</b><br><br>Type=Lending<br>assets=COMP<br>time=%{x}<br>NVTAdj90=%{y}\", \"hovertext\": [\"COMP\", \"COMP\", \"COMP\", \"COMP\", \"COMP\", \"COMP\", \"COMP\", \"COMP\", \"COMP\", \"COMP\", \"COMP\", \"COMP\", \"COMP\", \"COMP\", \"COMP\", \"COMP\", \"COMP\", \"COMP\", \"COMP\", \"COMP\", \"COMP\", \"COMP\", \"COMP\", \"COMP\", \"COMP\", \"COMP\", \"COMP\", \"COMP\", \"COMP\", \"COMP\", \"COMP\", \"COMP\", \"COMP\", \"COMP\", \"COMP\", \"COMP\", \"COMP\", \"COMP\", \"COMP\", \"COMP\", \"COMP\", \"COMP\", \"COMP\", \"COMP\", \"COMP\", \"COMP\", \"COMP\", \"COMP\", \"COMP\", \"COMP\", \"COMP\", \"COMP\", \"COMP\", \"COMP\", \"COMP\", \"COMP\", \"COMP\", \"COMP\", \"COMP\", \"COMP\", \"COMP\"], \"legendgroup\": \"Type=Lending\", \"line\": {\"color\": \"#636efa\", \"dash\": \"solid\", \"shape\": \"spline\"}, \"mode\": \"lines\", \"name\": \"Type=Lending\", \"showlegend\": true, \"type\": \"scatter\", \"x\": [\"2021-04-01\", \"2021-04-02\", \"2021-04-03\", \"2021-04-04\", \"2021-04-05\", \"2021-04-06\", \"2021-04-07\", \"2021-04-08\", \"2021-04-09\", \"2021-04-10\", \"2021-04-11\", \"2021-04-12\", \"2021-04-13\", \"2021-04-14\", \"2021-04-15\", \"2021-04-16\", \"2021-04-17\", \"2021-04-18\", \"2021-04-19\", \"2021-04-20\", \"2021-04-21\", \"2021-04-22\", \"2021-04-23\", \"2021-04-24\", \"2021-04-25\", \"2021-04-26\", \"2021-04-27\", \"2021-04-28\", \"2021-04-29\", \"2021-04-30\", \"2021-05-01\", \"2021-05-02\", \"2021-05-03\", \"2021-05-04\", \"2021-05-05\", \"2021-05-06\", \"2021-05-07\", \"2021-05-08\", \"2021-05-09\", \"2021-05-10\", \"2021-05-11\", \"2021-05-12\", \"2021-05-13\", \"2021-05-14\", \"2021-05-15\", \"2021-05-16\", \"2021-05-17\", \"2021-05-18\", \"2021-05-19\", \"2021-05-20\", \"2021-05-21\", \"2021-05-22\", \"2021-05-23\", \"2021-05-24\", \"2021-05-25\", \"2021-05-26\", \"2021-05-27\", \"2021-05-28\", \"2021-05-29\", \"2021-05-30\", \"2021-05-31\"], \"xaxis\": \"x\", \"y\": [83.88862551202244, 89.92927952720464, 87.04990962768373, 98.13893614047576, 89.93838347149017, 83.9686721347055, 76.36310316771454, 76.81471685776597, 74.01360247454218, 73.57954137569091, 74.98121965021345, 75.51097689887088, 78.84047019643073, 78.01869987052406, 90.19196495035357, 87.89008317092032, 83.9446762149032, 75.23808079240249, 73.10748002465002, 72.09681493283442, 72.77775655439696, 78.39251963169683, 87.16101826732216, 80.35592338980919, 77.1411848538271, 89.46365374207451, 89.98520655520888, 87.21202741023086, 88.39894383985322, 100.23109447341272, 107.7874038284396, 109.62576532257532, 110.910962234939, 100.06612149876808, 106.91789767334572, 101.89716050102872, 98.44443962848341, 107.66277624208105, 106.63208791342045, 107.9941241052815, 115.4624119725468, 99.18761574765652, 96.3553499052491, 98.188056263264, 87.84409876633595, 87.35600216677334, 89.1153857048118, 84.21974398811602, 61.78482029468633, 67.82361982326, 54.82841335229562, 47.781734176685184, 42.05619349295689, 51.970779275242215, 51.6584161360904, 55.30189043893702, 50.46892341117872, 44.80660270684335, 42.33521885369368, 48.64463989787725, 52.24871888661712], \"yaxis\": \"y\"}, {\"hoverlabel\": {\"namelength\": 0}, \"hovertemplate\": \"<b>%{hovertext}</b><br><br>Type=Lending<br>assets=AAVE<br>time=%{x}<br>NVTAdj90=%{y}\", \"hovertext\": [\"AAVE\", \"AAVE\", \"AAVE\", \"AAVE\", \"AAVE\", \"AAVE\", \"AAVE\", \"AAVE\", \"AAVE\", \"AAVE\", \"AAVE\", \"AAVE\", \"AAVE\", \"AAVE\", \"AAVE\", \"AAVE\", \"AAVE\", \"AAVE\", \"AAVE\", \"AAVE\", \"AAVE\", \"AAVE\", \"AAVE\", \"AAVE\", \"AAVE\", \"AAVE\", \"AAVE\", \"AAVE\", \"AAVE\", \"AAVE\", \"AAVE\", \"AAVE\", \"AAVE\", \"AAVE\", \"AAVE\", \"AAVE\", \"AAVE\", \"AAVE\", \"AAVE\", \"AAVE\", \"AAVE\", \"AAVE\", \"AAVE\", \"AAVE\", \"AAVE\", \"AAVE\", \"AAVE\", \"AAVE\", \"AAVE\", \"AAVE\", \"AAVE\", \"AAVE\", \"AAVE\", \"AAVE\", \"AAVE\", \"AAVE\", \"AAVE\", \"AAVE\", \"AAVE\", \"AAVE\", \"AAVE\"], \"legendgroup\": \"Type=Lending\", \"line\": {\"color\": \"#636efa\", \"dash\": \"solid\", \"shape\": \"spline\"}, \"mode\": \"lines\", \"name\": \"Type=Lending\", \"showlegend\": false, \"type\": \"scatter\", \"x\": [\"2021-04-01\", \"2021-04-02\", \"2021-04-03\", \"2021-04-04\", \"2021-04-05\", \"2021-04-06\", \"2021-04-07\", \"2021-04-08\", \"2021-04-09\", \"2021-04-10\", \"2021-04-11\", \"2021-04-12\", \"2021-04-13\", \"2021-04-14\", \"2021-04-15\", \"2021-04-16\", \"2021-04-17\", \"2021-04-18\", \"2021-04-19\", \"2021-04-20\", \"2021-04-21\", \"2021-04-22\", \"2021-04-23\", \"2021-04-24\", \"2021-04-25\", \"2021-04-26\", \"2021-04-27\", \"2021-04-28\", \"2021-04-29\", \"2021-04-30\", \"2021-05-01\", \"2021-05-02\", \"2021-05-03\", \"2021-05-04\", \"2021-05-05\", \"2021-05-06\", \"2021-05-07\", \"2021-05-08\", \"2021-05-09\", \"2021-05-10\", \"2021-05-11\", \"2021-05-12\", \"2021-05-13\", \"2021-05-14\", \"2021-05-15\", \"2021-05-16\", \"2021-05-17\", \"2021-05-18\", \"2021-05-19\", \"2021-05-20\", \"2021-05-21\", \"2021-05-22\", \"2021-05-23\", \"2021-05-24\", \"2021-05-25\", \"2021-05-26\", \"2021-05-27\", \"2021-05-28\", \"2021-05-29\", \"2021-05-30\", \"2021-05-31\"], \"xaxis\": \"x\", \"y\": [37.704731316314955, 40.71362291692607, 37.14508754189389, 39.348759539088334, 38.48234510061024, 37.22884871624946, 33.75205786158286, 35.474374377671644, 34.325309090192576, 35.0677215491738, 35.199924235375946, 37.146318845201115, 37.098414712102056, 39.60764941678433, 42.65974209263972, 40.28300944949364, 38.85852794991582, 34.34865562463508, 31.05814480386877, 31.965119900662142, 31.187596163467088, 32.04686743155741, 29.91475840252116, 28.552994445905426, 30.661428002465065, 35.234849896797535, 38.0784421423041, 39.471288669735216, 38.424018173973046, 38.47733500380404, 43.0700872101509, 41.010241530190726, 44.049802610192316, 39.09594008721872, 40.48562584975624, 37.066557086655706, 36.4340078865125, 38.316275709301344, 37.93593241755447, 35.919188341971854, 38.18197118555243, 44.85556958437044, 41.69968444901824, 48.46684844771144, 42.27945393086015, 42.27485341780663, 45.90623385605901, 48.77807657979662, 33.174029495015205, 35.570913931333365, 27.870119370215573, 25.40074976797982, 21.792979261367048, 28.337677426282486, 28.300208531762845, 30.494773552080158, 27.69153191409439, 23.558866852853683, 22.081051757409345, 23.821576195259468, 28.233727827602944], \"yaxis\": \"y\"}, {\"hoverlabel\": {\"namelength\": 0}, \"hovertemplate\": \"<b>%{hovertext}</b><br><br>Type=Lending<br>assets=MKR<br>time=%{x}<br>NVTAdj90=%{y}\", \"hovertext\": [\"MKR\", \"MKR\", \"MKR\", \"MKR\", \"MKR\", \"MKR\", \"MKR\", \"MKR\", \"MKR\", \"MKR\", \"MKR\", \"MKR\", \"MKR\", \"MKR\", \"MKR\", \"MKR\", \"MKR\", \"MKR\", \"MKR\", \"MKR\", \"MKR\", \"MKR\", \"MKR\", \"MKR\", \"MKR\", \"MKR\", \"MKR\", \"MKR\", \"MKR\", \"MKR\", \"MKR\", \"MKR\", \"MKR\", \"MKR\", \"MKR\", \"MKR\", \"MKR\", \"MKR\", \"MKR\", \"MKR\", \"MKR\", \"MKR\", \"MKR\", \"MKR\", \"MKR\", \"MKR\", \"MKR\", \"MKR\", \"MKR\", \"MKR\", \"MKR\", \"MKR\", \"MKR\", \"MKR\", \"MKR\", \"MKR\", \"MKR\", \"MKR\", \"MKR\", \"MKR\", \"MKR\"], \"legendgroup\": \"Type=Lending\", \"line\": {\"color\": \"#636efa\", \"dash\": \"solid\", \"shape\": \"spline\"}, \"mode\": \"lines\", \"name\": \"Type=Lending\", \"showlegend\": false, \"type\": \"scatter\", \"x\": [\"2021-04-01\", \"2021-04-02\", \"2021-04-03\", \"2021-04-04\", \"2021-04-05\", \"2021-04-06\", \"2021-04-07\", \"2021-04-08\", \"2021-04-09\", \"2021-04-10\", \"2021-04-11\", \"2021-04-12\", \"2021-04-13\", \"2021-04-14\", \"2021-04-15\", \"2021-04-16\", \"2021-04-17\", \"2021-04-18\", \"2021-04-19\", \"2021-04-20\", \"2021-04-21\", \"2021-04-22\", \"2021-04-23\", \"2021-04-24\", \"2021-04-25\", \"2021-04-26\", \"2021-04-27\", \"2021-04-28\", \"2021-04-29\", \"2021-04-30\", \"2021-05-01\", \"2021-05-02\", \"2021-05-03\", \"2021-05-04\", \"2021-05-05\", \"2021-05-06\", \"2021-05-07\", \"2021-05-08\", \"2021-05-09\", \"2021-05-10\", \"2021-05-11\", \"2021-05-12\", \"2021-05-13\", \"2021-05-14\", \"2021-05-15\", \"2021-05-16\", \"2021-05-17\", \"2021-05-18\", \"2021-05-19\", \"2021-05-20\", \"2021-05-21\", \"2021-05-22\", \"2021-05-23\", \"2021-05-24\", \"2021-05-25\", \"2021-05-26\", \"2021-05-27\", \"2021-05-28\", \"2021-05-29\", \"2021-05-30\", \"2021-05-31\"], \"xaxis\": \"x\", \"y\": [52.48870855112256, 56.37188201209182, 50.790372770765046, 50.86133365280393, 51.327044431411636, 51.71617506302962, 48.06613611315985, 49.287910843139755, 49.854459999685886, 51.525939280586854, 53.76329348978308, 63.748503792697505, 59.83923982259483, 61.72255020154686, 83.4507287369668, 72.97782701076622, 71.4512883325613, 68.78377125749843, 73.5357485737197, 70.27034177107801, 78.30584137753851, 75.14343859287355, 66.36089047834852, 65.61859654359309, 61.28852139506762, 63.90500274503785, 71.01273670974695, 68.21311209267645, 65.80005935737651, 66.74485832942885, 73.1049828016142, 73.46169500228555, 81.36989503849502, 68.96817939586035, 69.50729170934662, 65.59460389255865, 66.11289095832555, 72.20570175096802, 68.30647010325787, 63.997159430595815, 68.78338156802533, 64.66808494028675, 58.5228048996058, 62.37270581594038, 57.33329140754989, 56.05540689258295, 52.286838488993865, 55.59564033236826, 41.906383163104145, 45.3968895559965, 35.29870296316192, 31.82561886589447, 30.28409328047245, 43.85638859261008, 39.764710267307755, 39.91311029804194, 37.625564007562495, 32.65168670377471, 30.750292849956175, 33.188924787834345, 35.75151776489807], \"yaxis\": \"y\"}, {\"hoverlabel\": {\"namelength\": 0}, \"hovertemplate\": \"<b>%{hovertext}</b><br><br>Type=Exchange<br>assets=UNI<br>time=%{x}<br>NVTAdj90=%{y}\", \"hovertext\": [\"UNI\", \"UNI\", \"UNI\", \"UNI\", \"UNI\", \"UNI\", \"UNI\", \"UNI\", \"UNI\", \"UNI\", \"UNI\", \"UNI\", \"UNI\", \"UNI\", \"UNI\", \"UNI\", \"UNI\", \"UNI\", \"UNI\", \"UNI\", \"UNI\", \"UNI\", \"UNI\", \"UNI\", \"UNI\", \"UNI\", \"UNI\", \"UNI\", \"UNI\", \"UNI\", \"UNI\", \"UNI\", \"UNI\", \"UNI\", \"UNI\", \"UNI\", \"UNI\", \"UNI\", \"UNI\", \"UNI\", \"UNI\", \"UNI\", \"UNI\", \"UNI\", \"UNI\", \"UNI\", \"UNI\", \"UNI\", \"UNI\", \"UNI\", \"UNI\", \"UNI\", \"UNI\", \"UNI\", \"UNI\", \"UNI\", \"UNI\", \"UNI\", \"UNI\", \"UNI\", \"UNI\"], \"legendgroup\": \"Type=Exchange\", \"line\": {\"color\": \"#EF553B\", \"dash\": \"solid\", \"shape\": \"spline\"}, \"mode\": \"lines\", \"name\": \"Type=Exchange\", \"showlegend\": true, \"type\": \"scatter\", \"x\": [\"2021-04-01\", \"2021-04-02\", \"2021-04-03\", \"2021-04-04\", \"2021-04-05\", \"2021-04-06\", \"2021-04-07\", \"2021-04-08\", \"2021-04-09\", \"2021-04-10\", \"2021-04-11\", \"2021-04-12\", \"2021-04-13\", \"2021-04-14\", \"2021-04-15\", \"2021-04-16\", \"2021-04-17\", \"2021-04-18\", \"2021-04-19\", \"2021-04-20\", \"2021-04-21\", \"2021-04-22\", \"2021-04-23\", \"2021-04-24\", \"2021-04-25\", \"2021-04-26\", \"2021-04-27\", \"2021-04-28\", \"2021-04-29\", \"2021-04-30\", \"2021-05-01\", \"2021-05-02\", \"2021-05-03\", \"2021-05-04\", \"2021-05-05\", \"2021-05-06\", \"2021-05-07\", \"2021-05-08\", \"2021-05-09\", \"2021-05-10\", \"2021-05-11\", \"2021-05-12\", \"2021-05-13\", \"2021-05-14\", \"2021-05-15\", \"2021-05-16\", \"2021-05-17\", \"2021-05-18\", \"2021-05-19\", \"2021-05-20\", \"2021-05-21\", \"2021-05-22\", \"2021-05-23\", \"2021-05-24\", \"2021-05-25\", \"2021-05-26\", \"2021-05-27\", \"2021-05-28\", \"2021-05-29\", \"2021-05-30\", \"2021-05-31\"], \"xaxis\": \"x\", \"y\": [91.41820091381365, 94.00217840346274, 92.82890647096515, 96.87252810292955, 95.5131807027803, 97.34503083173136, 89.2571687061433, 93.61769785271306, 91.05390535516716, 91.60570990641851, 92.15380983780052, 112.37485270994064, 106.63741207791443, 108.26371562221254, 113.05911485819796, 108.3976797501736, 104.5329796492349, 95.09049710594594, 93.56745081146029, 94.4477267165479, 98.42136136518036, 100.99333519508691, 95.01771820501949, 88.88296200616303, 98.21058099680157, 111.10735786084412, 115.45451552233344, 124.51095759167521, 120.60947652493437, 113.79515575782364, 113.66543259079228, 121.22294549817092, 121.17873265684939, 123.6898218538267, 120.05543232835751, 114.90287750614914, 112.84520424307098, 114.90444478502168, 112.0801610166105, 103.31339312411345, 109.47102551058133, 108.04367165024406, 103.30572438435269, 113.68780378869069, 103.21580859217116, 101.69705041013201, 92.3414290630858, 96.45334561437632, 66.93691558098962, 72.03299155428111, 59.77225787915845, 56.81740722057689, 46.497827376909115, 68.13942172108277, 69.82790518233651, 80.16167770646071, 78.54023975378924, 71.18650531488632, 63.42815490306839, 70.22209913438994, 77.15402540546802], \"yaxis\": \"y\"}, {\"hoverlabel\": {\"namelength\": 0}, \"hovertemplate\": \"<b>%{hovertext}</b><br><br>Type=Exchange<br>assets=BAL<br>time=%{x}<br>NVTAdj90=%{y}\", \"hovertext\": [\"BAL\", \"BAL\", \"BAL\", \"BAL\", \"BAL\", \"BAL\", \"BAL\", \"BAL\", \"BAL\", \"BAL\", \"BAL\", \"BAL\", \"BAL\", \"BAL\", \"BAL\", \"BAL\", \"BAL\", \"BAL\", \"BAL\", \"BAL\", \"BAL\", \"BAL\", \"BAL\", \"BAL\", \"BAL\", \"BAL\", \"BAL\", \"BAL\", \"BAL\", \"BAL\", \"BAL\", \"BAL\", \"BAL\", \"BAL\", \"BAL\", \"BAL\", \"BAL\", \"BAL\", \"BAL\", \"BAL\", \"BAL\", \"BAL\", \"BAL\", \"BAL\", \"BAL\", \"BAL\", \"BAL\", \"BAL\", \"BAL\", \"BAL\", \"BAL\", \"BAL\", \"BAL\", \"BAL\", \"BAL\", \"BAL\", \"BAL\", \"BAL\", \"BAL\", \"BAL\", \"BAL\"], \"legendgroup\": \"Type=Exchange\", \"line\": {\"color\": \"#EF553B\", \"dash\": \"solid\", \"shape\": \"spline\"}, \"mode\": \"lines\", \"name\": \"Type=Exchange\", \"showlegend\": false, \"type\": \"scatter\", \"x\": [\"2021-04-01\", \"2021-04-02\", \"2021-04-03\", \"2021-04-04\", \"2021-04-05\", \"2021-04-06\", \"2021-04-07\", \"2021-04-08\", \"2021-04-09\", \"2021-04-10\", \"2021-04-11\", \"2021-04-12\", \"2021-04-13\", \"2021-04-14\", \"2021-04-15\", \"2021-04-16\", \"2021-04-17\", \"2021-04-18\", \"2021-04-19\", \"2021-04-20\", \"2021-04-21\", \"2021-04-22\", \"2021-04-23\", \"2021-04-24\", \"2021-04-25\", \"2021-04-26\", \"2021-04-27\", \"2021-04-28\", \"2021-04-29\", \"2021-04-30\", \"2021-05-01\", \"2021-05-02\", \"2021-05-03\", \"2021-05-04\", \"2021-05-05\", \"2021-05-06\", \"2021-05-07\", \"2021-05-08\", \"2021-05-09\", \"2021-05-10\", \"2021-05-11\", \"2021-05-12\", \"2021-05-13\", \"2021-05-14\", \"2021-05-15\", \"2021-05-16\", \"2021-05-17\", \"2021-05-18\", \"2021-05-19\", \"2021-05-20\", \"2021-05-21\", \"2021-05-22\", \"2021-05-23\", \"2021-05-24\", \"2021-05-25\", \"2021-05-26\", \"2021-05-27\", \"2021-05-28\", \"2021-05-29\", \"2021-05-30\", \"2021-05-31\"], \"xaxis\": \"x\", \"y\": [78.08948939812278, 84.65073227116113, 78.48346563548358, 81.46729651921589, 81.8882362309041, 78.82871919699123, 69.09093965227892, 72.51833198789016, 69.77514386733948, 67.7514845089247, 69.3177741352074, 69.16082751030115, 72.359623470433, 85.0540251532075, 86.1843355109534, 80.79558491029866, 75.98927865118641, 70.77845908219979, 63.77794034985514, 66.72115302581744, 65.78814159002182, 64.97831298521739, 58.16916529174966, 53.93762198269204, 54.72254329086866, 60.1095132483706, 65.24877199303589, 62.91115585673489, 63.052605673842756, 65.6867247562454, 67.28726791631114, 65.20302132299338, 76.69087975333274, 68.908078649779, 70.67067028729825, 68.9405643608758, 66.47211988910375, 71.09841070254521, 67.74868525293138, 62.8252731748474, 70.99771215152356, 66.10663001407211, 59.92098243698384, 64.18989034563721, 57.24923209225889, 54.74584339033538, 49.25011230510467, 50.77435536590885, 35.62902397865662, 38.845589104074826, 33.218190602143785, 30.931581318602337, 26.25270750467681, 32.309047431455156, 32.62174846707984, 34.64332353202627, 32.7815546259697, 29.22822055899036, 27.956468459724718, 28.91316676455101, 32.29724577887436], \"yaxis\": \"y\"}, {\"hoverlabel\": {\"namelength\": 0}, \"hovertemplate\": \"<b>%{hovertext}</b><br><br>Type=Exchange<br>assets=SUSHI<br>time=%{x}<br>NVTAdj90=%{y}\", \"hovertext\": [\"SUSHI\", \"SUSHI\", \"SUSHI\", \"SUSHI\", \"SUSHI\", \"SUSHI\", \"SUSHI\", \"SUSHI\", \"SUSHI\", \"SUSHI\", \"SUSHI\", \"SUSHI\", \"SUSHI\", \"SUSHI\", \"SUSHI\", \"SUSHI\", \"SUSHI\", \"SUSHI\", \"SUSHI\", \"SUSHI\", \"SUSHI\", \"SUSHI\", \"SUSHI\", \"SUSHI\", \"SUSHI\", \"SUSHI\", \"SUSHI\", \"SUSHI\", \"SUSHI\", \"SUSHI\", \"SUSHI\", \"SUSHI\", \"SUSHI\", \"SUSHI\", \"SUSHI\", \"SUSHI\", \"SUSHI\", \"SUSHI\", \"SUSHI\", \"SUSHI\", \"SUSHI\", \"SUSHI\", \"SUSHI\", \"SUSHI\", \"SUSHI\", \"SUSHI\", \"SUSHI\", \"SUSHI\", \"SUSHI\", \"SUSHI\", \"SUSHI\", \"SUSHI\", \"SUSHI\", \"SUSHI\", \"SUSHI\", \"SUSHI\", \"SUSHI\", \"SUSHI\", \"SUSHI\", \"SUSHI\", \"SUSHI\"], \"legendgroup\": \"Type=Exchange\", \"line\": {\"color\": \"#EF553B\", \"dash\": \"solid\", \"shape\": \"spline\"}, \"mode\": \"lines\", \"name\": \"Type=Exchange\", \"showlegend\": false, \"type\": \"scatter\", \"x\": [\"2021-04-01\", \"2021-04-02\", \"2021-04-03\", \"2021-04-04\", \"2021-04-05\", \"2021-04-06\", \"2021-04-07\", \"2021-04-08\", \"2021-04-09\", \"2021-04-10\", \"2021-04-11\", \"2021-04-12\", \"2021-04-13\", \"2021-04-14\", \"2021-04-15\", \"2021-04-16\", \"2021-04-17\", \"2021-04-18\", \"2021-04-19\", \"2021-04-20\", \"2021-04-21\", \"2021-04-22\", \"2021-04-23\", \"2021-04-24\", \"2021-04-25\", \"2021-04-26\", \"2021-04-27\", \"2021-04-28\", \"2021-04-29\", \"2021-04-30\", \"2021-05-01\", \"2021-05-02\", \"2021-05-03\", \"2021-05-04\", \"2021-05-05\", \"2021-05-06\", \"2021-05-07\", \"2021-05-08\", \"2021-05-09\", \"2021-05-10\", \"2021-05-11\", \"2021-05-12\", \"2021-05-13\", \"2021-05-14\", \"2021-05-15\", \"2021-05-16\", \"2021-05-17\", \"2021-05-18\", \"2021-05-19\", \"2021-05-20\", \"2021-05-21\", \"2021-05-22\", \"2021-05-23\", \"2021-05-24\", \"2021-05-25\", \"2021-05-26\", \"2021-05-27\", \"2021-05-28\", \"2021-05-29\", \"2021-05-30\", \"2021-05-31\"], \"xaxis\": \"x\", \"y\": [12.738621805342431, 14.060637207475086, 12.840045681889482, 13.287098979150686, 12.733267650507162, 12.992896309412904, 11.855334802407071, 12.259585503592081, 12.233523133560569, 12.257746253946404, 12.012589822009122, 13.616895243601912, 13.449540755799134, 14.896208860107931, 15.061384968112808, 13.937145104907248, 13.615296607470412, 11.960880034101939, 10.388299612930618, 10.570437219473243, 10.452410989138055, 10.357966162581434, 9.714551399820346, 8.971869510350611, 9.159812001310602, 10.201482921964184, 11.992384775697925, 12.030535608553036, 11.945592034499311, 12.273878259395694, 12.735224115506165, 11.998309615567866, 12.507296936761222, 11.192280113600619, 12.650073259527128, 14.388556049379563, 13.697917233488074, 14.160424399133476, 13.619675239000369, 12.064948157164984, 13.403446899672934, 13.974126817530301, 12.831137009981227, 16.203759902558886, 14.198288733143599, 14.38898659216864, 14.124307866502779, 18.101415027024213, 11.583069918366014, 12.505899585939947, 10.387515162188302, 9.200961980526284, 7.281619784211791, 9.600225122924224, 9.83912630133842, 10.918903398754296, 9.970688449572046, 8.710509891581653, 8.347539045432638, 9.002453350865816, 10.41869200379194], \"yaxis\": \"y\"}],\n",
              "                        {\"legend\": {\"tracegroupgap\": 0}, \"margin\": {\"t\": 60}, \"template\": {\"data\": {\"bar\": [{\"error_x\": {\"color\": \"#2a3f5f\"}, \"error_y\": {\"color\": \"#2a3f5f\"}, \"marker\": {\"line\": {\"color\": \"#E5ECF6\", \"width\": 0.5}}, \"type\": \"bar\"}], \"barpolar\": [{\"marker\": {\"line\": {\"color\": \"#E5ECF6\", \"width\": 0.5}}, \"type\": \"barpolar\"}], \"carpet\": [{\"aaxis\": {\"endlinecolor\": \"#2a3f5f\", \"gridcolor\": \"white\", \"linecolor\": \"white\", \"minorgridcolor\": \"white\", \"startlinecolor\": \"#2a3f5f\"}, \"baxis\": {\"endlinecolor\": \"#2a3f5f\", \"gridcolor\": \"white\", \"linecolor\": \"white\", \"minorgridcolor\": \"white\", \"startlinecolor\": \"#2a3f5f\"}, \"type\": \"carpet\"}], \"choropleth\": [{\"colorbar\": {\"outlinewidth\": 0, \"ticks\": \"\"}, \"type\": \"choropleth\"}], \"contour\": [{\"colorbar\": {\"outlinewidth\": 0, \"ticks\": \"\"}, \"colorscale\": [[0.0, \"#0d0887\"], [0.1111111111111111, \"#46039f\"], [0.2222222222222222, \"#7201a8\"], [0.3333333333333333, \"#9c179e\"], [0.4444444444444444, \"#bd3786\"], [0.5555555555555556, \"#d8576b\"], [0.6666666666666666, \"#ed7953\"], [0.7777777777777778, \"#fb9f3a\"], [0.8888888888888888, \"#fdca26\"], [1.0, \"#f0f921\"]], \"type\": \"contour\"}], \"contourcarpet\": [{\"colorbar\": {\"outlinewidth\": 0, \"ticks\": \"\"}, \"type\": \"contourcarpet\"}], \"heatmap\": [{\"colorbar\": {\"outlinewidth\": 0, \"ticks\": \"\"}, \"colorscale\": [[0.0, \"#0d0887\"], [0.1111111111111111, \"#46039f\"], [0.2222222222222222, \"#7201a8\"], [0.3333333333333333, \"#9c179e\"], [0.4444444444444444, \"#bd3786\"], [0.5555555555555556, \"#d8576b\"], [0.6666666666666666, \"#ed7953\"], [0.7777777777777778, \"#fb9f3a\"], [0.8888888888888888, \"#fdca26\"], [1.0, \"#f0f921\"]], \"type\": \"heatmap\"}], \"heatmapgl\": [{\"colorbar\": {\"outlinewidth\": 0, \"ticks\": \"\"}, \"colorscale\": [[0.0, \"#0d0887\"], [0.1111111111111111, \"#46039f\"], [0.2222222222222222, \"#7201a8\"], [0.3333333333333333, \"#9c179e\"], [0.4444444444444444, \"#bd3786\"], [0.5555555555555556, \"#d8576b\"], [0.6666666666666666, \"#ed7953\"], [0.7777777777777778, \"#fb9f3a\"], [0.8888888888888888, \"#fdca26\"], [1.0, \"#f0f921\"]], \"type\": \"heatmapgl\"}], \"histogram\": [{\"marker\": {\"colorbar\": {\"outlinewidth\": 0, \"ticks\": \"\"}}, \"type\": \"histogram\"}], \"histogram2d\": [{\"colorbar\": {\"outlinewidth\": 0, \"ticks\": \"\"}, \"colorscale\": [[0.0, \"#0d0887\"], [0.1111111111111111, \"#46039f\"], [0.2222222222222222, \"#7201a8\"], [0.3333333333333333, \"#9c179e\"], [0.4444444444444444, \"#bd3786\"], [0.5555555555555556, \"#d8576b\"], [0.6666666666666666, \"#ed7953\"], [0.7777777777777778, \"#fb9f3a\"], [0.8888888888888888, \"#fdca26\"], [1.0, \"#f0f921\"]], \"type\": \"histogram2d\"}], \"histogram2dcontour\": [{\"colorbar\": {\"outlinewidth\": 0, \"ticks\": \"\"}, \"colorscale\": [[0.0, \"#0d0887\"], [0.1111111111111111, \"#46039f\"], [0.2222222222222222, \"#7201a8\"], [0.3333333333333333, \"#9c179e\"], [0.4444444444444444, \"#bd3786\"], [0.5555555555555556, \"#d8576b\"], [0.6666666666666666, \"#ed7953\"], [0.7777777777777778, \"#fb9f3a\"], [0.8888888888888888, \"#fdca26\"], [1.0, \"#f0f921\"]], \"type\": \"histogram2dcontour\"}], \"mesh3d\": [{\"colorbar\": {\"outlinewidth\": 0, \"ticks\": \"\"}, \"type\": \"mesh3d\"}], \"parcoords\": [{\"line\": {\"colorbar\": {\"outlinewidth\": 0, \"ticks\": \"\"}}, \"type\": \"parcoords\"}], \"pie\": [{\"automargin\": true, \"type\": \"pie\"}], \"scatter\": [{\"marker\": {\"colorbar\": {\"outlinewidth\": 0, \"ticks\": \"\"}}, \"type\": \"scatter\"}], \"scatter3d\": [{\"line\": {\"colorbar\": {\"outlinewidth\": 0, \"ticks\": \"\"}}, \"marker\": {\"colorbar\": {\"outlinewidth\": 0, \"ticks\": \"\"}}, \"type\": \"scatter3d\"}], \"scattercarpet\": [{\"marker\": {\"colorbar\": {\"outlinewidth\": 0, \"ticks\": \"\"}}, \"type\": \"scattercarpet\"}], \"scattergeo\": [{\"marker\": {\"colorbar\": {\"outlinewidth\": 0, \"ticks\": \"\"}}, \"type\": \"scattergeo\"}], \"scattergl\": [{\"marker\": {\"colorbar\": {\"outlinewidth\": 0, \"ticks\": \"\"}}, \"type\": \"scattergl\"}], \"scattermapbox\": [{\"marker\": {\"colorbar\": {\"outlinewidth\": 0, \"ticks\": \"\"}}, \"type\": \"scattermapbox\"}], \"scatterpolar\": [{\"marker\": {\"colorbar\": {\"outlinewidth\": 0, \"ticks\": \"\"}}, \"type\": \"scatterpolar\"}], \"scatterpolargl\": [{\"marker\": {\"colorbar\": {\"outlinewidth\": 0, \"ticks\": \"\"}}, \"type\": \"scatterpolargl\"}], \"scatterternary\": [{\"marker\": {\"colorbar\": {\"outlinewidth\": 0, \"ticks\": \"\"}}, \"type\": \"scatterternary\"}], \"surface\": [{\"colorbar\": {\"outlinewidth\": 0, \"ticks\": \"\"}, \"colorscale\": [[0.0, \"#0d0887\"], [0.1111111111111111, \"#46039f\"], [0.2222222222222222, \"#7201a8\"], [0.3333333333333333, \"#9c179e\"], [0.4444444444444444, \"#bd3786\"], [0.5555555555555556, \"#d8576b\"], [0.6666666666666666, \"#ed7953\"], [0.7777777777777778, \"#fb9f3a\"], [0.8888888888888888, \"#fdca26\"], [1.0, \"#f0f921\"]], \"type\": \"surface\"}], \"table\": [{\"cells\": {\"fill\": {\"color\": \"#EBF0F8\"}, \"line\": {\"color\": \"white\"}}, \"header\": {\"fill\": {\"color\": \"#C8D4E3\"}, \"line\": {\"color\": \"white\"}}, \"type\": \"table\"}]}, \"layout\": {\"annotationdefaults\": {\"arrowcolor\": \"#2a3f5f\", \"arrowhead\": 0, \"arrowwidth\": 1}, \"coloraxis\": {\"colorbar\": {\"outlinewidth\": 0, \"ticks\": \"\"}}, \"colorscale\": {\"diverging\": [[0, \"#8e0152\"], [0.1, \"#c51b7d\"], [0.2, \"#de77ae\"], [0.3, \"#f1b6da\"], [0.4, \"#fde0ef\"], [0.5, \"#f7f7f7\"], [0.6, \"#e6f5d0\"], [0.7, \"#b8e186\"], [0.8, \"#7fbc41\"], [0.9, \"#4d9221\"], [1, \"#276419\"]], \"sequential\": [[0.0, \"#0d0887\"], [0.1111111111111111, \"#46039f\"], [0.2222222222222222, \"#7201a8\"], [0.3333333333333333, \"#9c179e\"], [0.4444444444444444, \"#bd3786\"], [0.5555555555555556, \"#d8576b\"], [0.6666666666666666, \"#ed7953\"], [0.7777777777777778, \"#fb9f3a\"], [0.8888888888888888, \"#fdca26\"], [1.0, \"#f0f921\"]], \"sequentialminus\": [[0.0, \"#0d0887\"], [0.1111111111111111, \"#46039f\"], [0.2222222222222222, \"#7201a8\"], [0.3333333333333333, \"#9c179e\"], [0.4444444444444444, \"#bd3786\"], [0.5555555555555556, \"#d8576b\"], [0.6666666666666666, \"#ed7953\"], [0.7777777777777778, \"#fb9f3a\"], [0.8888888888888888, \"#fdca26\"], [1.0, \"#f0f921\"]]}, \"colorway\": [\"#636efa\", \"#EF553B\", \"#00cc96\", \"#ab63fa\", \"#FFA15A\", \"#19d3f3\", \"#FF6692\", \"#B6E880\", \"#FF97FF\", \"#FECB52\"], \"font\": {\"color\": \"#2a3f5f\"}, \"geo\": {\"bgcolor\": \"white\", \"lakecolor\": \"white\", \"landcolor\": \"#E5ECF6\", \"showlakes\": true, \"showland\": true, \"subunitcolor\": \"white\"}, \"hoverlabel\": {\"align\": \"left\"}, \"hovermode\": \"closest\", \"mapbox\": {\"style\": \"light\"}, \"paper_bgcolor\": \"white\", \"plot_bgcolor\": \"#E5ECF6\", \"polar\": {\"angularaxis\": {\"gridcolor\": \"white\", \"linecolor\": \"white\", \"ticks\": \"\"}, \"bgcolor\": \"#E5ECF6\", \"radialaxis\": {\"gridcolor\": \"white\", \"linecolor\": \"white\", \"ticks\": \"\"}}, \"scene\": {\"xaxis\": {\"backgroundcolor\": \"#E5ECF6\", \"gridcolor\": \"white\", \"gridwidth\": 2, \"linecolor\": \"white\", \"showbackground\": true, \"ticks\": \"\", \"zerolinecolor\": \"white\"}, \"yaxis\": {\"backgroundcolor\": \"#E5ECF6\", \"gridcolor\": \"white\", \"gridwidth\": 2, \"linecolor\": \"white\", \"showbackground\": true, \"ticks\": \"\", \"zerolinecolor\": \"white\"}, \"zaxis\": {\"backgroundcolor\": \"#E5ECF6\", \"gridcolor\": \"white\", \"gridwidth\": 2, \"linecolor\": \"white\", \"showbackground\": true, \"ticks\": \"\", \"zerolinecolor\": \"white\"}}, \"shapedefaults\": {\"line\": {\"color\": \"#2a3f5f\"}}, \"ternary\": {\"aaxis\": {\"gridcolor\": \"white\", \"linecolor\": \"white\", \"ticks\": \"\"}, \"baxis\": {\"gridcolor\": \"white\", \"linecolor\": \"white\", \"ticks\": \"\"}, \"bgcolor\": \"#E5ECF6\", \"caxis\": {\"gridcolor\": \"white\", \"linecolor\": \"white\", \"ticks\": \"\"}}, \"title\": {\"x\": 0.05}, \"xaxis\": {\"automargin\": true, \"gridcolor\": \"white\", \"linecolor\": \"white\", \"ticks\": \"\", \"title\": {\"standoff\": 15}, \"zerolinecolor\": \"white\", \"zerolinewidth\": 2}, \"yaxis\": {\"automargin\": true, \"gridcolor\": \"white\", \"linecolor\": \"white\", \"ticks\": \"\", \"title\": {\"standoff\": 15}, \"zerolinecolor\": \"white\", \"zerolinewidth\": 2}}}, \"xaxis\": {\"anchor\": \"y\", \"domain\": [0.0, 1.0], \"title\": {\"text\": \"time\"}}, \"yaxis\": {\"anchor\": \"x\", \"domain\": [0.0, 1.0], \"title\": {\"text\": \"NVTAdj90\"}}},\n",
              "                        {\"responsive\": true}\n",
              "                    ).then(function(){\n",
              "                            \n",
              "var gd = document.getElementById('491b4eb9-05cf-481f-aba6-609d1899f5f5');\n",
              "var x = new MutationObserver(function (mutations, observer) {{\n",
              "        var display = window.getComputedStyle(gd).display;\n",
              "        if (!display || display === 'none') {{\n",
              "            console.log([gd, 'removed!']);\n",
              "            Plotly.purge(gd);\n",
              "            observer.disconnect();\n",
              "        }}\n",
              "}});\n",
              "\n",
              "// Listen for the removal of the full notebook cells\n",
              "var notebookContainer = gd.closest('#notebook-container');\n",
              "if (notebookContainer) {{\n",
              "    x.observe(notebookContainer, {childList: true});\n",
              "}}\n",
              "\n",
              "// Listen for the clearing of the current output cell\n",
              "var outputEl = gd.closest('.output');\n",
              "if (outputEl) {{\n",
              "    x.observe(outputEl, {childList: true});\n",
              "}}\n",
              "\n",
              "                        })\n",
              "                };\n",
              "                \n",
              "            </script>\n",
              "        </div>\n",
              "</body>\n",
              "</html>"
            ]
          },
          "metadata": {
            "tags": []
          }
        }
      ]
    },
    {
      "cell_type": "code",
      "metadata": {
        "colab": {
          "base_uri": "https://localhost:8080/",
          "height": 542
        },
        "id": "jFqhutqrWC6V",
        "outputId": "c3565d72-ce0e-4edc-fd04-7fa27ce13635"
      },
      "source": [
        "import plotly.express as px\n",
        "fig = px.line(df, x=\"time\", y=\"TxTfrValAdjUSD\", color=\"Type\", line_group=\"assets\", hover_name=\"assets\",\n",
        "        line_shape=\"spline\", render_mode=\"svg\")\n",
        "fig.show()"
      ],
      "execution_count": 449,
      "outputs": [
        {
          "output_type": "display_data",
          "data": {
            "text/html": [
              "<html>\n",
              "<head><meta charset=\"utf-8\" /></head>\n",
              "<body>\n",
              "    <div>\n",
              "            <script src=\"https://cdnjs.cloudflare.com/ajax/libs/mathjax/2.7.5/MathJax.js?config=TeX-AMS-MML_SVG\"></script><script type=\"text/javascript\">if (window.MathJax) {MathJax.Hub.Config({SVG: {font: \"STIX-Web\"}});}</script>\n",
              "                <script type=\"text/javascript\">window.PlotlyConfig = {MathJaxConfig: 'local'};</script>\n",
              "        <script src=\"https://cdn.plot.ly/plotly-latest.min.js\"></script>    \n",
              "            <div id=\"17846692-4a40-4d0a-82fa-a88aa3dd8a38\" class=\"plotly-graph-div\" style=\"height:525px; width:100%;\"></div>\n",
              "            <script type=\"text/javascript\">\n",
              "                \n",
              "                    window.PLOTLYENV=window.PLOTLYENV || {};\n",
              "                    \n",
              "                if (document.getElementById(\"17846692-4a40-4d0a-82fa-a88aa3dd8a38\")) {\n",
              "                    Plotly.newPlot(\n",
              "                        '17846692-4a40-4d0a-82fa-a88aa3dd8a38',\n",
              "                        [{\"hoverlabel\": {\"namelength\": 0}, \"hovertemplate\": \"<b>%{hovertext}</b><br><br>Type=Lending<br>assets=COMP<br>time=%{x}<br>TxTfrValAdjUSD=%{y}\", \"hovertext\": [\"COMP\", \"COMP\", \"COMP\", \"COMP\", \"COMP\", \"COMP\", \"COMP\", \"COMP\", \"COMP\", \"COMP\", \"COMP\", \"COMP\", \"COMP\", \"COMP\", \"COMP\", \"COMP\", \"COMP\", \"COMP\", \"COMP\", \"COMP\", \"COMP\", \"COMP\", \"COMP\", \"COMP\", \"COMP\", \"COMP\", \"COMP\", \"COMP\", \"COMP\", \"COMP\", \"COMP\", \"COMP\", \"COMP\", \"COMP\", \"COMP\", \"COMP\", \"COMP\", \"COMP\", \"COMP\", \"COMP\", \"COMP\", \"COMP\", \"COMP\", \"COMP\", \"COMP\", \"COMP\", \"COMP\", \"COMP\", \"COMP\", \"COMP\", \"COMP\", \"COMP\", \"COMP\", \"COMP\", \"COMP\", \"COMP\", \"COMP\", \"COMP\", \"COMP\", \"COMP\", \"COMP\"], \"legendgroup\": \"Type=Lending\", \"line\": {\"color\": \"#636efa\", \"dash\": \"solid\", \"shape\": \"spline\"}, \"mode\": \"lines\", \"name\": \"Type=Lending\", \"showlegend\": true, \"type\": \"scatter\", \"x\": [\"2021-04-01\", \"2021-04-02\", \"2021-04-03\", \"2021-04-04\", \"2021-04-05\", \"2021-04-06\", \"2021-04-07\", \"2021-04-08\", \"2021-04-09\", \"2021-04-10\", \"2021-04-11\", \"2021-04-12\", \"2021-04-13\", \"2021-04-14\", \"2021-04-15\", \"2021-04-16\", \"2021-04-17\", \"2021-04-18\", \"2021-04-19\", \"2021-04-20\", \"2021-04-21\", \"2021-04-22\", \"2021-04-23\", \"2021-04-24\", \"2021-04-25\", \"2021-04-26\", \"2021-04-27\", \"2021-04-28\", \"2021-04-29\", \"2021-04-30\", \"2021-05-01\", \"2021-05-02\", \"2021-05-03\", \"2021-05-04\", \"2021-05-05\", \"2021-05-06\", \"2021-05-07\", \"2021-05-08\", \"2021-05-09\", \"2021-05-10\", \"2021-05-11\", \"2021-05-12\", \"2021-05-13\", \"2021-05-14\", \"2021-05-15\", \"2021-05-16\", \"2021-05-17\", \"2021-05-18\", \"2021-05-19\", \"2021-05-20\", \"2021-05-21\", \"2021-05-22\", \"2021-05-23\", \"2021-05-24\", \"2021-05-25\", \"2021-05-26\", \"2021-05-27\", \"2021-05-28\", \"2021-05-29\", \"2021-05-30\", \"2021-05-31\"], \"xaxis\": \"x\", \"y\": [97444219.76354516, 60236120.93262199, 113468915.15772729, 136660388.62187862, 91701029.24836247, 93344011.71247981, 117349103.06172682, 78401009.91064444, 172600316.13217488, 38631145.83816401, 21853902.9081222, 42339947.316969834, 64755171.89689588, 110970637.30024113, 110121935.13475832, 152394591.73273298, 36502826.65316209, 57531381.2714541, 66554878.17072757, 199349236.81208912, 54995271.6538783, 132654347.56673886, 219513181.0531542, 64054584.57661696, 44106130.173772424, 61518734.87848515, 106596974.56409667, 183800668.19252548, 86894151.72677736, 176504552.09529686, 172022544.3931035, 151015789.42612544, 142094711.1413977, 97959305.20020126, 66246207.01785417, 47921398.768218994, 76140499.7815607, 74044473.5314391, 40525392.90562959, 93517932.33999838, 334294106.2868107, 295118529.8164269, 218032330.67389056, 119931998.01622124, 40562365.47944792, 47687883.35218603, 96757728.08591565, 98720660.07835953, 125547524.35017353, 145958878.96818918, 127980149.87777233, 66296155.677576415, 56376834.21431973, 52040687.86719016, 128090323.57198372, 146875260.39944187, 80014333.77286248, 31536724.476337902, 28466388.655664485, 26572403.586806916, 36618718.038074106], \"yaxis\": \"y\"}, {\"hoverlabel\": {\"namelength\": 0}, \"hovertemplate\": \"<b>%{hovertext}</b><br><br>Type=Lending<br>assets=AAVE<br>time=%{x}<br>TxTfrValAdjUSD=%{y}\", \"hovertext\": [\"AAVE\", \"AAVE\", \"AAVE\", \"AAVE\", \"AAVE\", \"AAVE\", \"AAVE\", \"AAVE\", \"AAVE\", \"AAVE\", \"AAVE\", \"AAVE\", \"AAVE\", \"AAVE\", \"AAVE\", \"AAVE\", \"AAVE\", \"AAVE\", \"AAVE\", \"AAVE\", \"AAVE\", \"AAVE\", \"AAVE\", \"AAVE\", \"AAVE\", \"AAVE\", \"AAVE\", \"AAVE\", \"AAVE\", \"AAVE\", \"AAVE\", \"AAVE\", \"AAVE\", \"AAVE\", \"AAVE\", \"AAVE\", \"AAVE\", \"AAVE\", \"AAVE\", \"AAVE\", \"AAVE\", \"AAVE\", \"AAVE\", \"AAVE\", \"AAVE\", \"AAVE\", \"AAVE\", \"AAVE\", \"AAVE\", \"AAVE\", \"AAVE\", \"AAVE\", \"AAVE\", \"AAVE\", \"AAVE\", \"AAVE\", \"AAVE\", \"AAVE\", \"AAVE\", \"AAVE\", \"AAVE\"], \"legendgroup\": \"Type=Lending\", \"line\": {\"color\": \"#636efa\", \"dash\": \"solid\", \"shape\": \"spline\"}, \"mode\": \"lines\", \"name\": \"Type=Lending\", \"showlegend\": false, \"type\": \"scatter\", \"x\": [\"2021-04-01\", \"2021-04-02\", \"2021-04-03\", \"2021-04-04\", \"2021-04-05\", \"2021-04-06\", \"2021-04-07\", \"2021-04-08\", \"2021-04-09\", \"2021-04-10\", \"2021-04-11\", \"2021-04-12\", \"2021-04-13\", \"2021-04-14\", \"2021-04-15\", \"2021-04-16\", \"2021-04-17\", \"2021-04-18\", \"2021-04-19\", \"2021-04-20\", \"2021-04-21\", \"2021-04-22\", \"2021-04-23\", \"2021-04-24\", \"2021-04-25\", \"2021-04-26\", \"2021-04-27\", \"2021-04-28\", \"2021-04-29\", \"2021-04-30\", \"2021-05-01\", \"2021-05-02\", \"2021-05-03\", \"2021-05-04\", \"2021-05-05\", \"2021-05-06\", \"2021-05-07\", \"2021-05-08\", \"2021-05-09\", \"2021-05-10\", \"2021-05-11\", \"2021-05-12\", \"2021-05-13\", \"2021-05-14\", \"2021-05-15\", \"2021-05-16\", \"2021-05-17\", \"2021-05-18\", \"2021-05-19\", \"2021-05-20\", \"2021-05-21\", \"2021-05-22\", \"2021-05-23\", \"2021-05-24\", \"2021-05-25\", \"2021-05-26\", \"2021-05-27\", \"2021-05-28\", \"2021-05-29\", \"2021-05-30\", \"2021-05-31\"], \"xaxis\": \"x\", \"y\": [114633184.30245675, 217196019.57906562, 76065509.17981794, 92155324.05791052, 117313336.84917247, 108752653.78728358, 165350744.46595, 103911880.34622562, 53996281.36981859, 83643032.39062649, 82408271.7801781, 348884106.0137382, 188830964.85357526, 192825733.02713925, 319584470.0726124, 155441635.25334534, 113547238.67454617, 214650636.51197055, 135383180.28002778, 168929837.56429932, 125300283.31032138, 243429034.14546475, 146791125.33639953, 71598589.36750652, 78888044.21097769, 286235273.6045757, 234683828.41696027, 309309075.38436246, 202452738.9868807, 173490696.42207414, 294689538.4114012, 197849561.75639215, 200768178.39753312, 179638349.21555486, 979141805.9684978, 838123380.5426214, 188937449.9705296, 109759861.31564727, 113296102.72703683, 204653999.40800253, 94336583.99236748, 594963556.0638565, 456176615.4500231, 502061060.1943973, 260667164.83270437, 294036169.5180048, 488624788.6285995, 675602148.709877, 443906028.34117407, 440335755.8305813, 333264654.52494514, 276727166.8902059, 315716057.34338516, 394913535.6981019, 247903853.59821334, 247058625.5656813, 278315697.897975, 186626436.5890881, 115269745.43486777, 311278311.67831224, 138718182.2675512], \"yaxis\": \"y\"}, {\"hoverlabel\": {\"namelength\": 0}, \"hovertemplate\": \"<b>%{hovertext}</b><br><br>Type=Lending<br>assets=MKR<br>time=%{x}<br>TxTfrValAdjUSD=%{y}\", \"hovertext\": [\"MKR\", \"MKR\", \"MKR\", \"MKR\", \"MKR\", \"MKR\", \"MKR\", \"MKR\", \"MKR\", \"MKR\", \"MKR\", \"MKR\", \"MKR\", \"MKR\", \"MKR\", \"MKR\", \"MKR\", \"MKR\", \"MKR\", \"MKR\", \"MKR\", \"MKR\", \"MKR\", \"MKR\", \"MKR\", \"MKR\", \"MKR\", \"MKR\", \"MKR\", \"MKR\", \"MKR\", \"MKR\", \"MKR\", \"MKR\", \"MKR\", \"MKR\", \"MKR\", \"MKR\", \"MKR\", \"MKR\", \"MKR\", \"MKR\", \"MKR\", \"MKR\", \"MKR\", \"MKR\", \"MKR\", \"MKR\", \"MKR\", \"MKR\", \"MKR\", \"MKR\", \"MKR\", \"MKR\", \"MKR\", \"MKR\", \"MKR\", \"MKR\", \"MKR\", \"MKR\", \"MKR\"], \"legendgroup\": \"Type=Lending\", \"line\": {\"color\": \"#636efa\", \"dash\": \"solid\", \"shape\": \"spline\"}, \"mode\": \"lines\", \"name\": \"Type=Lending\", \"showlegend\": false, \"type\": \"scatter\", \"x\": [\"2021-04-01\", \"2021-04-02\", \"2021-04-03\", \"2021-04-04\", \"2021-04-05\", \"2021-04-06\", \"2021-04-07\", \"2021-04-08\", \"2021-04-09\", \"2021-04-10\", \"2021-04-11\", \"2021-04-12\", \"2021-04-13\", \"2021-04-14\", \"2021-04-15\", \"2021-04-16\", \"2021-04-17\", \"2021-04-18\", \"2021-04-19\", \"2021-04-20\", \"2021-04-21\", \"2021-04-22\", \"2021-04-23\", \"2021-04-24\", \"2021-04-25\", \"2021-04-26\", \"2021-04-27\", \"2021-04-28\", \"2021-04-29\", \"2021-04-30\", \"2021-05-01\", \"2021-05-02\", \"2021-05-03\", \"2021-05-04\", \"2021-05-05\", \"2021-05-06\", \"2021-05-07\", \"2021-05-08\", \"2021-05-09\", \"2021-05-10\", \"2021-05-11\", \"2021-05-12\", \"2021-05-13\", \"2021-05-14\", \"2021-05-15\", \"2021-05-16\", \"2021-05-17\", \"2021-05-18\", \"2021-05-19\", \"2021-05-20\", \"2021-05-21\", \"2021-05-22\", \"2021-05-23\", \"2021-05-24\", \"2021-05-25\", \"2021-05-26\", \"2021-05-27\", \"2021-05-28\", \"2021-05-29\", \"2021-05-30\", \"2021-05-31\"], \"xaxis\": \"x\", \"y\": [53605998.94723818, 58584735.267651536, 41539965.02750892, 90052794.98070206, 19233474.419664875, 39210674.30976207, 39755403.53336295, 124150476.10546958, 89519464.28716302, 34087570.47398983, 17716072.6178756, 85414020.8389853, 154481192.02409664, 69730985.43194233, 209056305.68317857, 137938726.52912658, 58435744.018240415, 82215986.95396726, 135754631.68264776, 108588261.11813429, 172717652.58950844, 369702436.451682, 604352404.800398, 99729416.78801616, 56965779.403712586, 70201375.92303805, 102620854.80900417, 89604385.02260768, 53750813.02476201, 45822768.39447934, 102353834.23283708, 120222801.90458351, 748059804.5466511, 262406098.06481448, 127549507.6163675, 97875585.89491102, 80638681.90925057, 98354723.55279683, 74396834.34603924, 85343237.59971276, 72084231.10604742, 186182227.4444672, 132955580.5198713, 58362839.403119504, 53627361.81790479, 36337540.42178848, 80778283.62563212, 224842166.55883935, 268966535.9268837, 127414041.44061494, 83973729.13385445, 132922103.40067184, 222065635.9025793, 426545411.11637825, 247541922.71737227, 116567279.74449754, 60817092.67732808, 50186638.03801809, 55740815.9302459, 41682035.38437569, 56652085.78331083], \"yaxis\": \"y\"}, {\"hoverlabel\": {\"namelength\": 0}, \"hovertemplate\": \"<b>%{hovertext}</b><br><br>Type=Exchange<br>assets=UNI<br>time=%{x}<br>TxTfrValAdjUSD=%{y}\", \"hovertext\": [\"UNI\", \"UNI\", \"UNI\", \"UNI\", \"UNI\", \"UNI\", \"UNI\", \"UNI\", \"UNI\", \"UNI\", \"UNI\", \"UNI\", \"UNI\", \"UNI\", \"UNI\", \"UNI\", \"UNI\", \"UNI\", \"UNI\", \"UNI\", \"UNI\", \"UNI\", \"UNI\", \"UNI\", \"UNI\", \"UNI\", \"UNI\", \"UNI\", \"UNI\", \"UNI\", \"UNI\", \"UNI\", \"UNI\", \"UNI\", \"UNI\", \"UNI\", \"UNI\", \"UNI\", \"UNI\", \"UNI\", \"UNI\", \"UNI\", \"UNI\", \"UNI\", \"UNI\", \"UNI\", \"UNI\", \"UNI\", \"UNI\", \"UNI\", \"UNI\", \"UNI\", \"UNI\", \"UNI\", \"UNI\", \"UNI\", \"UNI\", \"UNI\", \"UNI\", \"UNI\", \"UNI\"], \"legendgroup\": \"Type=Exchange\", \"line\": {\"color\": \"#EF553B\", \"dash\": \"solid\", \"shape\": \"spline\"}, \"mode\": \"lines\", \"name\": \"Type=Exchange\", \"showlegend\": true, \"type\": \"scatter\", \"x\": [\"2021-04-01\", \"2021-04-02\", \"2021-04-03\", \"2021-04-04\", \"2021-04-05\", \"2021-04-06\", \"2021-04-07\", \"2021-04-08\", \"2021-04-09\", \"2021-04-10\", \"2021-04-11\", \"2021-04-12\", \"2021-04-13\", \"2021-04-14\", \"2021-04-15\", \"2021-04-16\", \"2021-04-17\", \"2021-04-18\", \"2021-04-19\", \"2021-04-20\", \"2021-04-21\", \"2021-04-22\", \"2021-04-23\", \"2021-04-24\", \"2021-04-25\", \"2021-04-26\", \"2021-04-27\", \"2021-04-28\", \"2021-04-29\", \"2021-04-30\", \"2021-05-01\", \"2021-05-02\", \"2021-05-03\", \"2021-05-04\", \"2021-05-05\", \"2021-05-06\", \"2021-05-07\", \"2021-05-08\", \"2021-05-09\", \"2021-05-10\", \"2021-05-11\", \"2021-05-12\", \"2021-05-13\", \"2021-05-14\", \"2021-05-15\", \"2021-05-16\", \"2021-05-17\", \"2021-05-18\", \"2021-05-19\", \"2021-05-20\", \"2021-05-21\", \"2021-05-22\", \"2021-05-23\", \"2021-05-24\", \"2021-05-25\", \"2021-05-26\", \"2021-05-27\", \"2021-05-28\", \"2021-05-29\", \"2021-05-30\", \"2021-05-31\"], \"xaxis\": \"x\", \"y\": [196569088.81655726, 578389234.7675081, 129364304.77433267, 70020790.86308889, 160610224.71667418, 92077740.66513707, 95598845.32794352, 119306616.61183481, 154964109.83160195, 66263458.10418074, 78044217.0303615, 430122788.0750189, 374583436.256086, 226824689.3090726, 289378787.441699, 150717288.1087156, 93456155.92306502, 211808199.9446583, 323570870.14856476, 203573668.3842241, 259630515.95575193, 304940325.342551, 277995455.4816048, 119480518.45256002, 139087041.516701, 269736003.7277004, 268880962.6993405, 246984983.46056154, 335856021.77340007, 1458142405.530867, 160781225.19092327, 158132637.15493757, 268374785.01565483, 362204140.68044716, 377543870.58961153, 304198712.23373985, 240460090.79558247, 197961680.08955485, 204144420.94424197, 251144742.83307692, 131199806.44209008, 446161653.6751484, 465932526.43552285, 152307729.9892951, 228534754.6903516, 271663416.4391215, 470939257.8703631, 210376376.69120583, 475885992.563932, 396084098.4394019, 484070787.11453, 309985627.30283105, 384541635.4957301, 284556551.8396621, 263983039.02169478, 238118448.56884304, 364118714.33921206, 246235749.21740642, 336088532.9133716, 160626425.16926178, 192701009.3349968], \"yaxis\": \"y\"}, {\"hoverlabel\": {\"namelength\": 0}, \"hovertemplate\": \"<b>%{hovertext}</b><br><br>Type=Exchange<br>assets=BAL<br>time=%{x}<br>TxTfrValAdjUSD=%{y}\", \"hovertext\": [\"BAL\", \"BAL\", \"BAL\", \"BAL\", \"BAL\", \"BAL\", \"BAL\", \"BAL\", \"BAL\", \"BAL\", \"BAL\", \"BAL\", \"BAL\", \"BAL\", \"BAL\", \"BAL\", \"BAL\", \"BAL\", \"BAL\", \"BAL\", \"BAL\", \"BAL\", \"BAL\", \"BAL\", \"BAL\", \"BAL\", \"BAL\", \"BAL\", \"BAL\", \"BAL\", \"BAL\", \"BAL\", \"BAL\", \"BAL\", \"BAL\", \"BAL\", \"BAL\", \"BAL\", \"BAL\", \"BAL\", \"BAL\", \"BAL\", \"BAL\", \"BAL\", \"BAL\", \"BAL\", \"BAL\", \"BAL\", \"BAL\", \"BAL\", \"BAL\", \"BAL\", \"BAL\", \"BAL\", \"BAL\", \"BAL\", \"BAL\", \"BAL\", \"BAL\", \"BAL\", \"BAL\"], \"legendgroup\": \"Type=Exchange\", \"line\": {\"color\": \"#EF553B\", \"dash\": \"solid\", \"shape\": \"spline\"}, \"mode\": \"lines\", \"name\": \"Type=Exchange\", \"showlegend\": false, \"type\": \"scatter\", \"x\": [\"2021-04-01\", \"2021-04-02\", \"2021-04-03\", \"2021-04-04\", \"2021-04-05\", \"2021-04-06\", \"2021-04-07\", \"2021-04-08\", \"2021-04-09\", \"2021-04-10\", \"2021-04-11\", \"2021-04-12\", \"2021-04-13\", \"2021-04-14\", \"2021-04-15\", \"2021-04-16\", \"2021-04-17\", \"2021-04-18\", \"2021-04-19\", \"2021-04-20\", \"2021-04-21\", \"2021-04-22\", \"2021-04-23\", \"2021-04-24\", \"2021-04-25\", \"2021-04-26\", \"2021-04-27\", \"2021-04-28\", \"2021-04-29\", \"2021-04-30\", \"2021-05-01\", \"2021-05-02\", \"2021-05-03\", \"2021-05-04\", \"2021-05-05\", \"2021-05-06\", \"2021-05-07\", \"2021-05-08\", \"2021-05-09\", \"2021-05-10\", \"2021-05-11\", \"2021-05-12\", \"2021-05-13\", \"2021-05-14\", \"2021-05-15\", \"2021-05-16\", \"2021-05-17\", \"2021-05-18\", \"2021-05-19\", \"2021-05-20\", \"2021-05-21\", \"2021-05-22\", \"2021-05-23\", \"2021-05-24\", \"2021-05-25\", \"2021-05-26\", \"2021-05-27\", \"2021-05-28\", \"2021-05-29\", \"2021-05-30\", \"2021-05-31\"], \"xaxis\": \"x\", \"y\": [20243699.055885475, 28457620.214717977, 31374851.958871752, 11242303.892230833, 12968493.70772917, 41773221.59845559, 34744776.83533986, 28174070.548973314, 12041705.21973201, 26568664.002270587, 10776625.686464723, 19835078.730807822, 30541409.64526366, 89890378.18117985, 81596997.538945, 23239433.913697813, 80768122.21569936, 43200391.07032004, 49447154.807387486, 51380602.70609421, 34505106.89125519, 40105853.8872563, 85839110.54455951, 14445201.571536794, 16746467.40690068, 63304190.03909402, 120027981.06594653, 96898818.22688691, 45041010.68449697, 34260111.49351254, 33195994.070280224, 29760103.745564826, 65997957.715158276, 83523812.16045426, 74391052.89004377, 26990519.913672805, 31377180.845719587, 30945597.194465693, 49367176.361759655, 60136942.156451955, 82606072.85919106, 72190262.05952927, 56810699.408243604, 28366439.126562193, 20142781.60753977, 16690757.362297734, 39585682.85717518, 54070599.486967936, 59923400.4058856, 36985070.10678536, 29661661.92978295, 13879424.862638561, 27810188.636467293, 48955344.71224505, 23768965.952283707, 15424253.394735781, 11910680.357256979, 16734167.399136277, 15798216.7946114, 6180181.747689594, 9554674.43293931], \"yaxis\": \"y\"}, {\"hoverlabel\": {\"namelength\": 0}, \"hovertemplate\": \"<b>%{hovertext}</b><br><br>Type=Exchange<br>assets=SUSHI<br>time=%{x}<br>TxTfrValAdjUSD=%{y}\", \"hovertext\": [\"SUSHI\", \"SUSHI\", \"SUSHI\", \"SUSHI\", \"SUSHI\", \"SUSHI\", \"SUSHI\", \"SUSHI\", \"SUSHI\", \"SUSHI\", \"SUSHI\", \"SUSHI\", \"SUSHI\", \"SUSHI\", \"SUSHI\", \"SUSHI\", \"SUSHI\", \"SUSHI\", \"SUSHI\", \"SUSHI\", \"SUSHI\", \"SUSHI\", \"SUSHI\", \"SUSHI\", \"SUSHI\", \"SUSHI\", \"SUSHI\", \"SUSHI\", \"SUSHI\", \"SUSHI\", \"SUSHI\", \"SUSHI\", \"SUSHI\", \"SUSHI\", \"SUSHI\", \"SUSHI\", \"SUSHI\", \"SUSHI\", \"SUSHI\", \"SUSHI\", \"SUSHI\", \"SUSHI\", \"SUSHI\", \"SUSHI\", \"SUSHI\", \"SUSHI\", \"SUSHI\", \"SUSHI\", \"SUSHI\", \"SUSHI\", \"SUSHI\", \"SUSHI\", \"SUSHI\", \"SUSHI\", \"SUSHI\", \"SUSHI\", \"SUSHI\", \"SUSHI\", \"SUSHI\", \"SUSHI\", \"SUSHI\"], \"legendgroup\": \"Type=Exchange\", \"line\": {\"color\": \"#EF553B\", \"dash\": \"solid\", \"shape\": \"spline\"}, \"mode\": \"lines\", \"name\": \"Type=Exchange\", \"showlegend\": false, \"type\": \"scatter\", \"x\": [\"2021-04-01\", \"2021-04-02\", \"2021-04-03\", \"2021-04-04\", \"2021-04-05\", \"2021-04-06\", \"2021-04-07\", \"2021-04-08\", \"2021-04-09\", \"2021-04-10\", \"2021-04-11\", \"2021-04-12\", \"2021-04-13\", \"2021-04-14\", \"2021-04-15\", \"2021-04-16\", \"2021-04-17\", \"2021-04-18\", \"2021-04-19\", \"2021-04-20\", \"2021-04-21\", \"2021-04-22\", \"2021-04-23\", \"2021-04-24\", \"2021-04-25\", \"2021-04-26\", \"2021-04-27\", \"2021-04-28\", \"2021-04-29\", \"2021-04-30\", \"2021-05-01\", \"2021-05-02\", \"2021-05-03\", \"2021-05-04\", \"2021-05-05\", \"2021-05-06\", \"2021-05-07\", \"2021-05-08\", \"2021-05-09\", \"2021-05-10\", \"2021-05-11\", \"2021-05-12\", \"2021-05-13\", \"2021-05-14\", \"2021-05-15\", \"2021-05-16\", \"2021-05-17\", \"2021-05-18\", \"2021-05-19\", \"2021-05-20\", \"2021-05-21\", \"2021-05-22\", \"2021-05-23\", \"2021-05-24\", \"2021-05-25\", \"2021-05-26\", \"2021-05-27\", \"2021-05-28\", \"2021-05-29\", \"2021-05-30\", \"2021-05-31\"], \"xaxis\": \"x\", \"y\": [117694338.2101262, 116142610.73676965, 133740778.45993163, 96136482.64215666, 909667215.0422261, 204218928.94102794, 219749132.3272804, 107988048.77333416, 251278028.8829398, 55146485.65305588, 87706433.6726889, 331644361.1123251, 157645021.76672256, 288058937.8835983, 121541954.27859162, 182055412.50411806, 285021237.528696, 354140243.72254866, 232482542.47081503, 405290702.85240006, 141739511.92239824, 295810097.5672351, 314664417.1120731, 115182252.7384104, 133188139.84239875, 237951444.79591542, 226792279.74444097, 169344629.99401692, 201485051.34791553, 127348825.47378159, 181355767.96637356, 323327066.4699091, 183358036.03125915, 134022984.06346406, 111761022.17864518, 350414997.18320996, 390301194.15084004, 164477471.9640691, 147374919.42729512, 313672719.5623421, 145338858.76168728, 449809909.8266606, 341595417.4590751, 521756855.65394616, 240417985.64688194, 268639619.35041165, 300959233.7952964, 774924202.2274224, 494803886.97109586, 496325243.24418813, 335471406.9895336, 371210642.6010902, 603399185.6043884, 445188950.97222686, 332860390.25948215, 291555221.8580945, 181405190.60028672, 168839056.75975168, 124492629.32392369, 90823164.63715078, 204551802.50044894], \"yaxis\": \"y\"}],\n",
              "                        {\"legend\": {\"tracegroupgap\": 0}, \"margin\": {\"t\": 60}, \"template\": {\"data\": {\"bar\": [{\"error_x\": {\"color\": \"#2a3f5f\"}, \"error_y\": {\"color\": \"#2a3f5f\"}, \"marker\": {\"line\": {\"color\": \"#E5ECF6\", \"width\": 0.5}}, \"type\": \"bar\"}], \"barpolar\": [{\"marker\": {\"line\": {\"color\": \"#E5ECF6\", \"width\": 0.5}}, \"type\": \"barpolar\"}], \"carpet\": [{\"aaxis\": {\"endlinecolor\": \"#2a3f5f\", \"gridcolor\": \"white\", \"linecolor\": \"white\", \"minorgridcolor\": \"white\", \"startlinecolor\": \"#2a3f5f\"}, \"baxis\": {\"endlinecolor\": \"#2a3f5f\", \"gridcolor\": \"white\", \"linecolor\": \"white\", \"minorgridcolor\": \"white\", \"startlinecolor\": \"#2a3f5f\"}, \"type\": \"carpet\"}], \"choropleth\": [{\"colorbar\": {\"outlinewidth\": 0, \"ticks\": \"\"}, \"type\": \"choropleth\"}], \"contour\": [{\"colorbar\": {\"outlinewidth\": 0, \"ticks\": \"\"}, \"colorscale\": [[0.0, \"#0d0887\"], [0.1111111111111111, \"#46039f\"], [0.2222222222222222, \"#7201a8\"], [0.3333333333333333, \"#9c179e\"], [0.4444444444444444, \"#bd3786\"], [0.5555555555555556, \"#d8576b\"], [0.6666666666666666, \"#ed7953\"], [0.7777777777777778, \"#fb9f3a\"], [0.8888888888888888, \"#fdca26\"], [1.0, \"#f0f921\"]], \"type\": \"contour\"}], \"contourcarpet\": [{\"colorbar\": {\"outlinewidth\": 0, \"ticks\": \"\"}, \"type\": \"contourcarpet\"}], \"heatmap\": [{\"colorbar\": {\"outlinewidth\": 0, \"ticks\": \"\"}, \"colorscale\": [[0.0, \"#0d0887\"], [0.1111111111111111, \"#46039f\"], [0.2222222222222222, \"#7201a8\"], [0.3333333333333333, \"#9c179e\"], [0.4444444444444444, \"#bd3786\"], [0.5555555555555556, \"#d8576b\"], [0.6666666666666666, \"#ed7953\"], [0.7777777777777778, \"#fb9f3a\"], [0.8888888888888888, \"#fdca26\"], [1.0, \"#f0f921\"]], \"type\": \"heatmap\"}], \"heatmapgl\": [{\"colorbar\": {\"outlinewidth\": 0, \"ticks\": \"\"}, \"colorscale\": [[0.0, \"#0d0887\"], [0.1111111111111111, \"#46039f\"], [0.2222222222222222, \"#7201a8\"], [0.3333333333333333, \"#9c179e\"], [0.4444444444444444, \"#bd3786\"], [0.5555555555555556, \"#d8576b\"], [0.6666666666666666, \"#ed7953\"], [0.7777777777777778, \"#fb9f3a\"], [0.8888888888888888, \"#fdca26\"], [1.0, \"#f0f921\"]], \"type\": \"heatmapgl\"}], \"histogram\": [{\"marker\": {\"colorbar\": {\"outlinewidth\": 0, \"ticks\": \"\"}}, \"type\": \"histogram\"}], \"histogram2d\": [{\"colorbar\": {\"outlinewidth\": 0, \"ticks\": \"\"}, \"colorscale\": [[0.0, \"#0d0887\"], [0.1111111111111111, \"#46039f\"], [0.2222222222222222, \"#7201a8\"], [0.3333333333333333, \"#9c179e\"], [0.4444444444444444, \"#bd3786\"], [0.5555555555555556, \"#d8576b\"], [0.6666666666666666, \"#ed7953\"], [0.7777777777777778, \"#fb9f3a\"], [0.8888888888888888, \"#fdca26\"], [1.0, \"#f0f921\"]], \"type\": \"histogram2d\"}], \"histogram2dcontour\": [{\"colorbar\": {\"outlinewidth\": 0, \"ticks\": \"\"}, \"colorscale\": [[0.0, \"#0d0887\"], [0.1111111111111111, \"#46039f\"], [0.2222222222222222, \"#7201a8\"], [0.3333333333333333, \"#9c179e\"], [0.4444444444444444, \"#bd3786\"], [0.5555555555555556, \"#d8576b\"], [0.6666666666666666, \"#ed7953\"], [0.7777777777777778, \"#fb9f3a\"], [0.8888888888888888, \"#fdca26\"], [1.0, \"#f0f921\"]], \"type\": \"histogram2dcontour\"}], \"mesh3d\": [{\"colorbar\": {\"outlinewidth\": 0, \"ticks\": \"\"}, \"type\": \"mesh3d\"}], \"parcoords\": [{\"line\": {\"colorbar\": {\"outlinewidth\": 0, \"ticks\": \"\"}}, \"type\": \"parcoords\"}], \"pie\": [{\"automargin\": true, \"type\": \"pie\"}], \"scatter\": [{\"marker\": {\"colorbar\": {\"outlinewidth\": 0, \"ticks\": \"\"}}, \"type\": \"scatter\"}], \"scatter3d\": [{\"line\": {\"colorbar\": {\"outlinewidth\": 0, \"ticks\": \"\"}}, \"marker\": {\"colorbar\": {\"outlinewidth\": 0, \"ticks\": \"\"}}, \"type\": \"scatter3d\"}], \"scattercarpet\": [{\"marker\": {\"colorbar\": {\"outlinewidth\": 0, \"ticks\": \"\"}}, \"type\": \"scattercarpet\"}], \"scattergeo\": [{\"marker\": {\"colorbar\": {\"outlinewidth\": 0, \"ticks\": \"\"}}, \"type\": \"scattergeo\"}], \"scattergl\": [{\"marker\": {\"colorbar\": {\"outlinewidth\": 0, \"ticks\": \"\"}}, \"type\": \"scattergl\"}], \"scattermapbox\": [{\"marker\": {\"colorbar\": {\"outlinewidth\": 0, \"ticks\": \"\"}}, \"type\": \"scattermapbox\"}], \"scatterpolar\": [{\"marker\": {\"colorbar\": {\"outlinewidth\": 0, \"ticks\": \"\"}}, \"type\": \"scatterpolar\"}], \"scatterpolargl\": [{\"marker\": {\"colorbar\": {\"outlinewidth\": 0, \"ticks\": \"\"}}, \"type\": \"scatterpolargl\"}], \"scatterternary\": [{\"marker\": {\"colorbar\": {\"outlinewidth\": 0, \"ticks\": \"\"}}, \"type\": \"scatterternary\"}], \"surface\": [{\"colorbar\": {\"outlinewidth\": 0, \"ticks\": \"\"}, \"colorscale\": [[0.0, \"#0d0887\"], [0.1111111111111111, \"#46039f\"], [0.2222222222222222, \"#7201a8\"], [0.3333333333333333, \"#9c179e\"], [0.4444444444444444, \"#bd3786\"], [0.5555555555555556, \"#d8576b\"], [0.6666666666666666, \"#ed7953\"], [0.7777777777777778, \"#fb9f3a\"], [0.8888888888888888, \"#fdca26\"], [1.0, \"#f0f921\"]], \"type\": \"surface\"}], \"table\": [{\"cells\": {\"fill\": {\"color\": \"#EBF0F8\"}, \"line\": {\"color\": \"white\"}}, \"header\": {\"fill\": {\"color\": \"#C8D4E3\"}, \"line\": {\"color\": \"white\"}}, \"type\": \"table\"}]}, \"layout\": {\"annotationdefaults\": {\"arrowcolor\": \"#2a3f5f\", \"arrowhead\": 0, \"arrowwidth\": 1}, \"coloraxis\": {\"colorbar\": {\"outlinewidth\": 0, \"ticks\": \"\"}}, \"colorscale\": {\"diverging\": [[0, \"#8e0152\"], [0.1, \"#c51b7d\"], [0.2, \"#de77ae\"], [0.3, \"#f1b6da\"], [0.4, \"#fde0ef\"], [0.5, \"#f7f7f7\"], [0.6, \"#e6f5d0\"], [0.7, \"#b8e186\"], [0.8, \"#7fbc41\"], [0.9, \"#4d9221\"], [1, \"#276419\"]], \"sequential\": [[0.0, \"#0d0887\"], [0.1111111111111111, \"#46039f\"], [0.2222222222222222, \"#7201a8\"], [0.3333333333333333, \"#9c179e\"], [0.4444444444444444, \"#bd3786\"], [0.5555555555555556, \"#d8576b\"], [0.6666666666666666, \"#ed7953\"], [0.7777777777777778, \"#fb9f3a\"], [0.8888888888888888, \"#fdca26\"], [1.0, \"#f0f921\"]], \"sequentialminus\": [[0.0, \"#0d0887\"], [0.1111111111111111, \"#46039f\"], [0.2222222222222222, \"#7201a8\"], [0.3333333333333333, \"#9c179e\"], [0.4444444444444444, \"#bd3786\"], [0.5555555555555556, \"#d8576b\"], [0.6666666666666666, \"#ed7953\"], [0.7777777777777778, \"#fb9f3a\"], [0.8888888888888888, \"#fdca26\"], [1.0, \"#f0f921\"]]}, \"colorway\": [\"#636efa\", \"#EF553B\", \"#00cc96\", \"#ab63fa\", \"#FFA15A\", \"#19d3f3\", \"#FF6692\", \"#B6E880\", \"#FF97FF\", \"#FECB52\"], \"font\": {\"color\": \"#2a3f5f\"}, \"geo\": {\"bgcolor\": \"white\", \"lakecolor\": \"white\", \"landcolor\": \"#E5ECF6\", \"showlakes\": true, \"showland\": true, \"subunitcolor\": \"white\"}, \"hoverlabel\": {\"align\": \"left\"}, \"hovermode\": \"closest\", \"mapbox\": {\"style\": \"light\"}, \"paper_bgcolor\": \"white\", \"plot_bgcolor\": \"#E5ECF6\", \"polar\": {\"angularaxis\": {\"gridcolor\": \"white\", \"linecolor\": \"white\", \"ticks\": \"\"}, \"bgcolor\": \"#E5ECF6\", \"radialaxis\": {\"gridcolor\": \"white\", \"linecolor\": \"white\", \"ticks\": \"\"}}, \"scene\": {\"xaxis\": {\"backgroundcolor\": \"#E5ECF6\", \"gridcolor\": \"white\", \"gridwidth\": 2, \"linecolor\": \"white\", \"showbackground\": true, \"ticks\": \"\", \"zerolinecolor\": \"white\"}, \"yaxis\": {\"backgroundcolor\": \"#E5ECF6\", \"gridcolor\": \"white\", \"gridwidth\": 2, \"linecolor\": \"white\", \"showbackground\": true, \"ticks\": \"\", \"zerolinecolor\": \"white\"}, \"zaxis\": {\"backgroundcolor\": \"#E5ECF6\", \"gridcolor\": \"white\", \"gridwidth\": 2, \"linecolor\": \"white\", \"showbackground\": true, \"ticks\": \"\", \"zerolinecolor\": \"white\"}}, \"shapedefaults\": {\"line\": {\"color\": \"#2a3f5f\"}}, \"ternary\": {\"aaxis\": {\"gridcolor\": \"white\", \"linecolor\": \"white\", \"ticks\": \"\"}, \"baxis\": {\"gridcolor\": \"white\", \"linecolor\": \"white\", \"ticks\": \"\"}, \"bgcolor\": \"#E5ECF6\", \"caxis\": {\"gridcolor\": \"white\", \"linecolor\": \"white\", \"ticks\": \"\"}}, \"title\": {\"x\": 0.05}, \"xaxis\": {\"automargin\": true, \"gridcolor\": \"white\", \"linecolor\": \"white\", \"ticks\": \"\", \"title\": {\"standoff\": 15}, \"zerolinecolor\": \"white\", \"zerolinewidth\": 2}, \"yaxis\": {\"automargin\": true, \"gridcolor\": \"white\", \"linecolor\": \"white\", \"ticks\": \"\", \"title\": {\"standoff\": 15}, \"zerolinecolor\": \"white\", \"zerolinewidth\": 2}}}, \"xaxis\": {\"anchor\": \"y\", \"domain\": [0.0, 1.0], \"title\": {\"text\": \"time\"}}, \"yaxis\": {\"anchor\": \"x\", \"domain\": [0.0, 1.0], \"title\": {\"text\": \"TxTfrValAdjUSD\"}}},\n",
              "                        {\"responsive\": true}\n",
              "                    ).then(function(){\n",
              "                            \n",
              "var gd = document.getElementById('17846692-4a40-4d0a-82fa-a88aa3dd8a38');\n",
              "var x = new MutationObserver(function (mutations, observer) {{\n",
              "        var display = window.getComputedStyle(gd).display;\n",
              "        if (!display || display === 'none') {{\n",
              "            console.log([gd, 'removed!']);\n",
              "            Plotly.purge(gd);\n",
              "            observer.disconnect();\n",
              "        }}\n",
              "}});\n",
              "\n",
              "// Listen for the removal of the full notebook cells\n",
              "var notebookContainer = gd.closest('#notebook-container');\n",
              "if (notebookContainer) {{\n",
              "    x.observe(notebookContainer, {childList: true});\n",
              "}}\n",
              "\n",
              "// Listen for the clearing of the current output cell\n",
              "var outputEl = gd.closest('.output');\n",
              "if (outputEl) {{\n",
              "    x.observe(outputEl, {childList: true});\n",
              "}}\n",
              "\n",
              "                        })\n",
              "                };\n",
              "                \n",
              "            </script>\n",
              "        </div>\n",
              "</body>\n",
              "</html>"
            ]
          },
          "metadata": {
            "tags": []
          }
        }
      ]
    },
    {
      "cell_type": "code",
      "metadata": {
        "colab": {
          "base_uri": "https://localhost:8080/",
          "height": 542
        },
        "id": "F3J0h2PMWJMI",
        "outputId": "2d7e8933-a111-46fe-9bf9-0e5b1ae57968"
      },
      "source": [
        "import plotly.express as px\n",
        "fig = px.line(df, x=\"time\", y=\"VtyDayRet180d\", color=\"Type\", line_group=\"assets\", hover_name=\"assets\",\n",
        "        line_shape=\"spline\", render_mode=\"svg\")\n",
        "fig.show()"
      ],
      "execution_count": 450,
      "outputs": [
        {
          "output_type": "display_data",
          "data": {
            "text/html": [
              "<html>\n",
              "<head><meta charset=\"utf-8\" /></head>\n",
              "<body>\n",
              "    <div>\n",
              "            <script src=\"https://cdnjs.cloudflare.com/ajax/libs/mathjax/2.7.5/MathJax.js?config=TeX-AMS-MML_SVG\"></script><script type=\"text/javascript\">if (window.MathJax) {MathJax.Hub.Config({SVG: {font: \"STIX-Web\"}});}</script>\n",
              "                <script type=\"text/javascript\">window.PlotlyConfig = {MathJaxConfig: 'local'};</script>\n",
              "        <script src=\"https://cdn.plot.ly/plotly-latest.min.js\"></script>    \n",
              "            <div id=\"461bb091-245a-42ce-9362-0bd5a5d8d13d\" class=\"plotly-graph-div\" style=\"height:525px; width:100%;\"></div>\n",
              "            <script type=\"text/javascript\">\n",
              "                \n",
              "                    window.PLOTLYENV=window.PLOTLYENV || {};\n",
              "                    \n",
              "                if (document.getElementById(\"461bb091-245a-42ce-9362-0bd5a5d8d13d\")) {\n",
              "                    Plotly.newPlot(\n",
              "                        '461bb091-245a-42ce-9362-0bd5a5d8d13d',\n",
              "                        [{\"hoverlabel\": {\"namelength\": 0}, \"hovertemplate\": \"<b>%{hovertext}</b><br><br>Type=Lending<br>assets=COMP<br>time=%{x}<br>VtyDayRet180d=%{y}\", \"hovertext\": [\"COMP\", \"COMP\", \"COMP\", \"COMP\", \"COMP\", \"COMP\", \"COMP\", \"COMP\", \"COMP\", \"COMP\", \"COMP\", \"COMP\", \"COMP\", \"COMP\", \"COMP\", \"COMP\", \"COMP\", \"COMP\", \"COMP\", \"COMP\", \"COMP\", \"COMP\", \"COMP\", \"COMP\", \"COMP\", \"COMP\", \"COMP\", \"COMP\", \"COMP\", \"COMP\", \"COMP\", \"COMP\", \"COMP\", \"COMP\", \"COMP\", \"COMP\", \"COMP\", \"COMP\", \"COMP\", \"COMP\", \"COMP\", \"COMP\", \"COMP\", \"COMP\", \"COMP\", \"COMP\", \"COMP\", \"COMP\", \"COMP\", \"COMP\", \"COMP\", \"COMP\", \"COMP\", \"COMP\", \"COMP\", \"COMP\", \"COMP\", \"COMP\", \"COMP\", \"COMP\", \"COMP\"], \"legendgroup\": \"Type=Lending\", \"line\": {\"color\": \"#636efa\", \"dash\": \"solid\", \"shape\": \"spline\"}, \"mode\": \"lines\", \"name\": \"Type=Lending\", \"showlegend\": true, \"type\": \"scatter\", \"x\": [\"2021-04-01\", \"2021-04-02\", \"2021-04-03\", \"2021-04-04\", \"2021-04-05\", \"2021-04-06\", \"2021-04-07\", \"2021-04-08\", \"2021-04-09\", \"2021-04-10\", \"2021-04-11\", \"2021-04-12\", \"2021-04-13\", \"2021-04-14\", \"2021-04-15\", \"2021-04-16\", \"2021-04-17\", \"2021-04-18\", \"2021-04-19\", \"2021-04-20\", \"2021-04-21\", \"2021-04-22\", \"2021-04-23\", \"2021-04-24\", \"2021-04-25\", \"2021-04-26\", \"2021-04-27\", \"2021-04-28\", \"2021-04-29\", \"2021-04-30\", \"2021-05-01\", \"2021-05-02\", \"2021-05-03\", \"2021-05-04\", \"2021-05-05\", \"2021-05-06\", \"2021-05-07\", \"2021-05-08\", \"2021-05-09\", \"2021-05-10\", \"2021-05-11\", \"2021-05-12\", \"2021-05-13\", \"2021-05-14\", \"2021-05-15\", \"2021-05-16\", \"2021-05-17\", \"2021-05-18\", \"2021-05-19\", \"2021-05-20\", \"2021-05-21\", \"2021-05-22\", \"2021-05-23\", \"2021-05-24\", \"2021-05-25\", \"2021-05-26\", \"2021-05-27\", \"2021-05-28\", \"2021-05-29\", \"2021-05-30\", \"2021-05-31\"], \"xaxis\": \"x\", \"y\": [0.06836506527327467, 0.06853098772614591, 0.06854131809965182, 0.06809749021778169, 0.06831954480831301, 0.06844411097175981, 0.06858161197009774, 0.068572331065977, 0.0685814297758611, 0.06858621157284282, 0.06854910810514606, 0.06837305295971481, 0.06841694516123459, 0.0683446699534821, 0.06921467500368195, 0.06921941375336511, 0.06929890650524098, 0.06948772914640156, 0.0695264182016299, 0.06942080174464453, 0.06942088810075922, 0.06968912453565408, 0.07027211343624372, 0.07055081031909083, 0.07042893364127603, 0.07121434657110823, 0.07059484977337199, 0.07049084942124123, 0.0704627960916685, 0.07108289776896798, 0.0712355739610227, 0.07111070383496072, 0.07111289867745288, 0.07159639566401214, 0.07159462466200238, 0.0717210180949776, 0.07177227493850441, 0.07196601971710223, 0.0718190722495936, 0.07181897203005068, 0.07212925045621564, 0.07263229417220228, 0.07241187666208622, 0.07239645564011088, 0.07299547630676806, 0.07301679981441431, 0.07283191509759518, 0.07294340901992932, 0.07644304796719327, 0.07653559489846652, 0.07796454431118059, 0.07856563753834091, 0.07922226742458346, 0.08058289148333547, 0.07974515223933397, 0.07991817779830486, 0.08018948299498525, 0.08072326229960855, 0.08086452272477977, 0.08126054261443481, 0.08121496622214312], \"yaxis\": \"y\"}, {\"hoverlabel\": {\"namelength\": 0}, \"hovertemplate\": \"<b>%{hovertext}</b><br><br>Type=Lending<br>assets=AAVE<br>time=%{x}<br>VtyDayRet180d=%{y}\", \"hovertext\": [\"AAVE\", \"AAVE\", \"AAVE\", \"AAVE\", \"AAVE\", \"AAVE\", \"AAVE\", \"AAVE\", \"AAVE\", \"AAVE\", \"AAVE\", \"AAVE\", \"AAVE\", \"AAVE\", \"AAVE\", \"AAVE\", \"AAVE\", \"AAVE\", \"AAVE\", \"AAVE\", \"AAVE\", \"AAVE\", \"AAVE\", \"AAVE\", \"AAVE\", \"AAVE\", \"AAVE\", \"AAVE\", \"AAVE\", \"AAVE\", \"AAVE\", \"AAVE\", \"AAVE\", \"AAVE\", \"AAVE\", \"AAVE\", \"AAVE\", \"AAVE\", \"AAVE\", \"AAVE\", \"AAVE\", \"AAVE\", \"AAVE\", \"AAVE\", \"AAVE\", \"AAVE\", \"AAVE\", \"AAVE\", \"AAVE\", \"AAVE\", \"AAVE\", \"AAVE\", \"AAVE\", \"AAVE\", \"AAVE\", \"AAVE\", \"AAVE\", \"AAVE\", \"AAVE\", \"AAVE\", \"AAVE\"], \"legendgroup\": \"Type=Lending\", \"line\": {\"color\": \"#636efa\", \"dash\": \"solid\", \"shape\": \"spline\"}, \"mode\": \"lines\", \"name\": \"Type=Lending\", \"showlegend\": false, \"type\": \"scatter\", \"x\": [\"2021-04-01\", \"2021-04-02\", \"2021-04-03\", \"2021-04-04\", \"2021-04-05\", \"2021-04-06\", \"2021-04-07\", \"2021-04-08\", \"2021-04-09\", \"2021-04-10\", \"2021-04-11\", \"2021-04-12\", \"2021-04-13\", \"2021-04-14\", \"2021-04-15\", \"2021-04-16\", \"2021-04-17\", \"2021-04-18\", \"2021-04-19\", \"2021-04-20\", \"2021-04-21\", \"2021-04-22\", \"2021-04-23\", \"2021-04-24\", \"2021-04-25\", \"2021-04-26\", \"2021-04-27\", \"2021-04-28\", \"2021-04-29\", \"2021-04-30\", \"2021-05-01\", \"2021-05-02\", \"2021-05-03\", \"2021-05-04\", \"2021-05-05\", \"2021-05-06\", \"2021-05-07\", \"2021-05-08\", \"2021-05-09\", \"2021-05-10\", \"2021-05-11\", \"2021-05-12\", \"2021-05-13\", \"2021-05-14\", \"2021-05-15\", \"2021-05-16\", \"2021-05-17\", \"2021-05-18\", \"2021-05-19\", \"2021-05-20\", \"2021-05-21\", \"2021-05-22\", \"2021-05-23\", \"2021-05-24\", \"2021-05-25\", \"2021-05-26\", \"2021-05-27\", \"2021-05-28\", \"2021-05-29\", \"2021-05-30\", \"2021-05-31\"], \"xaxis\": \"x\", \"y\": [null, null, null, null, null, null, null, 0.08472890393385613, 0.08161225627076266, 0.07938946791814906, 0.07938834244906663, 0.0795211651738815, 0.07835093206251299, 0.07786398046583178, 0.07803614393321777, 0.07816471069444372, 0.07768675943345171, 0.07770038417470279, 0.07795445865957522, 0.07780345613058508, 0.07759484906663386, 0.07740777049667101, 0.07753534366823499, 0.07756026427000988, 0.077594291137813, 0.07802594090868484, 0.07765096834954655, 0.07757926110140634, 0.07755142232830832, 0.07754165819508567, 0.07790021174138484, 0.07781828268106453, 0.0779065155701349, 0.07828387063674278, 0.07687355952437094, 0.0763732004193546, 0.07543262631590678, 0.07546930397843737, 0.07413605029199738, 0.07241420768174525, 0.07234660031544518, 0.07200583189615617, 0.07212920656247343, 0.0729581869764661, 0.0733237688025953, 0.07318896618949483, 0.07343782290256698, 0.07363017223023255, 0.07897701279066159, 0.07895071890102262, 0.0811090240444283, 0.08138773360899694, 0.08195247140681257, 0.08392968678544865, 0.08394192573222502, 0.0840151802582213, 0.08426197062506026, 0.08507402268808259, 0.08489614517173844, 0.08505009190421284, 0.08517934898270298], \"yaxis\": \"y\"}, {\"hoverlabel\": {\"namelength\": 0}, \"hovertemplate\": \"<b>%{hovertext}</b><br><br>Type=Lending<br>assets=MKR<br>time=%{x}<br>VtyDayRet180d=%{y}\", \"hovertext\": [\"MKR\", \"MKR\", \"MKR\", \"MKR\", \"MKR\", \"MKR\", \"MKR\", \"MKR\", \"MKR\", \"MKR\", \"MKR\", \"MKR\", \"MKR\", \"MKR\", \"MKR\", \"MKR\", \"MKR\", \"MKR\", \"MKR\", \"MKR\", \"MKR\", \"MKR\", \"MKR\", \"MKR\", \"MKR\", \"MKR\", \"MKR\", \"MKR\", \"MKR\", \"MKR\", \"MKR\", \"MKR\", \"MKR\", \"MKR\", \"MKR\", \"MKR\", \"MKR\", \"MKR\", \"MKR\", \"MKR\", \"MKR\", \"MKR\", \"MKR\", \"MKR\", \"MKR\", \"MKR\", \"MKR\", \"MKR\", \"MKR\", \"MKR\", \"MKR\", \"MKR\", \"MKR\", \"MKR\", \"MKR\", \"MKR\", \"MKR\", \"MKR\", \"MKR\", \"MKR\", \"MKR\"], \"legendgroup\": \"Type=Lending\", \"line\": {\"color\": \"#636efa\", \"dash\": \"solid\", \"shape\": \"spline\"}, \"mode\": \"lines\", \"name\": \"Type=Lending\", \"showlegend\": false, \"type\": \"scatter\", \"x\": [\"2021-04-01\", \"2021-04-02\", \"2021-04-03\", \"2021-04-04\", \"2021-04-05\", \"2021-04-06\", \"2021-04-07\", \"2021-04-08\", \"2021-04-09\", \"2021-04-10\", \"2021-04-11\", \"2021-04-12\", \"2021-04-13\", \"2021-04-14\", \"2021-04-15\", \"2021-04-16\", \"2021-04-17\", \"2021-04-18\", \"2021-04-19\", \"2021-04-20\", \"2021-04-21\", \"2021-04-22\", \"2021-04-23\", \"2021-04-24\", \"2021-04-25\", \"2021-04-26\", \"2021-04-27\", \"2021-04-28\", \"2021-04-29\", \"2021-04-30\", \"2021-05-01\", \"2021-05-02\", \"2021-05-03\", \"2021-05-04\", \"2021-05-05\", \"2021-05-06\", \"2021-05-07\", \"2021-05-08\", \"2021-05-09\", \"2021-05-10\", \"2021-05-11\", \"2021-05-12\", \"2021-05-13\", \"2021-05-14\", \"2021-05-15\", \"2021-05-16\", \"2021-05-17\", \"2021-05-18\", \"2021-05-19\", \"2021-05-20\", \"2021-05-21\", \"2021-05-22\", \"2021-05-23\", \"2021-05-24\", \"2021-05-25\", \"2021-05-26\", \"2021-05-27\", \"2021-05-28\", \"2021-05-29\", \"2021-05-30\", \"2021-05-31\"], \"xaxis\": \"x\", \"y\": [0.06386241867745766, 0.06408787467677862, 0.06459501151439659, 0.06422650104036096, 0.06422604644048464, 0.06424982694243365, 0.06440207324432254, 0.06443434425974179, 0.06443097377613251, 0.06443043436406988, 0.06440162285916855, 0.0654071828193479, 0.06541364913338987, 0.06539934518572241, 0.07010178953968588, 0.07064275516984454, 0.07065647299312526, 0.07063293304768065, 0.07084683763149234, 0.07084296547422457, 0.07153637473871026, 0.07155112120037979, 0.07151764207351001, 0.07147098838848502, 0.07165983908889886, 0.07144481613680571, 0.07187558567961648, 0.07188396756047608, 0.07196088756474027, 0.07194598358379191, 0.07220304705461575, 0.07219353545094317, 0.07368095223682254, 0.07446940614872237, 0.07447016435775115, 0.07462372534907058, 0.07461810179606701, 0.07482485831225451, 0.07493732431959076, 0.07511130448941265, 0.07520869719551851, 0.07528880945779805, 0.07554672072256162, 0.07557464077534466, 0.07590508312368413, 0.07594424279195859, 0.07607260861378863, 0.07626796853042465, 0.07879896804475235, 0.07894922970761717, 0.08126001841788939, 0.08152115223830253, 0.0815541584558855, 0.08687201995611807, 0.086894619327537, 0.0868591410851173, 0.08697952709844423, 0.08767750734373116, 0.08777522709168732, 0.0877096449350265, 0.08778663299805207], \"yaxis\": \"y\"}, {\"hoverlabel\": {\"namelength\": 0}, \"hovertemplate\": \"<b>%{hovertext}</b><br><br>Type=Exchange<br>assets=UNI<br>time=%{x}<br>VtyDayRet180d=%{y}\", \"hovertext\": [\"UNI\", \"UNI\", \"UNI\", \"UNI\", \"UNI\", \"UNI\", \"UNI\", \"UNI\", \"UNI\", \"UNI\", \"UNI\", \"UNI\", \"UNI\", \"UNI\", \"UNI\", \"UNI\", \"UNI\", \"UNI\", \"UNI\", \"UNI\", \"UNI\", \"UNI\", \"UNI\", \"UNI\", \"UNI\", \"UNI\", \"UNI\", \"UNI\", \"UNI\", \"UNI\", \"UNI\", \"UNI\", \"UNI\", \"UNI\", \"UNI\", \"UNI\", \"UNI\", \"UNI\", \"UNI\", \"UNI\", \"UNI\", \"UNI\", \"UNI\", \"UNI\", \"UNI\", \"UNI\", \"UNI\", \"UNI\", \"UNI\", \"UNI\", \"UNI\", \"UNI\", \"UNI\", \"UNI\", \"UNI\", \"UNI\", \"UNI\", \"UNI\", \"UNI\", \"UNI\", \"UNI\"], \"legendgroup\": \"Type=Exchange\", \"line\": {\"color\": \"#EF553B\", \"dash\": \"solid\", \"shape\": \"spline\"}, \"mode\": \"lines\", \"name\": \"Type=Exchange\", \"showlegend\": true, \"type\": \"scatter\", \"x\": [\"2021-04-01\", \"2021-04-02\", \"2021-04-03\", \"2021-04-04\", \"2021-04-05\", \"2021-04-06\", \"2021-04-07\", \"2021-04-08\", \"2021-04-09\", \"2021-04-10\", \"2021-04-11\", \"2021-04-12\", \"2021-04-13\", \"2021-04-14\", \"2021-04-15\", \"2021-04-16\", \"2021-04-17\", \"2021-04-18\", \"2021-04-19\", \"2021-04-20\", \"2021-04-21\", \"2021-04-22\", \"2021-04-23\", \"2021-04-24\", \"2021-04-25\", \"2021-04-26\", \"2021-04-27\", \"2021-04-28\", \"2021-04-29\", \"2021-04-30\", \"2021-05-01\", \"2021-05-02\", \"2021-05-03\", \"2021-05-04\", \"2021-05-05\", \"2021-05-06\", \"2021-05-07\", \"2021-05-08\", \"2021-05-09\", \"2021-05-10\", \"2021-05-11\", \"2021-05-12\", \"2021-05-13\", \"2021-05-14\", \"2021-05-15\", \"2021-05-16\", \"2021-05-17\", \"2021-05-18\", \"2021-05-19\", \"2021-05-20\", \"2021-05-21\", \"2021-05-22\", \"2021-05-23\", \"2021-05-24\", \"2021-05-25\", \"2021-05-26\", \"2021-05-27\", \"2021-05-28\", \"2021-05-29\", \"2021-05-30\", \"2021-05-31\"], \"xaxis\": \"x\", \"y\": [0.08181071507348066, 0.08172946996272858, 0.08114883292551636, 0.07958563203118586, 0.07938890764265147, 0.07905132996071072, 0.07937215666175526, 0.07934448114445791, 0.07938957522893532, 0.07938495597560531, 0.07933238826117668, 0.08043117148036945, 0.08052303542474447, 0.08050510679123714, 0.0805435881481049, 0.08055893258447809, 0.08057438597737639, 0.08049584719644763, 0.08050912588377952, 0.08049023109156743, 0.08050929284623425, 0.08047805575405118, 0.08046384208130802, 0.08066417292063256, 0.08089155524194189, 0.08114239789636042, 0.08101206981050209, 0.08094585478232004, 0.08083061965521765, 0.08084285131659337, 0.08070327584020118, 0.08058453918693913, 0.08007442757732806, 0.0795631636091066, 0.0790267273389758, 0.07912616619697464, 0.0786161702267529, 0.07833162648612665, 0.07780826682248565, 0.07798141547340852, 0.07803122124335027, 0.07573575244311367, 0.07580938278898322, 0.07602179372468207, 0.0761571540627689, 0.07611481899522116, 0.07608434728821885, 0.07600185678913683, 0.08076286005652553, 0.0809125649498699, 0.0823511470916536, 0.08216793453697581, 0.08363073078442766, 0.08764818094532023, 0.08735979560495546, 0.08786455966724831, 0.08786134898650283, 0.08821496166237011, 0.08859040898482377, 0.0887053748192842, 0.0885565822127894], \"yaxis\": \"y\"}, {\"hoverlabel\": {\"namelength\": 0}, \"hovertemplate\": \"<b>%{hovertext}</b><br><br>Type=Exchange<br>assets=BAL<br>time=%{x}<br>VtyDayRet180d=%{y}\", \"hovertext\": [\"BAL\", \"BAL\", \"BAL\", \"BAL\", \"BAL\", \"BAL\", \"BAL\", \"BAL\", \"BAL\", \"BAL\", \"BAL\", \"BAL\", \"BAL\", \"BAL\", \"BAL\", \"BAL\", \"BAL\", \"BAL\", \"BAL\", \"BAL\", \"BAL\", \"BAL\", \"BAL\", \"BAL\", \"BAL\", \"BAL\", \"BAL\", \"BAL\", \"BAL\", \"BAL\", \"BAL\", \"BAL\", \"BAL\", \"BAL\", \"BAL\", \"BAL\", \"BAL\", \"BAL\", \"BAL\", \"BAL\", \"BAL\", \"BAL\", \"BAL\", \"BAL\", \"BAL\", \"BAL\", \"BAL\", \"BAL\", \"BAL\", \"BAL\", \"BAL\", \"BAL\", \"BAL\", \"BAL\", \"BAL\", \"BAL\", \"BAL\", \"BAL\", \"BAL\", \"BAL\", \"BAL\"], \"legendgroup\": \"Type=Exchange\", \"line\": {\"color\": \"#EF553B\", \"dash\": \"solid\", \"shape\": \"spline\"}, \"mode\": \"lines\", \"name\": \"Type=Exchange\", \"showlegend\": false, \"type\": \"scatter\", \"x\": [\"2021-04-01\", \"2021-04-02\", \"2021-04-03\", \"2021-04-04\", \"2021-04-05\", \"2021-04-06\", \"2021-04-07\", \"2021-04-08\", \"2021-04-09\", \"2021-04-10\", \"2021-04-11\", \"2021-04-12\", \"2021-04-13\", \"2021-04-14\", \"2021-04-15\", \"2021-04-16\", \"2021-04-17\", \"2021-04-18\", \"2021-04-19\", \"2021-04-20\", \"2021-04-21\", \"2021-04-22\", \"2021-04-23\", \"2021-04-24\", \"2021-04-25\", \"2021-04-26\", \"2021-04-27\", \"2021-04-28\", \"2021-04-29\", \"2021-04-30\", \"2021-05-01\", \"2021-05-02\", \"2021-05-03\", \"2021-05-04\", \"2021-05-05\", \"2021-05-06\", \"2021-05-07\", \"2021-05-08\", \"2021-05-09\", \"2021-05-10\", \"2021-05-11\", \"2021-05-12\", \"2021-05-13\", \"2021-05-14\", \"2021-05-15\", \"2021-05-16\", \"2021-05-17\", \"2021-05-18\", \"2021-05-19\", \"2021-05-20\", \"2021-05-21\", \"2021-05-22\", \"2021-05-23\", \"2021-05-24\", \"2021-05-25\", \"2021-05-26\", \"2021-05-27\", \"2021-05-28\", \"2021-05-29\", \"2021-05-30\", \"2021-05-31\"], \"xaxis\": \"x\", \"y\": [0.0692013245920056, 0.06947015796753929, 0.06966555727053755, 0.06883114361790266, 0.06881474663529027, 0.06881558293142459, 0.06951030049571362, 0.06959318302023544, 0.06967578246085936, 0.06969580416044609, 0.06968171955452378, 0.0694821354647719, 0.06951565117448945, 0.07071680502218433, 0.07073602314222663, 0.07093100257288311, 0.07094881031423353, 0.07089525969982523, 0.07129008715579331, 0.07130882590927172, 0.07122818818413801, 0.07122231902216197, 0.07151763546489599, 0.07146894793173222, 0.07145342007194926, 0.07125021765100571, 0.0715555522086737, 0.07154884385474215, 0.07149321041165939, 0.07152902504643628, 0.07124144517605968, 0.07125635623991683, 0.0721011522203633, 0.0725010377877393, 0.07223407078908807, 0.07228094712053748, 0.0723423758312973, 0.07247125468574142, 0.07160657340815837, 0.07172460216228324, 0.07225254025802648, 0.0718367699887419, 0.07219814023997846, 0.07228272566217958, 0.0728427190686589, 0.0728813758020959, 0.0733127063058611, 0.07330083472411451, 0.07703313858647437, 0.07724559348190177, 0.07819283717156603, 0.07840241375043629, 0.07918762285981319, 0.08047184708210871, 0.08016443003936127, 0.0802308646026081, 0.08037676047807119, 0.08072975375009679, 0.08078268403717878, 0.08050341104344019, 0.08071114844565486], \"yaxis\": \"y\"}, {\"hoverlabel\": {\"namelength\": 0}, \"hovertemplate\": \"<b>%{hovertext}</b><br><br>Type=Exchange<br>assets=SUSHI<br>time=%{x}<br>VtyDayRet180d=%{y}\", \"hovertext\": [\"SUSHI\", \"SUSHI\", \"SUSHI\", \"SUSHI\", \"SUSHI\", \"SUSHI\", \"SUSHI\", \"SUSHI\", \"SUSHI\", \"SUSHI\", \"SUSHI\", \"SUSHI\", \"SUSHI\", \"SUSHI\", \"SUSHI\", \"SUSHI\", \"SUSHI\", \"SUSHI\", \"SUSHI\", \"SUSHI\", \"SUSHI\", \"SUSHI\", \"SUSHI\", \"SUSHI\", \"SUSHI\", \"SUSHI\", \"SUSHI\", \"SUSHI\", \"SUSHI\", \"SUSHI\", \"SUSHI\", \"SUSHI\", \"SUSHI\", \"SUSHI\", \"SUSHI\", \"SUSHI\", \"SUSHI\", \"SUSHI\", \"SUSHI\", \"SUSHI\", \"SUSHI\", \"SUSHI\", \"SUSHI\", \"SUSHI\", \"SUSHI\", \"SUSHI\", \"SUSHI\", \"SUSHI\", \"SUSHI\", \"SUSHI\", \"SUSHI\", \"SUSHI\", \"SUSHI\", \"SUSHI\", \"SUSHI\", \"SUSHI\", \"SUSHI\", \"SUSHI\", \"SUSHI\", \"SUSHI\", \"SUSHI\"], \"legendgroup\": \"Type=Exchange\", \"line\": {\"color\": \"#EF553B\", \"dash\": \"solid\", \"shape\": \"spline\"}, \"mode\": \"lines\", \"name\": \"Type=Exchange\", \"showlegend\": false, \"type\": \"scatter\", \"x\": [\"2021-04-01\", \"2021-04-02\", \"2021-04-03\", \"2021-04-04\", \"2021-04-05\", \"2021-04-06\", \"2021-04-07\", \"2021-04-08\", \"2021-04-09\", \"2021-04-10\", \"2021-04-11\", \"2021-04-12\", \"2021-04-13\", \"2021-04-14\", \"2021-04-15\", \"2021-04-16\", \"2021-04-17\", \"2021-04-18\", \"2021-04-19\", \"2021-04-20\", \"2021-04-21\", \"2021-04-22\", \"2021-04-23\", \"2021-04-24\", \"2021-04-25\", \"2021-04-26\", \"2021-04-27\", \"2021-04-28\", \"2021-04-29\", \"2021-04-30\", \"2021-05-01\", \"2021-05-02\", \"2021-05-03\", \"2021-05-04\", \"2021-05-05\", \"2021-05-06\", \"2021-05-07\", \"2021-05-08\", \"2021-05-09\", \"2021-05-10\", \"2021-05-11\", \"2021-05-12\", \"2021-05-13\", \"2021-05-14\", \"2021-05-15\", \"2021-05-16\", \"2021-05-17\", \"2021-05-18\", \"2021-05-19\", \"2021-05-20\", \"2021-05-21\", \"2021-05-22\", \"2021-05-23\", \"2021-05-24\", \"2021-05-25\", \"2021-05-26\", \"2021-05-27\", \"2021-05-28\", \"2021-05-29\", \"2021-05-30\", \"2021-05-31\"], \"xaxis\": \"x\", \"y\": [0.09530601153893184, 0.09427078631369568, 0.0945430687389174, 0.09186841667753058, 0.09189530032167448, 0.09122475129664746, 0.0914787340205574, 0.0910819666476394, 0.09108589429935217, 0.0910923968200163, 0.09106276673708727, 0.09141078231695204, 0.09139212680331364, 0.09138966158254076, 0.09139034872773699, 0.09157176334433144, 0.09146768881385182, 0.09182166489592984, 0.09249917657645576, 0.09249807275593362, 0.09250912975199456, 0.09249987387992956, 0.09252566786662053, 0.09282272080228107, 0.09268488218635773, 0.09271932576218547, 0.09335715533454746, 0.09314749317091953, 0.09316620118530887, 0.09316195866117996, 0.09307419927488092, 0.09277658356229472, 0.09257637324924577, 0.09306876218879334, 0.0926006266986131, 0.0929819520827644, 0.09306668495390852, 0.09287705626528107, 0.09270359503165757, 0.09322783852483177, 0.0933812998858424, 0.09069415231073437, 0.09075728421487538, 0.09177083311175853, 0.0922970806333006, 0.09227659679176307, 0.0915812364059238, 0.0911956733344408, 0.09703088734049277, 0.09718877873257303, 0.09833334340667872, 0.09854581350634704, 0.09957818599205193, 0.10133527485887366, 0.10090772532417364, 0.10106696649098518, 0.101280953194055, 0.10186707071298967, 0.10172127294162696, 0.10070449976174882, 0.10079779222715947], \"yaxis\": \"y\"}],\n",
              "                        {\"legend\": {\"tracegroupgap\": 0}, \"margin\": {\"t\": 60}, \"template\": {\"data\": {\"bar\": [{\"error_x\": {\"color\": \"#2a3f5f\"}, \"error_y\": {\"color\": \"#2a3f5f\"}, \"marker\": {\"line\": {\"color\": \"#E5ECF6\", \"width\": 0.5}}, \"type\": \"bar\"}], \"barpolar\": [{\"marker\": {\"line\": {\"color\": \"#E5ECF6\", \"width\": 0.5}}, \"type\": \"barpolar\"}], \"carpet\": [{\"aaxis\": {\"endlinecolor\": \"#2a3f5f\", \"gridcolor\": \"white\", \"linecolor\": \"white\", \"minorgridcolor\": \"white\", \"startlinecolor\": \"#2a3f5f\"}, \"baxis\": {\"endlinecolor\": \"#2a3f5f\", \"gridcolor\": \"white\", \"linecolor\": \"white\", \"minorgridcolor\": \"white\", \"startlinecolor\": \"#2a3f5f\"}, \"type\": \"carpet\"}], \"choropleth\": [{\"colorbar\": {\"outlinewidth\": 0, \"ticks\": \"\"}, \"type\": \"choropleth\"}], \"contour\": [{\"colorbar\": {\"outlinewidth\": 0, \"ticks\": \"\"}, \"colorscale\": [[0.0, \"#0d0887\"], [0.1111111111111111, \"#46039f\"], [0.2222222222222222, \"#7201a8\"], [0.3333333333333333, \"#9c179e\"], [0.4444444444444444, \"#bd3786\"], [0.5555555555555556, \"#d8576b\"], [0.6666666666666666, \"#ed7953\"], [0.7777777777777778, \"#fb9f3a\"], [0.8888888888888888, \"#fdca26\"], [1.0, \"#f0f921\"]], \"type\": \"contour\"}], \"contourcarpet\": [{\"colorbar\": {\"outlinewidth\": 0, \"ticks\": \"\"}, \"type\": \"contourcarpet\"}], \"heatmap\": [{\"colorbar\": {\"outlinewidth\": 0, \"ticks\": \"\"}, \"colorscale\": [[0.0, \"#0d0887\"], [0.1111111111111111, \"#46039f\"], [0.2222222222222222, \"#7201a8\"], [0.3333333333333333, \"#9c179e\"], [0.4444444444444444, \"#bd3786\"], [0.5555555555555556, \"#d8576b\"], [0.6666666666666666, \"#ed7953\"], [0.7777777777777778, \"#fb9f3a\"], [0.8888888888888888, \"#fdca26\"], [1.0, \"#f0f921\"]], \"type\": \"heatmap\"}], \"heatmapgl\": [{\"colorbar\": {\"outlinewidth\": 0, \"ticks\": \"\"}, \"colorscale\": [[0.0, \"#0d0887\"], [0.1111111111111111, \"#46039f\"], [0.2222222222222222, \"#7201a8\"], [0.3333333333333333, \"#9c179e\"], [0.4444444444444444, \"#bd3786\"], [0.5555555555555556, \"#d8576b\"], [0.6666666666666666, \"#ed7953\"], [0.7777777777777778, \"#fb9f3a\"], [0.8888888888888888, \"#fdca26\"], [1.0, \"#f0f921\"]], \"type\": \"heatmapgl\"}], \"histogram\": [{\"marker\": {\"colorbar\": {\"outlinewidth\": 0, \"ticks\": \"\"}}, \"type\": \"histogram\"}], \"histogram2d\": [{\"colorbar\": {\"outlinewidth\": 0, \"ticks\": \"\"}, \"colorscale\": [[0.0, \"#0d0887\"], [0.1111111111111111, \"#46039f\"], [0.2222222222222222, \"#7201a8\"], [0.3333333333333333, \"#9c179e\"], [0.4444444444444444, \"#bd3786\"], [0.5555555555555556, \"#d8576b\"], [0.6666666666666666, \"#ed7953\"], [0.7777777777777778, \"#fb9f3a\"], [0.8888888888888888, \"#fdca26\"], [1.0, \"#f0f921\"]], \"type\": \"histogram2d\"}], \"histogram2dcontour\": [{\"colorbar\": {\"outlinewidth\": 0, \"ticks\": \"\"}, \"colorscale\": [[0.0, \"#0d0887\"], [0.1111111111111111, \"#46039f\"], [0.2222222222222222, \"#7201a8\"], [0.3333333333333333, \"#9c179e\"], [0.4444444444444444, \"#bd3786\"], [0.5555555555555556, \"#d8576b\"], [0.6666666666666666, \"#ed7953\"], [0.7777777777777778, \"#fb9f3a\"], [0.8888888888888888, \"#fdca26\"], [1.0, \"#f0f921\"]], \"type\": \"histogram2dcontour\"}], \"mesh3d\": [{\"colorbar\": {\"outlinewidth\": 0, \"ticks\": \"\"}, \"type\": \"mesh3d\"}], \"parcoords\": [{\"line\": {\"colorbar\": {\"outlinewidth\": 0, \"ticks\": \"\"}}, \"type\": \"parcoords\"}], \"pie\": [{\"automargin\": true, \"type\": \"pie\"}], \"scatter\": [{\"marker\": {\"colorbar\": {\"outlinewidth\": 0, \"ticks\": \"\"}}, \"type\": \"scatter\"}], \"scatter3d\": [{\"line\": {\"colorbar\": {\"outlinewidth\": 0, \"ticks\": \"\"}}, \"marker\": {\"colorbar\": {\"outlinewidth\": 0, \"ticks\": \"\"}}, \"type\": \"scatter3d\"}], \"scattercarpet\": [{\"marker\": {\"colorbar\": {\"outlinewidth\": 0, \"ticks\": \"\"}}, \"type\": \"scattercarpet\"}], \"scattergeo\": [{\"marker\": {\"colorbar\": {\"outlinewidth\": 0, \"ticks\": \"\"}}, \"type\": \"scattergeo\"}], \"scattergl\": [{\"marker\": {\"colorbar\": {\"outlinewidth\": 0, \"ticks\": \"\"}}, \"type\": \"scattergl\"}], \"scattermapbox\": [{\"marker\": {\"colorbar\": {\"outlinewidth\": 0, \"ticks\": \"\"}}, \"type\": \"scattermapbox\"}], \"scatterpolar\": [{\"marker\": {\"colorbar\": {\"outlinewidth\": 0, \"ticks\": \"\"}}, \"type\": \"scatterpolar\"}], \"scatterpolargl\": [{\"marker\": {\"colorbar\": {\"outlinewidth\": 0, \"ticks\": \"\"}}, \"type\": \"scatterpolargl\"}], \"scatterternary\": [{\"marker\": {\"colorbar\": {\"outlinewidth\": 0, \"ticks\": \"\"}}, \"type\": \"scatterternary\"}], \"surface\": [{\"colorbar\": {\"outlinewidth\": 0, \"ticks\": \"\"}, \"colorscale\": [[0.0, \"#0d0887\"], [0.1111111111111111, \"#46039f\"], [0.2222222222222222, \"#7201a8\"], [0.3333333333333333, \"#9c179e\"], [0.4444444444444444, \"#bd3786\"], [0.5555555555555556, \"#d8576b\"], [0.6666666666666666, \"#ed7953\"], [0.7777777777777778, \"#fb9f3a\"], [0.8888888888888888, \"#fdca26\"], [1.0, \"#f0f921\"]], \"type\": \"surface\"}], \"table\": [{\"cells\": {\"fill\": {\"color\": \"#EBF0F8\"}, \"line\": {\"color\": \"white\"}}, \"header\": {\"fill\": {\"color\": \"#C8D4E3\"}, \"line\": {\"color\": \"white\"}}, \"type\": \"table\"}]}, \"layout\": {\"annotationdefaults\": {\"arrowcolor\": \"#2a3f5f\", \"arrowhead\": 0, \"arrowwidth\": 1}, \"coloraxis\": {\"colorbar\": {\"outlinewidth\": 0, \"ticks\": \"\"}}, \"colorscale\": {\"diverging\": [[0, \"#8e0152\"], [0.1, \"#c51b7d\"], [0.2, \"#de77ae\"], [0.3, \"#f1b6da\"], [0.4, \"#fde0ef\"], [0.5, \"#f7f7f7\"], [0.6, \"#e6f5d0\"], [0.7, \"#b8e186\"], [0.8, \"#7fbc41\"], [0.9, \"#4d9221\"], [1, \"#276419\"]], \"sequential\": [[0.0, \"#0d0887\"], [0.1111111111111111, \"#46039f\"], [0.2222222222222222, \"#7201a8\"], [0.3333333333333333, \"#9c179e\"], [0.4444444444444444, \"#bd3786\"], [0.5555555555555556, \"#d8576b\"], [0.6666666666666666, \"#ed7953\"], [0.7777777777777778, \"#fb9f3a\"], [0.8888888888888888, \"#fdca26\"], [1.0, \"#f0f921\"]], \"sequentialminus\": [[0.0, \"#0d0887\"], [0.1111111111111111, \"#46039f\"], [0.2222222222222222, \"#7201a8\"], [0.3333333333333333, \"#9c179e\"], [0.4444444444444444, \"#bd3786\"], [0.5555555555555556, \"#d8576b\"], [0.6666666666666666, \"#ed7953\"], [0.7777777777777778, \"#fb9f3a\"], [0.8888888888888888, \"#fdca26\"], [1.0, \"#f0f921\"]]}, \"colorway\": [\"#636efa\", \"#EF553B\", \"#00cc96\", \"#ab63fa\", \"#FFA15A\", \"#19d3f3\", \"#FF6692\", \"#B6E880\", \"#FF97FF\", \"#FECB52\"], \"font\": {\"color\": \"#2a3f5f\"}, \"geo\": {\"bgcolor\": \"white\", \"lakecolor\": \"white\", \"landcolor\": \"#E5ECF6\", \"showlakes\": true, \"showland\": true, \"subunitcolor\": \"white\"}, \"hoverlabel\": {\"align\": \"left\"}, \"hovermode\": \"closest\", \"mapbox\": {\"style\": \"light\"}, \"paper_bgcolor\": \"white\", \"plot_bgcolor\": \"#E5ECF6\", \"polar\": {\"angularaxis\": {\"gridcolor\": \"white\", \"linecolor\": \"white\", \"ticks\": \"\"}, \"bgcolor\": \"#E5ECF6\", \"radialaxis\": {\"gridcolor\": \"white\", \"linecolor\": \"white\", \"ticks\": \"\"}}, \"scene\": {\"xaxis\": {\"backgroundcolor\": \"#E5ECF6\", \"gridcolor\": \"white\", \"gridwidth\": 2, \"linecolor\": \"white\", \"showbackground\": true, \"ticks\": \"\", \"zerolinecolor\": \"white\"}, \"yaxis\": {\"backgroundcolor\": \"#E5ECF6\", \"gridcolor\": \"white\", \"gridwidth\": 2, \"linecolor\": \"white\", \"showbackground\": true, \"ticks\": \"\", \"zerolinecolor\": \"white\"}, \"zaxis\": {\"backgroundcolor\": \"#E5ECF6\", \"gridcolor\": \"white\", \"gridwidth\": 2, \"linecolor\": \"white\", \"showbackground\": true, \"ticks\": \"\", \"zerolinecolor\": \"white\"}}, \"shapedefaults\": {\"line\": {\"color\": \"#2a3f5f\"}}, \"ternary\": {\"aaxis\": {\"gridcolor\": \"white\", \"linecolor\": \"white\", \"ticks\": \"\"}, \"baxis\": {\"gridcolor\": \"white\", \"linecolor\": \"white\", \"ticks\": \"\"}, \"bgcolor\": \"#E5ECF6\", \"caxis\": {\"gridcolor\": \"white\", \"linecolor\": \"white\", \"ticks\": \"\"}}, \"title\": {\"x\": 0.05}, \"xaxis\": {\"automargin\": true, \"gridcolor\": \"white\", \"linecolor\": \"white\", \"ticks\": \"\", \"title\": {\"standoff\": 15}, \"zerolinecolor\": \"white\", \"zerolinewidth\": 2}, \"yaxis\": {\"automargin\": true, \"gridcolor\": \"white\", \"linecolor\": \"white\", \"ticks\": \"\", \"title\": {\"standoff\": 15}, \"zerolinecolor\": \"white\", \"zerolinewidth\": 2}}}, \"xaxis\": {\"anchor\": \"y\", \"domain\": [0.0, 1.0], \"title\": {\"text\": \"time\"}}, \"yaxis\": {\"anchor\": \"x\", \"domain\": [0.0, 1.0], \"title\": {\"text\": \"VtyDayRet180d\"}}},\n",
              "                        {\"responsive\": true}\n",
              "                    ).then(function(){\n",
              "                            \n",
              "var gd = document.getElementById('461bb091-245a-42ce-9362-0bd5a5d8d13d');\n",
              "var x = new MutationObserver(function (mutations, observer) {{\n",
              "        var display = window.getComputedStyle(gd).display;\n",
              "        if (!display || display === 'none') {{\n",
              "            console.log([gd, 'removed!']);\n",
              "            Plotly.purge(gd);\n",
              "            observer.disconnect();\n",
              "        }}\n",
              "}});\n",
              "\n",
              "// Listen for the removal of the full notebook cells\n",
              "var notebookContainer = gd.closest('#notebook-container');\n",
              "if (notebookContainer) {{\n",
              "    x.observe(notebookContainer, {childList: true});\n",
              "}}\n",
              "\n",
              "// Listen for the clearing of the current output cell\n",
              "var outputEl = gd.closest('.output');\n",
              "if (outputEl) {{\n",
              "    x.observe(outputEl, {childList: true});\n",
              "}}\n",
              "\n",
              "                        })\n",
              "                };\n",
              "                \n",
              "            </script>\n",
              "        </div>\n",
              "</body>\n",
              "</html>"
            ]
          },
          "metadata": {
            "tags": []
          }
        }
      ]
    },
    {
      "cell_type": "code",
      "metadata": {
        "colab": {
          "base_uri": "https://localhost:8080/",
          "height": 542
        },
        "id": "vUedAhXyWVbk",
        "outputId": "7d2fd0be-7bf2-4325-ce5b-906391fc51cf"
      },
      "source": [
        "import plotly.express as px\n",
        "fig = px.scatter(df, x=\"TxTfrValAdjUSD\", y=\"PriceUSD\", animation_frame=\"time\", animation_group=\"assets\",\n",
        "           size=\"CapMrktCurUSD\", color=\"Type\", hover_name=\"assets\", facet_col=\"Type\",\n",
        "           log_x=True)\n",
        "fig.show()"
      ],
      "execution_count": 451,
      "outputs": [
        {
          "output_type": "display_data",
          "data": {
            "text/html": [
              "<html>\n",
              "<head><meta charset=\"utf-8\" /></head>\n",
              "<body>\n",
              "    <div>\n",
              "            <script src=\"https://cdnjs.cloudflare.com/ajax/libs/mathjax/2.7.5/MathJax.js?config=TeX-AMS-MML_SVG\"></script><script type=\"text/javascript\">if (window.MathJax) {MathJax.Hub.Config({SVG: {font: \"STIX-Web\"}});}</script>\n",
              "                <script type=\"text/javascript\">window.PlotlyConfig = {MathJaxConfig: 'local'};</script>\n",
              "        <script src=\"https://cdn.plot.ly/plotly-latest.min.js\"></script>    \n",
              "            <div id=\"3a6761af-6c24-4de7-874f-b7ed67a83a3c\" class=\"plotly-graph-div\" style=\"height:525px; width:100%;\"></div>\n",
              "            <script type=\"text/javascript\">\n",
              "                \n",
              "                    window.PLOTLYENV=window.PLOTLYENV || {};\n",
              "                    \n",
              "                if (document.getElementById(\"3a6761af-6c24-4de7-874f-b7ed67a83a3c\")) {\n",
              "                    Plotly.newPlot(\n",
              "                        '3a6761af-6c24-4de7-874f-b7ed67a83a3c',\n",
              "                        [{\"hoverlabel\": {\"namelength\": 0}, \"hovertemplate\": \"<b>%{hovertext}</b><br><br>Type=Lending<br>time=2021-04-01<br>TxTfrValAdjUSD=%{x}<br>PriceUSD=%{y}<br>CapMrktCurUSD=%{marker.size}\", \"hovertext\": [\"COMP\", \"AAVE\", \"MKR\"], \"ids\": [\"COMP\", \"AAVE\", \"MKR\"], \"legendgroup\": \"Type=Lending\", \"marker\": {\"color\": \"#636efa\", \"size\": [4516086494.56255, 6142561460.878704, 2293185290.5600505], \"sizemode\": \"area\", \"sizeref\": 108857792.39419726, \"symbol\": \"circle\"}, \"mode\": \"markers\", \"name\": \"Type=Lending\", \"showlegend\": true, \"type\": \"scatter\", \"x\": [97444219.76354516, 114633184.30245675, 53605998.94723818], \"xaxis\": \"x\", \"y\": [451.608649456255, 383.910091304919, 2304.1558876034696], \"yaxis\": \"y\"}, {\"hoverlabel\": {\"namelength\": 0}, \"hovertemplate\": \"<b>%{hovertext}</b><br><br>Type=Exchange<br>time=2021-04-01<br>TxTfrValAdjUSD=%{x}<br>PriceUSD=%{y}<br>CapMrktCurUSD=%{marker.size}\", \"hovertext\": [\"UNI\", \"BAL\", \"SUSHI\"], \"ids\": [\"UNI\", \"BAL\", \"SUSHI\"], \"legendgroup\": \"Type=Exchange\", \"marker\": {\"color\": \"#EF553B\", \"size\": [28742296364.7468, 2306350538.62192, 3133542014.8335166], \"sizemode\": \"area\", \"sizeref\": 108857792.39419726, \"symbol\": \"circle\"}, \"mode\": \"markers\", \"name\": \"Type=Exchange\", \"showlegend\": true, \"type\": \"scatter\", \"x\": [196569088.81655726, 20243699.055885475, 117694338.2101262], \"xaxis\": \"x2\", \"y\": [28.7422963647468, 55.9318670697689, 14.8576849595022], \"yaxis\": \"y2\"}],\n",
              "                        {\"annotations\": [{\"font\": {}, \"showarrow\": false, \"text\": \"Type=Lending\", \"x\": 0.245, \"xanchor\": \"center\", \"xref\": \"paper\", \"y\": 1.0, \"yanchor\": \"bottom\", \"yref\": \"paper\"}, {\"font\": {}, \"showarrow\": false, \"text\": \"Type=Exchange\", \"x\": 0.755, \"xanchor\": \"center\", \"xref\": \"paper\", \"y\": 1.0, \"yanchor\": \"bottom\", \"yref\": \"paper\"}], \"legend\": {\"itemsizing\": \"constant\", \"tracegroupgap\": 0}, \"margin\": {\"t\": 60}, \"sliders\": [{\"active\": 0, \"currentvalue\": {\"prefix\": \"time=\"}, \"len\": 0.9, \"pad\": {\"b\": 10, \"t\": 60}, \"steps\": [{\"args\": [[\"2021-04-01\"], {\"frame\": {\"duration\": 0, \"redraw\": false}, \"fromcurrent\": true, \"mode\": \"immediate\", \"transition\": {\"duration\": 0, \"easing\": \"linear\"}}], \"label\": \"2021-04-01\", \"method\": \"animate\"}, {\"args\": [[\"2021-04-02\"], {\"frame\": {\"duration\": 0, \"redraw\": false}, \"fromcurrent\": true, \"mode\": \"immediate\", \"transition\": {\"duration\": 0, \"easing\": \"linear\"}}], \"label\": \"2021-04-02\", \"method\": \"animate\"}, {\"args\": [[\"2021-04-03\"], {\"frame\": {\"duration\": 0, \"redraw\": false}, \"fromcurrent\": true, \"mode\": \"immediate\", \"transition\": {\"duration\": 0, \"easing\": \"linear\"}}], \"label\": \"2021-04-03\", \"method\": \"animate\"}, {\"args\": [[\"2021-04-04\"], {\"frame\": {\"duration\": 0, \"redraw\": false}, \"fromcurrent\": true, \"mode\": \"immediate\", \"transition\": {\"duration\": 0, \"easing\": \"linear\"}}], \"label\": \"2021-04-04\", \"method\": \"animate\"}, {\"args\": [[\"2021-04-05\"], {\"frame\": {\"duration\": 0, \"redraw\": false}, \"fromcurrent\": true, \"mode\": \"immediate\", \"transition\": {\"duration\": 0, \"easing\": \"linear\"}}], \"label\": \"2021-04-05\", \"method\": \"animate\"}, {\"args\": [[\"2021-04-06\"], {\"frame\": {\"duration\": 0, \"redraw\": false}, \"fromcurrent\": true, \"mode\": \"immediate\", \"transition\": {\"duration\": 0, \"easing\": \"linear\"}}], \"label\": \"2021-04-06\", \"method\": \"animate\"}, {\"args\": [[\"2021-04-07\"], {\"frame\": {\"duration\": 0, \"redraw\": false}, \"fromcurrent\": true, \"mode\": \"immediate\", \"transition\": {\"duration\": 0, \"easing\": \"linear\"}}], \"label\": \"2021-04-07\", \"method\": \"animate\"}, {\"args\": [[\"2021-04-08\"], {\"frame\": {\"duration\": 0, \"redraw\": false}, \"fromcurrent\": true, \"mode\": \"immediate\", \"transition\": {\"duration\": 0, \"easing\": \"linear\"}}], \"label\": \"2021-04-08\", \"method\": \"animate\"}, {\"args\": [[\"2021-04-09\"], {\"frame\": {\"duration\": 0, \"redraw\": false}, \"fromcurrent\": true, \"mode\": \"immediate\", \"transition\": {\"duration\": 0, \"easing\": \"linear\"}}], \"label\": \"2021-04-09\", \"method\": \"animate\"}, {\"args\": [[\"2021-04-10\"], {\"frame\": {\"duration\": 0, \"redraw\": false}, \"fromcurrent\": true, \"mode\": \"immediate\", \"transition\": {\"duration\": 0, \"easing\": \"linear\"}}], \"label\": \"2021-04-10\", \"method\": \"animate\"}, {\"args\": [[\"2021-04-11\"], {\"frame\": {\"duration\": 0, \"redraw\": false}, \"fromcurrent\": true, \"mode\": \"immediate\", \"transition\": {\"duration\": 0, \"easing\": \"linear\"}}], \"label\": \"2021-04-11\", \"method\": \"animate\"}, {\"args\": [[\"2021-04-12\"], {\"frame\": {\"duration\": 0, \"redraw\": false}, \"fromcurrent\": true, \"mode\": \"immediate\", \"transition\": {\"duration\": 0, \"easing\": \"linear\"}}], \"label\": \"2021-04-12\", \"method\": \"animate\"}, {\"args\": [[\"2021-04-13\"], {\"frame\": {\"duration\": 0, \"redraw\": false}, \"fromcurrent\": true, \"mode\": \"immediate\", \"transition\": {\"duration\": 0, \"easing\": \"linear\"}}], \"label\": \"2021-04-13\", \"method\": \"animate\"}, {\"args\": [[\"2021-04-14\"], {\"frame\": {\"duration\": 0, \"redraw\": false}, \"fromcurrent\": true, \"mode\": \"immediate\", \"transition\": {\"duration\": 0, \"easing\": \"linear\"}}], \"label\": \"2021-04-14\", \"method\": \"animate\"}, {\"args\": [[\"2021-04-15\"], {\"frame\": {\"duration\": 0, \"redraw\": false}, \"fromcurrent\": true, \"mode\": \"immediate\", \"transition\": {\"duration\": 0, \"easing\": \"linear\"}}], \"label\": \"2021-04-15\", \"method\": \"animate\"}, {\"args\": [[\"2021-04-16\"], {\"frame\": {\"duration\": 0, \"redraw\": false}, \"fromcurrent\": true, \"mode\": \"immediate\", \"transition\": {\"duration\": 0, \"easing\": \"linear\"}}], \"label\": \"2021-04-16\", \"method\": \"animate\"}, {\"args\": [[\"2021-04-17\"], {\"frame\": {\"duration\": 0, \"redraw\": false}, \"fromcurrent\": true, \"mode\": \"immediate\", \"transition\": {\"duration\": 0, \"easing\": \"linear\"}}], \"label\": \"2021-04-17\", \"method\": \"animate\"}, {\"args\": [[\"2021-04-18\"], {\"frame\": {\"duration\": 0, \"redraw\": false}, \"fromcurrent\": true, \"mode\": \"immediate\", \"transition\": {\"duration\": 0, \"easing\": \"linear\"}}], \"label\": \"2021-04-18\", \"method\": \"animate\"}, {\"args\": [[\"2021-04-19\"], {\"frame\": {\"duration\": 0, \"redraw\": false}, \"fromcurrent\": true, \"mode\": \"immediate\", \"transition\": {\"duration\": 0, \"easing\": \"linear\"}}], \"label\": \"2021-04-19\", \"method\": \"animate\"}, {\"args\": [[\"2021-04-20\"], {\"frame\": {\"duration\": 0, \"redraw\": false}, \"fromcurrent\": true, \"mode\": \"immediate\", \"transition\": {\"duration\": 0, \"easing\": \"linear\"}}], \"label\": \"2021-04-20\", \"method\": \"animate\"}, {\"args\": [[\"2021-04-21\"], {\"frame\": {\"duration\": 0, \"redraw\": false}, \"fromcurrent\": true, \"mode\": \"immediate\", \"transition\": {\"duration\": 0, \"easing\": \"linear\"}}], \"label\": \"2021-04-21\", \"method\": \"animate\"}, {\"args\": [[\"2021-04-22\"], {\"frame\": {\"duration\": 0, \"redraw\": false}, \"fromcurrent\": true, \"mode\": \"immediate\", \"transition\": {\"duration\": 0, \"easing\": \"linear\"}}], \"label\": \"2021-04-22\", \"method\": \"animate\"}, {\"args\": [[\"2021-04-23\"], {\"frame\": {\"duration\": 0, \"redraw\": false}, \"fromcurrent\": true, \"mode\": \"immediate\", \"transition\": {\"duration\": 0, \"easing\": \"linear\"}}], \"label\": \"2021-04-23\", \"method\": \"animate\"}, {\"args\": [[\"2021-04-24\"], {\"frame\": {\"duration\": 0, \"redraw\": false}, \"fromcurrent\": true, \"mode\": \"immediate\", \"transition\": {\"duration\": 0, \"easing\": \"linear\"}}], \"label\": \"2021-04-24\", \"method\": \"animate\"}, {\"args\": [[\"2021-04-25\"], {\"frame\": {\"duration\": 0, \"redraw\": false}, \"fromcurrent\": true, \"mode\": \"immediate\", \"transition\": {\"duration\": 0, \"easing\": \"linear\"}}], \"label\": \"2021-04-25\", \"method\": \"animate\"}, {\"args\": [[\"2021-04-26\"], {\"frame\": {\"duration\": 0, \"redraw\": false}, \"fromcurrent\": true, \"mode\": \"immediate\", \"transition\": {\"duration\": 0, \"easing\": \"linear\"}}], \"label\": \"2021-04-26\", \"method\": \"animate\"}, {\"args\": [[\"2021-04-27\"], {\"frame\": {\"duration\": 0, \"redraw\": false}, \"fromcurrent\": true, \"mode\": \"immediate\", \"transition\": {\"duration\": 0, \"easing\": \"linear\"}}], \"label\": \"2021-04-27\", \"method\": \"animate\"}, {\"args\": [[\"2021-04-28\"], {\"frame\": {\"duration\": 0, \"redraw\": false}, \"fromcurrent\": true, \"mode\": \"immediate\", \"transition\": {\"duration\": 0, \"easing\": \"linear\"}}], \"label\": \"2021-04-28\", \"method\": \"animate\"}, {\"args\": [[\"2021-04-29\"], {\"frame\": {\"duration\": 0, \"redraw\": false}, \"fromcurrent\": true, \"mode\": \"immediate\", \"transition\": {\"duration\": 0, \"easing\": \"linear\"}}], \"label\": \"2021-04-29\", \"method\": \"animate\"}, {\"args\": [[\"2021-04-30\"], {\"frame\": {\"duration\": 0, \"redraw\": false}, \"fromcurrent\": true, \"mode\": \"immediate\", \"transition\": {\"duration\": 0, \"easing\": \"linear\"}}], \"label\": \"2021-04-30\", \"method\": \"animate\"}, {\"args\": [[\"2021-05-01\"], {\"frame\": {\"duration\": 0, \"redraw\": false}, \"fromcurrent\": true, \"mode\": \"immediate\", \"transition\": {\"duration\": 0, \"easing\": \"linear\"}}], \"label\": \"2021-05-01\", \"method\": \"animate\"}, {\"args\": [[\"2021-05-02\"], {\"frame\": {\"duration\": 0, \"redraw\": false}, \"fromcurrent\": true, \"mode\": \"immediate\", \"transition\": {\"duration\": 0, \"easing\": \"linear\"}}], \"label\": \"2021-05-02\", \"method\": \"animate\"}, {\"args\": [[\"2021-05-03\"], {\"frame\": {\"duration\": 0, \"redraw\": false}, \"fromcurrent\": true, \"mode\": \"immediate\", \"transition\": {\"duration\": 0, \"easing\": \"linear\"}}], \"label\": \"2021-05-03\", \"method\": \"animate\"}, {\"args\": [[\"2021-05-04\"], {\"frame\": {\"duration\": 0, \"redraw\": false}, \"fromcurrent\": true, \"mode\": \"immediate\", \"transition\": {\"duration\": 0, \"easing\": \"linear\"}}], \"label\": \"2021-05-04\", \"method\": \"animate\"}, {\"args\": [[\"2021-05-05\"], {\"frame\": {\"duration\": 0, \"redraw\": false}, \"fromcurrent\": true, \"mode\": \"immediate\", \"transition\": {\"duration\": 0, \"easing\": \"linear\"}}], \"label\": \"2021-05-05\", \"method\": \"animate\"}, {\"args\": [[\"2021-05-06\"], {\"frame\": {\"duration\": 0, \"redraw\": false}, \"fromcurrent\": true, \"mode\": \"immediate\", \"transition\": {\"duration\": 0, \"easing\": \"linear\"}}], \"label\": \"2021-05-06\", \"method\": \"animate\"}, {\"args\": [[\"2021-05-07\"], {\"frame\": {\"duration\": 0, \"redraw\": false}, \"fromcurrent\": true, \"mode\": \"immediate\", \"transition\": {\"duration\": 0, \"easing\": \"linear\"}}], \"label\": \"2021-05-07\", \"method\": \"animate\"}, {\"args\": [[\"2021-05-08\"], {\"frame\": {\"duration\": 0, \"redraw\": false}, \"fromcurrent\": true, \"mode\": \"immediate\", \"transition\": {\"duration\": 0, \"easing\": \"linear\"}}], \"label\": \"2021-05-08\", \"method\": \"animate\"}, {\"args\": [[\"2021-05-09\"], {\"frame\": {\"duration\": 0, \"redraw\": false}, \"fromcurrent\": true, \"mode\": \"immediate\", \"transition\": {\"duration\": 0, \"easing\": \"linear\"}}], \"label\": \"2021-05-09\", \"method\": \"animate\"}, {\"args\": [[\"2021-05-10\"], {\"frame\": {\"duration\": 0, \"redraw\": false}, \"fromcurrent\": true, \"mode\": \"immediate\", \"transition\": {\"duration\": 0, \"easing\": \"linear\"}}], \"label\": \"2021-05-10\", \"method\": \"animate\"}, {\"args\": [[\"2021-05-11\"], {\"frame\": {\"duration\": 0, \"redraw\": false}, \"fromcurrent\": true, \"mode\": \"immediate\", \"transition\": {\"duration\": 0, \"easing\": \"linear\"}}], \"label\": \"2021-05-11\", \"method\": \"animate\"}, {\"args\": [[\"2021-05-12\"], {\"frame\": {\"duration\": 0, \"redraw\": false}, \"fromcurrent\": true, \"mode\": \"immediate\", \"transition\": {\"duration\": 0, \"easing\": \"linear\"}}], \"label\": \"2021-05-12\", \"method\": \"animate\"}, {\"args\": [[\"2021-05-13\"], {\"frame\": {\"duration\": 0, \"redraw\": false}, \"fromcurrent\": true, \"mode\": \"immediate\", \"transition\": {\"duration\": 0, \"easing\": \"linear\"}}], \"label\": \"2021-05-13\", \"method\": \"animate\"}, {\"args\": [[\"2021-05-14\"], {\"frame\": {\"duration\": 0, \"redraw\": false}, \"fromcurrent\": true, \"mode\": \"immediate\", \"transition\": {\"duration\": 0, \"easing\": \"linear\"}}], \"label\": \"2021-05-14\", \"method\": \"animate\"}, {\"args\": [[\"2021-05-15\"], {\"frame\": {\"duration\": 0, \"redraw\": false}, \"fromcurrent\": true, \"mode\": \"immediate\", \"transition\": {\"duration\": 0, \"easing\": \"linear\"}}], \"label\": \"2021-05-15\", \"method\": \"animate\"}, {\"args\": [[\"2021-05-16\"], {\"frame\": {\"duration\": 0, \"redraw\": false}, \"fromcurrent\": true, \"mode\": \"immediate\", \"transition\": {\"duration\": 0, \"easing\": \"linear\"}}], \"label\": \"2021-05-16\", \"method\": \"animate\"}, {\"args\": [[\"2021-05-17\"], {\"frame\": {\"duration\": 0, \"redraw\": false}, \"fromcurrent\": true, \"mode\": \"immediate\", \"transition\": {\"duration\": 0, \"easing\": \"linear\"}}], \"label\": \"2021-05-17\", \"method\": \"animate\"}, {\"args\": [[\"2021-05-18\"], {\"frame\": {\"duration\": 0, \"redraw\": false}, \"fromcurrent\": true, \"mode\": \"immediate\", \"transition\": {\"duration\": 0, \"easing\": \"linear\"}}], \"label\": \"2021-05-18\", \"method\": \"animate\"}, {\"args\": [[\"2021-05-19\"], {\"frame\": {\"duration\": 0, \"redraw\": false}, \"fromcurrent\": true, \"mode\": \"immediate\", \"transition\": {\"duration\": 0, \"easing\": \"linear\"}}], \"label\": \"2021-05-19\", \"method\": \"animate\"}, {\"args\": [[\"2021-05-20\"], {\"frame\": {\"duration\": 0, \"redraw\": false}, \"fromcurrent\": true, \"mode\": \"immediate\", \"transition\": {\"duration\": 0, \"easing\": \"linear\"}}], \"label\": \"2021-05-20\", \"method\": \"animate\"}, {\"args\": [[\"2021-05-21\"], {\"frame\": {\"duration\": 0, \"redraw\": false}, \"fromcurrent\": true, \"mode\": \"immediate\", \"transition\": {\"duration\": 0, \"easing\": \"linear\"}}], \"label\": \"2021-05-21\", \"method\": \"animate\"}, {\"args\": [[\"2021-05-22\"], {\"frame\": {\"duration\": 0, \"redraw\": false}, \"fromcurrent\": true, \"mode\": \"immediate\", \"transition\": {\"duration\": 0, \"easing\": \"linear\"}}], \"label\": \"2021-05-22\", \"method\": \"animate\"}, {\"args\": [[\"2021-05-23\"], {\"frame\": {\"duration\": 0, \"redraw\": false}, \"fromcurrent\": true, \"mode\": \"immediate\", \"transition\": {\"duration\": 0, \"easing\": \"linear\"}}], \"label\": \"2021-05-23\", \"method\": \"animate\"}, {\"args\": [[\"2021-05-24\"], {\"frame\": {\"duration\": 0, \"redraw\": false}, \"fromcurrent\": true, \"mode\": \"immediate\", \"transition\": {\"duration\": 0, \"easing\": \"linear\"}}], \"label\": \"2021-05-24\", \"method\": \"animate\"}, {\"args\": [[\"2021-05-25\"], {\"frame\": {\"duration\": 0, \"redraw\": false}, \"fromcurrent\": true, \"mode\": \"immediate\", \"transition\": {\"duration\": 0, \"easing\": \"linear\"}}], \"label\": \"2021-05-25\", \"method\": \"animate\"}, {\"args\": [[\"2021-05-26\"], {\"frame\": {\"duration\": 0, \"redraw\": false}, \"fromcurrent\": true, \"mode\": \"immediate\", \"transition\": {\"duration\": 0, \"easing\": \"linear\"}}], \"label\": \"2021-05-26\", \"method\": \"animate\"}, {\"args\": [[\"2021-05-27\"], {\"frame\": {\"duration\": 0, \"redraw\": false}, \"fromcurrent\": true, \"mode\": \"immediate\", \"transition\": {\"duration\": 0, \"easing\": \"linear\"}}], \"label\": \"2021-05-27\", \"method\": \"animate\"}, {\"args\": [[\"2021-05-28\"], {\"frame\": {\"duration\": 0, \"redraw\": false}, \"fromcurrent\": true, \"mode\": \"immediate\", \"transition\": {\"duration\": 0, \"easing\": \"linear\"}}], \"label\": \"2021-05-28\", \"method\": \"animate\"}, {\"args\": [[\"2021-05-29\"], {\"frame\": {\"duration\": 0, \"redraw\": false}, \"fromcurrent\": true, \"mode\": \"immediate\", \"transition\": {\"duration\": 0, \"easing\": \"linear\"}}], \"label\": \"2021-05-29\", \"method\": \"animate\"}, {\"args\": [[\"2021-05-30\"], {\"frame\": {\"duration\": 0, \"redraw\": false}, \"fromcurrent\": true, \"mode\": \"immediate\", \"transition\": {\"duration\": 0, \"easing\": \"linear\"}}], \"label\": \"2021-05-30\", \"method\": \"animate\"}, {\"args\": [[\"2021-05-31\"], {\"frame\": {\"duration\": 0, \"redraw\": false}, \"fromcurrent\": true, \"mode\": \"immediate\", \"transition\": {\"duration\": 0, \"easing\": \"linear\"}}], \"label\": \"2021-05-31\", \"method\": \"animate\"}], \"x\": 0.1, \"xanchor\": \"left\", \"y\": 0, \"yanchor\": \"top\"}], \"template\": {\"data\": {\"bar\": [{\"error_x\": {\"color\": \"#2a3f5f\"}, \"error_y\": {\"color\": \"#2a3f5f\"}, \"marker\": {\"line\": {\"color\": \"#E5ECF6\", \"width\": 0.5}}, \"type\": \"bar\"}], \"barpolar\": [{\"marker\": {\"line\": {\"color\": \"#E5ECF6\", \"width\": 0.5}}, \"type\": \"barpolar\"}], \"carpet\": [{\"aaxis\": {\"endlinecolor\": \"#2a3f5f\", \"gridcolor\": \"white\", \"linecolor\": \"white\", \"minorgridcolor\": \"white\", \"startlinecolor\": \"#2a3f5f\"}, \"baxis\": {\"endlinecolor\": \"#2a3f5f\", \"gridcolor\": \"white\", \"linecolor\": \"white\", \"minorgridcolor\": \"white\", \"startlinecolor\": \"#2a3f5f\"}, \"type\": \"carpet\"}], \"choropleth\": [{\"colorbar\": {\"outlinewidth\": 0, \"ticks\": \"\"}, \"type\": \"choropleth\"}], \"contour\": [{\"colorbar\": {\"outlinewidth\": 0, \"ticks\": \"\"}, \"colorscale\": [[0.0, \"#0d0887\"], [0.1111111111111111, \"#46039f\"], [0.2222222222222222, \"#7201a8\"], [0.3333333333333333, \"#9c179e\"], [0.4444444444444444, \"#bd3786\"], [0.5555555555555556, \"#d8576b\"], [0.6666666666666666, \"#ed7953\"], [0.7777777777777778, \"#fb9f3a\"], [0.8888888888888888, \"#fdca26\"], [1.0, \"#f0f921\"]], \"type\": \"contour\"}], \"contourcarpet\": [{\"colorbar\": {\"outlinewidth\": 0, \"ticks\": \"\"}, \"type\": \"contourcarpet\"}], \"heatmap\": [{\"colorbar\": {\"outlinewidth\": 0, \"ticks\": \"\"}, \"colorscale\": [[0.0, \"#0d0887\"], [0.1111111111111111, \"#46039f\"], [0.2222222222222222, \"#7201a8\"], [0.3333333333333333, \"#9c179e\"], [0.4444444444444444, \"#bd3786\"], [0.5555555555555556, \"#d8576b\"], [0.6666666666666666, \"#ed7953\"], [0.7777777777777778, \"#fb9f3a\"], [0.8888888888888888, \"#fdca26\"], [1.0, \"#f0f921\"]], \"type\": \"heatmap\"}], \"heatmapgl\": [{\"colorbar\": {\"outlinewidth\": 0, \"ticks\": \"\"}, \"colorscale\": [[0.0, \"#0d0887\"], [0.1111111111111111, \"#46039f\"], [0.2222222222222222, \"#7201a8\"], [0.3333333333333333, \"#9c179e\"], [0.4444444444444444, \"#bd3786\"], [0.5555555555555556, \"#d8576b\"], [0.6666666666666666, \"#ed7953\"], [0.7777777777777778, \"#fb9f3a\"], [0.8888888888888888, \"#fdca26\"], [1.0, \"#f0f921\"]], \"type\": \"heatmapgl\"}], \"histogram\": [{\"marker\": {\"colorbar\": {\"outlinewidth\": 0, \"ticks\": \"\"}}, \"type\": \"histogram\"}], \"histogram2d\": [{\"colorbar\": {\"outlinewidth\": 0, \"ticks\": \"\"}, \"colorscale\": [[0.0, \"#0d0887\"], [0.1111111111111111, \"#46039f\"], [0.2222222222222222, \"#7201a8\"], [0.3333333333333333, \"#9c179e\"], [0.4444444444444444, \"#bd3786\"], [0.5555555555555556, \"#d8576b\"], [0.6666666666666666, \"#ed7953\"], [0.7777777777777778, \"#fb9f3a\"], [0.8888888888888888, \"#fdca26\"], [1.0, \"#f0f921\"]], \"type\": \"histogram2d\"}], \"histogram2dcontour\": [{\"colorbar\": {\"outlinewidth\": 0, \"ticks\": \"\"}, \"colorscale\": [[0.0, \"#0d0887\"], [0.1111111111111111, \"#46039f\"], [0.2222222222222222, \"#7201a8\"], [0.3333333333333333, \"#9c179e\"], [0.4444444444444444, \"#bd3786\"], [0.5555555555555556, \"#d8576b\"], [0.6666666666666666, \"#ed7953\"], [0.7777777777777778, \"#fb9f3a\"], [0.8888888888888888, \"#fdca26\"], [1.0, \"#f0f921\"]], \"type\": \"histogram2dcontour\"}], \"mesh3d\": [{\"colorbar\": {\"outlinewidth\": 0, \"ticks\": \"\"}, \"type\": \"mesh3d\"}], \"parcoords\": [{\"line\": {\"colorbar\": {\"outlinewidth\": 0, \"ticks\": \"\"}}, \"type\": \"parcoords\"}], \"pie\": [{\"automargin\": true, \"type\": \"pie\"}], \"scatter\": [{\"marker\": {\"colorbar\": {\"outlinewidth\": 0, \"ticks\": \"\"}}, \"type\": \"scatter\"}], \"scatter3d\": [{\"line\": {\"colorbar\": {\"outlinewidth\": 0, \"ticks\": \"\"}}, \"marker\": {\"colorbar\": {\"outlinewidth\": 0, \"ticks\": \"\"}}, \"type\": \"scatter3d\"}], \"scattercarpet\": [{\"marker\": {\"colorbar\": {\"outlinewidth\": 0, \"ticks\": \"\"}}, \"type\": \"scattercarpet\"}], \"scattergeo\": [{\"marker\": {\"colorbar\": {\"outlinewidth\": 0, \"ticks\": \"\"}}, \"type\": \"scattergeo\"}], \"scattergl\": [{\"marker\": {\"colorbar\": {\"outlinewidth\": 0, \"ticks\": \"\"}}, \"type\": \"scattergl\"}], \"scattermapbox\": [{\"marker\": {\"colorbar\": {\"outlinewidth\": 0, \"ticks\": \"\"}}, \"type\": \"scattermapbox\"}], \"scatterpolar\": [{\"marker\": {\"colorbar\": {\"outlinewidth\": 0, \"ticks\": \"\"}}, \"type\": \"scatterpolar\"}], \"scatterpolargl\": [{\"marker\": {\"colorbar\": {\"outlinewidth\": 0, \"ticks\": \"\"}}, \"type\": \"scatterpolargl\"}], \"scatterternary\": [{\"marker\": {\"colorbar\": {\"outlinewidth\": 0, \"ticks\": \"\"}}, \"type\": \"scatterternary\"}], \"surface\": [{\"colorbar\": {\"outlinewidth\": 0, \"ticks\": \"\"}, \"colorscale\": [[0.0, \"#0d0887\"], [0.1111111111111111, \"#46039f\"], [0.2222222222222222, \"#7201a8\"], [0.3333333333333333, \"#9c179e\"], [0.4444444444444444, \"#bd3786\"], [0.5555555555555556, \"#d8576b\"], [0.6666666666666666, \"#ed7953\"], [0.7777777777777778, \"#fb9f3a\"], [0.8888888888888888, \"#fdca26\"], [1.0, \"#f0f921\"]], \"type\": \"surface\"}], \"table\": [{\"cells\": {\"fill\": {\"color\": \"#EBF0F8\"}, \"line\": {\"color\": \"white\"}}, \"header\": {\"fill\": {\"color\": \"#C8D4E3\"}, \"line\": {\"color\": \"white\"}}, \"type\": \"table\"}]}, \"layout\": {\"annotationdefaults\": {\"arrowcolor\": \"#2a3f5f\", \"arrowhead\": 0, \"arrowwidth\": 1}, \"coloraxis\": {\"colorbar\": {\"outlinewidth\": 0, \"ticks\": \"\"}}, \"colorscale\": {\"diverging\": [[0, \"#8e0152\"], [0.1, \"#c51b7d\"], [0.2, \"#de77ae\"], [0.3, \"#f1b6da\"], [0.4, \"#fde0ef\"], [0.5, \"#f7f7f7\"], [0.6, \"#e6f5d0\"], [0.7, \"#b8e186\"], [0.8, \"#7fbc41\"], [0.9, \"#4d9221\"], [1, \"#276419\"]], \"sequential\": [[0.0, \"#0d0887\"], [0.1111111111111111, \"#46039f\"], [0.2222222222222222, \"#7201a8\"], [0.3333333333333333, \"#9c179e\"], [0.4444444444444444, \"#bd3786\"], [0.5555555555555556, \"#d8576b\"], [0.6666666666666666, \"#ed7953\"], [0.7777777777777778, \"#fb9f3a\"], [0.8888888888888888, \"#fdca26\"], [1.0, \"#f0f921\"]], \"sequentialminus\": [[0.0, \"#0d0887\"], [0.1111111111111111, \"#46039f\"], [0.2222222222222222, \"#7201a8\"], [0.3333333333333333, \"#9c179e\"], [0.4444444444444444, \"#bd3786\"], [0.5555555555555556, \"#d8576b\"], [0.6666666666666666, \"#ed7953\"], [0.7777777777777778, \"#fb9f3a\"], [0.8888888888888888, \"#fdca26\"], [1.0, \"#f0f921\"]]}, \"colorway\": [\"#636efa\", \"#EF553B\", \"#00cc96\", \"#ab63fa\", \"#FFA15A\", \"#19d3f3\", \"#FF6692\", \"#B6E880\", \"#FF97FF\", \"#FECB52\"], \"font\": {\"color\": \"#2a3f5f\"}, \"geo\": {\"bgcolor\": \"white\", \"lakecolor\": \"white\", \"landcolor\": \"#E5ECF6\", \"showlakes\": true, \"showland\": true, \"subunitcolor\": \"white\"}, \"hoverlabel\": {\"align\": \"left\"}, \"hovermode\": \"closest\", \"mapbox\": {\"style\": \"light\"}, \"paper_bgcolor\": \"white\", \"plot_bgcolor\": \"#E5ECF6\", \"polar\": {\"angularaxis\": {\"gridcolor\": \"white\", \"linecolor\": \"white\", \"ticks\": \"\"}, \"bgcolor\": \"#E5ECF6\", \"radialaxis\": {\"gridcolor\": \"white\", \"linecolor\": \"white\", \"ticks\": \"\"}}, \"scene\": {\"xaxis\": {\"backgroundcolor\": \"#E5ECF6\", \"gridcolor\": \"white\", \"gridwidth\": 2, \"linecolor\": \"white\", \"showbackground\": true, \"ticks\": \"\", \"zerolinecolor\": \"white\"}, \"yaxis\": {\"backgroundcolor\": \"#E5ECF6\", \"gridcolor\": \"white\", \"gridwidth\": 2, \"linecolor\": \"white\", \"showbackground\": true, \"ticks\": \"\", \"zerolinecolor\": \"white\"}, \"zaxis\": {\"backgroundcolor\": \"#E5ECF6\", \"gridcolor\": \"white\", \"gridwidth\": 2, \"linecolor\": \"white\", \"showbackground\": true, \"ticks\": \"\", \"zerolinecolor\": \"white\"}}, \"shapedefaults\": {\"line\": {\"color\": \"#2a3f5f\"}}, \"ternary\": {\"aaxis\": {\"gridcolor\": \"white\", \"linecolor\": \"white\", \"ticks\": \"\"}, \"baxis\": {\"gridcolor\": \"white\", \"linecolor\": \"white\", \"ticks\": \"\"}, \"bgcolor\": \"#E5ECF6\", \"caxis\": {\"gridcolor\": \"white\", \"linecolor\": \"white\", \"ticks\": \"\"}}, \"title\": {\"x\": 0.05}, \"xaxis\": {\"automargin\": true, \"gridcolor\": \"white\", \"linecolor\": \"white\", \"ticks\": \"\", \"title\": {\"standoff\": 15}, \"zerolinecolor\": \"white\", \"zerolinewidth\": 2}, \"yaxis\": {\"automargin\": true, \"gridcolor\": \"white\", \"linecolor\": \"white\", \"ticks\": \"\", \"title\": {\"standoff\": 15}, \"zerolinecolor\": \"white\", \"zerolinewidth\": 2}}}, \"updatemenus\": [{\"buttons\": [{\"args\": [null, {\"frame\": {\"duration\": 500, \"redraw\": false}, \"fromcurrent\": true, \"mode\": \"immediate\", \"transition\": {\"duration\": 500, \"easing\": \"linear\"}}], \"label\": \"&#9654;\", \"method\": \"animate\"}, {\"args\": [[null], {\"frame\": {\"duration\": 0, \"redraw\": false}, \"fromcurrent\": true, \"mode\": \"immediate\", \"transition\": {\"duration\": 0, \"easing\": \"linear\"}}], \"label\": \"&#9724;\", \"method\": \"animate\"}], \"direction\": \"left\", \"pad\": {\"r\": 10, \"t\": 70}, \"showactive\": false, \"type\": \"buttons\", \"x\": 0.1, \"xanchor\": \"right\", \"y\": 0, \"yanchor\": \"top\"}], \"xaxis\": {\"anchor\": \"y\", \"domain\": [0.0, 0.49], \"title\": {\"text\": \"TxTfrValAdjUSD\"}, \"type\": \"log\"}, \"xaxis2\": {\"anchor\": \"y2\", \"domain\": [0.51, 1.0], \"matches\": \"x\", \"title\": {\"text\": \"TxTfrValAdjUSD\"}, \"type\": \"log\"}, \"yaxis\": {\"anchor\": \"x\", \"domain\": [0.0, 1.0], \"title\": {\"text\": \"PriceUSD\"}}, \"yaxis2\": {\"anchor\": \"x2\", \"domain\": [0.0, 1.0], \"matches\": \"y\", \"showticklabels\": false}},\n",
              "                        {\"responsive\": true}\n",
              "                    ).then(function(){\n",
              "                            Plotly.addFrames('3a6761af-6c24-4de7-874f-b7ed67a83a3c', [{\"data\": [{\"hoverlabel\": {\"namelength\": 0}, \"hovertemplate\": \"<b>%{hovertext}</b><br><br>Type=Lending<br>time=2021-04-01<br>TxTfrValAdjUSD=%{x}<br>PriceUSD=%{y}<br>CapMrktCurUSD=%{marker.size}\", \"hovertext\": [\"COMP\", \"AAVE\", \"MKR\"], \"ids\": [\"COMP\", \"AAVE\", \"MKR\"], \"legendgroup\": \"Type=Lending\", \"marker\": {\"color\": \"#636efa\", \"size\": [4516086494.56255, 6142561460.878704, 2293185290.5600505], \"sizemode\": \"area\", \"sizeref\": 108857792.39419726, \"symbol\": \"circle\"}, \"mode\": \"markers\", \"name\": \"Type=Lending\", \"showlegend\": true, \"x\": [97444219.76354516, 114633184.30245675, 53605998.94723818], \"xaxis\": \"x\", \"y\": [451.608649456255, 383.910091304919, 2304.1558876034696], \"yaxis\": \"y\", \"type\": \"scatter\"}, {\"hoverlabel\": {\"namelength\": 0}, \"hovertemplate\": \"<b>%{hovertext}</b><br><br>Type=Exchange<br>time=2021-04-01<br>TxTfrValAdjUSD=%{x}<br>PriceUSD=%{y}<br>CapMrktCurUSD=%{marker.size}\", \"hovertext\": [\"UNI\", \"BAL\", \"SUSHI\"], \"ids\": [\"UNI\", \"BAL\", \"SUSHI\"], \"legendgroup\": \"Type=Exchange\", \"marker\": {\"color\": \"#EF553B\", \"size\": [28742296364.7468, 2306350538.62192, 3133542014.8335166], \"sizemode\": \"area\", \"sizeref\": 108857792.39419726, \"symbol\": \"circle\"}, \"mode\": \"markers\", \"name\": \"Type=Exchange\", \"showlegend\": true, \"x\": [196569088.81655726, 20243699.055885475, 117694338.2101262], \"xaxis\": \"x2\", \"y\": [28.7422963647468, 55.9318670697689, 14.8576849595022], \"yaxis\": \"y2\", \"type\": \"scatter\"}], \"name\": \"2021-04-01\"}, {\"data\": [{\"hoverlabel\": {\"namelength\": 0}, \"hovertemplate\": \"<b>%{hovertext}</b><br><br>Type=Lending<br>time=2021-04-02<br>TxTfrValAdjUSD=%{x}<br>PriceUSD=%{y}<br>CapMrktCurUSD=%{marker.size}\", \"hovertext\": [\"COMP\", \"AAVE\", \"MKR\"], \"ids\": [\"COMP\", \"AAVE\", \"MKR\"], \"legendgroup\": \"Type=Lending\", \"marker\": {\"color\": \"#636efa\", \"size\": [4878641926.56433, 6716282059.007136, 2486063434.77187], \"sizemode\": \"area\", \"sizeref\": 108857792.39419726, \"symbol\": \"circle\"}, \"mode\": \"markers\", \"name\": \"Type=Lending\", \"showlegend\": true, \"x\": [60236120.93262199, 217196019.57906562, 58584735.267651536], \"xaxis\": \"x\", \"y\": [487.86419265643303, 419.767628687946, 2497.95676074057], \"yaxis\": \"y\", \"type\": \"scatter\"}, {\"hoverlabel\": {\"namelength\": 0}, \"hovertemplate\": \"<b>%{hovertext}</b><br><br>Type=Exchange<br>time=2021-04-02<br>TxTfrValAdjUSD=%{x}<br>PriceUSD=%{y}<br>CapMrktCurUSD=%{marker.size}\", \"hovertext\": [\"UNI\", \"BAL\", \"SUSHI\"], \"ids\": [\"UNI\", \"BAL\", \"SUSHI\"], \"legendgroup\": \"Type=Exchange\", \"marker\": {\"color\": \"#EF553B\", \"size\": [30083999044.2053, 2520899674.0598373, 3465310978.124649], \"sizemode\": \"area\", \"sizeref\": 108857792.39419726, \"symbol\": \"circle\"}, \"mode\": \"markers\", \"name\": \"Type=Exchange\", \"showlegend\": true, \"x\": [578389234.7675081, 28457620.214717977, 116142610.73676965], \"xaxis\": \"x2\", \"y\": [30.0839990442053, 61.134950262152, 16.423689266773], \"yaxis\": \"y2\", \"type\": \"scatter\"}], \"name\": \"2021-04-02\"}, {\"data\": [{\"hoverlabel\": {\"namelength\": 0}, \"hovertemplate\": \"<b>%{hovertext}</b><br><br>Type=Lending<br>time=2021-04-03<br>TxTfrValAdjUSD=%{x}<br>PriceUSD=%{y}<br>CapMrktCurUSD=%{marker.size}\", \"hovertext\": [\"COMP\", \"AAVE\", \"MKR\"], \"ids\": [\"COMP\", \"AAVE\", \"MKR\"], \"legendgroup\": \"Type=Lending\", \"marker\": {\"color\": \"#636efa\", \"size\": [4815246273.4252, 6140089426.906304, 2245616910.4247556], \"sizemode\": \"area\", \"sizeref\": 108857792.39419726, \"symbol\": \"circle\"}, \"mode\": \"markers\", \"name\": \"Type=Lending\", \"showlegend\": true, \"x\": [113468915.15772729, 76065509.17981794, 41539965.02750892], \"xaxis\": \"x\", \"y\": [481.52462734252, 383.755589181644, 2256.3599403663698], \"yaxis\": \"y\", \"type\": \"scatter\"}, {\"hoverlabel\": {\"namelength\": 0}, \"hovertemplate\": \"<b>%{hovertext}</b><br><br>Type=Exchange<br>time=2021-04-03<br>TxTfrValAdjUSD=%{x}<br>PriceUSD=%{y}<br>CapMrktCurUSD=%{marker.size}\", \"hovertext\": [\"UNI\", \"BAL\", \"SUSHI\"], \"ids\": [\"UNI\", \"BAL\", \"SUSHI\"], \"legendgroup\": \"Type=Exchange\", \"marker\": {\"color\": \"#EF553B\", \"size\": [29768255546.0721, 2353122499.221952, 3157829182.891606], \"sizemode\": \"area\", \"sizeref\": 108857792.39419726, \"symbol\": \"circle\"}, \"mode\": \"markers\", \"name\": \"Type=Exchange\", \"showlegend\": true, \"x\": [129364304.77433267, 31374851.958871752, 133740778.45993163], \"xaxis\": \"x2\", \"y\": [29.7682555460721, 57.0661452460762, 14.9598563740135], \"yaxis\": \"y2\", \"type\": \"scatter\"}], \"name\": \"2021-04-03\"}, {\"data\": [{\"hoverlabel\": {\"namelength\": 0}, \"hovertemplate\": \"<b>%{hovertext}</b><br><br>Type=Lending<br>time=2021-04-04<br>TxTfrValAdjUSD=%{x}<br>PriceUSD=%{y}<br>CapMrktCurUSD=%{marker.size}\", \"hovertext\": [\"COMP\", \"AAVE\", \"MKR\"], \"ids\": [\"COMP\", \"AAVE\", \"MKR\"], \"legendgroup\": \"Type=Lending\", \"marker\": {\"color\": \"#636efa\", \"size\": [5485351115.945, 6463469736.384975, 2291730547.1214523], \"sizemode\": \"area\", \"sizeref\": 108857792.39419726, \"symbol\": \"circle\"}, \"mode\": \"markers\", \"name\": \"Type=Lending\", \"showlegend\": true, \"x\": [136660388.62187862, 92155324.05791052, 90052794.98070206], \"xaxis\": \"x\", \"y\": [548.5351115945, 403.96685852406097, 2302.69418467314], \"yaxis\": \"y\", \"type\": \"scatter\"}, {\"hoverlabel\": {\"namelength\": 0}, \"hovertemplate\": \"<b>%{hovertext}</b><br><br>Type=Exchange<br>time=2021-04-04<br>TxTfrValAdjUSD=%{x}<br>PriceUSD=%{y}<br>CapMrktCurUSD=%{marker.size}\", \"hovertext\": [\"UNI\", \"BAL\", \"SUSHI\"], \"ids\": [\"UNI\", \"BAL\", \"SUSHI\"], \"legendgroup\": \"Type=Exchange\", \"marker\": {\"color\": \"#EF553B\", \"size\": [31052837268.0521, 2442395683.859628, 3232964641.083199], \"sizemode\": \"area\", \"sizeref\": 108857792.39419726, \"symbol\": \"circle\"}, \"mode\": \"markers\", \"name\": \"Type=Exchange\", \"showlegend\": true, \"x\": [70020790.86308889, 11242303.892230833, 96136482.64215666], \"xaxis\": \"x2\", \"y\": [31.0528372680521, 59.2311309290561, 15.257477692229998], \"yaxis\": \"y2\", \"type\": \"scatter\"}], \"name\": \"2021-04-04\"}, {\"data\": [{\"hoverlabel\": {\"namelength\": 0}, \"hovertemplate\": \"<b>%{hovertext}</b><br><br>Type=Lending<br>time=2021-04-05<br>TxTfrValAdjUSD=%{x}<br>PriceUSD=%{y}<br>CapMrktCurUSD=%{marker.size}\", \"hovertext\": [\"COMP\", \"AAVE\", \"MKR\"], \"ids\": [\"COMP\", \"AAVE\", \"MKR\"], \"legendgroup\": \"Type=Lending\", \"marker\": {\"color\": \"#636efa\", \"size\": [5099801837.80597, 6335863148.504144, 2313382074.919698], \"sizemode\": \"area\", \"sizeref\": 108857792.39419726, \"symbol\": \"circle\"}, \"mode\": \"markers\", \"name\": \"Type=Lending\", \"showlegend\": true, \"x\": [91701029.24836247, 117313336.84917247, 19233474.419664875], \"xaxis\": \"x\", \"y\": [509.980183780597, 395.991446781509, 2324.44929336728], \"yaxis\": \"y\", \"type\": \"scatter\"}, {\"hoverlabel\": {\"namelength\": 0}, \"hovertemplate\": \"<b>%{hovertext}</b><br><br>Type=Exchange<br>time=2021-04-05<br>TxTfrValAdjUSD=%{x}<br>PriceUSD=%{y}<br>CapMrktCurUSD=%{marker.size}\", \"hovertext\": [\"UNI\", \"BAL\", \"SUSHI\"], \"ids\": [\"UNI\", \"BAL\", \"SUSHI\"], \"legendgroup\": \"Type=Exchange\", \"marker\": {\"color\": \"#EF553B\", \"size\": [30704613471.3073, 2454223783.5701404, 3192607338.810669], \"sizemode\": \"area\", \"sizeref\": 108857792.39419726, \"symbol\": \"circle\"}, \"mode\": \"markers\", \"name\": \"Type=Exchange\", \"showlegend\": true, \"x\": [160610224.71667418, 12968493.70772917, 909667215.0422261], \"xaxis\": \"x2\", \"y\": [30.7046134713073, 59.5179770478996, 15.0522148116879], \"yaxis\": \"y2\", \"type\": \"scatter\"}], \"name\": \"2021-04-05\"}, {\"data\": [{\"hoverlabel\": {\"namelength\": 0}, \"hovertemplate\": \"<b>%{hovertext}</b><br><br>Type=Lending<br>time=2021-04-06<br>TxTfrValAdjUSD=%{x}<br>PriceUSD=%{y}<br>CapMrktCurUSD=%{marker.size}\", \"hovertext\": [\"COMP\", \"AAVE\", \"MKR\"], \"ids\": [\"COMP\", \"AAVE\", \"MKR\"], \"legendgroup\": \"Type=Lending\", \"marker\": {\"color\": \"#636efa\", \"size\": [4834255358.91963, 6148004783.855152, 2271787354.1129255], \"sizemode\": \"area\", \"sizeref\": 108857792.39419726, \"symbol\": \"circle\"}, \"mode\": \"markers\", \"name\": \"Type=Lending\", \"showlegend\": true, \"x\": [93344011.71247981, 108752653.78728358, 39210674.30976207], \"xaxis\": \"x\", \"y\": [483.42553589196297, 384.25029899094704, 2282.65558344132], \"yaxis\": \"y\", \"type\": \"scatter\"}, {\"hoverlabel\": {\"namelength\": 0}, \"hovertemplate\": \"<b>%{hovertext}</b><br><br>Type=Exchange<br>time=2021-04-06<br>TxTfrValAdjUSD=%{x}<br>PriceUSD=%{y}<br>CapMrktCurUSD=%{marker.size}\", \"hovertext\": [\"UNI\", \"BAL\", \"SUSHI\"], \"ids\": [\"UNI\", \"BAL\", \"SUSHI\"], \"legendgroup\": \"Type=Exchange\", \"marker\": {\"color\": \"#EF553B\", \"size\": [31321716030.2943, 2387533925.5230637, 3257694780.3910017], \"sizemode\": \"area\", \"sizeref\": 108857792.39419726, \"symbol\": \"circle\"}, \"mode\": \"markers\", \"name\": \"Type=Exchange\", \"showlegend\": true, \"x\": [92077740.66513707, 41773221.59845559, 204218928.94102794], \"xaxis\": \"x2\", \"y\": [31.3217160302943, 57.697774903892295, 15.3441349163081], \"yaxis\": \"y2\", \"type\": \"scatter\"}], \"name\": \"2021-04-06\"}, {\"data\": [{\"hoverlabel\": {\"namelength\": 0}, \"hovertemplate\": \"<b>%{hovertext}</b><br><br>Type=Lending<br>time=2021-04-07<br>TxTfrValAdjUSD=%{x}<br>PriceUSD=%{y}<br>CapMrktCurUSD=%{marker.size}\", \"hovertext\": [\"COMP\", \"AAVE\", \"MKR\"], \"ids\": [\"COMP\", \"AAVE\", \"MKR\"], \"legendgroup\": \"Type=Lending\", \"marker\": {\"color\": \"#636efa\", \"size\": [4473392522.6357, 5615735528.931344, 2105496012.1578968], \"sizemode\": \"area\", \"sizeref\": 108857792.39419726, \"symbol\": \"circle\"}, \"mode\": \"markers\", \"name\": \"Type=Lending\", \"showlegend\": true, \"x\": [117349103.06172682, 165350744.46595, 39755403.53336295], \"xaxis\": \"x\", \"y\": [447.33925226357, 350.983470558209, 2115.56870380693], \"yaxis\": \"y\", \"type\": \"scatter\"}, {\"hoverlabel\": {\"namelength\": 0}, \"hovertemplate\": \"<b>%{hovertext}</b><br><br>Type=Exchange<br>time=2021-04-07<br>TxTfrValAdjUSD=%{x}<br>PriceUSD=%{y}<br>CapMrktCurUSD=%{marker.size}\", \"hovertext\": [\"UNI\", \"BAL\", \"SUSHI\"], \"ids\": [\"UNI\", \"BAL\", \"SUSHI\"], \"legendgroup\": \"Type=Exchange\", \"marker\": {\"color\": \"#EF553B\", \"size\": [28761233240.4464, 2107275803.5164857, 2980218426.166324], \"sizemode\": \"area\", \"sizeref\": 108857792.39419726, \"symbol\": \"circle\"}, \"mode\": \"markers\", \"name\": \"Type=Exchange\", \"showlegend\": true, \"x\": [95598845.32794352, 34744776.83533986, 219749132.3272804], \"xaxis\": \"x2\", \"y\": [28.7612332404464, 50.9249831685956, 14.023301664950301], \"yaxis\": \"y2\", \"type\": \"scatter\"}], \"name\": \"2021-04-07\"}, {\"data\": [{\"hoverlabel\": {\"namelength\": 0}, \"hovertemplate\": \"<b>%{hovertext}</b><br><br>Type=Lending<br>time=2021-04-08<br>TxTfrValAdjUSD=%{x}<br>PriceUSD=%{y}<br>CapMrktCurUSD=%{marker.size}\", \"hovertext\": [\"COMP\", \"AAVE\", \"MKR\"], \"ids\": [\"COMP\", \"AAVE\", \"MKR\"], \"legendgroup\": \"Type=Lending\", \"marker\": {\"color\": \"#636efa\", \"size\": [4555554720.22541, 5926996945.991312, 2205859625.9829545], \"sizemode\": \"area\", \"sizeref\": 108857792.39419726, \"symbol\": \"circle\"}, \"mode\": \"markers\", \"name\": \"Type=Lending\", \"showlegend\": true, \"x\": [78401009.91064444, 103911880.34622562, 124150476.10546958], \"xaxis\": \"x\", \"y\": [455.555472022541, 370.437309124457, 2216.4124570998397], \"yaxis\": \"y\", \"type\": \"scatter\"}, {\"hoverlabel\": {\"namelength\": 0}, \"hovertemplate\": \"<b>%{hovertext}</b><br><br>Type=Exchange<br>time=2021-04-08<br>TxTfrValAdjUSD=%{x}<br>PriceUSD=%{y}<br>CapMrktCurUSD=%{marker.size}\", \"hovertext\": [\"UNI\", \"BAL\", \"SUSHI\"], \"ids\": [\"UNI\", \"BAL\", \"SUSHI\"], \"legendgroup\": \"Type=Exchange\", \"marker\": {\"color\": \"#EF553B\", \"size\": [30218880560.5087, 2225770120.016318, 3071206107.3351912], \"sizemode\": \"area\", \"sizeref\": 108857792.39419726, \"symbol\": \"circle\"}, \"mode\": \"markers\", \"name\": \"Type=Exchange\", \"showlegend\": true, \"x\": [119306616.61183481, 28174070.548973314, 107988048.77333416], \"xaxis\": \"x2\", \"y\": [30.218880560508698, 53.7885480912595, 14.4370196333848], \"yaxis\": \"y2\", \"type\": \"scatter\"}], \"name\": \"2021-04-08\"}, {\"data\": [{\"hoverlabel\": {\"namelength\": 0}, \"hovertemplate\": \"<b>%{hovertext}</b><br><br>Type=Lending<br>time=2021-04-09<br>TxTfrValAdjUSD=%{x}<br>PriceUSD=%{y}<br>CapMrktCurUSD=%{marker.size}\", \"hovertext\": [\"COMP\", \"AAVE\", \"MKR\"], \"ids\": [\"COMP\", \"AAVE\", \"MKR\"], \"legendgroup\": \"Type=Lending\", \"marker\": {\"color\": \"#636efa\", \"size\": [4522195290.0713, 5740466359.183568, 2206627616.744018], \"sizemode\": \"area\", \"sizeref\": 108857792.39419726, \"symbol\": \"circle\"}, \"mode\": \"markers\", \"name\": \"Type=Lending\", \"showlegend\": true, \"x\": [172600316.13217488, 53996281.36981859, 89519464.28716302], \"xaxis\": \"x\", \"y\": [452.21952900712995, 358.779147448973, 2217.1841219282396], \"yaxis\": \"y\", \"type\": \"scatter\"}, {\"hoverlabel\": {\"namelength\": 0}, \"hovertemplate\": \"<b>%{hovertext}</b><br><br>Type=Exchange<br>time=2021-04-09<br>TxTfrValAdjUSD=%{x}<br>PriceUSD=%{y}<br>CapMrktCurUSD=%{marker.size}\", \"hovertext\": [\"UNI\", \"BAL\", \"SUSHI\"], \"ids\": [\"UNI\", \"BAL\", \"SUSHI\"], \"legendgroup\": \"Type=Exchange\", \"marker\": {\"color\": \"#EF553B\", \"size\": [29504812094.3915, 2139531522.6843162, 3085480041.820342], \"sizemode\": \"area\", \"sizeref\": 108857792.39419726, \"symbol\": \"circle\"}, \"mode\": \"markers\", \"name\": \"Type=Exchange\", \"showlegend\": true, \"x\": [154964109.83160195, 12041705.21973201, 251278028.8829398], \"xaxis\": \"x2\", \"y\": [29.5048120943915, 51.7044833901478, 14.489580353878301], \"yaxis\": \"y2\", \"type\": \"scatter\"}], \"name\": \"2021-04-09\"}, {\"data\": [{\"hoverlabel\": {\"namelength\": 0}, \"hovertemplate\": \"<b>%{hovertext}</b><br><br>Type=Lending<br>time=2021-04-10<br>TxTfrValAdjUSD=%{x}<br>PriceUSD=%{y}<br>CapMrktCurUSD=%{marker.size}\", \"hovertext\": [\"COMP\", \"AAVE\", \"MKR\"], \"ids\": [\"COMP\", \"AAVE\", \"MKR\"], \"legendgroup\": \"Type=Lending\", \"marker\": {\"color\": \"#636efa\", \"size\": [4496956250.76017, 5868116920.417647, 2216074865.3968363], \"sizemode\": \"area\", \"sizeref\": 108857792.39419726, \"symbol\": \"circle\"}, \"mode\": \"markers\", \"name\": \"Type=Lending\", \"showlegend\": true, \"x\": [38631145.83816401, 83643032.39062649, 34087570.47398983], \"xaxis\": \"x\", \"y\": [449.695625076017, 366.757307526103, 2226.6765662129], \"yaxis\": \"y\", \"type\": \"scatter\"}, {\"hoverlabel\": {\"namelength\": 0}, \"hovertemplate\": \"<b>%{hovertext}</b><br><br>Type=Exchange<br>time=2021-04-10<br>TxTfrValAdjUSD=%{x}<br>PriceUSD=%{y}<br>CapMrktCurUSD=%{marker.size}\", \"hovertext\": [\"UNI\", \"BAL\", \"SUSHI\"], \"ids\": [\"UNI\", \"BAL\", \"SUSHI\"], \"legendgroup\": \"Type=Exchange\", \"marker\": {\"color\": \"#EF553B\", \"size\": [29696559802.2726, 2087698404.855098, 3083097617.120767], \"sizemode\": \"area\", \"sizeref\": 108857792.39419726, \"symbol\": \"circle\"}, \"mode\": \"markers\", \"name\": \"Type=Exchange\", \"showlegend\": true, \"x\": [66263458.10418074, 26568664.002270587, 55146485.65305588], \"xaxis\": \"x2\", \"y\": [29.696559802272603, 50.4518705861551, 14.463977958545499], \"yaxis\": \"y2\", \"type\": \"scatter\"}], \"name\": \"2021-04-10\"}, {\"data\": [{\"hoverlabel\": {\"namelength\": 0}, \"hovertemplate\": \"<b>%{hovertext}</b><br><br>Type=Lending<br>time=2021-04-11<br>TxTfrValAdjUSD=%{x}<br>PriceUSD=%{y}<br>CapMrktCurUSD=%{marker.size}\", \"hovertext\": [\"COMP\", \"AAVE\", \"MKR\"], \"ids\": [\"COMP\", \"AAVE\", \"MKR\"], \"legendgroup\": \"Type=Lending\", \"marker\": {\"color\": \"#636efa\", \"size\": [4591866416.9275, 5902257168.506911, 2255449136.905716], \"sizemode\": \"area\", \"sizeref\": 108857792.39419726, \"symbol\": \"circle\"}, \"mode\": \"markers\", \"name\": \"Type=Lending\", \"showlegend\": true, \"x\": [21853902.9081222, 82408271.7801781, 17716072.6178756], \"xaxis\": \"x\", \"y\": [459.18664169275, 368.89107303168197, 2266.23920421287], \"yaxis\": \"y\", \"type\": \"scatter\"}, {\"hoverlabel\": {\"namelength\": 0}, \"hovertemplate\": \"<b>%{hovertext}</b><br><br>Type=Exchange<br>time=2021-04-11<br>TxTfrValAdjUSD=%{x}<br>PriceUSD=%{y}<br>CapMrktCurUSD=%{marker.size}\", \"hovertext\": [\"UNI\", \"BAL\", \"SUSHI\"], \"ids\": [\"UNI\", \"BAL\", \"SUSHI\"], \"legendgroup\": \"Type=Exchange\", \"marker\": {\"color\": \"#EF553B\", \"size\": [29860222561.5563, 2130197271.4793274, 3017863843.2762713], \"sizemode\": \"area\", \"sizeref\": 108857792.39419726, \"symbol\": \"circle\"}, \"mode\": \"markers\", \"name\": \"Type=Exchange\", \"showlegend\": true, \"x\": [78044217.0303615, 10776625.686464723, 87706433.6726889], \"xaxis\": \"x2\", \"y\": [29.860222561556302, 51.4789094122602, 14.143618572216301], \"yaxis\": \"y2\", \"type\": \"scatter\"}], \"name\": \"2021-04-11\"}, {\"data\": [{\"hoverlabel\": {\"namelength\": 0}, \"hovertemplate\": \"<b>%{hovertext}</b><br><br>Type=Lending<br>time=2021-04-12<br>TxTfrValAdjUSD=%{x}<br>PriceUSD=%{y}<br>CapMrktCurUSD=%{marker.size}\", \"hovertext\": [\"COMP\", \"AAVE\", \"MKR\"], \"ids\": [\"COMP\", \"AAVE\", \"MKR\"], \"legendgroup\": \"Type=Lending\", \"marker\": {\"color\": \"#636efa\", \"size\": [4640014407.8156, 6349575837.07104, 2650015603.194772], \"sizemode\": \"area\", \"sizeref\": 108857792.39419726, \"symbol\": \"circle\"}, \"mode\": \"markers\", \"name\": \"Type=Lending\", \"showlegend\": true, \"x\": [42339947.316969834, 348884106.0137382, 85414020.8389853], \"xaxis\": \"x\", \"y\": [464.00144078156, 396.84848981694, 2662.69327623807], \"yaxis\": \"y\", \"type\": \"scatter\"}, {\"hoverlabel\": {\"namelength\": 0}, \"hovertemplate\": \"<b>%{hovertext}</b><br><br>Type=Exchange<br>time=2021-04-12<br>TxTfrValAdjUSD=%{x}<br>PriceUSD=%{y}<br>CapMrktCurUSD=%{marker.size}\", \"hovertext\": [\"UNI\", \"BAL\", \"SUSHI\"], \"ids\": [\"UNI\", \"BAL\", \"SUSHI\"], \"legendgroup\": \"Type=Exchange\", \"marker\": {\"color\": \"#EF553B\", \"size\": [36891038662.9381, 2133416146.5694048, 3443915686.3795066], \"sizemode\": \"area\", \"sizeref\": 108857792.39419726, \"symbol\": \"circle\"}, \"mode\": \"markers\", \"name\": \"Type=Exchange\", \"showlegend\": true, \"x\": [430122788.0750189, 19835078.730807822, 331644361.1123251], \"xaxis\": \"x2\", \"y\": [36.8910386629381, 51.556697597134, 16.1243048880541], \"yaxis\": \"y2\", \"type\": \"scatter\"}], \"name\": \"2021-04-12\"}, {\"data\": [{\"hoverlabel\": {\"namelength\": 0}, \"hovertemplate\": \"<b>%{hovertext}</b><br><br>Type=Lending<br>time=2021-04-13<br>TxTfrValAdjUSD=%{x}<br>PriceUSD=%{y}<br>CapMrktCurUSD=%{marker.size}\", \"hovertext\": [\"COMP\", \"AAVE\", \"MKR\"], \"ids\": [\"COMP\", \"AAVE\", \"MKR\"], \"legendgroup\": \"Type=Lending\", \"marker\": {\"color\": \"#636efa\", \"size\": [4851938650.19868, 6370739771.513392, 2563381044.795808], \"sizemode\": \"area\", \"sizeref\": 108857792.39419726, \"symbol\": \"circle\"}, \"mode\": \"markers\", \"name\": \"Type=Lending\", \"showlegend\": true, \"x\": [64755171.89689588, 188830964.85357526, 154481192.02409664], \"xaxis\": \"x\", \"y\": [485.193865019868, 398.171235719587, 2575.64425816411], \"yaxis\": \"y\", \"type\": \"scatter\"}, {\"hoverlabel\": {\"namelength\": 0}, \"hovertemplate\": \"<b>%{hovertext}</b><br><br>Type=Exchange<br>time=2021-04-13<br>TxTfrValAdjUSD=%{x}<br>PriceUSD=%{y}<br>CapMrktCurUSD=%{marker.size}\", \"hovertext\": [\"UNI\", \"BAL\", \"SUSHI\"], \"ids\": [\"UNI\", \"BAL\", \"SUSHI\"], \"legendgroup\": \"Type=Exchange\", \"marker\": {\"color\": \"#EF553B\", \"size\": [35376228493.7296, 2250579119.476028, 3389652628.449165], \"sizemode\": \"area\", \"sizeref\": 108857792.39419726, \"symbol\": \"circle\"}, \"mode\": \"markers\", \"name\": \"Type=Exchange\", \"showlegend\": true, \"x\": [374583436.256086, 30541409.64526366, 157645021.76672256], \"xaxis\": \"x2\", \"y\": [35.3762284937296, 54.1981726544498, 15.8549684357708], \"yaxis\": \"y2\", \"type\": \"scatter\"}], \"name\": \"2021-04-13\"}, {\"data\": [{\"hoverlabel\": {\"namelength\": 0}, \"hovertemplate\": \"<b>%{hovertext}</b><br><br>Type=Lending<br>time=2021-04-14<br>TxTfrValAdjUSD=%{x}<br>PriceUSD=%{y}<br>CapMrktCurUSD=%{marker.size}\", \"hovertext\": [\"COMP\", \"AAVE\", \"MKR\"], \"ids\": [\"COMP\", \"AAVE\", \"MKR\"], \"legendgroup\": \"Type=Lending\", \"marker\": {\"color\": \"#636efa\", \"size\": [4850355148.4421, 6861226308.735584, 2659456617.2213273], \"sizemode\": \"area\", \"sizeref\": 108857792.39419726, \"symbol\": \"circle\"}, \"mode\": \"markers\", \"name\": \"Type=Lending\", \"showlegend\": true, \"x\": [110970637.30024113, 192825733.02713925, 69730985.43194233], \"xaxis\": \"x\", \"y\": [485.03551484420996, 428.82664429597395, 2672.17945607002], \"yaxis\": \"y\", \"type\": \"scatter\"}, {\"hoverlabel\": {\"namelength\": 0}, \"hovertemplate\": \"<b>%{hovertext}</b><br><br>Type=Exchange<br>time=2021-04-14<br>TxTfrValAdjUSD=%{x}<br>PriceUSD=%{y}<br>CapMrktCurUSD=%{marker.size}\", \"hovertext\": [\"UNI\", \"BAL\", \"SUSHI\"], \"ids\": [\"UNI\", \"BAL\", \"SUSHI\"], \"legendgroup\": \"Type=Exchange\", \"marker\": {\"color\": \"#EF553B\", \"size\": [36080164134.6432, 2721591932.335145, 3757913906.9179335], \"sizemode\": \"area\", \"sizeref\": 108857792.39419726, \"symbol\": \"circle\"}, \"mode\": \"markers\", \"name\": \"Type=Exchange\", \"showlegend\": true, \"x\": [226824689.3090726, 89890378.18117985, 288058937.8835983], \"xaxis\": \"x2\", \"y\": [36.080164134643205, 65.541045932213, 17.5568154395387], \"yaxis\": \"y2\", \"type\": \"scatter\"}], \"name\": \"2021-04-14\"}, {\"data\": [{\"hoverlabel\": {\"namelength\": 0}, \"hovertemplate\": \"<b>%{hovertext}</b><br><br>Type=Lending<br>time=2021-04-15<br>TxTfrValAdjUSD=%{x}<br>PriceUSD=%{y}<br>CapMrktCurUSD=%{marker.size}\", \"hovertext\": [\"COMP\", \"AAVE\", \"MKR\"], \"ids\": [\"COMP\", \"AAVE\", \"MKR\"], \"legendgroup\": \"Type=Lending\", \"marker\": {\"color\": \"#636efa\", \"size\": [5667666470.15809, 7505353760.2085285, 3764804478.96629], \"sizemode\": \"area\", \"sizeref\": 108857792.39419726, \"symbol\": \"circle\"}, \"mode\": \"markers\", \"name\": \"Type=Lending\", \"showlegend\": true, \"x\": [110121935.13475832, 319584470.0726124, 209056305.68317857], \"xaxis\": \"x\", \"y\": [566.766647015809, 469.084610013033, 3782.8153013171996], \"yaxis\": \"y\", \"type\": \"scatter\"}, {\"hoverlabel\": {\"namelength\": 0}, \"hovertemplate\": \"<b>%{hovertext}</b><br><br>Type=Exchange<br>time=2021-04-15<br>TxTfrValAdjUSD=%{x}<br>PriceUSD=%{y}<br>CapMrktCurUSD=%{marker.size}\", \"hovertext\": [\"UNI\", \"BAL\", \"SUSHI\"], \"ids\": [\"UNI\", \"BAL\", \"SUSHI\"], \"legendgroup\": \"Type=Exchange\", \"marker\": {\"color\": \"#EF553B\", \"size\": [37880895481.5391, 2827897488.6311364, 3779585600.280636], \"sizemode\": \"area\", \"sizeref\": 108857792.39419726, \"symbol\": \"circle\"}, \"mode\": \"markers\", \"name\": \"Type=Exchange\", \"showlegend\": true, \"x\": [289378787.441699, 81596997.538945, 121541954.27859162], \"xaxis\": \"x2\", \"y\": [37.8808954815391, 68.1010834107438, 17.6408144415998], \"yaxis\": \"y2\", \"type\": \"scatter\"}], \"name\": \"2021-04-15\"}, {\"data\": [{\"hoverlabel\": {\"namelength\": 0}, \"hovertemplate\": \"<b>%{hovertext}</b><br><br>Type=Lending<br>time=2021-04-16<br>TxTfrValAdjUSD=%{x}<br>PriceUSD=%{y}<br>CapMrktCurUSD=%{marker.size}\", \"hovertext\": [\"COMP\", \"AAVE\", \"MKR\"], \"ids\": [\"COMP\", \"AAVE\", \"MKR\"], \"legendgroup\": \"Type=Lending\", \"marker\": {\"color\": \"#636efa\", \"size\": [5653595930.2932205, 7097635441.054751, 3375155958.289945], \"sizemode\": \"area\", \"sizeref\": 108857792.39419726, \"symbol\": \"circle\"}, \"mode\": \"markers\", \"name\": \"Type=Lending\", \"showlegend\": true, \"x\": [152394591.73273298, 155441635.25334534, 137938726.52912658], \"xaxis\": \"x\", \"y\": [565.359593029322, 443.602215065922, 3391.3027023535496], \"yaxis\": \"y\", \"type\": \"scatter\"}, {\"hoverlabel\": {\"namelength\": 0}, \"hovertemplate\": \"<b>%{hovertext}</b><br><br>Type=Exchange<br>time=2021-04-16<br>TxTfrValAdjUSD=%{x}<br>PriceUSD=%{y}<br>CapMrktCurUSD=%{marker.size}\", \"hovertext\": [\"UNI\", \"BAL\", \"SUSHI\"], \"ids\": [\"UNI\", \"BAL\", \"SUSHI\"], \"legendgroup\": \"Type=Exchange\", \"marker\": {\"color\": \"#EF553B\", \"size\": [36331255610.1157, 2656165666.4606676, 3500590534.3304415], \"sizemode\": \"area\", \"sizeref\": 108857792.39419726, \"symbol\": \"circle\"}, \"mode\": \"markers\", \"name\": \"Type=Exchange\", \"showlegend\": true, \"x\": [150717288.1087156, 23239433.913697813, 182055412.50411806], \"xaxis\": \"x2\", \"y\": [36.331255610115704, 63.9654585541401, 16.3237498002681], \"yaxis\": \"y2\", \"type\": \"scatter\"}], \"name\": \"2021-04-16\"}, {\"data\": [{\"hoverlabel\": {\"namelength\": 0}, \"hovertemplate\": \"<b>%{hovertext}</b><br><br>Type=Lending<br>time=2021-04-17<br>TxTfrValAdjUSD=%{x}<br>PriceUSD=%{y}<br>CapMrktCurUSD=%{marker.size}\", \"hovertext\": [\"COMP\", \"AAVE\", \"MKR\"], \"ids\": [\"COMP\", \"AAVE\", \"MKR\"], \"legendgroup\": \"Type=Lending\", \"marker\": {\"color\": \"#636efa\", \"size\": [5413569583.33093, 6865591415.916992, 3325106285.9258146], \"sizemode\": \"area\", \"sizeref\": 108857792.39419726, \"symbol\": \"circle\"}, \"mode\": \"markers\", \"name\": \"Type=Lending\", \"showlegend\": true, \"x\": [36502826.65316209, 113547238.67454617, 58435744.018240415], \"xaxis\": \"x\", \"y\": [541.3569583330931, 429.099463494812, 3341.0136157830398], \"yaxis\": \"y\", \"type\": \"scatter\"}, {\"hoverlabel\": {\"namelength\": 0}, \"hovertemplate\": \"<b>%{hovertext}</b><br><br>Type=Exchange<br>time=2021-04-17<br>TxTfrValAdjUSD=%{x}<br>PriceUSD=%{y}<br>CapMrktCurUSD=%{marker.size}\", \"hovertext\": [\"UNI\", \"BAL\", \"SUSHI\"], \"ids\": [\"UNI\", \"BAL\", \"SUSHI\"], \"legendgroup\": \"Type=Exchange\", \"marker\": {\"color\": \"#EF553B\", \"size\": [34994529134.9931, 2552589453.7082763, 3437746066.95056], \"sizemode\": \"area\", \"sizeref\": 108857792.39419726, \"symbol\": \"circle\"}, \"mode\": \"markers\", \"name\": \"Type=Exchange\", \"showlegend\": true, \"x\": [93456155.92306502, 80768122.21569936, 285021237.528696], \"xaxis\": \"x2\", \"y\": [34.9945291349931, 61.471148794901296, 16.0147780941843], \"yaxis\": \"y2\", \"type\": \"scatter\"}], \"name\": \"2021-04-17\"}, {\"data\": [{\"hoverlabel\": {\"namelength\": 0}, \"hovertemplate\": \"<b>%{hovertext}</b><br><br>Type=Lending<br>time=2021-04-18<br>TxTfrValAdjUSD=%{x}<br>PriceUSD=%{y}<br>CapMrktCurUSD=%{marker.size}\", \"hovertext\": [\"COMP\", \"AAVE\", \"MKR\"], \"ids\": [\"COMP\", \"AAVE\", \"MKR\"], \"legendgroup\": \"Type=Lending\", \"marker\": {\"color\": \"#636efa\", \"size\": [4887208725.94514, 6128227793.682304, 3239462598.669164], \"sizemode\": \"area\", \"sizeref\": 108857792.39419726, \"symbol\": \"circle\"}, \"mode\": \"markers\", \"name\": \"Type=Lending\", \"showlegend\": true, \"x\": [57531381.2714541, 214650636.51197055, 82215986.95396726], \"xaxis\": \"x\", \"y\": [488.720872594514, 383.014237105144, 3254.9602085757397], \"yaxis\": \"y\", \"type\": \"scatter\"}, {\"hoverlabel\": {\"namelength\": 0}, \"hovertemplate\": \"<b>%{hovertext}</b><br><br>Type=Exchange<br>time=2021-04-18<br>TxTfrValAdjUSD=%{x}<br>PriceUSD=%{y}<br>CapMrktCurUSD=%{marker.size}\", \"hovertext\": [\"UNI\", \"BAL\", \"SUSHI\"], \"ids\": [\"UNI\", \"BAL\", \"SUSHI\"], \"legendgroup\": \"Type=Exchange\", \"marker\": {\"color\": \"#EF553B\", \"size\": [31909735646.1773, 2397933205.3158016, 3035058539.5033903], \"sizemode\": \"area\", \"sizeref\": 108857792.39419726, \"symbol\": \"circle\"}, \"mode\": \"markers\", \"name\": \"Type=Exchange\", \"showlegend\": true, \"x\": [211808199.9446583, 43200391.07032004, 354140243.72254866], \"xaxis\": \"x2\", \"y\": [31.909735646177303, 57.746735829399206, 14.125478545341101], \"yaxis\": \"y2\", \"type\": \"scatter\"}], \"name\": \"2021-04-18\"}, {\"data\": [{\"hoverlabel\": {\"namelength\": 0}, \"hovertemplate\": \"<b>%{hovertext}</b><br><br>Type=Lending<br>time=2021-04-19<br>TxTfrValAdjUSD=%{x}<br>PriceUSD=%{y}<br>CapMrktCurUSD=%{marker.size}\", \"hovertext\": [\"COMP\", \"AAVE\", \"MKR\"], \"ids\": [\"COMP\", \"AAVE\", \"MKR\"], \"legendgroup\": \"Type=Lending\", \"marker\": {\"color\": \"#636efa\", \"size\": [4780501254.441171, 5559408230.469936, 3530824744.0290823], \"sizemode\": \"area\", \"sizeref\": 108857792.39419726, \"symbol\": \"circle\"}, \"mode\": \"markers\", \"name\": \"Type=Lending\", \"showlegend\": true, \"x\": [66554878.17072757, 135383180.28002778, 135754631.68264776], \"xaxis\": \"x\", \"y\": [478.050125444117, 347.46301440437105, 3547.7162323129496], \"yaxis\": \"y\", \"type\": \"scatter\"}, {\"hoverlabel\": {\"namelength\": 0}, \"hovertemplate\": \"<b>%{hovertext}</b><br><br>Type=Exchange<br>time=2021-04-19<br>TxTfrValAdjUSD=%{x}<br>PriceUSD=%{y}<br>CapMrktCurUSD=%{marker.size}\", \"hovertext\": [\"UNI\", \"BAL\", \"SUSHI\"], \"ids\": [\"UNI\", \"BAL\", \"SUSHI\"], \"legendgroup\": \"Type=Exchange\", \"marker\": {\"color\": \"#EF553B\", \"size\": [31568477246.2154, 2183349000.1678696, 2644735249.0820208], \"sizemode\": \"area\", \"sizeref\": 108857792.39419726, \"symbol\": \"circle\"}, \"mode\": \"markers\", \"name\": \"Type=Exchange\", \"showlegend\": true, \"x\": [323570870.14856476, 49447154.807387486, 232482542.47081503], \"xaxis\": \"x2\", \"y\": [31.5684772462154, 52.5791450973599, 12.2968837526224], \"yaxis\": \"y2\", \"type\": \"scatter\"}], \"name\": \"2021-04-19\"}, {\"data\": [{\"hoverlabel\": {\"namelength\": 0}, \"hovertemplate\": \"<b>%{hovertext}</b><br><br>Type=Lending<br>time=2021-04-20<br>TxTfrValAdjUSD=%{x}<br>PriceUSD=%{y}<br>CapMrktCurUSD=%{marker.size}\", \"hovertext\": [\"COMP\", \"AAVE\", \"MKR\"], \"ids\": [\"COMP\", \"AAVE\", \"MKR\"], \"legendgroup\": \"Type=Lending\", \"marker\": {\"color\": \"#636efa\", \"size\": [4847713242.53182, 5765451585.4350395, 3439375768.0220633], \"sizemode\": \"area\", \"sizeref\": 108857792.39419726, \"symbol\": \"circle\"}, \"mode\": \"markers\", \"name\": \"Type=Lending\", \"showlegend\": true, \"x\": [199349236.81208912, 168929837.56429932, 108588261.11813429], \"xaxis\": \"x\", \"y\": [484.771324253182, 360.34072408969, 3455.82976381656], \"yaxis\": \"y\", \"type\": \"scatter\"}, {\"hoverlabel\": {\"namelength\": 0}, \"hovertemplate\": \"<b>%{hovertext}</b><br><br>Type=Exchange<br>time=2021-04-20<br>TxTfrValAdjUSD=%{x}<br>PriceUSD=%{y}<br>CapMrktCurUSD=%{marker.size}\", \"hovertext\": [\"UNI\", \"BAL\", \"SUSHI\"], \"ids\": [\"UNI\", \"BAL\", \"SUSHI\"], \"legendgroup\": \"Type=Exchange\", \"marker\": {\"color\": \"#EF553B\", \"size\": [31979498947.8839, 2313443564.1565857, 2724620428.3891854], \"sizemode\": \"area\", \"sizeref\": 108857792.39419726, \"symbol\": \"circle\"}, \"mode\": \"markers\", \"name\": \"Type=Exchange\", \"showlegend\": true, \"x\": [203573668.3842241, 51380602.70609421, 405290702.85240006], \"xaxis\": \"x2\", \"y\": [31.979498947883897, 55.5182040834314, 12.6556189160953], \"yaxis\": \"y2\", \"type\": \"scatter\"}], \"name\": \"2021-04-20\"}, {\"data\": [{\"hoverlabel\": {\"namelength\": 0}, \"hovertemplate\": \"<b>%{hovertext}</b><br><br>Type=Lending<br>time=2021-04-21<br>TxTfrValAdjUSD=%{x}<br>PriceUSD=%{y}<br>CapMrktCurUSD=%{marker.size}\", \"hovertext\": [\"COMP\", \"AAVE\", \"MKR\"], \"ids\": [\"COMP\", \"AAVE\", \"MKR\"], \"legendgroup\": \"Type=Lending\", \"marker\": {\"color\": \"#636efa\", \"size\": [4922248493.10649, 5640774817.129472, 3970697752.301207], \"sizemode\": \"area\", \"sizeref\": 108857792.39419726, \"symbol\": \"circle\"}, \"mode\": \"markers\", \"name\": \"Type=Lending\", \"showlegend\": true, \"x\": [54995271.6538783, 125300283.31032138, 172717652.58950844], \"xaxis\": \"x\", \"y\": [492.224849310649, 352.548426070592, 3989.6935958856798], \"yaxis\": \"y\", \"type\": \"scatter\"}, {\"hoverlabel\": {\"namelength\": 0}, \"hovertemplate\": \"<b>%{hovertext}</b><br><br>Type=Exchange<br>time=2021-04-21<br>TxTfrValAdjUSD=%{x}<br>PriceUSD=%{y}<br>CapMrktCurUSD=%{marker.size}\", \"hovertext\": [\"UNI\", \"BAL\", \"SUSHI\"], \"ids\": [\"UNI\", \"BAL\", \"SUSHI\"], \"legendgroup\": \"Type=Exchange\", \"marker\": {\"color\": \"#EF553B\", \"size\": [33496521480.5608, 2298774365.712565, 2694928435.5443687], \"sizemode\": \"area\", \"sizeref\": 108857792.39419726, \"symbol\": \"circle\"}, \"mode\": \"markers\", \"name\": \"Type=Exchange\", \"showlegend\": true, \"x\": [259630515.95575193, 34505106.89125519, 141739511.92239824], \"xaxis\": \"x2\", \"y\": [33.4965214805608, 55.166171483382904, 12.5046794283464], \"yaxis\": \"y2\", \"type\": \"scatter\"}], \"name\": \"2021-04-21\"}, {\"data\": [{\"hoverlabel\": {\"namelength\": 0}, \"hovertemplate\": \"<b>%{hovertext}</b><br><br>Type=Lending<br>time=2021-04-22<br>TxTfrValAdjUSD=%{x}<br>PriceUSD=%{y}<br>CapMrktCurUSD=%{marker.size}\", \"hovertext\": [\"COMP\", \"AAVE\", \"MKR\"], \"ids\": [\"COMP\", \"AAVE\", \"MKR\"], \"legendgroup\": \"Type=Lending\", \"marker\": {\"color\": \"#636efa\", \"size\": [5395611156.23051, 5844338348.34296, 4092118981.446226], \"sizemode\": \"area\", \"sizeref\": 108857792.39419726, \"symbol\": \"circle\"}, \"mode\": \"markers\", \"name\": \"Type=Lending\", \"showlegend\": true, \"x\": [132654347.56673886, 243429034.14546475, 369702436.451682], \"xaxis\": \"x\", \"y\": [539.561115623051, 365.271146771435, 4111.69570497185], \"yaxis\": \"y\", \"type\": \"scatter\"}, {\"hoverlabel\": {\"namelength\": 0}, \"hovertemplate\": \"<b>%{hovertext}</b><br><br>Type=Exchange<br>time=2021-04-22<br>TxTfrValAdjUSD=%{x}<br>PriceUSD=%{y}<br>CapMrktCurUSD=%{marker.size}\", \"hovertext\": [\"UNI\", \"BAL\", \"SUSHI\"], \"ids\": [\"UNI\", \"BAL\", \"SUSHI\"], \"legendgroup\": \"Type=Exchange\", \"marker\": {\"color\": \"#EF553B\", \"size\": [34614961684.172005, 2292790233.6142387, 2686315630.703774], \"sizemode\": \"area\", \"sizeref\": 108857792.39419726, \"symbol\": \"circle\"}, \"mode\": \"markers\", \"name\": \"Type=Exchange\", \"showlegend\": true, \"x\": [304940325.342551, 40105853.8872563, 295810097.5672351], \"xaxis\": \"x2\", \"y\": [34.614961684172, 55.0225638016376, 12.4523971774143], \"yaxis\": \"y2\", \"type\": \"scatter\"}], \"name\": \"2021-04-22\"}, {\"data\": [{\"hoverlabel\": {\"namelength\": 0}, \"hovertemplate\": \"<b>%{hovertext}</b><br><br>Type=Lending<br>time=2021-04-23<br>TxTfrValAdjUSD=%{x}<br>PriceUSD=%{y}<br>CapMrktCurUSD=%{marker.size}\", \"hovertext\": [\"COMP\", \"AAVE\", \"MKR\"], \"ids\": [\"COMP\", \"AAVE\", \"MKR\"], \"legendgroup\": \"Type=Lending\", \"marker\": {\"color\": \"#636efa\", \"size\": [6199473374.19354, 5478491469.185536, 4047455225.216315], \"sizemode\": \"area\", \"sizeref\": 108857792.39419726, \"symbol\": \"circle\"}, \"mode\": \"markers\", \"name\": \"Type=Lending\", \"showlegend\": true, \"x\": [219513181.0531542, 146791125.33639953, 604352404.800398], \"xaxis\": \"x\", \"y\": [619.947337419354, 342.405716824096, 4066.81827704488], \"yaxis\": \"y\", \"type\": \"scatter\"}, {\"hoverlabel\": {\"namelength\": 0}, \"hovertemplate\": \"<b>%{hovertext}</b><br><br>Type=Exchange<br>time=2021-04-23<br>TxTfrValAdjUSD=%{x}<br>PriceUSD=%{y}<br>CapMrktCurUSD=%{marker.size}\", \"hovertext\": [\"UNI\", \"BAL\", \"SUSHI\"], \"ids\": [\"UNI\", \"BAL\", \"SUSHI\"], \"legendgroup\": \"Type=Exchange\", \"marker\": {\"color\": \"#EF553B\", \"size\": [32754314036.5611, 2104709679.985213, 2539715600.5507226], \"sizemode\": \"area\", \"sizeref\": 108857792.39419726, \"symbol\": \"circle\"}, \"mode\": \"markers\", \"name\": \"Type=Exchange\", \"showlegend\": true, \"x\": [277995455.4816048, 85839110.54455951, 314664417.1120731], \"xaxis\": \"x2\", \"y\": [32.754314036561105, 50.50899160031711, 11.7614926428763], \"yaxis\": \"y2\", \"type\": \"scatter\"}], \"name\": \"2021-04-23\"}, {\"data\": [{\"hoverlabel\": {\"namelength\": 0}, \"hovertemplate\": \"<b>%{hovertext}</b><br><br>Type=Lending<br>time=2021-04-24<br>TxTfrValAdjUSD=%{x}<br>PriceUSD=%{y}<br>CapMrktCurUSD=%{marker.size}\", \"hovertext\": [\"COMP\", \"AAVE\", \"MKR\"], \"ids\": [\"COMP\", \"AAVE\", \"MKR\"], \"legendgroup\": \"Type=Lending\", \"marker\": {\"color\": \"#636efa\", \"size\": [5740573732.17818, 5176792531.060608, 4043883793.800518], \"sizemode\": \"area\", \"sizeref\": 108857792.39419726, \"symbol\": \"circle\"}, \"mode\": \"markers\", \"name\": \"Type=Lending\", \"showlegend\": true, \"x\": [64054584.57661696, 71598589.36750652, 99729416.78801616], \"xaxis\": \"x\", \"y\": [574.0573732178179, 323.549533191288, 4063.22975987822], \"yaxis\": \"y\", \"type\": \"scatter\"}, {\"hoverlabel\": {\"namelength\": 0}, \"hovertemplate\": \"<b>%{hovertext}</b><br><br>Type=Exchange<br>time=2021-04-24<br>TxTfrValAdjUSD=%{x}<br>PriceUSD=%{y}<br>CapMrktCurUSD=%{marker.size}\", \"hovertext\": [\"UNI\", \"BAL\", \"SUSHI\"], \"ids\": [\"UNI\", \"BAL\", \"SUSHI\"], \"legendgroup\": \"Type=Exchange\", \"marker\": {\"color\": \"#EF553B\", \"size\": [30545481806.8335, 1953016900.8163693, 2338427103.5503836], \"sizemode\": \"area\", \"sizeref\": 108857792.39419726, \"symbol\": \"circle\"}, \"mode\": \"markers\", \"name\": \"Type=Exchange\", \"showlegend\": true, \"x\": [119480518.45256002, 14445201.571536794, 115182252.7384104], \"xaxis\": \"x2\", \"y\": [30.5454818068335, 46.868656127102696, 10.818256306909499], \"yaxis\": \"y2\", \"type\": \"scatter\"}], \"name\": \"2021-04-24\"}, {\"data\": [{\"hoverlabel\": {\"namelength\": 0}, \"hovertemplate\": \"<b>%{hovertext}</b><br><br>Type=Lending<br>time=2021-04-25<br>TxTfrValAdjUSD=%{x}<br>PriceUSD=%{y}<br>CapMrktCurUSD=%{marker.size}\", \"hovertext\": [\"COMP\", \"AAVE\", \"MKR\"], \"ids\": [\"COMP\", \"AAVE\", \"MKR\"], \"legendgroup\": \"Type=Lending\", \"marker\": {\"color\": \"#636efa\", \"size\": [5510183868.54027, 5545779266.852656, 3806939146.636236], \"sizemode\": \"area\", \"sizeref\": 108857792.39419726, \"symbol\": \"circle\"}, \"mode\": \"markers\", \"name\": \"Type=Lending\", \"showlegend\": true, \"x\": [44106130.173772424, 78888044.21097769, 56965779.403712586], \"xaxis\": \"x\", \"y\": [551.018386854027, 346.611204178291, 3825.151567998], \"yaxis\": \"y\", \"type\": \"scatter\"}, {\"hoverlabel\": {\"namelength\": 0}, \"hovertemplate\": \"<b>%{hovertext}</b><br><br>Type=Exchange<br>time=2021-04-25<br>TxTfrValAdjUSD=%{x}<br>PriceUSD=%{y}<br>CapMrktCurUSD=%{marker.size}\", \"hovertext\": [\"UNI\", \"BAL\", \"SUSHI\"], \"ids\": [\"UNI\", \"BAL\", \"SUSHI\"], \"legendgroup\": \"Type=Exchange\", \"marker\": {\"color\": \"#EF553B\", \"size\": [33651920555.3833, 1985801880.4026291, 2353932862.9025354], \"sizemode\": \"area\", \"sizeref\": 108857792.39419726, \"symbol\": \"circle\"}, \"mode\": \"markers\", \"name\": \"Type=Exchange\", \"showlegend\": true, \"x\": [139087041.516701, 16746467.40690068, 133188139.84239875], \"xaxis\": \"x2\", \"y\": [33.6519205553833, 47.6554326950475, 10.8795056349964], \"yaxis\": \"y2\", \"type\": \"scatter\"}], \"name\": \"2021-04-25\"}, {\"data\": [{\"hoverlabel\": {\"namelength\": 0}, \"hovertemplate\": \"<b>%{hovertext}</b><br><br>Type=Lending<br>time=2021-04-26<br>TxTfrValAdjUSD=%{x}<br>PriceUSD=%{y}<br>CapMrktCurUSD=%{marker.size}\", \"hovertext\": [\"COMP\", \"AAVE\", \"MKR\"], \"ids\": [\"COMP\", \"AAVE\", \"MKR\"], \"legendgroup\": \"Type=Lending\", \"marker\": {\"color\": \"#636efa\", \"size\": [6412127145.09703, 6447924523.556785, 3992961745.25817], \"sizemode\": \"area\", \"sizeref\": 108857792.39419726, \"symbol\": \"circle\"}, \"mode\": \"markers\", \"name\": \"Type=Lending\", \"showlegend\": true, \"x\": [61518734.87848515, 286235273.6045757, 70201375.92303805], \"xaxis\": \"x\", \"y\": [641.212714509703, 402.99528272229895, 4012.0640999281395], \"yaxis\": \"y\", \"type\": \"scatter\"}, {\"hoverlabel\": {\"namelength\": 0}, \"hovertemplate\": \"<b>%{hovertext}</b><br><br>Type=Exchange<br>time=2021-04-26<br>TxTfrValAdjUSD=%{x}<br>PriceUSD=%{y}<br>CapMrktCurUSD=%{marker.size}\", \"hovertext\": [\"UNI\", \"BAL\", \"SUSHI\"], \"ids\": [\"UNI\", \"BAL\", \"SUSHI\"], \"legendgroup\": \"Type=Exchange\", \"marker\": {\"color\": \"#EF553B\", \"size\": [38006552760.5694, 2214866339.053051, 2611714785.9993587], \"sizemode\": \"area\", \"sizeref\": 108857792.39419726, \"symbol\": \"circle\"}, \"mode\": \"markers\", \"name\": \"Type=Exchange\", \"showlegend\": true, \"x\": [269736003.7277004, 63304190.03909402, 237951444.79591542], \"xaxis\": \"x2\", \"y\": [38.0065527605694, 53.152539934078504, 12.0593186578716], \"yaxis\": \"y2\", \"type\": \"scatter\"}], \"name\": \"2021-04-26\"}, {\"data\": [{\"hoverlabel\": {\"namelength\": 0}, \"hovertemplate\": \"<b>%{hovertext}</b><br><br>Type=Lending<br>time=2021-04-27<br>TxTfrValAdjUSD=%{x}<br>PriceUSD=%{y}<br>CapMrktCurUSD=%{marker.size}\", \"hovertext\": [\"COMP\", \"AAVE\", \"MKR\"], \"ids\": [\"COMP\", \"AAVE\", \"MKR\"], \"legendgroup\": \"Type=Lending\", \"marker\": {\"color\": \"#636efa\", \"size\": [6531496072.42338, 7013308307.242368, 4506478153.421773], \"sizemode\": \"area\", \"sizeref\": 108857792.39419726, \"symbol\": \"circle\"}, \"mode\": \"markers\", \"name\": \"Type=Lending\", \"showlegend\": true, \"x\": [106596974.56409667, 234683828.41696027, 102620854.80900417], \"xaxis\": \"x\", \"y\": [653.149607242338, 438.331769202648, 4528.037173891071], \"yaxis\": \"y\", \"type\": \"scatter\"}, {\"hoverlabel\": {\"namelength\": 0}, \"hovertemplate\": \"<b>%{hovertext}</b><br><br>Type=Exchange<br>time=2021-04-27<br>TxTfrValAdjUSD=%{x}<br>PriceUSD=%{y}<br>CapMrktCurUSD=%{marker.size}\", \"hovertext\": [\"UNI\", \"BAL\", \"SUSHI\"], \"ids\": [\"UNI\", \"BAL\", \"SUSHI\"], \"legendgroup\": \"Type=Exchange\", \"marker\": {\"color\": \"#EF553B\", \"size\": [39448920381.9774, 2482325789.525611, 3077498569.9228106], \"sizemode\": \"area\", \"sizeref\": 108857792.39419726, \"symbol\": \"circle\"}, \"mode\": \"markers\", \"name\": \"Type=Exchange\", \"showlegend\": true, \"x\": [268880962.6993405, 120027981.06594653, 226792279.74444097], \"xaxis\": \"x2\", \"y\": [39.4489203819774, 59.36448139484901, 14.1961494404072], \"yaxis\": \"y2\", \"type\": \"scatter\"}], \"name\": \"2021-04-27\"}, {\"data\": [{\"hoverlabel\": {\"namelength\": 0}, \"hovertemplate\": \"<b>%{hovertext}</b><br><br>Type=Lending<br>time=2021-04-28<br>TxTfrValAdjUSD=%{x}<br>PriceUSD=%{y}<br>CapMrktCurUSD=%{marker.size}\", \"hovertext\": [\"COMP\", \"AAVE\", \"MKR\"], \"ids\": [\"COMP\", \"AAVE\", \"MKR\"], \"legendgroup\": \"Type=Lending\", \"marker\": {\"color\": \"#636efa\", \"size\": [6465984987.81982, 7360979062.626385, 4385293814.691038], \"sizemode\": \"area\", \"sizeref\": 108857792.39419726, \"symbol\": \"circle\"}, \"mode\": \"markers\", \"name\": \"Type=Lending\", \"showlegend\": true, \"x\": [183800668.19252548, 309309075.38436246, 89604385.02260768], \"xaxis\": \"x\", \"y\": [646.598498781982, 460.061191414149, 4407.5301507474705], \"yaxis\": \"y\", \"type\": \"scatter\"}, {\"hoverlabel\": {\"namelength\": 0}, \"hovertemplate\": \"<b>%{hovertext}</b><br><br>Type=Exchange<br>time=2021-04-28<br>TxTfrValAdjUSD=%{x}<br>PriceUSD=%{y}<br>CapMrktCurUSD=%{marker.size}\", \"hovertext\": [\"UNI\", \"BAL\", \"SUSHI\"], \"ids\": [\"UNI\", \"BAL\", \"SUSHI\"], \"legendgroup\": \"Type=Exchange\", \"marker\": {\"color\": \"#EF553B\", \"size\": [42496437949.9919, 2449486290.0271635, 3087092013.7606263], \"sizemode\": \"area\", \"sizeref\": 108857792.39419726, \"symbol\": \"circle\"}, \"mode\": \"markers\", \"name\": \"Type=Exchange\", \"showlegend\": true, \"x\": [246984983.46056154, 96898818.22688691, 169344629.99401692], \"xaxis\": \"x2\", \"y\": [42.4964379499919, 58.5791292604846, 14.226538196763501], \"yaxis\": \"y2\", \"type\": \"scatter\"}], \"name\": \"2021-04-28\"}, {\"data\": [{\"hoverlabel\": {\"namelength\": 0}, \"hovertemplate\": \"<b>%{hovertext}</b><br><br>Type=Lending<br>time=2021-04-29<br>TxTfrValAdjUSD=%{x}<br>PriceUSD=%{y}<br>CapMrktCurUSD=%{marker.size}\", \"hovertext\": [\"COMP\", \"AAVE\", \"MKR\"], \"ids\": [\"COMP\", \"AAVE\", \"MKR\"], \"legendgroup\": \"Type=Lending\", \"marker\": {\"color\": \"#636efa\", \"size\": [6450865159.2310705, 7028744975.543585, 4241406092.281011], \"sizemode\": \"area\", \"sizeref\": 108857792.39419726, \"symbol\": \"circle\"}, \"mode\": \"markers\", \"name\": \"Type=Lending\", \"showlegend\": true, \"x\": [86894151.72677736, 202452738.9868807, 53750813.02476201], \"xaxis\": \"x\", \"y\": [645.086515923107, 439.296560971474, 4263.28897828015], \"yaxis\": \"y\", \"type\": \"scatter\"}, {\"hoverlabel\": {\"namelength\": 0}, \"hovertemplate\": \"<b>%{hovertext}</b><br><br>Type=Exchange<br>time=2021-04-29<br>TxTfrValAdjUSD=%{x}<br>PriceUSD=%{y}<br>CapMrktCurUSD=%{marker.size}\", \"hovertext\": [\"UNI\", \"BAL\", \"SUSHI\"], \"ids\": [\"UNI\", \"BAL\", \"SUSHI\"], \"legendgroup\": \"Type=Exchange\", \"marker\": {\"color\": \"#EF553B\", \"size\": [41289949214.4847, 2470800493.6100254, 3061397700.7962737], \"sizemode\": \"area\", \"sizeref\": 108857792.39419726, \"symbol\": \"circle\"}, \"mode\": \"markers\", \"name\": \"Type=Exchange\", \"showlegend\": true, \"x\": [335856021.77340007, 45041010.68449697, 201485051.34791553], \"xaxis\": \"x2\", \"y\": [41.2899492144847, 59.0888555209859, 14.094285241957099], \"yaxis\": \"y2\", \"type\": \"scatter\"}], \"name\": \"2021-04-29\"}, {\"data\": [{\"hoverlabel\": {\"namelength\": 0}, \"hovertemplate\": \"<b>%{hovertext}</b><br><br>Type=Lending<br>time=2021-04-30<br>TxTfrValAdjUSD=%{x}<br>PriceUSD=%{y}<br>CapMrktCurUSD=%{marker.size}\", \"hovertext\": [\"COMP\", \"AAVE\", \"MKR\"], \"ids\": [\"COMP\", \"AAVE\", \"MKR\"], \"legendgroup\": \"Type=Lending\", \"marker\": {\"color\": \"#636efa\", \"size\": [7412994152.990859, 7073767642.3868, 4308538312.39909], \"sizemode\": \"area\", \"sizeref\": 108857792.39419726, \"symbol\": \"circle\"}, \"mode\": \"markers\", \"name\": \"Type=Lending\", \"showlegend\": true, \"x\": [176504552.09529686, 173490696.42207414, 45822768.39447934], \"xaxis\": \"x\", \"y\": [741.299415299086, 442.11047764917504, 4330.76755681988], \"yaxis\": \"y\", \"type\": \"scatter\"}, {\"hoverlabel\": {\"namelength\": 0}, \"hovertemplate\": \"<b>%{hovertext}</b><br><br>Type=Exchange<br>time=2021-04-30<br>TxTfrValAdjUSD=%{x}<br>PriceUSD=%{y}<br>CapMrktCurUSD=%{marker.size}\", \"hovertext\": [\"UNI\", \"BAL\", \"SUSHI\"], \"ids\": [\"UNI\", \"BAL\", \"SUSHI\"], \"legendgroup\": \"Type=Exchange\", \"marker\": {\"color\": \"#EF553B\", \"size\": [40367673295.8108, 2579397344.7372627, 3119668384.8277516], \"sizemode\": \"area\", \"sizeref\": 108857792.39419726, \"symbol\": \"circle\"}, \"mode\": \"markers\", \"name\": \"Type=Exchange\", \"showlegend\": true, \"x\": [1458142405.530867, 34260111.49351254, 127348825.47378159], \"xaxis\": \"x2\", \"y\": [40.367673295810796, 61.6859343474175, 14.348849640431302], \"yaxis\": \"y2\", \"type\": \"scatter\"}], \"name\": \"2021-04-30\"}, {\"data\": [{\"hoverlabel\": {\"namelength\": 0}, \"hovertemplate\": \"<b>%{hovertext}</b><br><br>Type=Lending<br>time=2021-05-01<br>TxTfrValAdjUSD=%{x}<br>PriceUSD=%{y}<br>CapMrktCurUSD=%{marker.size}\", \"hovertext\": [\"COMP\", \"AAVE\", \"MKR\"], \"ids\": [\"COMP\", \"AAVE\", \"MKR\"], \"legendgroup\": \"Type=Lending\", \"marker\": {\"color\": \"#636efa\", \"size\": [8088673664.5751095, 8025261780.336672, 4781651072.241644], \"sizemode\": \"area\", \"sizeref\": 108857792.39419726, \"symbol\": \"circle\"}, \"mode\": \"markers\", \"name\": \"Type=Lending\", \"showlegend\": true, \"x\": [172022544.3931035, 294689538.4114012, 102353834.23283708], \"xaxis\": \"x\", \"y\": [808.867366457511, 501.578861271042, 4806.32126958303], \"yaxis\": \"y\", \"type\": \"scatter\"}, {\"hoverlabel\": {\"namelength\": 0}, \"hovertemplate\": \"<b>%{hovertext}</b><br><br>Type=Exchange<br>time=2021-05-01<br>TxTfrValAdjUSD=%{x}<br>PriceUSD=%{y}<br>CapMrktCurUSD=%{marker.size}\", \"hovertext\": [\"UNI\", \"BAL\", \"SUSHI\"], \"ids\": [\"UNI\", \"BAL\", \"SUSHI\"], \"legendgroup\": \"Type=Exchange\", \"marker\": {\"color\": \"#EF553B\", \"size\": [40097702436.0797, 2652485389.2212324, 3220560525.0594606], \"sizemode\": \"area\", \"sizeref\": 108857792.39419726, \"symbol\": \"circle\"}, \"mode\": \"markers\", \"name\": \"Type=Exchange\", \"showlegend\": true, \"x\": [160781225.19092327, 33195994.070280224, 181355767.96637356], \"xaxis\": \"x2\", \"y\": [40.0977024360797, 63.433824924578104, 14.798321416940201], \"yaxis\": \"y2\", \"type\": \"scatter\"}], \"name\": \"2021-05-01\"}, {\"data\": [{\"hoverlabel\": {\"namelength\": 0}, \"hovertemplate\": \"<b>%{hovertext}</b><br><br>Type=Lending<br>time=2021-05-02<br>TxTfrValAdjUSD=%{x}<br>PriceUSD=%{y}<br>CapMrktCurUSD=%{marker.size}\", \"hovertext\": [\"COMP\", \"AAVE\", \"MKR\"], \"ids\": [\"COMP\", \"AAVE\", \"MKR\"], \"legendgroup\": \"Type=Lending\", \"marker\": {\"color\": \"#636efa\", \"size\": [8116948251.48325, 7703103246.830431, 4889224921.413778], \"sizemode\": \"area\", \"sizeref\": 108857792.39419726, \"symbol\": \"circle\"}, \"mode\": \"markers\", \"name\": \"Type=Lending\", \"showlegend\": true, \"x\": [151015789.42612544, 197849561.75639215, 120222801.90458351], \"xaxis\": \"x\", \"y\": [811.6948251483251, 481.443952926902, 4914.45012957627], \"yaxis\": \"y\", \"type\": \"scatter\"}, {\"hoverlabel\": {\"namelength\": 0}, \"hovertemplate\": \"<b>%{hovertext}</b><br><br>Type=Exchange<br>time=2021-05-02<br>TxTfrValAdjUSD=%{x}<br>PriceUSD=%{y}<br>CapMrktCurUSD=%{marker.size}\", \"hovertext\": [\"UNI\", \"BAL\", \"SUSHI\"], \"ids\": [\"UNI\", \"BAL\", \"SUSHI\"], \"legendgroup\": \"Type=Exchange\", \"marker\": {\"color\": \"#EF553B\", \"size\": [42501630920.125, 2575335212.074841, 3025425311.464411], \"sizemode\": \"area\", \"sizeref\": 108857792.39419726, \"symbol\": \"circle\"}, \"mode\": \"markers\", \"name\": \"Type=Exchange\", \"showlegend\": true, \"x\": [158132637.15493757, 29760103.745564826, 323327066.4699091], \"xaxis\": \"x2\", \"y\": [42.501630920124995, 61.588789000952794, 13.888389689481402], \"yaxis\": \"y2\", \"type\": \"scatter\"}], \"name\": \"2021-05-02\"}, {\"data\": [{\"hoverlabel\": {\"namelength\": 0}, \"hovertemplate\": \"<b>%{hovertext}</b><br><br>Type=Lending<br>time=2021-05-03<br>TxTfrValAdjUSD=%{x}<br>PriceUSD=%{y}<br>CapMrktCurUSD=%{marker.size}\", \"hovertext\": [\"COMP\", \"AAVE\", \"MKR\"], \"ids\": [\"COMP\", \"AAVE\", \"MKR\"], \"legendgroup\": \"Type=Lending\", \"marker\": {\"color\": \"#636efa\", \"size\": [8286152553.88545, 8271848409.369616, 6034984257.959863], \"sizemode\": \"area\", \"sizeref\": 108857792.39419726, \"symbol\": \"circle\"}, \"mode\": \"markers\", \"name\": \"Type=Lending\", \"showlegend\": true, \"x\": [142094711.1413977, 200768178.39753312, 748059804.5466511], \"xaxis\": \"x\", \"y\": [828.615255388545, 516.990525585601, 6066.12083617242], \"yaxis\": \"y\", \"type\": \"scatter\"}, {\"hoverlabel\": {\"namelength\": 0}, \"hovertemplate\": \"<b>%{hovertext}</b><br><br>Type=Exchange<br>time=2021-05-03<br>TxTfrValAdjUSD=%{x}<br>PriceUSD=%{y}<br>CapMrktCurUSD=%{marker.size}\", \"hovertext\": [\"UNI\", \"BAL\", \"SUSHI\"], \"ids\": [\"UNI\", \"BAL\", \"SUSHI\"], \"legendgroup\": \"Type=Exchange\", \"marker\": {\"color\": \"#EF553B\", \"size\": [42412962338.6098, 3026312232.4520245, 3144151094.2427645], \"sizemode\": \"area\", \"sizeref\": 108857792.39419726, \"symbol\": \"circle\"}, \"mode\": \"markers\", \"name\": \"Type=Exchange\", \"showlegend\": true, \"x\": [268374785.01565483, 65997957.715158276, 183358036.03125915], \"xaxis\": \"x2\", \"y\": [42.412962338609795, 72.3738426988407, 14.4194957529586], \"yaxis\": \"y2\", \"type\": \"scatter\"}], \"name\": \"2021-05-03\"}, {\"data\": [{\"hoverlabel\": {\"namelength\": 0}, \"hovertemplate\": \"<b>%{hovertext}</b><br><br>Type=Lending<br>time=2021-05-04<br>TxTfrValAdjUSD=%{x}<br>PriceUSD=%{y}<br>CapMrktCurUSD=%{marker.size}\", \"hovertext\": [\"COMP\", \"AAVE\", \"MKR\"], \"ids\": [\"COMP\", \"AAVE\", \"MKR\"], \"legendgroup\": \"Type=Lending\", \"marker\": {\"color\": \"#636efa\", \"size\": [7493663500.94063, 7299642746.850736, 5289891077.541508], \"sizemode\": \"area\", \"sizeref\": 108857792.39419726, \"symbol\": \"circle\"}, \"mode\": \"markers\", \"name\": \"Type=Lending\", \"showlegend\": true, \"x\": [97959305.20020126, 179638349.21555486, 262406098.06481448], \"xaxis\": \"x\", \"y\": [749.3663500940629, 456.227671678171, 5317.183461453621], \"yaxis\": \"y\", \"type\": \"scatter\"}, {\"hoverlabel\": {\"namelength\": 0}, \"hovertemplate\": \"<b>%{hovertext}</b><br><br>Type=Exchange<br>time=2021-05-04<br>TxTfrValAdjUSD=%{x}<br>PriceUSD=%{y}<br>CapMrktCurUSD=%{marker.size}\", \"hovertext\": [\"UNI\", \"BAL\", \"SUSHI\"], \"ids\": [\"UNI\", \"BAL\", \"SUSHI\"], \"legendgroup\": \"Type=Exchange\", \"marker\": {\"color\": \"#EF553B\", \"size\": [43543116957.6789, 2768666471.8505063, 2805740630.5346265], \"sizemode\": \"area\", \"sizeref\": 108857792.39419726, \"symbol\": \"circle\"}, \"mode\": \"markers\", \"name\": \"Type=Exchange\", \"showlegend\": true, \"x\": [362204140.68044716, 83523812.16045426, 134022984.06346406], \"xaxis\": \"x2\", \"y\": [43.5431169576789, 65.9834716837585, 12.855089626601698], \"yaxis\": \"y2\", \"type\": \"scatter\"}], \"name\": \"2021-05-04\"}, {\"data\": [{\"hoverlabel\": {\"namelength\": 0}, \"hovertemplate\": \"<b>%{hovertext}</b><br><br>Type=Lending<br>time=2021-05-05<br>TxTfrValAdjUSD=%{x}<br>PriceUSD=%{y}<br>CapMrktCurUSD=%{marker.size}\", \"hovertext\": [\"COMP\", \"AAVE\", \"MKR\"], \"ids\": [\"COMP\", \"AAVE\", \"MKR\"], \"legendgroup\": \"Type=Lending\", \"marker\": {\"color\": \"#636efa\", \"size\": [7879208811.61464, 7697589000.727649, 5386778952.100342], \"sizemode\": \"area\", \"sizeref\": 108857792.39419726, \"symbol\": \"circle\"}, \"mode\": \"markers\", \"name\": \"Type=Lending\", \"showlegend\": true, \"x\": [66246207.01785417, 979141805.9684978, 127549507.6163675], \"xaxis\": \"x\", \"y\": [787.920881161464, 481.09931254547797, 5414.5712141819895], \"yaxis\": \"y\", \"type\": \"scatter\"}, {\"hoverlabel\": {\"namelength\": 0}, \"hovertemplate\": \"<b>%{hovertext}</b><br><br>Type=Exchange<br>time=2021-05-05<br>TxTfrValAdjUSD=%{x}<br>PriceUSD=%{y}<br>CapMrktCurUSD=%{marker.size}\", \"hovertext\": [\"UNI\", \"BAL\", \"SUSHI\"], \"ids\": [\"UNI\", \"BAL\", \"SUSHI\"], \"legendgroup\": \"Type=Exchange\", \"marker\": {\"color\": \"#EF553B\", \"size\": [42413874411.1461, 2879009482.055767, 3139689716.1067467], \"sizemode\": \"area\", \"sizeref\": 108857792.39419726, \"symbol\": \"circle\"}, \"mode\": \"markers\", \"name\": \"Type=Exchange\", \"showlegend\": true, \"x\": [377543870.58961153, 74391052.89004377, 111761022.17864518], \"xaxis\": \"x2\", \"y\": [42.413874411146104, 68.6131907067628, 14.3713047099486], \"yaxis\": \"y2\", \"type\": \"scatter\"}], \"name\": \"2021-05-05\"}, {\"data\": [{\"hoverlabel\": {\"namelength\": 0}, \"hovertemplate\": \"<b>%{hovertext}</b><br><br>Type=Lending<br>time=2021-05-06<br>TxTfrValAdjUSD=%{x}<br>PriceUSD=%{y}<br>CapMrktCurUSD=%{marker.size}\", \"hovertext\": [\"COMP\", \"AAVE\", \"MKR\"], \"ids\": [\"COMP\", \"AAVE\", \"MKR\"], \"legendgroup\": \"Type=Lending\", \"marker\": {\"color\": \"#636efa\", \"size\": [7414998135.340291, 7250245528.423136, 5026839591.746097], \"sizemode\": \"area\", \"sizeref\": 108857792.39419726, \"symbol\": \"circle\"}, \"mode\": \"markers\", \"name\": \"Type=Lending\", \"showlegend\": true, \"x\": [47921398.768218994, 838123380.5426214, 97875585.89491102], \"xaxis\": \"x\", \"y\": [741.4998135340289, 453.140345526446, 5052.77480175165], \"yaxis\": \"y\", \"type\": \"scatter\"}, {\"hoverlabel\": {\"namelength\": 0}, \"hovertemplate\": \"<b>%{hovertext}</b><br><br>Type=Exchange<br>time=2021-05-06<br>TxTfrValAdjUSD=%{x}<br>PriceUSD=%{y}<br>CapMrktCurUSD=%{marker.size}\", \"hovertext\": [\"UNI\", \"BAL\", \"SUSHI\"], \"ids\": [\"UNI\", \"BAL\", \"SUSHI\"], \"legendgroup\": \"Type=Exchange\", \"marker\": {\"color\": \"#EF553B\", \"size\": [40374075503.4363, 2803653945.0415745, 3601132122.6931033], \"sizemode\": \"area\", \"sizeref\": 108857792.39419726, \"symbol\": \"circle\"}, \"mode\": \"markers\", \"name\": \"Type=Exchange\", \"showlegend\": true, \"x\": [304198712.23373985, 26990519.913672805, 350414997.18320996], \"xaxis\": \"x2\", \"y\": [40.3740755034363, 66.817300882783, 16.4635372625083], \"yaxis\": \"y2\", \"type\": \"scatter\"}], \"name\": \"2021-05-06\"}, {\"data\": [{\"hoverlabel\": {\"namelength\": 0}, \"hovertemplate\": \"<b>%{hovertext}</b><br><br>Type=Lending<br>time=2021-05-07<br>TxTfrValAdjUSD=%{x}<br>PriceUSD=%{y}<br>CapMrktCurUSD=%{marker.size}\", \"hovertext\": [\"COMP\", \"AAVE\", \"MKR\"], \"ids\": [\"COMP\", \"AAVE\", \"MKR\"], \"legendgroup\": \"Type=Lending\", \"marker\": {\"color\": \"#636efa\", \"size\": [7122118754.68786, 7109026896.427105, 5050458005.024396], \"sizemode\": \"area\", \"sizeref\": 108857792.39419726, \"symbol\": \"circle\"}, \"mode\": \"markers\", \"name\": \"Type=Lending\", \"showlegend\": true, \"x\": [76140499.7815607, 188937449.9705296, 80638681.90925057], \"xaxis\": \"x\", \"y\": [712.211875468786, 444.31418102669403, 5076.51507062076], \"yaxis\": \"y\", \"type\": \"scatter\"}, {\"hoverlabel\": {\"namelength\": 0}, \"hovertemplate\": \"<b>%{hovertext}</b><br><br>Type=Exchange<br>time=2021-05-07<br>TxTfrValAdjUSD=%{x}<br>PriceUSD=%{y}<br>CapMrktCurUSD=%{marker.size}\", \"hovertext\": [\"UNI\", \"BAL\", \"SUSHI\"], \"ids\": [\"UNI\", \"BAL\", \"SUSHI\"], \"legendgroup\": \"Type=Exchange\", \"marker\": {\"color\": \"#EF553B\", \"size\": [39629686300.4344, 2712170105.954269, 3442428044.6482725], \"sizemode\": \"area\", \"sizeref\": 108857792.39419726, \"symbol\": \"circle\"}, \"mode\": \"markers\", \"name\": \"Type=Exchange\", \"showlegend\": true, \"x\": [240460090.79558247, 31377180.845719587, 390301194.15084004], \"xaxis\": \"x2\", \"y\": [39.6296863004344, 64.63703779681289, 15.7283237700522], \"yaxis\": \"y2\", \"type\": \"scatter\"}], \"name\": \"2021-05-07\"}, {\"data\": [{\"hoverlabel\": {\"namelength\": 0}, \"hovertemplate\": \"<b>%{hovertext}</b><br><br>Type=Lending<br>time=2021-05-08<br>TxTfrValAdjUSD=%{x}<br>PriceUSD=%{y}<br>CapMrktCurUSD=%{marker.size}\", \"hovertext\": [\"COMP\", \"AAVE\", \"MKR\"], \"ids\": [\"COMP\", \"AAVE\", \"MKR\"], \"legendgroup\": \"Type=Lending\", \"marker\": {\"color\": \"#636efa\", \"size\": [7813079498.49682, 7453065982.371872, 5559465059.176202], \"sizemode\": \"area\", \"sizeref\": 108857792.39419726, \"symbol\": \"circle\"}, \"mode\": \"markers\", \"name\": \"Type=Lending\", \"showlegend\": true, \"x\": [74044473.5314391, 109759861.31564727, 98354723.55279683], \"xaxis\": \"x\", \"y\": [781.307949849682, 465.816623898242, 5588.239684130289], \"yaxis\": \"y\", \"type\": \"scatter\"}, {\"hoverlabel\": {\"namelength\": 0}, \"hovertemplate\": \"<b>%{hovertext}</b><br><br>Type=Exchange<br>time=2021-05-08<br>TxTfrValAdjUSD=%{x}<br>PriceUSD=%{y}<br>CapMrktCurUSD=%{marker.size}\", \"hovertext\": [\"UNI\", \"BAL\", \"SUSHI\"], \"ids\": [\"UNI\", \"BAL\", \"SUSHI\"], \"legendgroup\": \"Type=Exchange\", \"marker\": {\"color\": \"#EF553B\", \"size\": [40391497341.2016, 2904055707.6001077, 3556555236.101262], \"sizemode\": \"area\", \"sizeref\": 108857792.39419726, \"symbol\": \"circle\"}, \"mode\": \"markers\", \"name\": \"Type=Exchange\", \"showlegend\": true, \"x\": [197961680.08955485, 30945597.194465693, 164477471.9640691], \"xaxis\": \"x2\", \"y\": [40.3914973412016, 69.2100978932342, 16.2397837535802], \"yaxis\": \"y2\", \"type\": \"scatter\"}], \"name\": \"2021-05-08\"}, {\"data\": [{\"hoverlabel\": {\"namelength\": 0}, \"hovertemplate\": \"<b>%{hovertext}</b><br><br>Type=Lending<br>time=2021-05-09<br>TxTfrValAdjUSD=%{x}<br>PriceUSD=%{y}<br>CapMrktCurUSD=%{marker.size}\", \"hovertext\": [\"COMP\", \"AAVE\", \"MKR\"], \"ids\": [\"COMP\", \"AAVE\", \"MKR\"], \"legendgroup\": \"Type=Lending\", \"marker\": {\"color\": \"#636efa\", \"size\": [7692871000.88316, 7341681354.333328, 5247610768.372546], \"sizemode\": \"area\", \"sizeref\": 108857792.39419726, \"symbol\": \"circle\"}, \"mode\": \"markers\", \"name\": \"Type=Lending\", \"showlegend\": true, \"x\": [40525392.90562959, 113296102.72703683, 74396834.34603924], \"xaxis\": \"x\", \"y\": [769.287100088316, 458.85508464583296, 5274.915300468951], \"yaxis\": \"y\", \"type\": \"scatter\"}, {\"hoverlabel\": {\"namelength\": 0}, \"hovertemplate\": \"<b>%{hovertext}</b><br><br>Type=Exchange<br>time=2021-05-09<br>TxTfrValAdjUSD=%{x}<br>PriceUSD=%{y}<br>CapMrktCurUSD=%{marker.size}\", \"hovertext\": [\"UNI\", \"BAL\", \"SUSHI\"], \"ids\": [\"UNI\", \"BAL\", \"SUSHI\"], \"legendgroup\": \"Type=Exchange\", \"marker\": {\"color\": \"#EF553B\", \"size\": [39444195306.4623, 2782708792.331129, 3407051731.7027974], \"sizemode\": \"area\", \"sizeref\": 108857792.39419726, \"symbol\": \"circle\"}, \"mode\": \"markers\", \"name\": \"Type=Exchange\", \"showlegend\": true, \"x\": [204144420.94424197, 49367176.361759655, 147374919.42729512], \"xaxis\": \"x2\", \"y\": [39.4441953064623, 66.3181313710946, 15.547779663810301], \"yaxis\": \"y2\", \"type\": \"scatter\"}], \"name\": \"2021-05-09\"}, {\"data\": [{\"hoverlabel\": {\"namelength\": 0}, \"hovertemplate\": \"<b>%{hovertext}</b><br><br>Type=Lending<br>time=2021-05-10<br>TxTfrValAdjUSD=%{x}<br>PriceUSD=%{y}<br>CapMrktCurUSD=%{marker.size}\", \"hovertext\": [\"COMP\", \"AAVE\", \"MKR\"], \"ids\": [\"COMP\", \"AAVE\", \"MKR\"], \"legendgroup\": \"Type=Lending\", \"marker\": {\"color\": \"#636efa\", \"size\": [7767168042.9163, 6967385195.368704, 4940831038.432659], \"sizemode\": \"area\", \"sizeref\": 108857792.39419726, \"symbol\": \"circle\"}, \"mode\": \"markers\", \"name\": \"Type=Lending\", \"showlegend\": true, \"x\": [93517932.33999838, 204653999.40800253, 85343237.59971276], \"xaxis\": \"x\", \"y\": [776.71680429163, 435.46157471054397, 4966.566322999871], \"yaxis\": \"y\", \"type\": \"scatter\"}, {\"hoverlabel\": {\"namelength\": 0}, \"hovertemplate\": \"<b>%{hovertext}</b><br><br>Type=Exchange<br>time=2021-05-10<br>TxTfrValAdjUSD=%{x}<br>PriceUSD=%{y}<br>CapMrktCurUSD=%{marker.size}\", \"hovertext\": [\"UNI\", \"BAL\", \"SUSHI\"], \"ids\": [\"UNI\", \"BAL\", \"SUSHI\"], \"legendgroup\": \"Type=Exchange\", \"marker\": {\"color\": \"#EF553B\", \"size\": [36486478467.7345, 2599129991.951791, 3036521062.226601], \"sizemode\": \"area\", \"sizeref\": 108857792.39419726, \"symbol\": \"circle\"}, \"mode\": \"markers\", \"name\": \"Type=Exchange\", \"showlegend\": true, \"x\": [251144742.83307692, 60136942.156451955, 313672719.5623421], \"xaxis\": \"x2\", \"y\": [36.4864784677345, 61.943040799613705, 13.8486554942886], \"yaxis\": \"y2\", \"type\": \"scatter\"}], \"name\": \"2021-05-10\"}, {\"data\": [{\"hoverlabel\": {\"namelength\": 0}, \"hovertemplate\": \"<b>%{hovertext}</b><br><br>Type=Lending<br>time=2021-05-11<br>TxTfrValAdjUSD=%{x}<br>PriceUSD=%{y}<br>CapMrktCurUSD=%{marker.size}\", \"hovertext\": [\"COMP\", \"AAVE\", \"MKR\"], \"ids\": [\"COMP\", \"AAVE\", \"MKR\"], \"legendgroup\": \"Type=Lending\", \"marker\": {\"color\": \"#636efa\", \"size\": [8591713536.81662, 7322346163.518831, 5322883605.206962], \"sizemode\": \"area\", \"sizeref\": 108857792.39419726, \"symbol\": \"circle\"}, \"mode\": \"markers\", \"name\": \"Type=Lending\", \"showlegend\": true, \"x\": [334294106.2868107, 94336583.99236748, 72084231.10604742], \"xaxis\": \"x\", \"y\": [859.171353681662, 457.64663521992696, 5350.608885272721], \"yaxis\": \"y\", \"type\": \"scatter\"}, {\"hoverlabel\": {\"namelength\": 0}, \"hovertemplate\": \"<b>%{hovertext}</b><br><br>Type=Exchange<br>time=2021-05-11<br>TxTfrValAdjUSD=%{x}<br>PriceUSD=%{y}<br>CapMrktCurUSD=%{marker.size}\", \"hovertext\": [\"UNI\", \"BAL\", \"SUSHI\"], \"ids\": [\"UNI\", \"BAL\", \"SUSHI\"], \"legendgroup\": \"Type=Exchange\", \"marker\": {\"color\": \"#EF553B\", \"size\": [38418074527.9483, 2962708615.514941, 3327839881.4211226], \"sizemode\": \"area\", \"sizeref\": 108857792.39419726, \"symbol\": \"circle\"}, \"mode\": \"markers\", \"name\": \"Type=Exchange\", \"showlegend\": true, \"x\": [131199806.44209008, 82606072.85919106, 145338858.76168728], \"xaxis\": \"x2\", \"y\": [38.4180745279483, 70.3647693982886, 15.1678331502116], \"yaxis\": \"y2\", \"type\": \"scatter\"}], \"name\": \"2021-05-11\"}, {\"data\": [{\"hoverlabel\": {\"namelength\": 0}, \"hovertemplate\": \"<b>%{hovertext}</b><br><br>Type=Lending<br>time=2021-05-12<br>TxTfrValAdjUSD=%{x}<br>PriceUSD=%{y}<br>CapMrktCurUSD=%{marker.size}\", \"hovertext\": [\"COMP\", \"AAVE\", \"MKR\"], \"ids\": [\"COMP\", \"AAVE\", \"MKR\"], \"legendgroup\": \"Type=Lending\", \"marker\": {\"color\": \"#636efa\", \"size\": [7655249117.18525, 8618346176.596912, 5115507906.03939], \"sizemode\": \"area\", \"sizeref\": 108857792.39419726, \"symbol\": \"circle\"}, \"mode\": \"markers\", \"name\": \"Type=Lending\", \"showlegend\": true, \"x\": [295118529.8164269, 594963556.0638565, 186182227.4444672], \"xaxis\": \"x\", \"y\": [765.5249117185249, 538.646636037307, 5142.378632002999], \"yaxis\": \"y\", \"type\": \"scatter\"}, {\"hoverlabel\": {\"namelength\": 0}, \"hovertemplate\": \"<b>%{hovertext}</b><br><br>Type=Exchange<br>time=2021-05-12<br>TxTfrValAdjUSD=%{x}<br>PriceUSD=%{y}<br>CapMrktCurUSD=%{marker.size}\", \"hovertext\": [\"UNI\", \"BAL\", \"SUSHI\"], \"ids\": [\"UNI\", \"BAL\", \"SUSHI\"], \"legendgroup\": \"Type=Exchange\", \"marker\": {\"color\": \"#EF553B\", \"size\": [38308461707.9714, 2742791419.8546276, 3510884874.833429], \"sizemode\": \"area\", \"sizeref\": 108857792.39419726, \"symbol\": \"circle\"}, \"mode\": \"markers\", \"name\": \"Type=Exchange\", \"showlegend\": true, \"x\": [446161653.6751484, 72190262.05952927, 449809909.8266606], \"xaxis\": \"x2\", \"y\": [38.3084617079714, 65.14170335719339, 15.9911552032871], \"yaxis\": \"y2\", \"type\": \"scatter\"}], \"name\": \"2021-05-12\"}, {\"data\": [{\"hoverlabel\": {\"namelength\": 0}, \"hovertemplate\": \"<b>%{hovertext}</b><br><br>Type=Lending<br>time=2021-05-13<br>TxTfrValAdjUSD=%{x}<br>PriceUSD=%{y}<br>CapMrktCurUSD=%{marker.size}\", \"hovertext\": [\"COMP\", \"AAVE\", \"MKR\"], \"ids\": [\"COMP\", \"AAVE\", \"MKR\"], \"legendgroup\": \"Type=Lending\", \"marker\": {\"color\": \"#636efa\", \"size\": [7589605984.293409, 8075707996.196336, 4688590978.963295], \"sizemode\": \"area\", \"sizeref\": 108857792.39419726, \"symbol\": \"circle\"}, \"mode\": \"markers\", \"name\": \"Type=Lending\", \"showlegend\": true, \"x\": [218032330.67389056, 456176615.4500231, 132955580.5198713], \"xaxis\": \"x\", \"y\": [758.960598429341, 504.73174976227097, 4713.79103141733], \"yaxis\": \"y\", \"type\": \"scatter\"}, {\"hoverlabel\": {\"namelength\": 0}, \"hovertemplate\": \"<b>%{hovertext}</b><br><br>Type=Exchange<br>time=2021-05-13<br>TxTfrValAdjUSD=%{x}<br>PriceUSD=%{y}<br>CapMrktCurUSD=%{marker.size}\", \"hovertext\": [\"UNI\", \"BAL\", \"SUSHI\"], \"ids\": [\"UNI\", \"BAL\", \"SUSHI\"], \"legendgroup\": \"Type=Exchange\", \"marker\": {\"color\": \"#EF553B\", \"size\": [36916651257.6582, 2493768348.365828, 3212201833.887646], \"sizemode\": \"area\", \"sizeref\": 108857792.39419726, \"symbol\": \"circle\"}, \"mode\": \"markers\", \"name\": \"Type=Exchange\", \"showlegend\": true, \"x\": [465932526.43552285, 56810699.408243604, 341595417.4590751], \"xaxis\": \"x2\", \"y\": [36.9166512576582, 59.2273684447412, 14.6189757903813], \"yaxis\": \"y2\", \"type\": \"scatter\"}], \"name\": \"2021-05-13\"}, {\"data\": [{\"hoverlabel\": {\"namelength\": 0}, \"hovertemplate\": \"<b>%{hovertext}</b><br><br>Type=Lending<br>time=2021-05-14<br>TxTfrValAdjUSD=%{x}<br>PriceUSD=%{y}<br>CapMrktCurUSD=%{marker.size}\", \"hovertext\": [\"COMP\", \"AAVE\", \"MKR\"], \"ids\": [\"COMP\", \"AAVE\", \"MKR\"], \"legendgroup\": \"Type=Lending\", \"marker\": {\"color\": \"#636efa\", \"size\": [7775412742.24505, 9564491589.21296, 4991470513.787316], \"sizemode\": \"area\", \"sizeref\": 108857792.39419726, \"symbol\": \"circle\"}, \"mode\": \"markers\", \"name\": \"Type=Lending\", \"showlegend\": true, \"x\": [119931998.01622124, 502061060.1943973, 58362839.403119504], \"xaxis\": \"x\", \"y\": [777.5412742245051, 597.78072432581, 5018.60896266038], \"yaxis\": \"y\", \"type\": \"scatter\"}, {\"hoverlabel\": {\"namelength\": 0}, \"hovertemplate\": \"<b>%{hovertext}</b><br><br>Type=Exchange<br>time=2021-05-14<br>TxTfrValAdjUSD=%{x}<br>PriceUSD=%{y}<br>CapMrktCurUSD=%{marker.size}\", \"hovertext\": [\"UNI\", \"BAL\", \"SUSHI\"], \"ids\": [\"UNI\", \"BAL\", \"SUSHI\"], \"legendgroup\": \"Type=Exchange\", \"marker\": {\"color\": \"#EF553B\", \"size\": [40349725497.8538, 2673307931.0092025, 4096389067.851905], \"sizemode\": \"area\", \"sizeref\": 108857792.39419726, \"symbol\": \"circle\"}, \"mode\": \"markers\", \"name\": \"Type=Exchange\", \"showlegend\": true, \"x\": [152307729.9892951, 28366439.126562193, 521756855.65394616], \"xaxis\": \"x2\", \"y\": [40.3497254978538, 63.4914601830947, 18.6318857068618], \"yaxis\": \"y2\", \"type\": \"scatter\"}], \"name\": \"2021-05-14\"}, {\"data\": [{\"hoverlabel\": {\"namelength\": 0}, \"hovertemplate\": \"<b>%{hovertext}</b><br><br>Type=Lending<br>time=2021-05-15<br>TxTfrValAdjUSD=%{x}<br>PriceUSD=%{y}<br>CapMrktCurUSD=%{marker.size}\", \"hovertext\": [\"COMP\", \"AAVE\", \"MKR\"], \"ids\": [\"COMP\", \"AAVE\", \"MKR\"], \"legendgroup\": \"Type=Lending\", \"marker\": {\"color\": \"#636efa\", \"size\": [6931276869.16605, 8322698999.42128, 4595439475.810664], \"sizemode\": \"area\", \"sizeref\": 108857792.39419726, \"symbol\": \"circle\"}, \"mode\": \"markers\", \"name\": \"Type=Lending\", \"showlegend\": true, \"x\": [40562365.47944792, 260667164.83270437, 53627361.81790479], \"xaxis\": \"x\", \"y\": [693.1276869166051, 520.16868746383, 4620.56402176586], \"yaxis\": \"y\", \"type\": \"scatter\"}, {\"hoverlabel\": {\"namelength\": 0}, \"hovertemplate\": \"<b>%{hovertext}</b><br><br>Type=Exchange<br>time=2021-05-15<br>TxTfrValAdjUSD=%{x}<br>PriceUSD=%{y}<br>CapMrktCurUSD=%{marker.size}\", \"hovertext\": [\"UNI\", \"BAL\", \"SUSHI\"], \"ids\": [\"UNI\", \"BAL\", \"SUSHI\"], \"legendgroup\": \"Type=Exchange\", \"marker\": {\"color\": \"#EF553B\", \"size\": [36799022819.7022, 2382029718.2255707, 3590362409.763664], \"sizemode\": \"area\", \"sizeref\": 108857792.39419726, \"symbol\": \"circle\"}, \"mode\": \"markers\", \"name\": \"Type=Exchange\", \"showlegend\": true, \"x\": [228534754.6903516, 20142781.60753977, 240417985.64688194], \"xaxis\": \"x2\", \"y\": [36.7990228197022, 56.5735593926035, 16.319783986757], \"yaxis\": \"y2\", \"type\": \"scatter\"}], \"name\": \"2021-05-15\"}, {\"data\": [{\"hoverlabel\": {\"namelength\": 0}, \"hovertemplate\": \"<b>%{hovertext}</b><br><br>Type=Lending<br>time=2021-05-16<br>TxTfrValAdjUSD=%{x}<br>PriceUSD=%{y}<br>CapMrktCurUSD=%{marker.size}\", \"hovertext\": [\"COMP\", \"AAVE\", \"MKR\"], \"ids\": [\"COMP\", \"AAVE\", \"MKR\"], \"legendgroup\": \"Type=Lending\", \"marker\": {\"color\": \"#636efa\", \"size\": [6834257756.735189, 8339890929.357679, 4501184956.548838], \"sizemode\": \"area\", \"sizeref\": 108857792.39419726, \"symbol\": \"circle\"}, \"mode\": \"markers\", \"name\": \"Type=Lending\", \"showlegend\": true, \"x\": [47687883.35218603, 294036169.5180048, 36337540.42178848], \"xaxis\": \"x\", \"y\": [683.425775673519, 521.243183084855, 4525.9920760474], \"yaxis\": \"y\", \"type\": \"scatter\"}, {\"hoverlabel\": {\"namelength\": 0}, \"hovertemplate\": \"<b>%{hovertext}</b><br><br>Type=Exchange<br>time=2021-05-16<br>TxTfrValAdjUSD=%{x}<br>PriceUSD=%{y}<br>CapMrktCurUSD=%{marker.size}\", \"hovertext\": [\"UNI\", \"BAL\", \"SUSHI\"], \"ids\": [\"UNI\", \"BAL\", \"SUSHI\"], \"legendgroup\": \"Type=Exchange\", \"marker\": {\"color\": \"#EF553B\", \"size\": [36379291980.2165, 2273297040.753052, 3612209758.6336074], \"sizemode\": \"area\", \"sizeref\": 108857792.39419726, \"symbol\": \"circle\"}, \"mode\": \"markers\", \"name\": \"Type=Exchange\", \"showlegend\": true, \"x\": [271663416.4391215, 16690757.362297734, 268639619.35041165], \"xaxis\": \"x2\", \"y\": [36.3792919802165, 53.991142162523495, 16.4090042024627], \"yaxis\": \"y2\", \"type\": \"scatter\"}], \"name\": \"2021-05-16\"}, {\"data\": [{\"hoverlabel\": {\"namelength\": 0}, \"hovertemplate\": \"<b>%{hovertext}</b><br><br>Type=Lending<br>time=2021-05-17<br>TxTfrValAdjUSD=%{x}<br>PriceUSD=%{y}<br>CapMrktCurUSD=%{marker.size}\", \"hovertext\": [\"COMP\", \"AAVE\", \"MKR\"], \"ids\": [\"COMP\", \"AAVE\", \"MKR\"], \"legendgroup\": \"Type=Lending\", \"marker\": {\"color\": \"#636efa\", \"size\": [6963835724.36861, 9211603508.458158, 4236150008.7949567], \"sizemode\": \"area\", \"sizeref\": 108857792.39419726, \"symbol\": \"circle\"}, \"mode\": \"markers\", \"name\": \"Type=Lending\", \"showlegend\": true, \"x\": [96757728.08591565, 488624788.6285995, 80778283.62563212], \"xaxis\": \"x\", \"y\": [696.383572436861, 575.725219278635, 4260.00434826157], \"yaxis\": \"y\", \"type\": \"scatter\"}, {\"hoverlabel\": {\"namelength\": 0}, \"hovertemplate\": \"<b>%{hovertext}</b><br><br>Type=Exchange<br>time=2021-05-17<br>TxTfrValAdjUSD=%{x}<br>PriceUSD=%{y}<br>CapMrktCurUSD=%{marker.size}\", \"hovertext\": [\"UNI\", \"BAL\", \"SUSHI\"], \"ids\": [\"UNI\", \"BAL\", \"SUSHI\"], \"legendgroup\": \"Type=Exchange\", \"marker\": {\"color\": \"#EF553B\", \"size\": [33324143441.5512, 2048558127.184201, 3568454582.9910583], \"sizemode\": \"area\", \"sizeref\": 108857792.39419726, \"symbol\": \"circle\"}, \"mode\": \"markers\", \"name\": \"Type=Exchange\", \"showlegend\": true, \"x\": [470939257.8703631, 39585682.85717518, 300959233.7952964], \"xaxis\": \"x2\", \"y\": [33.3241434415512, 48.653559605372294, 16.1986768332041], \"yaxis\": \"y2\", \"type\": \"scatter\"}], \"name\": \"2021-05-17\"}, {\"data\": [{\"hoverlabel\": {\"namelength\": 0}, \"hovertemplate\": \"<b>%{hovertext}</b><br><br>Type=Lending<br>time=2021-05-18<br>TxTfrValAdjUSD=%{x}<br>PriceUSD=%{y}<br>CapMrktCurUSD=%{marker.size}\", \"hovertext\": [\"COMP\", \"AAVE\", \"MKR\"], \"ids\": [\"COMP\", \"AAVE\", \"MKR\"], \"legendgroup\": \"Type=Lending\", \"marker\": {\"color\": \"#636efa\", \"size\": [6641355815.74238, 10034800568.987808, 4618342815.939838], \"sizemode\": \"area\", \"sizeref\": 108857792.39419726, \"symbol\": \"circle\"}, \"mode\": \"markers\", \"name\": \"Type=Lending\", \"showlegend\": true, \"x\": [98720660.07835953, 675602148.709877, 224842166.55883935], \"xaxis\": \"x\", \"y\": [664.135581574238, 627.175035561738, 4644.40620021073], \"yaxis\": \"y\", \"type\": \"scatter\"}, {\"hoverlabel\": {\"namelength\": 0}, \"hovertemplate\": \"<b>%{hovertext}</b><br><br>Type=Exchange<br>time=2021-05-18<br>TxTfrValAdjUSD=%{x}<br>PriceUSD=%{y}<br>CapMrktCurUSD=%{marker.size}\", \"hovertext\": [\"UNI\", \"BAL\", \"SUSHI\"], \"ids\": [\"UNI\", \"BAL\", \"SUSHI\"], \"legendgroup\": \"Type=Exchange\", \"marker\": {\"color\": \"#EF553B\", \"size\": [34868156188.772995, 2096663154.057324, 4679680007.938859], \"sizemode\": \"area\", \"sizeref\": 108857792.39419726, \"symbol\": \"circle\"}, \"mode\": \"markers\", \"name\": \"Type=Exchange\", \"showlegend\": true, \"x\": [210376376.69120583, 54070599.486967936, 774924202.2274224], \"xaxis\": \"x2\", \"y\": [34.868156188773, 49.6251634096408, 21.229879849941398], \"yaxis\": \"y2\", \"type\": \"scatter\"}], \"name\": \"2021-05-18\"}, {\"data\": [{\"hoverlabel\": {\"namelength\": 0}, \"hovertemplate\": \"<b>%{hovertext}</b><br><br>Type=Lending<br>time=2021-05-19<br>TxTfrValAdjUSD=%{x}<br>PriceUSD=%{y}<br>CapMrktCurUSD=%{marker.size}\", \"hovertext\": [\"COMP\", \"AAVE\", \"MKR\"], \"ids\": [\"COMP\", \"AAVE\", \"MKR\"], \"legendgroup\": \"Type=Lending\", \"marker\": {\"color\": \"#636efa\", \"size\": [4932992095.1508, 6919270742.695712, 3582443148.6195908], \"sizemode\": \"area\", \"sizeref\": 108857792.39419726, \"symbol\": \"circle\"}, \"mode\": \"markers\", \"name\": \"Type=Lending\", \"showlegend\": true, \"x\": [125547524.35017353, 443906028.34117407, 268966535.9268837], \"xaxis\": \"x\", \"y\": [493.29920951507995, 432.45442141848196, 3604.2808336353005], \"yaxis\": \"y\", \"type\": \"scatter\"}, {\"hoverlabel\": {\"namelength\": 0}, \"hovertemplate\": \"<b>%{hovertext}</b><br><br>Type=Exchange<br>time=2021-05-19<br>TxTfrValAdjUSD=%{x}<br>PriceUSD=%{y}<br>CapMrktCurUSD=%{marker.size}\", \"hovertext\": [\"UNI\", \"BAL\", \"SUSHI\"], \"ids\": [\"UNI\", \"BAL\", \"SUSHI\"], \"legendgroup\": \"Type=Exchange\", \"marker\": {\"color\": \"#EF553B\", \"size\": [24453693608.872997, 1484275476.4240243, 3045207264.531654], \"sizemode\": \"area\", \"sizeref\": 108857792.39419726, \"symbol\": \"circle\"}, \"mode\": \"markers\", \"name\": \"Type=Exchange\", \"showlegend\": true, \"x\": [475885992.563932, 59923400.4058856, 494803886.97109586], \"xaxis\": \"x2\", \"y\": [24.453693608873, 35.130780507077496, 13.806909971661902], \"yaxis\": \"y2\", \"type\": \"scatter\"}], \"name\": \"2021-05-19\"}, {\"data\": [{\"hoverlabel\": {\"namelength\": 0}, \"hovertemplate\": \"<b>%{hovertext}</b><br><br>Type=Lending<br>time=2021-05-20<br>TxTfrValAdjUSD=%{x}<br>PriceUSD=%{y}<br>CapMrktCurUSD=%{marker.size}\", \"hovertext\": [\"COMP\", \"AAVE\", \"MKR\"], \"ids\": [\"COMP\", \"AAVE\", \"MKR\"], \"legendgroup\": \"Type=Lending\", \"marker\": {\"color\": \"#636efa\", \"size\": [5472776575.10258, 7525886593.44496, 3919231745.5263844], \"sizemode\": \"area\", \"sizeref\": 108857792.39419726, \"symbol\": \"circle\"}, \"mode\": \"markers\", \"name\": \"Type=Lending\", \"showlegend\": true, \"x\": [145958878.96818918, 440335755.8305813, 127414041.44061494], \"xaxis\": \"x\", \"y\": [547.277657510258, 470.36791209030997, 3946.5421086710603], \"yaxis\": \"y\", \"type\": \"scatter\"}, {\"hoverlabel\": {\"namelength\": 0}, \"hovertemplate\": \"<b>%{hovertext}</b><br><br>Type=Exchange<br>time=2021-05-20<br>TxTfrValAdjUSD=%{x}<br>PriceUSD=%{y}<br>CapMrktCurUSD=%{marker.size}\", \"hovertext\": [\"UNI\", \"BAL\", \"SUSHI\"], \"ids\": [\"UNI\", \"BAL\", \"SUSHI\"], \"legendgroup\": \"Type=Exchange\", \"marker\": {\"color\": \"#EF553B\", \"size\": [26473677127.753998, 1623503195.1726563, 3330428976.737098], \"sizemode\": \"area\", \"sizeref\": 108857792.39419726, \"symbol\": \"circle\"}, \"mode\": \"markers\", \"name\": \"Type=Exchange\", \"showlegend\": true, \"x\": [396084098.4394019, 36985070.10678536, 496325243.24418813], \"xaxis\": \"x2\", \"y\": [26.473677127754, 38.426111128346896, 15.0896578087217], \"yaxis\": \"y2\", \"type\": \"scatter\"}], \"name\": \"2021-05-20\"}, {\"data\": [{\"hoverlabel\": {\"namelength\": 0}, \"hovertemplate\": \"<b>%{hovertext}</b><br><br>Type=Lending<br>time=2021-05-21<br>TxTfrValAdjUSD=%{x}<br>PriceUSD=%{y}<br>CapMrktCurUSD=%{marker.size}\", \"hovertext\": [\"COMP\", \"AAVE\", \"MKR\"], \"ids\": [\"COMP\", \"AAVE\", \"MKR\"], \"legendgroup\": \"Type=Lending\", \"marker\": {\"color\": \"#636efa\", \"size\": [4449217948.542089, 5921204357.510352, 3057349577.6968513], \"sizemode\": \"area\", \"sizeref\": 108857792.39419726, \"symbol\": \"circle\"}, \"mode\": \"markers\", \"name\": \"Type=Lending\", \"showlegend\": true, \"x\": [127980149.87777233, 333264654.52494514, 83973729.13385445], \"xaxis\": \"x\", \"y\": [444.921794854209, 370.075272344397, 3079.42089596736], \"yaxis\": \"y\", \"type\": \"scatter\"}, {\"hoverlabel\": {\"namelength\": 0}, \"hovertemplate\": \"<b>%{hovertext}</b><br><br>Type=Exchange<br>time=2021-05-21<br>TxTfrValAdjUSD=%{x}<br>PriceUSD=%{y}<br>CapMrktCurUSD=%{marker.size}\", \"hovertext\": [\"UNI\", \"BAL\", \"SUSHI\"], \"ids\": [\"UNI\", \"BAL\", \"SUSHI\"], \"legendgroup\": \"Type=Exchange\", \"marker\": {\"color\": \"#EF553B\", \"size\": [21735949782.7789, 1376652879.8108046, 2759978567.6548104], \"sizemode\": \"area\", \"sizeref\": 108857792.39419726, \"symbol\": \"circle\"}, \"mode\": \"markers\", \"name\": \"Type=Exchange\", \"showlegend\": true, \"x\": [484070787.11453, 29661661.92978295, 335471406.9895336], \"xaxis\": \"x2\", \"y\": [21.735949782778896, 32.5835001138652, 12.4970554191276], \"yaxis\": \"y2\", \"type\": \"scatter\"}], \"name\": \"2021-05-21\"}, {\"data\": [{\"hoverlabel\": {\"namelength\": 0}, \"hovertemplate\": \"<b>%{hovertext}</b><br><br>Type=Lending<br>time=2021-05-22<br>TxTfrValAdjUSD=%{x}<br>PriceUSD=%{y}<br>CapMrktCurUSD=%{marker.size}\", \"hovertext\": [\"COMP\", \"AAVE\", \"MKR\"], \"ids\": [\"COMP\", \"AAVE\", \"MKR\"], \"legendgroup\": \"Type=Lending\", \"marker\": {\"color\": \"#636efa\", \"size\": [3897855245.3375897, 5433126620.211952, 2784292987.3448324], \"sizemode\": \"area\", \"sizeref\": 108857792.39419726, \"symbol\": \"circle\"}, \"mode\": \"markers\", \"name\": \"Type=Lending\", \"showlegend\": true, \"x\": [66296155.677576415, 276727166.8902059, 132922103.40067184], \"xaxis\": \"x\", \"y\": [389.78552453375903, 339.570413763247, 2804.9618065132], \"yaxis\": \"y\", \"type\": \"scatter\"}, {\"hoverlabel\": {\"namelength\": 0}, \"hovertemplate\": \"<b>%{hovertext}</b><br><br>Type=Exchange<br>time=2021-05-22<br>TxTfrValAdjUSD=%{x}<br>PriceUSD=%{y}<br>CapMrktCurUSD=%{marker.size}\", \"hovertext\": [\"UNI\", \"BAL\", \"SUSHI\"], \"ids\": [\"UNI\", \"BAL\", \"SUSHI\"], \"legendgroup\": \"Type=Exchange\", \"marker\": {\"color\": \"#EF553B\", \"size\": [20618961075.4481, 1277629799.0790913, 2469010580.4450593], \"sizemode\": \"area\", \"sizeref\": 108857792.39419726, \"symbol\": \"circle\"}, \"mode\": \"markers\", \"name\": \"Type=Exchange\", \"showlegend\": true, \"x\": [309985627.30283105, 13879424.862638561, 371210642.6010902], \"xaxis\": \"x2\", \"y\": [20.6189610754481, 30.239758558084997, 11.1723379607252], \"yaxis\": \"y2\", \"type\": \"scatter\"}], \"name\": \"2021-05-22\"}, {\"data\": [{\"hoverlabel\": {\"namelength\": 0}, \"hovertemplate\": \"<b>%{hovertext}</b><br><br>Type=Lending<br>time=2021-05-23<br>TxTfrValAdjUSD=%{x}<br>PriceUSD=%{y}<br>CapMrktCurUSD=%{marker.size}\", \"hovertext\": [\"COMP\", \"AAVE\", \"MKR\"], \"ids\": [\"COMP\", \"AAVE\", \"MKR\"], \"legendgroup\": \"Type=Lending\", \"marker\": {\"color\": \"#636efa\", \"size\": [3419646291.03121, 4696722085.042832, 2715661359.551178], \"sizemode\": \"area\", \"sizeref\": 108857792.39419726, \"symbol\": \"circle\"}, \"mode\": \"markers\", \"name\": \"Type=Lending\", \"showlegend\": true, \"x\": [56376834.21431973, 315716057.34338516, 222065635.9025793], \"xaxis\": \"x\", \"y\": [341.964629103121, 293.545130315177, 2738.39294799108], \"yaxis\": \"y\", \"type\": \"scatter\"}, {\"hoverlabel\": {\"namelength\": 0}, \"hovertemplate\": \"<b>%{hovertext}</b><br><br>Type=Exchange<br>time=2021-05-23<br>TxTfrValAdjUSD=%{x}<br>PriceUSD=%{y}<br>CapMrktCurUSD=%{marker.size}\", \"hovertext\": [\"UNI\", \"BAL\", \"SUSHI\"], \"ids\": [\"UNI\", \"BAL\", \"SUSHI\"], \"legendgroup\": \"Type=Exchange\", \"marker\": {\"color\": \"#EF553B\", \"size\": [16861020374.9547, 1080915390.3820434, 1979003560.261405], \"sizemode\": \"area\", \"sizeref\": 108857792.39419726, \"symbol\": \"circle\"}, \"mode\": \"markers\", \"name\": \"Type=Exchange\", \"showlegend\": true, \"x\": [384541635.4957301, 27810188.636467293, 603399185.6043884], \"xaxis\": \"x2\", \"y\": [16.8610203749547, 25.583796222060197, 8.949642948122081], \"yaxis\": \"y2\", \"type\": \"scatter\"}], \"name\": \"2021-05-23\"}, {\"data\": [{\"hoverlabel\": {\"namelength\": 0}, \"hovertemplate\": \"<b>%{hovertext}</b><br><br>Type=Lending<br>time=2021-05-24<br>TxTfrValAdjUSD=%{x}<br>PriceUSD=%{y}<br>CapMrktCurUSD=%{marker.size}\", \"hovertext\": [\"COMP\", \"AAVE\", \"MKR\"], \"ids\": [\"COMP\", \"AAVE\", \"MKR\"], \"legendgroup\": \"Type=Lending\", \"marker\": {\"color\": \"#636efa\", \"size\": [4207805601.06045, 6143662722.530496, 4120868381.575271], \"sizemode\": \"area\", \"sizeref\": 108857792.39419726, \"symbol\": \"circle\"}, \"mode\": \"markers\", \"name\": \"Type=Lending\", \"showlegend\": true, \"x\": [52040687.86719016, 394913535.6981019, 426545411.11637825], \"xaxis\": \"x\", \"y\": [420.780560106045, 383.978920158156, 4155.966804868321], \"yaxis\": \"y\", \"type\": \"scatter\"}, {\"hoverlabel\": {\"namelength\": 0}, \"hovertemplate\": \"<b>%{hovertext}</b><br><br>Type=Exchange<br>time=2021-05-24<br>TxTfrValAdjUSD=%{x}<br>PriceUSD=%{y}<br>CapMrktCurUSD=%{marker.size}\", \"hovertext\": [\"UNI\", \"BAL\", \"SUSHI\"], \"ids\": [\"UNI\", \"BAL\", \"SUSHI\"], \"legendgroup\": \"Type=Exchange\", \"marker\": {\"color\": \"#EF553B\", \"size\": [24607000605.3625, 1333908202.1584034, 2630905625.9073787], \"sizemode\": \"area\", \"sizeref\": 108857792.39419726, \"symbol\": \"circle\"}, \"mode\": \"markers\", \"name\": \"Type=Exchange\", \"showlegend\": true, \"x\": [284556551.8396621, 48955344.71224505, 445188950.97222686], \"xaxis\": \"x2\", \"y\": [24.6070006053625, 31.571791767062802, 11.8898215293636], \"yaxis\": \"y2\", \"type\": \"scatter\"}], \"name\": \"2021-05-24\"}, {\"data\": [{\"hoverlabel\": {\"namelength\": 0}, \"hovertemplate\": \"<b>%{hovertext}</b><br><br>Type=Lending<br>time=2021-05-25<br>TxTfrValAdjUSD=%{x}<br>PriceUSD=%{y}<br>CapMrktCurUSD=%{marker.size}\", \"hovertext\": [\"COMP\", \"AAVE\", \"MKR\"], \"ids\": [\"COMP\", \"AAVE\", \"MKR\"], \"legendgroup\": \"Type=Lending\", \"marker\": {\"color\": \"#636efa\", \"size\": [4236534363.6187897, 5994085930.722879, 3833501089.2476263], \"sizemode\": \"area\", \"sizeref\": 108857792.39419726, \"symbol\": \"circle\"}, \"mode\": \"markers\", \"name\": \"Type=Lending\", \"showlegend\": true, \"x\": [128090323.57198372, 247903853.59821334, 247541922.71737227], \"xaxis\": \"x\", \"y\": [423.65343636187896, 374.63037067017996, 3866.1779720403297], \"yaxis\": \"y\", \"type\": \"scatter\"}, {\"hoverlabel\": {\"namelength\": 0}, \"hovertemplate\": \"<b>%{hovertext}</b><br><br>Type=Exchange<br>time=2021-05-25<br>TxTfrValAdjUSD=%{x}<br>PriceUSD=%{y}<br>CapMrktCurUSD=%{marker.size}\", \"hovertext\": [\"UNI\", \"BAL\", \"SUSHI\"], \"ids\": [\"UNI\", \"BAL\", \"SUSHI\"], \"legendgroup\": \"Type=Exchange\", \"marker\": {\"color\": \"#EF553B\", \"size\": [25247239237.8303, 1345529165.5378006, 2683440479.378886], \"sizemode\": \"area\", \"sizeref\": 108857792.39419726, \"symbol\": \"circle\"}, \"mode\": \"markers\", \"name\": \"Type=Exchange\", \"showlegend\": true, \"x\": [263983039.02169478, 23768965.952283707, 332860390.25948215], \"xaxis\": \"x2\", \"y\": [25.2472392378303, 31.7379211118717, 12.1198286668235], \"yaxis\": \"y2\", \"type\": \"scatter\"}], \"name\": \"2021-05-25\"}, {\"data\": [{\"hoverlabel\": {\"namelength\": 0}, \"hovertemplate\": \"<b>%{hovertext}</b><br><br>Type=Lending<br>time=2021-05-26<br>TxTfrValAdjUSD=%{x}<br>PriceUSD=%{y}<br>CapMrktCurUSD=%{marker.size}\", \"hovertext\": [\"COMP\", \"AAVE\", \"MKR\"], \"ids\": [\"COMP\", \"AAVE\", \"MKR\"], \"legendgroup\": \"Type=Lending\", \"marker\": {\"color\": \"#636efa\", \"size\": [4602033769.08107, 6515872655.53176, 3891991114.4538608], \"sizemode\": \"area\", \"sizeref\": 108857792.39419726, \"symbol\": \"circle\"}, \"mode\": \"markers\", \"name\": \"Type=Lending\", \"showlegend\": true, \"x\": [146875260.39944187, 247058625.5656813, 116567279.74449754], \"xaxis\": \"x\", \"y\": [460.203376908107, 407.242040970735, 3925.3177202798297], \"yaxis\": \"y\", \"type\": \"scatter\"}, {\"hoverlabel\": {\"namelength\": 0}, \"hovertemplate\": \"<b>%{hovertext}</b><br><br>Type=Exchange<br>time=2021-05-26<br>TxTfrValAdjUSD=%{x}<br>PriceUSD=%{y}<br>CapMrktCurUSD=%{marker.size}\", \"hovertext\": [\"UNI\", \"BAL\", \"SUSHI\"], \"ids\": [\"UNI\", \"BAL\", \"SUSHI\"], \"legendgroup\": \"Type=Exchange\", \"marker\": {\"color\": \"#EF553B\", \"size\": [29056516044.8918, 1426191328.2800155, 2936555817.4133654], \"sizemode\": \"area\", \"sizeref\": 108857792.39419726, \"symbol\": \"circle\"}, \"mode\": \"markers\", \"name\": \"Type=Exchange\", \"showlegend\": true, \"x\": [238118448.56884304, 15424253.394735781, 291555221.8580945], \"xaxis\": \"x2\", \"y\": [29.0565160448918, 33.640554977709996, 13.254460192904801], \"yaxis\": \"y2\", \"type\": \"scatter\"}], \"name\": \"2021-05-26\"}, {\"data\": [{\"hoverlabel\": {\"namelength\": 0}, \"hovertemplate\": \"<b>%{hovertext}</b><br><br>Type=Lending<br>time=2021-05-27<br>TxTfrValAdjUSD=%{x}<br>PriceUSD=%{y}<br>CapMrktCurUSD=%{marker.size}\", \"hovertext\": [\"COMP\", \"AAVE\", \"MKR\"], \"ids\": [\"COMP\", \"AAVE\", \"MKR\"], \"legendgroup\": \"Type=Lending\", \"marker\": {\"color\": \"#636efa\", \"size\": [4223499161.5376, 5972453613.409872, 3685214996.370708], \"sizemode\": \"area\", \"sizeref\": 108857792.39419726, \"symbol\": \"circle\"}, \"mode\": \"markers\", \"name\": \"Type=Lending\", \"showlegend\": true, \"x\": [80014333.77286248, 278315697.897975, 60817092.67732808], \"xaxis\": \"x\", \"y\": [422.34991615376, 373.278350838117, 3716.7710056102705], \"yaxis\": \"y\", \"type\": \"scatter\"}, {\"hoverlabel\": {\"namelength\": 0}, \"hovertemplate\": \"<b>%{hovertext}</b><br><br>Type=Exchange<br>time=2021-05-27<br>TxTfrValAdjUSD=%{x}<br>PriceUSD=%{y}<br>CapMrktCurUSD=%{marker.size}\", \"hovertext\": [\"UNI\", \"BAL\", \"SUSHI\"], \"ids\": [\"UNI\", \"BAL\", \"SUSHI\"], \"legendgroup\": \"Type=Exchange\", \"marker\": {\"color\": \"#EF553B\", \"size\": [28449642908.9614, 1342480063.8990119, 2680746166.339643], \"sizemode\": \"area\", \"sizeref\": 108857792.39419726, \"symbol\": \"circle\"}, \"mode\": \"markers\", \"name\": \"Type=Exchange\", \"showlegend\": true, \"x\": [364118714.33921206, 11910680.357256979, 181405190.60028672], \"xaxis\": \"x2\", \"y\": [28.449642908961398, 31.6659998560918, 12.0921430484954], \"yaxis\": \"y2\", \"type\": \"scatter\"}], \"name\": \"2021-05-27\"}, {\"data\": [{\"hoverlabel\": {\"namelength\": 0}, \"hovertemplate\": \"<b>%{hovertext}</b><br><br>Type=Lending<br>time=2021-05-28<br>TxTfrValAdjUSD=%{x}<br>PriceUSD=%{y}<br>CapMrktCurUSD=%{marker.size}\", \"hovertext\": [\"COMP\", \"AAVE\", \"MKR\"], \"ids\": [\"COMP\", \"AAVE\", \"MKR\"], \"legendgroup\": \"Type=Lending\", \"marker\": {\"color\": \"#636efa\", \"size\": [3755866433.37431, 5107983760.794864, 3210184694.8281097], \"sizemode\": \"area\", \"sizeref\": 108857792.39419726, \"symbol\": \"circle\"}, \"mode\": \"markers\", \"name\": \"Type=Lending\", \"showlegend\": true, \"x\": [31536724.476337902, 186626436.5890881, 50186638.03801809], \"xaxis\": \"x\", \"y\": [375.58664333743104, 319.248985049679, 3237.67308234158], \"yaxis\": \"y\", \"type\": \"scatter\"}, {\"hoverlabel\": {\"namelength\": 0}, \"hovertemplate\": \"<b>%{hovertext}</b><br><br>Type=Exchange<br>time=2021-05-28<br>TxTfrValAdjUSD=%{x}<br>PriceUSD=%{y}<br>CapMrktCurUSD=%{marker.size}\", \"hovertext\": [\"UNI\", \"BAL\", \"SUSHI\"], \"ids\": [\"UNI\", \"BAL\", \"SUSHI\"], \"legendgroup\": \"Type=Exchange\", \"marker\": {\"color\": \"#EF553B\", \"size\": [25881347436.076, 1195140699.472035, 2343344496.1278453], \"sizemode\": \"area\", \"sizeref\": 108857792.39419726, \"symbol\": \"circle\"}, \"mode\": \"markers\", \"name\": \"Type=Exchange\", \"showlegend\": true, \"x\": [246235749.21740642, 16734167.399136277, 168839056.75975168], \"xaxis\": \"x2\", \"y\": [25.881347436076002, 28.1906050117239, 10.5635505309471], \"yaxis\": \"y2\", \"type\": \"scatter\"}], \"name\": \"2021-05-28\"}, {\"data\": [{\"hoverlabel\": {\"namelength\": 0}, \"hovertemplate\": \"<b>%{hovertext}</b><br><br>Type=Lending<br>time=2021-05-29<br>TxTfrValAdjUSD=%{x}<br>PriceUSD=%{y}<br>CapMrktCurUSD=%{marker.size}\", \"hovertext\": [\"COMP\", \"AAVE\", \"MKR\"], \"ids\": [\"COMP\", \"AAVE\", \"MKR\"], \"legendgroup\": \"Type=Lending\", \"marker\": {\"color\": \"#636efa\", \"size\": [3545828002.80596, 4781177066.692976, 3038376826.4963264], \"sizemode\": \"area\", \"sizeref\": 108857792.39419726, \"symbol\": \"circle\"}, \"mode\": \"markers\", \"name\": \"Type=Lending\", \"showlegend\": true, \"x\": [28466388.655664485, 115269745.43486777, 55740815.9302459], \"xaxis\": \"x\", \"y\": [354.582800280596, 298.823566668311, 3064.39404592711], \"yaxis\": \"y\", \"type\": \"scatter\"}, {\"hoverlabel\": {\"namelength\": 0}, \"hovertemplate\": \"<b>%{hovertext}</b><br><br>Type=Exchange<br>time=2021-05-29<br>TxTfrValAdjUSD=%{x}<br>PriceUSD=%{y}<br>CapMrktCurUSD=%{marker.size}\", \"hovertext\": [\"UNI\", \"BAL\", \"SUSHI\"], \"ids\": [\"UNI\", \"BAL\", \"SUSHI\"], \"legendgroup\": \"Type=Exchange\", \"marker\": {\"color\": \"#EF553B\", \"size\": [23183923170.9587, 1141819061.6466672, 2242740442.673412], \"sizemode\": \"area\", \"sizeref\": 108857792.39419726, \"symbol\": \"circle\"}, \"mode\": \"markers\", \"name\": \"Type=Exchange\", \"showlegend\": true, \"x\": [336088532.9133716, 15798216.7946114, 124492629.32392369], \"xaxis\": \"x2\", \"y\": [23.1839231709587, 26.9328708962535, 10.1037415671796], \"yaxis\": \"y2\", \"type\": \"scatter\"}], \"name\": \"2021-05-29\"}, {\"data\": [{\"hoverlabel\": {\"namelength\": 0}, \"hovertemplate\": \"<b>%{hovertext}</b><br><br>Type=Lending<br>time=2021-05-30<br>TxTfrValAdjUSD=%{x}<br>PriceUSD=%{y}<br>CapMrktCurUSD=%{marker.size}\", \"hovertext\": [\"COMP\", \"AAVE\", \"MKR\"], \"ids\": [\"COMP\", \"AAVE\", \"MKR\"], \"legendgroup\": \"Type=Lending\", \"marker\": {\"color\": \"#636efa\", \"size\": [4054466843.22905, 5197629058.167376, 3283942567.353325], \"sizemode\": \"area\", \"sizeref\": 108857792.39419726, \"symbol\": \"circle\"}, \"mode\": \"markers\", \"name\": \"Type=Lending\", \"showlegend\": true, \"x\": [26572403.586806916, 311278311.67831224, 41682035.38437569], \"xaxis\": \"x\", \"y\": [405.44668432290496, 324.851816135461, 3312.0918572947103], \"yaxis\": \"y\", \"type\": \"scatter\"}, {\"hoverlabel\": {\"namelength\": 0}, \"hovertemplate\": \"<b>%{hovertext}</b><br><br>Type=Exchange<br>time=2021-05-30<br>TxTfrValAdjUSD=%{x}<br>PriceUSD=%{y}<br>CapMrktCurUSD=%{marker.size}\", \"hovertext\": [\"UNI\", \"BAL\", \"SUSHI\"], \"ids\": [\"UNI\", \"BAL\", \"SUSHI\"], \"legendgroup\": \"Type=Exchange\", \"marker\": {\"color\": \"#EF553B\", \"size\": [25699902485.563, 1173990399.0491729, 2407447507.9356885], \"sizemode\": \"area\", \"sizeref\": 108857792.39419726, \"symbol\": \"circle\"}, \"mode\": \"markers\", \"name\": \"Type=Exchange\", \"showlegend\": true, \"x\": [160626425.16926178, 6180181.747689594, 90823164.63715078], \"xaxis\": \"x2\", \"y\": [25.699902485563, 27.6917183405867, 10.838636898801802], \"yaxis\": \"y2\", \"type\": \"scatter\"}], \"name\": \"2021-05-30\"}, {\"data\": [{\"hoverlabel\": {\"namelength\": 0}, \"hovertemplate\": \"<b>%{hovertext}</b><br><br>Type=Lending<br>time=2021-05-31<br>TxTfrValAdjUSD=%{x}<br>PriceUSD=%{y}<br>CapMrktCurUSD=%{marker.size}\", \"hovertext\": [\"COMP\", \"AAVE\", \"MKR\"], \"ids\": [\"COMP\", \"AAVE\", \"MKR\"], \"legendgroup\": \"Type=Lending\", \"marker\": {\"color\": \"#636efa\", \"size\": [4341928717.65332, 6125343483.862352, 3551453319.672702], \"sizemode\": \"area\", \"sizeref\": 108857792.39419726, \"symbol\": \"circle\"}, \"mode\": \"markers\", \"name\": \"Type=Lending\", \"showlegend\": true, \"x\": [36618718.038074106, 138718182.2675512, 56652085.78331083], \"xaxis\": \"x\", \"y\": [434.19287176533203, 382.83396774139703, 3581.89565755114], \"yaxis\": \"y\", \"type\": \"scatter\"}, {\"hoverlabel\": {\"namelength\": 0}, \"hovertemplate\": \"<b>%{hovertext}</b><br><br>Type=Exchange<br>time=2021-05-31<br>TxTfrValAdjUSD=%{x}<br>PriceUSD=%{y}<br>CapMrktCurUSD=%{marker.size}\", \"hovertext\": [\"UNI\", \"BAL\", \"SUSHI\"], \"ids\": [\"UNI\", \"BAL\", \"SUSHI\"], \"legendgroup\": \"Type=Exchange\", \"marker\": {\"color\": \"#EF553B\", \"size\": [28228022415.8604, 1303692133.4743216, 2768161834.859664], \"sizemode\": \"area\", \"sizeref\": 108857792.39419726, \"symbol\": \"circle\"}, \"mode\": \"markers\", \"name\": \"Type=Exchange\", \"showlegend\": true, \"x\": [192701009.3349968, 9554674.43293931, 204551802.50044894], \"xaxis\": \"x2\", \"y\": [28.2280224158604, 30.7510822850412, 12.4551591425636], \"yaxis\": \"y2\", \"type\": \"scatter\"}], \"name\": \"2021-05-31\"}]);\n",
              "                        }).then(function(){\n",
              "                            \n",
              "var gd = document.getElementById('3a6761af-6c24-4de7-874f-b7ed67a83a3c');\n",
              "var x = new MutationObserver(function (mutations, observer) {{\n",
              "        var display = window.getComputedStyle(gd).display;\n",
              "        if (!display || display === 'none') {{\n",
              "            console.log([gd, 'removed!']);\n",
              "            Plotly.purge(gd);\n",
              "            observer.disconnect();\n",
              "        }}\n",
              "}});\n",
              "\n",
              "// Listen for the removal of the full notebook cells\n",
              "var notebookContainer = gd.closest('#notebook-container');\n",
              "if (notebookContainer) {{\n",
              "    x.observe(notebookContainer, {childList: true});\n",
              "}}\n",
              "\n",
              "// Listen for the clearing of the current output cell\n",
              "var outputEl = gd.closest('.output');\n",
              "if (outputEl) {{\n",
              "    x.observe(outputEl, {childList: true});\n",
              "}}\n",
              "\n",
              "                        })\n",
              "                };\n",
              "                \n",
              "            </script>\n",
              "        </div>\n",
              "</body>\n",
              "</html>"
            ]
          },
          "metadata": {
            "tags": []
          }
        }
      ]
    },
    {
      "cell_type": "code",
      "metadata": {
        "id": "R30HN8tMUxz_"
      },
      "source": [
        "# define the dependent and independent variables\n",
        "X=df[[\"AdrBalCnt\",\"NVTAdj90\",\"TxTfrValAdjUSD\",\"Lending\"]]\n",
        "y=df['CapMrktCurUSD']"
      ],
      "execution_count": 452,
      "outputs": []
    },
    {
      "cell_type": "code",
      "metadata": {
        "colab": {
          "base_uri": "https://localhost:8080/",
          "height": 206
        },
        "id": "XG2naDgfVBV7",
        "outputId": "5651c4cb-af2d-4a79-9038-c32934fae3fe"
      },
      "source": [
        "# add a constant to the dependent variables\n",
        "import statsmodels.api as sm\n",
        "X= sm.add_constant(X)\n",
        "X.head()"
      ],
      "execution_count": 453,
      "outputs": [
        {
          "output_type": "execute_result",
          "data": {
            "text/html": [
              "<div>\n",
              "<style scoped>\n",
              "    .dataframe tbody tr th:only-of-type {\n",
              "        vertical-align: middle;\n",
              "    }\n",
              "\n",
              "    .dataframe tbody tr th {\n",
              "        vertical-align: top;\n",
              "    }\n",
              "\n",
              "    .dataframe thead th {\n",
              "        text-align: right;\n",
              "    }\n",
              "</style>\n",
              "<table border=\"1\" class=\"dataframe\">\n",
              "  <thead>\n",
              "    <tr style=\"text-align: right;\">\n",
              "      <th></th>\n",
              "      <th>const</th>\n",
              "      <th>AdrBalCnt</th>\n",
              "      <th>NVTAdj90</th>\n",
              "      <th>TxTfrValAdjUSD</th>\n",
              "      <th>Lending</th>\n",
              "    </tr>\n",
              "  </thead>\n",
              "  <tbody>\n",
              "    <tr>\n",
              "      <th>0</th>\n",
              "      <td>1.0</td>\n",
              "      <td>147169.0</td>\n",
              "      <td>83.888626</td>\n",
              "      <td>9.744422e+07</td>\n",
              "      <td>1</td>\n",
              "    </tr>\n",
              "    <tr>\n",
              "      <th>1</th>\n",
              "      <td>1.0</td>\n",
              "      <td>147452.0</td>\n",
              "      <td>89.929280</td>\n",
              "      <td>6.023612e+07</td>\n",
              "      <td>1</td>\n",
              "    </tr>\n",
              "    <tr>\n",
              "      <th>2</th>\n",
              "      <td>1.0</td>\n",
              "      <td>147787.0</td>\n",
              "      <td>87.049910</td>\n",
              "      <td>1.134689e+08</td>\n",
              "      <td>1</td>\n",
              "    </tr>\n",
              "    <tr>\n",
              "      <th>3</th>\n",
              "      <td>1.0</td>\n",
              "      <td>148327.0</td>\n",
              "      <td>98.138936</td>\n",
              "      <td>1.366604e+08</td>\n",
              "      <td>1</td>\n",
              "    </tr>\n",
              "    <tr>\n",
              "      <th>4</th>\n",
              "      <td>1.0</td>\n",
              "      <td>148765.0</td>\n",
              "      <td>89.938383</td>\n",
              "      <td>9.170103e+07</td>\n",
              "      <td>1</td>\n",
              "    </tr>\n",
              "  </tbody>\n",
              "</table>\n",
              "</div>"
            ],
            "text/plain": [
              "   const  AdrBalCnt   NVTAdj90  TxTfrValAdjUSD  Lending\n",
              "0    1.0   147169.0  83.888626    9.744422e+07        1\n",
              "1    1.0   147452.0  89.929280    6.023612e+07        1\n",
              "2    1.0   147787.0  87.049910    1.134689e+08        1\n",
              "3    1.0   148327.0  98.138936    1.366604e+08        1\n",
              "4    1.0   148765.0  89.938383    9.170103e+07        1"
            ]
          },
          "metadata": {
            "tags": []
          },
          "execution_count": 453
        }
      ]
    },
    {
      "cell_type": "code",
      "metadata": {
        "colab": {
          "base_uri": "https://localhost:8080/"
        },
        "id": "45Vm2gSmXS8e",
        "outputId": "0a517dcb-043c-4d61-90fb-05ad0efb37e7"
      },
      "source": [
        "# conduct regression\n",
        "model = sm.OLS(y, X).fit()\n",
        "# print model summary\n",
        "print(model.summary())"
      ],
      "execution_count": 454,
      "outputs": [
        {
          "output_type": "stream",
          "text": [
            "                            OLS Regression Results                            \n",
            "==============================================================================\n",
            "Dep. Variable:          CapMrktCurUSD   R-squared:                       0.833\n",
            "Model:                            OLS   Adj. R-squared:                  0.832\n",
            "Method:                 Least Squares   F-statistic:                     451.4\n",
            "Date:                Tue, 08 Jun 2021   Prob (F-statistic):          5.03e-139\n",
            "Time:                        17:26:02   Log-Likelihood:                -8661.7\n",
            "No. Observations:                 366   AIC:                         1.733e+04\n",
            "Df Residuals:                     361   BIC:                         1.735e+04\n",
            "Df Model:                           4                                         \n",
            "Covariance Type:            nonrobust                                         \n",
            "==================================================================================\n",
            "                     coef    std err          t      P>|t|      [0.025      0.975]\n",
            "----------------------------------------------------------------------------------\n",
            "const          -4.254e+09    6.4e+08     -6.649      0.000   -5.51e+09      -3e+09\n",
            "AdrBalCnt       1.115e+05   5252.691     21.218      0.000    1.01e+05    1.22e+05\n",
            "NVTAdj90        6.321e+07   1.14e+07      5.552      0.000    4.08e+07    8.56e+07\n",
            "TxTfrValAdjUSD    10.7332      1.559      6.885      0.000       7.668      13.799\n",
            "Lending        -7.429e+09   4.86e+08    -15.300      0.000   -8.38e+09   -6.47e+09\n",
            "==============================================================================\n",
            "Omnibus:                       10.054   Durbin-Watson:                   0.215\n",
            "Prob(Omnibus):                  0.007   Jarque-Bera (JB):                5.396\n",
            "Skew:                           0.042   Prob(JB):                       0.0673\n",
            "Kurtosis:                       2.411   Cond. No.                     6.93e+08\n",
            "==============================================================================\n",
            "\n",
            "Warnings:\n",
            "[1] Standard Errors assume that the covariance matrix of the errors is correctly specified.\n",
            "[2] The condition number is large, 6.93e+08. This might indicate that there are\n",
            "strong multicollinearity or other numerical problems.\n"
          ],
          "name": "stdout"
        }
      ]
    },
    {
      "cell_type": "markdown",
      "metadata": {
        "id": "7u7nemjKtILl"
      },
      "source": [
        "# The Fixed Effect: across sections"
      ]
    },
    {
      "cell_type": "markdown",
      "metadata": {
        "id": "VBS1gtiCYMci"
      },
      "source": [
        "https://towardsdatascience.com/a-guide-to-panel-data-regression-theoretics-and-implementation-with-python-4c84c5055cf8\n",
        "\n",
        "https://youtu.be/FCcVPsq8VcA\n",
        "\n",
        "https://bashtage.github.io/linearmodels/doc/panel/models.html\n",
        "\n",
        "https://bashtage.github.io/linearmodels/doc/panel/examples/examples.html"
      ]
    },
    {
      "cell_type": "markdown",
      "metadata": {
        "id": "x7OwU-SNZKbj"
      },
      "source": [
        "## Fixed Effect"
      ]
    },
    {
      "cell_type": "code",
      "metadata": {
        "colab": {
          "base_uri": "https://localhost:8080/"
        },
        "id": "_7TzSA6abYBE",
        "outputId": "1cf87427-c423-4542-c3ac-145cdbf670e5"
      },
      "source": [
        "pip install linearmodels"
      ],
      "execution_count": 455,
      "outputs": [
        {
          "output_type": "stream",
          "text": [
            "Requirement already satisfied: linearmodels in /usr/local/lib/python3.7/dist-packages (4.24)\n",
            "Requirement already satisfied: patsy in /usr/local/lib/python3.7/dist-packages (from linearmodels) (0.5.1)\n",
            "Requirement already satisfied: numpy>=1.16 in /usr/local/lib/python3.7/dist-packages (from linearmodels) (1.19.5)\n",
            "Requirement already satisfied: Cython>=0.29.21 in /usr/local/lib/python3.7/dist-packages (from linearmodels) (0.29.23)\n",
            "Requirement already satisfied: mypy-extensions>=0.4 in /usr/local/lib/python3.7/dist-packages (from linearmodels) (0.4.3)\n",
            "Requirement already satisfied: statsmodels>=0.11 in /usr/local/lib/python3.7/dist-packages (from linearmodels) (0.12.2)\n",
            "Requirement already satisfied: property-cached>=1.6.3 in /usr/local/lib/python3.7/dist-packages (from linearmodels) (1.6.4)\n",
            "Requirement already satisfied: scipy>=1.2 in /usr/local/lib/python3.7/dist-packages (from linearmodels) (1.4.1)\n",
            "Requirement already satisfied: pyhdfe>=0.1 in /usr/local/lib/python3.7/dist-packages (from linearmodels) (0.1.0)\n",
            "Requirement already satisfied: pandas>=0.24 in /usr/local/lib/python3.7/dist-packages (from linearmodels) (1.1.5)\n",
            "Requirement already satisfied: six in /usr/local/lib/python3.7/dist-packages (from patsy->linearmodels) (1.15.0)\n",
            "Requirement already satisfied: pytz>=2017.2 in /usr/local/lib/python3.7/dist-packages (from pandas>=0.24->linearmodels) (2018.9)\n",
            "Requirement already satisfied: python-dateutil>=2.7.3 in /usr/local/lib/python3.7/dist-packages (from pandas>=0.24->linearmodels) (2.8.1)\n"
          ],
          "name": "stdout"
        }
      ]
    },
    {
      "cell_type": "code",
      "metadata": {
        "id": "5RjTNhZoZQ6C"
      },
      "source": [
        "from linearmodels import PooledOLS\n",
        "import statsmodels.api as sm"
      ],
      "execution_count": 456,
      "outputs": []
    },
    {
      "cell_type": "code",
      "metadata": {
        "colab": {
          "base_uri": "https://localhost:8080/",
          "height": 237
        },
        "id": "277D5ULXfSlF",
        "outputId": "e4246937-e7e3-4c0e-9e3c-c2a5f56e2d46"
      },
      "source": [
        "df=df.set_index(['Type','Month'])\n",
        "df.head()"
      ],
      "execution_count": 457,
      "outputs": [
        {
          "output_type": "execute_result",
          "data": {
            "text/html": [
              "<div>\n",
              "<style scoped>\n",
              "    .dataframe tbody tr th:only-of-type {\n",
              "        vertical-align: middle;\n",
              "    }\n",
              "\n",
              "    .dataframe tbody tr th {\n",
              "        vertical-align: top;\n",
              "    }\n",
              "\n",
              "    .dataframe thead th {\n",
              "        text-align: right;\n",
              "    }\n",
              "</style>\n",
              "<table border=\"1\" class=\"dataframe\">\n",
              "  <thead>\n",
              "    <tr style=\"text-align: right;\">\n",
              "      <th></th>\n",
              "      <th></th>\n",
              "      <th>time</th>\n",
              "      <th>AdrBalCnt</th>\n",
              "      <th>CapMrktCurUSD</th>\n",
              "      <th>NVTAdj90</th>\n",
              "      <th>PriceUSD</th>\n",
              "      <th>TxTfrValAdjUSD</th>\n",
              "      <th>VtyDayRet180d</th>\n",
              "      <th>assets</th>\n",
              "      <th>date</th>\n",
              "      <th>Lending</th>\n",
              "    </tr>\n",
              "    <tr>\n",
              "      <th>Type</th>\n",
              "      <th>Month</th>\n",
              "      <th></th>\n",
              "      <th></th>\n",
              "      <th></th>\n",
              "      <th></th>\n",
              "      <th></th>\n",
              "      <th></th>\n",
              "      <th></th>\n",
              "      <th></th>\n",
              "      <th></th>\n",
              "      <th></th>\n",
              "    </tr>\n",
              "  </thead>\n",
              "  <tbody>\n",
              "    <tr>\n",
              "      <th rowspan=\"5\" valign=\"top\">Lending</th>\n",
              "      <th>4</th>\n",
              "      <td>2021-04-01</td>\n",
              "      <td>147169.0</td>\n",
              "      <td>4.516086e+09</td>\n",
              "      <td>83.888626</td>\n",
              "      <td>451.608649</td>\n",
              "      <td>9.744422e+07</td>\n",
              "      <td>0.068365</td>\n",
              "      <td>COMP</td>\n",
              "      <td>2021-04-01</td>\n",
              "      <td>1</td>\n",
              "    </tr>\n",
              "    <tr>\n",
              "      <th>4</th>\n",
              "      <td>2021-04-02</td>\n",
              "      <td>147452.0</td>\n",
              "      <td>4.878642e+09</td>\n",
              "      <td>89.929280</td>\n",
              "      <td>487.864193</td>\n",
              "      <td>6.023612e+07</td>\n",
              "      <td>0.068531</td>\n",
              "      <td>COMP</td>\n",
              "      <td>2021-04-02</td>\n",
              "      <td>1</td>\n",
              "    </tr>\n",
              "    <tr>\n",
              "      <th>4</th>\n",
              "      <td>2021-04-03</td>\n",
              "      <td>147787.0</td>\n",
              "      <td>4.815246e+09</td>\n",
              "      <td>87.049910</td>\n",
              "      <td>481.524627</td>\n",
              "      <td>1.134689e+08</td>\n",
              "      <td>0.068541</td>\n",
              "      <td>COMP</td>\n",
              "      <td>2021-04-03</td>\n",
              "      <td>1</td>\n",
              "    </tr>\n",
              "    <tr>\n",
              "      <th>4</th>\n",
              "      <td>2021-04-04</td>\n",
              "      <td>148327.0</td>\n",
              "      <td>5.485351e+09</td>\n",
              "      <td>98.138936</td>\n",
              "      <td>548.535112</td>\n",
              "      <td>1.366604e+08</td>\n",
              "      <td>0.068097</td>\n",
              "      <td>COMP</td>\n",
              "      <td>2021-04-04</td>\n",
              "      <td>1</td>\n",
              "    </tr>\n",
              "    <tr>\n",
              "      <th>4</th>\n",
              "      <td>2021-04-05</td>\n",
              "      <td>148765.0</td>\n",
              "      <td>5.099802e+09</td>\n",
              "      <td>89.938383</td>\n",
              "      <td>509.980184</td>\n",
              "      <td>9.170103e+07</td>\n",
              "      <td>0.068320</td>\n",
              "      <td>COMP</td>\n",
              "      <td>2021-04-05</td>\n",
              "      <td>1</td>\n",
              "    </tr>\n",
              "  </tbody>\n",
              "</table>\n",
              "</div>"
            ],
            "text/plain": [
              "                     time  AdrBalCnt  CapMrktCurUSD  ...  assets       date  Lending\n",
              "Type    Month                                        ...                            \n",
              "Lending 4      2021-04-01   147169.0   4.516086e+09  ...    COMP 2021-04-01        1\n",
              "        4      2021-04-02   147452.0   4.878642e+09  ...    COMP 2021-04-02        1\n",
              "        4      2021-04-03   147787.0   4.815246e+09  ...    COMP 2021-04-03        1\n",
              "        4      2021-04-04   148327.0   5.485351e+09  ...    COMP 2021-04-04        1\n",
              "        4      2021-04-05   148765.0   5.099802e+09  ...    COMP 2021-04-05        1\n",
              "\n",
              "[5 rows x 10 columns]"
            ]
          },
          "metadata": {
            "tags": []
          },
          "execution_count": 457
        }
      ]
    },
    {
      "cell_type": "code",
      "metadata": {
        "id": "p5iSTR-FeFY9"
      },
      "source": [
        "exog=df[[\"AdrBalCnt\",\"NVTAdj90\",\"TxTfrValAdjUSD\"]]\n",
        "endog = df[\"CapMrktCurUSD\"]"
      ],
      "execution_count": 458,
      "outputs": []
    },
    {
      "cell_type": "markdown",
      "metadata": {
        "id": "6xEIolZjhkOt"
      },
      "source": [
        "### PooledOLS"
      ]
    },
    {
      "cell_type": "code",
      "metadata": {
        "id": "XW--WcP2ej0U"
      },
      "source": [
        "mod = PooledOLS(endog, exog)\n",
        "pooled_res=mod.fit()"
      ],
      "execution_count": 465,
      "outputs": []
    },
    {
      "cell_type": "code",
      "metadata": {
        "colab": {
          "base_uri": "https://localhost:8080/"
        },
        "id": "IvLqFAoug0lA",
        "outputId": "e42a1bbf-65d6-4e84-d89e-f6e895505b2f"
      },
      "source": [
        "print(pooled_res)"
      ],
      "execution_count": 467,
      "outputs": [
        {
          "output_type": "stream",
          "text": [
            "                          PooledOLS Estimation Summary                          \n",
            "================================================================================\n",
            "Dep. Variable:          CapMrktCurUSD   R-squared:                        0.7801\n",
            "Estimator:                  PooledOLS   R-squared (Between):              0.8348\n",
            "No. Observations:                 366   R-squared (Within):               0.7328\n",
            "Date:                Tue, Jun 08 2021   R-squared (Overall):              0.7801\n",
            "Time:                        17:28:51   Log-likelihood                   -8805.3\n",
            "Cov. Estimator:            Unadjusted                                           \n",
            "                                        F-statistic:                      429.37\n",
            "Entities:                           2   P-value                           0.0000\n",
            "Avg Obs:                       183.00   Distribution:                   F(3,363)\n",
            "Min Obs:                       183.00                                           \n",
            "Max Obs:                       183.00   F-statistic (robust):             429.37\n",
            "                                        P-value                           0.0000\n",
            "Time periods:                       2   Distribution:                   F(3,363)\n",
            "Avg Obs:                       183.00                                           \n",
            "Min Obs:                       180.00                                           \n",
            "Max Obs:                       186.00                                           \n",
            "                                                                                \n",
            "                               Parameter Estimates                                \n",
            "==================================================================================\n",
            "                Parameter  Std. Err.     T-stat    P-value    Lower CI    Upper CI\n",
            "----------------------------------------------------------------------------------\n",
            "AdrBalCnt       1.131e+05     7744.1     14.607     0.0000   9.789e+04   1.283e+05\n",
            "NVTAdj90       -2.875e+07  1.372e+07    -2.0949     0.0369  -5.574e+07  -1.761e+06\n",
            "TxTfrValAdjUSD     2.4208     1.9992     1.2109     0.2267     -1.5107      6.3523\n",
            "==================================================================================\n"
          ],
          "name": "stdout"
        }
      ]
    },
    {
      "cell_type": "markdown",
      "metadata": {
        "id": "VChF_colhupO"
      },
      "source": [
        "### Fixed Effect: Type"
      ]
    },
    {
      "cell_type": "code",
      "metadata": {
        "id": "E0_qrvykhw_i"
      },
      "source": [
        "from linearmodels import PanelOLS"
      ],
      "execution_count": 468,
      "outputs": []
    },
    {
      "cell_type": "code",
      "metadata": {
        "id": "ovobaMioh4NI"
      },
      "source": [
        "model_fe_entity = PanelOLS(endog, exog, entity_effects = True) \n",
        "fe_entity_res = model_fe_entity.fit()"
      ],
      "execution_count": 469,
      "outputs": []
    },
    {
      "cell_type": "code",
      "metadata": {
        "colab": {
          "base_uri": "https://localhost:8080/"
        },
        "id": "x6SkvqGxh59U",
        "outputId": "8f562131-10bd-48b5-e7c2-28a08ae39139"
      },
      "source": [
        "print(fe_entity_res )"
      ],
      "execution_count": 470,
      "outputs": [
        {
          "output_type": "stream",
          "text": [
            "                          PanelOLS Estimation Summary                           \n",
            "================================================================================\n",
            "Dep. Variable:          CapMrktCurUSD   R-squared:                        0.8128\n",
            "Estimator:                   PanelOLS   R-squared (Between):              0.2068\n",
            "No. Observations:                 366   R-squared (Within):               0.8128\n",
            "Date:                Tue, Jun 08 2021   R-squared (Overall):              0.5315\n",
            "Time:                        17:29:19   Log-likelihood                   -8661.7\n",
            "Cov. Estimator:            Unadjusted                                           \n",
            "                                        F-statistic:                      522.31\n",
            "Entities:                           2   P-value                           0.0000\n",
            "Avg Obs:                       183.00   Distribution:                   F(3,361)\n",
            "Min Obs:                       183.00                                           \n",
            "Max Obs:                       183.00   F-statistic (robust):             522.31\n",
            "                                        P-value                           0.0000\n",
            "Time periods:                       2   Distribution:                   F(3,361)\n",
            "Avg Obs:                       183.00                                           \n",
            "Min Obs:                       180.00                                           \n",
            "Max Obs:                       186.00                                           \n",
            "                                                                                \n",
            "                               Parameter Estimates                                \n",
            "==================================================================================\n",
            "                Parameter  Std. Err.     T-stat    P-value    Lower CI    Upper CI\n",
            "----------------------------------------------------------------------------------\n",
            "AdrBalCnt       1.115e+05     5252.7     21.218     0.0000   1.011e+05   1.218e+05\n",
            "NVTAdj90        6.321e+07  1.139e+07     5.5515     0.0000   4.082e+07    8.56e+07\n",
            "TxTfrValAdjUSD     10.733     1.5589     6.8851     0.0000      7.6675      13.799\n",
            "==================================================================================\n",
            "\n",
            "F-test for Poolability: 234.08\n",
            "P-value: 0.0000\n",
            "Distribution: F(1,361)\n",
            "\n",
            "Included effects: Entity\n"
          ],
          "name": "stdout"
        }
      ]
    },
    {
      "cell_type": "markdown",
      "metadata": {
        "id": "kxUPi3O6iodU"
      },
      "source": [
        "### Fixed Effect: Time Effect"
      ]
    },
    {
      "cell_type": "code",
      "metadata": {
        "id": "ADLb_KRXirrn"
      },
      "source": [
        "model_fe_time = PanelOLS(endog, exog, time_effects = True) \n",
        "fe_time_res = model_fe_time.fit()"
      ],
      "execution_count": 463,
      "outputs": []
    },
    {
      "cell_type": "code",
      "metadata": {
        "colab": {
          "base_uri": "https://localhost:8080/"
        },
        "id": "2-ikIH4dqa5M",
        "outputId": "0699bb0e-c02e-456c-c159-013c5dcb57a9"
      },
      "source": [
        "print(fe_time_res)"
      ],
      "execution_count": 464,
      "outputs": [
        {
          "output_type": "stream",
          "text": [
            "                          PanelOLS Estimation Summary                           \n",
            "================================================================================\n",
            "Dep. Variable:          CapMrktCurUSD   R-squared:                        0.7271\n",
            "Estimator:                   PanelOLS   R-squared (Between):              0.1743\n",
            "No. Observations:                 366   R-squared (Within):               0.8109\n",
            "Date:                Tue, Jun 08 2021   R-squared (Overall):              0.5154\n",
            "Time:                        17:26:52   Log-likelihood                   -8751.9\n",
            "Cov. Estimator:            Unadjusted                                           \n",
            "                                        F-statistic:                      320.64\n",
            "Entities:                           2   P-value                           0.0000\n",
            "Avg Obs:                       183.00   Distribution:                   F(3,361)\n",
            "Min Obs:                       183.00                                           \n",
            "Max Obs:                       183.00   F-statistic (robust):             320.64\n",
            "                                        P-value                           0.0000\n",
            "Time periods:                       2   Distribution:                   F(3,361)\n",
            "Avg Obs:                       183.00                                           \n",
            "Min Obs:                       180.00                                           \n",
            "Max Obs:                       186.00                                           \n",
            "                                                                                \n",
            "                               Parameter Estimates                                \n",
            "==================================================================================\n",
            "                Parameter  Std. Err.     T-stat    P-value    Lower CI    Upper CI\n",
            "----------------------------------------------------------------------------------\n",
            "AdrBalCnt       1.114e+05     6803.1     16.371     0.0000   9.799e+04   1.248e+05\n",
            "NVTAdj90        5.914e+07  1.481e+07     3.9940     0.0001   3.002e+07   8.826e+07\n",
            "TxTfrValAdjUSD     13.323     1.9946     6.6792     0.0000      9.4000      17.245\n",
            "==================================================================================\n",
            "\n",
            "F-test for Poolability: 2.4433\n",
            "P-value: 0.1189\n",
            "Distribution: F(1,361)\n",
            "\n",
            "Included effects: Time\n"
          ],
          "name": "stdout"
        }
      ]
    },
    {
      "cell_type": "markdown",
      "metadata": {
        "id": "0GOfAYySqida"
      },
      "source": [
        "### Both effects"
      ]
    },
    {
      "cell_type": "code",
      "metadata": {
        "id": "Z-Q2jS_JqlkJ"
      },
      "source": [
        "model_fe = PanelOLS(endog, exog, time_effects = True, entity_effects = True ) \n",
        "fe_res = model_fe.fit()"
      ],
      "execution_count": 479,
      "outputs": []
    },
    {
      "cell_type": "code",
      "metadata": {
        "colab": {
          "base_uri": "https://localhost:8080/"
        },
        "id": "bML8h4TXquim",
        "outputId": "e1d057bc-c5e9-4e07-d599-6183fd484749"
      },
      "source": [
        "print(fe_res)"
      ],
      "execution_count": 480,
      "outputs": [
        {
          "output_type": "stream",
          "text": [
            "                          PanelOLS Estimation Summary                           \n",
            "================================================================================\n",
            "Dep. Variable:          CapMrktCurUSD   R-squared:                        0.8143\n",
            "Estimator:                   PanelOLS   R-squared (Between):              0.2090\n",
            "No. Observations:                 366   R-squared (Within):               0.8127\n",
            "Date:                Tue, Jun 08 2021   R-squared (Overall):              0.5324\n",
            "Time:                        17:35:02   Log-likelihood                   -8660.1\n",
            "Cov. Estimator:            Unadjusted                                           \n",
            "                                        F-statistic:                      526.29\n",
            "Entities:                           2   P-value                           0.0000\n",
            "Avg Obs:                       183.00   Distribution:                   F(3,360)\n",
            "Min Obs:                       183.00                                           \n",
            "Max Obs:                       183.00   F-statistic (robust):             526.29\n",
            "                                        P-value                           0.0000\n",
            "Time periods:                       2   Distribution:                   F(3,360)\n",
            "Avg Obs:                       183.00                                           \n",
            "Min Obs:                       180.00                                           \n",
            "Max Obs:                       186.00                                           \n",
            "                                                                                \n",
            "                               Parameter Estimates                                \n",
            "==================================================================================\n",
            "                Parameter  Std. Err.     T-stat    P-value    Lower CI    Upper CI\n",
            "----------------------------------------------------------------------------------\n",
            "AdrBalCnt       1.129e+05     5301.9     21.297     0.0000   1.025e+05   1.233e+05\n",
            "NVTAdj90        5.956e+07  1.154e+07     5.1620     0.0000   3.687e+07   8.224e+07\n",
            "TxTfrValAdjUSD     11.000     1.5616     7.0442     0.0000      7.9291      14.071\n",
            "==================================================================================\n",
            "\n",
            "F-test for Poolability: 119.31\n",
            "P-value: 0.0000\n",
            "Distribution: F(2,360)\n",
            "\n",
            "Included effects: Entity, Time\n"
          ],
          "name": "stdout"
        }
      ]
    },
    {
      "cell_type": "code",
      "metadata": {
        "id": "cIK9oVhxsKSw"
      },
      "source": [
        "model_fe = PanelOLS(endog, exog, time_effects = True, entity_effects = True ) \n",
        "clust_fe= model_fe.fit(cov_type='clustered', cluster_entity=True, cluster_time=True)"
      ],
      "execution_count": 482,
      "outputs": []
    },
    {
      "cell_type": "markdown",
      "metadata": {
        "id": "g77SbVBYuCkI"
      },
      "source": [
        "https://bashtage.github.io/linearmodels/doc/panel/results.html"
      ]
    },
    {
      "cell_type": "code",
      "metadata": {
        "colab": {
          "base_uri": "https://localhost:8080/"
        },
        "id": "sABqvMC4sXdV",
        "outputId": "0b4ba735-c98e-4ae4-8234-e17e917cafcf"
      },
      "source": [
        "print(clust_fe)"
      ],
      "execution_count": 483,
      "outputs": [
        {
          "output_type": "stream",
          "text": [
            "                          PanelOLS Estimation Summary                           \n",
            "================================================================================\n",
            "Dep. Variable:          CapMrktCurUSD   R-squared:                        0.8143\n",
            "Estimator:                   PanelOLS   R-squared (Between):              0.2090\n",
            "No. Observations:                 366   R-squared (Within):               0.8127\n",
            "Date:                Tue, Jun 08 2021   R-squared (Overall):              0.5324\n",
            "Time:                        17:35:21   Log-likelihood                   -8660.1\n",
            "Cov. Estimator:             Clustered                                           \n",
            "                                        F-statistic:                      526.29\n",
            "Entities:                           2   P-value                           0.0000\n",
            "Avg Obs:                       183.00   Distribution:                   F(3,360)\n",
            "Min Obs:                       183.00                                           \n",
            "Max Obs:                       183.00   F-statistic (robust):            -166.70\n",
            "                                        P-value                           1.0000\n",
            "Time periods:                       2   Distribution:                   F(3,360)\n",
            "Avg Obs:                       183.00                                           \n",
            "Min Obs:                       180.00                                           \n",
            "Max Obs:                       186.00                                           \n",
            "                                                                                \n",
            "                               Parameter Estimates                                \n",
            "==================================================================================\n",
            "                Parameter  Std. Err.     T-stat    P-value    Lower CI    Upper CI\n",
            "----------------------------------------------------------------------------------\n",
            "AdrBalCnt       1.129e+05  1.383e+04     8.1636     0.0000   8.571e+04   1.401e+05\n",
            "NVTAdj90        5.956e+07  3.488e+07     1.7075     0.0886  -9.035e+06   1.281e+08\n",
            "TxTfrValAdjUSD     11.000     2.3784     4.6250     0.0000      6.3227      15.677\n",
            "==================================================================================\n",
            "\n",
            "F-test for Poolability: 119.31\n",
            "P-value: 0.0000\n",
            "Distribution: F(2,360)\n",
            "\n",
            "Included effects: Entity, Time\n"
          ],
          "name": "stdout"
        }
      ]
    },
    {
      "cell_type": "markdown",
      "metadata": {
        "id": "-7SLOMSRZPB-"
      },
      "source": [
        "## Random Effect"
      ]
    },
    {
      "cell_type": "code",
      "metadata": {
        "id": "KIyQp58nvCj3"
      },
      "source": [
        "from linearmodels import RandomEffects\n",
        "model_re = RandomEffects(endog, exog) \n",
        "re_res= model_re.fit()"
      ],
      "execution_count": 488,
      "outputs": []
    },
    {
      "cell_type": "code",
      "metadata": {
        "colab": {
          "base_uri": "https://localhost:8080/"
        },
        "id": "7t-KVX58vREP",
        "outputId": "4c4b23ad-5da2-4751-e8c6-03b0e5d2604e"
      },
      "source": [
        "print(re_res)"
      ],
      "execution_count": 490,
      "outputs": [
        {
          "output_type": "stream",
          "text": [
            "                        RandomEffects Estimation Summary                        \n",
            "================================================================================\n",
            "Dep. Variable:          CapMrktCurUSD   R-squared:                        0.7801\n",
            "Estimator:              RandomEffects   R-squared (Between):              0.8348\n",
            "No. Observations:                 366   R-squared (Within):               0.7328\n",
            "Date:                Tue, Jun 08 2021   R-squared (Overall):              0.7801\n",
            "Time:                        17:50:34   Log-likelihood                   -8805.3\n",
            "Cov. Estimator:            Unadjusted                                           \n",
            "                                        F-statistic:                      429.37\n",
            "Entities:                           2   P-value                           0.0000\n",
            "Avg Obs:                       183.00   Distribution:                   F(3,363)\n",
            "Min Obs:                       183.00                                           \n",
            "Max Obs:                       183.00   F-statistic (robust):             429.37\n",
            "                                        P-value                           0.0000\n",
            "Time periods:                       2   Distribution:                   F(3,363)\n",
            "Avg Obs:                       183.00                                           \n",
            "Min Obs:                       180.00                                           \n",
            "Max Obs:                       186.00                                           \n",
            "                                                                                \n",
            "                               Parameter Estimates                                \n",
            "==================================================================================\n",
            "                Parameter  Std. Err.     T-stat    P-value    Lower CI    Upper CI\n",
            "----------------------------------------------------------------------------------\n",
            "AdrBalCnt       1.131e+05     7744.1     14.607     0.0000   9.789e+04   1.283e+05\n",
            "NVTAdj90       -2.875e+07  1.372e+07    -2.0949     0.0369  -5.574e+07  -1.761e+06\n",
            "TxTfrValAdjUSD     2.4208     1.9992     1.2109     0.2267     -1.5107      6.3523\n",
            "==================================================================================\n"
          ],
          "name": "stdout"
        }
      ]
    },
    {
      "cell_type": "markdown",
      "metadata": {
        "id": "JqUOtJo6qtJz"
      },
      "source": [
        "# Comparison"
      ]
    },
    {
      "cell_type": "code",
      "metadata": {
        "colab": {
          "base_uri": "https://localhost:8080/"
        },
        "id": "DcVQR0D1qvOu",
        "outputId": "d0ce1318-b8d1-4f7e-bda9-9184a50dc772"
      },
      "source": [
        "from linearmodels.panel import compare\n",
        "print(compare({'FE_entity':fe_entity_res ,'FE_Time':fe_time_res, 'FE':fe_res,'Pooled':pooled_res, 'RE':re_res}))"
      ],
      "execution_count": 491,
      "outputs": [
        {
          "output_type": "stream",
          "text": [
            "                                                 Model Comparison                                                \n",
            "=================================================================================================================\n",
            "                                FE_entity           FE_Time                FE            Pooled                RE\n",
            "-----------------------------------------------------------------------------------------------------------------\n",
            "Dep. Variable               CapMrktCurUSD     CapMrktCurUSD     CapMrktCurUSD     CapMrktCurUSD     CapMrktCurUSD\n",
            "Estimator                        PanelOLS          PanelOLS          PanelOLS         PooledOLS     RandomEffects\n",
            "No. Observations                      366               366               366               366               366\n",
            "Cov. Est.                      Unadjusted        Unadjusted        Unadjusted        Unadjusted        Unadjusted\n",
            "R-squared                          0.8128            0.7271            0.8143            0.7801            0.7801\n",
            "R-Squared (Within)                 0.8128            0.8109            0.8127            0.7328            0.7328\n",
            "R-Squared (Between)                0.2068            0.1743            0.2090            0.8348            0.8348\n",
            "R-Squared (Overall)                0.5315            0.5154            0.5324            0.7801            0.7801\n",
            "F-statistic                        522.31            320.64            526.29            429.37            429.37\n",
            "P-value (F-stat)                   0.0000            0.0000            0.0000            0.0000            0.0000\n",
            "=====================     ===============   ===============   ===============   ===============   ===============\n",
            "AdrBalCnt                       1.115e+05         1.114e+05         1.129e+05         1.131e+05         1.131e+05\n",
            "                                 (21.218)          (16.371)          (21.297)          (14.607)          (14.607)\n",
            "NVTAdj90                        6.321e+07         5.914e+07         5.956e+07        -2.875e+07        -2.875e+07\n",
            "                                 (5.5515)          (3.9940)          (5.1620)         (-2.0949)         (-2.0949)\n",
            "TxTfrValAdjUSD                     10.733            13.323            11.000            2.4208            2.4208\n",
            "                                 (6.8851)          (6.6792)          (7.0442)          (1.2109)          (1.2109)\n",
            "======================= ================= ================= ================= ================= =================\n",
            "Effects                            Entity              Time            Entity                                    \n",
            "                                                                         Time                                    \n",
            "-----------------------------------------------------------------------------------------------------------------\n",
            "\n",
            "T-stats reported in parentheses\n"
          ],
          "name": "stdout"
        }
      ]
    },
    {
      "cell_type": "markdown",
      "metadata": {
        "id": "4HVtqpvavjLy"
      },
      "source": [
        "###Perform Hausman-Test"
      ]
    },
    {
      "cell_type": "code",
      "metadata": {
        "colab": {
          "base_uri": "https://localhost:8080/"
        },
        "id": "PisYU1LMrGzX",
        "outputId": "b3ad610c-32bd-4ff3-eb2c-7f171abdfadf"
      },
      "source": [
        "import numpy.linalg as la\n",
        "from scipy import stats\n",
        "import numpy as np\n",
        "def hausman(fe, re):\n",
        " b = fe.params\n",
        " B = re.params\n",
        " v_b = fe.cov\n",
        " v_B = re.cov\n",
        " df = b[np.abs(b) < 1e8].size\n",
        " chi2 = np.dot((b - B).T, la.inv(v_b - v_B).dot(b - B))\n",
        " pval = stats.chi2.sf(chi2, df)\n",
        " return chi2, df, pval\n",
        "\n",
        "hausman_results = hausman(fe_res, re_res) \n",
        "print('chi-Squared:' + str(hausman_results[0]))\n",
        "print('degrees of freedom:' + str(hausman_results[1]))\n",
        "print('p-Value:' + str(hausman_results[2]))"
      ],
      "execution_count": 497,
      "outputs": [
        {
          "output_type": "stream",
          "text": [
            "chi-Squared:241.1718288245858\n",
            "degrees of freedom:3\n",
            "p-Value:5.310015939793989e-52\n"
          ],
          "name": "stdout"
        }
      ]
    },
    {
      "cell_type": "markdown",
      "metadata": {
        "id": "kfX-Ai5TweDQ"
      },
      "source": [
        "The null hypothesis can be rejected, a FE model is better"
      ]
    }
  ]
}